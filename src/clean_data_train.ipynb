{
 "cells": [
  {
   "cell_type": "markdown",
   "metadata": {},
   "source": [
    "### Làm sạch tập dữ liệu sau khi crawl (mùa giải 2000-2001 -> 2022-2023)"
   ]
  },
  {
   "cell_type": "code",
   "execution_count": 1,
   "metadata": {},
   "outputs": [],
   "source": [
    "import pandas as pd\n",
    "import numpy as np\n",
    "np.random.seed(42)"
   ]
  },
  {
   "cell_type": "code",
   "execution_count": 2,
   "metadata": {},
   "outputs": [
    {
     "data": {
      "text/html": [
       "<div>\n",
       "<style scoped>\n",
       "    .dataframe tbody tr th:only-of-type {\n",
       "        vertical-align: middle;\n",
       "    }\n",
       "\n",
       "    .dataframe tbody tr th {\n",
       "        vertical-align: top;\n",
       "    }\n",
       "\n",
       "    .dataframe thead th {\n",
       "        text-align: right;\n",
       "    }\n",
       "</style>\n",
       "<table border=\"1\" class=\"dataframe\">\n",
       "  <thead>\n",
       "    <tr style=\"text-align: right;\">\n",
       "      <th></th>\n",
       "      <th>date</th>\n",
       "      <th>time</th>\n",
       "      <th>comp</th>\n",
       "      <th>round</th>\n",
       "      <th>day</th>\n",
       "      <th>venue</th>\n",
       "      <th>result</th>\n",
       "      <th>gf</th>\n",
       "      <th>ga</th>\n",
       "      <th>opponent</th>\n",
       "      <th>attendance</th>\n",
       "      <th>captain</th>\n",
       "      <th>formation</th>\n",
       "      <th>referee</th>\n",
       "      <th>match report</th>\n",
       "      <th>season</th>\n",
       "      <th>team</th>\n",
       "    </tr>\n",
       "  </thead>\n",
       "  <tbody>\n",
       "    <tr>\n",
       "      <th>0</th>\n",
       "      <td>8/7/2022</td>\n",
       "      <td>16:30</td>\n",
       "      <td>Premier League</td>\n",
       "      <td>Matchweek 1</td>\n",
       "      <td>Sun</td>\n",
       "      <td>Away</td>\n",
       "      <td>W</td>\n",
       "      <td>2</td>\n",
       "      <td>0</td>\n",
       "      <td>West Ham</td>\n",
       "      <td>62443.0</td>\n",
       "      <td>İlkay Gündoğan</td>\n",
       "      <td>4/3/2003</td>\n",
       "      <td>Michael Oliver</td>\n",
       "      <td>Match Report</td>\n",
       "      <td>2022-2023</td>\n",
       "      <td>Manchester City</td>\n",
       "    </tr>\n",
       "    <tr>\n",
       "      <th>1</th>\n",
       "      <td>8/13/2022</td>\n",
       "      <td>15:00</td>\n",
       "      <td>Premier League</td>\n",
       "      <td>Matchweek 2</td>\n",
       "      <td>Sat</td>\n",
       "      <td>Home</td>\n",
       "      <td>W</td>\n",
       "      <td>4</td>\n",
       "      <td>0</td>\n",
       "      <td>Bournemouth</td>\n",
       "      <td>53453.0</td>\n",
       "      <td>İlkay Gündoğan</td>\n",
       "      <td>4-2-3-1</td>\n",
       "      <td>David Coote</td>\n",
       "      <td>Match Report</td>\n",
       "      <td>2022-2023</td>\n",
       "      <td>Manchester City</td>\n",
       "    </tr>\n",
       "    <tr>\n",
       "      <th>2</th>\n",
       "      <td>8/21/2022</td>\n",
       "      <td>16:30</td>\n",
       "      <td>Premier League</td>\n",
       "      <td>Matchweek 3</td>\n",
       "      <td>Sun</td>\n",
       "      <td>Away</td>\n",
       "      <td>D</td>\n",
       "      <td>3</td>\n",
       "      <td>3</td>\n",
       "      <td>Newcastle Utd</td>\n",
       "      <td>52258.0</td>\n",
       "      <td>İlkay Gündoğan</td>\n",
       "      <td>4/3/2003</td>\n",
       "      <td>Jarred Gillett</td>\n",
       "      <td>Match Report</td>\n",
       "      <td>2022-2023</td>\n",
       "      <td>Manchester City</td>\n",
       "    </tr>\n",
       "    <tr>\n",
       "      <th>3</th>\n",
       "      <td>8/27/2022</td>\n",
       "      <td>15:00</td>\n",
       "      <td>Premier League</td>\n",
       "      <td>Matchweek 4</td>\n",
       "      <td>Sat</td>\n",
       "      <td>Home</td>\n",
       "      <td>W</td>\n",
       "      <td>4</td>\n",
       "      <td>2</td>\n",
       "      <td>Crystal Palace</td>\n",
       "      <td>53112.0</td>\n",
       "      <td>Kevin De Bruyne</td>\n",
       "      <td>4-2-3-1</td>\n",
       "      <td>Darren England</td>\n",
       "      <td>Match Report</td>\n",
       "      <td>2022-2023</td>\n",
       "      <td>Manchester City</td>\n",
       "    </tr>\n",
       "    <tr>\n",
       "      <th>4</th>\n",
       "      <td>8/31/2022</td>\n",
       "      <td>19:30</td>\n",
       "      <td>Premier League</td>\n",
       "      <td>Matchweek 5</td>\n",
       "      <td>Wed</td>\n",
       "      <td>Home</td>\n",
       "      <td>W</td>\n",
       "      <td>6</td>\n",
       "      <td>0</td>\n",
       "      <td>Nott'ham Forest</td>\n",
       "      <td>53409.0</td>\n",
       "      <td>İlkay Gündoğan</td>\n",
       "      <td>4-2-3-1</td>\n",
       "      <td>Paul Tierney</td>\n",
       "      <td>Match Report</td>\n",
       "      <td>2022-2023</td>\n",
       "      <td>Manchester City</td>\n",
       "    </tr>\n",
       "  </tbody>\n",
       "</table>\n",
       "</div>"
      ],
      "text/plain": [
       "        date   time            comp        round  day venue result  gf  ga  \\\n",
       "0   8/7/2022  16:30  Premier League  Matchweek 1  Sun  Away      W   2   0   \n",
       "1  8/13/2022  15:00  Premier League  Matchweek 2  Sat  Home      W   4   0   \n",
       "2  8/21/2022  16:30  Premier League  Matchweek 3  Sun  Away      D   3   3   \n",
       "3  8/27/2022  15:00  Premier League  Matchweek 4  Sat  Home      W   4   2   \n",
       "4  8/31/2022  19:30  Premier League  Matchweek 5  Wed  Home      W   6   0   \n",
       "\n",
       "          opponent  attendance          captain formation         referee  \\\n",
       "0         West Ham     62443.0   İlkay Gündoğan  4/3/2003  Michael Oliver   \n",
       "1      Bournemouth     53453.0   İlkay Gündoğan   4-2-3-1     David Coote   \n",
       "2    Newcastle Utd     52258.0   İlkay Gündoğan  4/3/2003  Jarred Gillett   \n",
       "3   Crystal Palace     53112.0  Kevin De Bruyne   4-2-3-1  Darren England   \n",
       "4  Nott'ham Forest     53409.0   İlkay Gündoğan   4-2-3-1    Paul Tierney   \n",
       "\n",
       "   match report     season             team  \n",
       "0  Match Report  2022-2023  Manchester City  \n",
       "1  Match Report  2022-2023  Manchester City  \n",
       "2  Match Report  2022-2023  Manchester City  \n",
       "3  Match Report  2022-2023  Manchester City  \n",
       "4  Match Report  2022-2023  Manchester City  "
      ]
     },
     "execution_count": 2,
     "metadata": {},
     "output_type": "execute_result"
    }
   ],
   "source": [
    "match_df = pd.read_csv('../raw_data/raw_data_train.csv')\n",
    "match_df.head()"
   ]
  },
  {
   "cell_type": "code",
   "execution_count": 3,
   "metadata": {},
   "outputs": [
    {
     "name": "stdout",
     "output_type": "stream",
     "text": [
      "<class 'pandas.core.frame.DataFrame'>\n",
      "RangeIndex: 17480 entries, 0 to 17479\n",
      "Data columns (total 17 columns):\n",
      " #   Column        Non-Null Count  Dtype  \n",
      "---  ------        --------------  -----  \n",
      " 0   date          17480 non-null  object \n",
      " 1   time          6840 non-null   object \n",
      " 2   comp          17480 non-null  object \n",
      " 3   round         17480 non-null  object \n",
      " 4   day           17480 non-null  object \n",
      " 5   venue         17480 non-null  object \n",
      " 6   result        17480 non-null  object \n",
      " 7   gf            17480 non-null  int64  \n",
      " 8   ga            17480 non-null  int64  \n",
      " 9   opponent      17480 non-null  object \n",
      " 10  attendance    15560 non-null  float64\n",
      " 11  captain       6080 non-null   object \n",
      " 12  formation     11410 non-null  object \n",
      " 13  referee       17480 non-null  object \n",
      " 14  match report  17480 non-null  object \n",
      " 15  season        17480 non-null  object \n",
      " 16  team          17480 non-null  object \n",
      "dtypes: float64(1), int64(2), object(14)\n",
      "memory usage: 2.3+ MB\n"
     ]
    }
   ],
   "source": [
    "match_df.info()"
   ]
  },
  {
   "cell_type": "markdown",
   "metadata": {},
   "source": [
    "### Clean data"
   ]
  },
  {
   "cell_type": "markdown",
   "metadata": {},
   "source": [
    "1. Xóa các features không dùng cho việc build model"
   ]
  },
  {
   "cell_type": "code",
   "execution_count": 4,
   "metadata": {},
   "outputs": [
    {
     "data": {
      "text/plain": [
       "Index(['date', 'time', 'round', 'venue', 'result', 'gf', 'ga', 'opponent',\n",
       "       'attendance', 'formation', 'referee', 'season', 'team'],\n",
       "      dtype='object')"
      ]
     },
     "execution_count": 4,
     "metadata": {},
     "output_type": "execute_result"
    }
   ],
   "source": [
    "match_df = match_df.drop(columns=[\"comp\", \"day\", \"match report\", \"captain\"])\n",
    "\n",
    "match_df.columns"
   ]
  },
  {
   "cell_type": "markdown",
   "metadata": {},
   "source": [
    "2. Xử lý các giá trị NaN"
   ]
  },
  {
   "cell_type": "code",
   "execution_count": 5,
   "metadata": {},
   "outputs": [
    {
     "data": {
      "text/plain": [
       "(17480, 13)"
      ]
     },
     "execution_count": 5,
     "metadata": {},
     "output_type": "execute_result"
    }
   ],
   "source": [
    "match_df = match_df.dropna(subset=[\"result\"])\n",
    "match_df.shape"
   ]
  },
  {
   "cell_type": "markdown",
   "metadata": {},
   "source": [
    "3. Xử lý formation bị lỗi dữ liệu"
   ]
  },
  {
   "cell_type": "code",
   "execution_count": 6,
   "metadata": {},
   "outputs": [
    {
     "data": {
      "text/plain": [
       "formation\n",
       "4-2-3-1       3081\n",
       "4/4/2002      2353\n",
       "4/3/2003      1676\n",
       "4-4-1-1       1040\n",
       "4/5/2001       710\n",
       "3/4/2003       690\n",
       "4-1-4-1        614\n",
       "3/5/2002       311\n",
       "4-1-2-1-2◆     191\n",
       "5/4/2001       148\n",
       "5/3/2002       137\n",
       "3-4-1-2        124\n",
       "3-5-1-1         78\n",
       "4-3-1-2         72\n",
       "4-2-2-2         68\n",
       "4-3-2-1         44\n",
       "3-1-4-2         38\n",
       "3-3-3-1         12\n",
       "3-2-4-1         12\n",
       "4-1-3-2          6\n",
       "3-4-3◆           4\n",
       "4-2-4-0          1\n",
       "Name: count, dtype: int64"
      ]
     },
     "execution_count": 6,
     "metadata": {},
     "output_type": "execute_result"
    }
   ],
   "source": [
    "match_df['formation'].value_counts()"
   ]
  },
  {
   "cell_type": "code",
   "execution_count": 7,
   "metadata": {},
   "outputs": [
    {
     "data": {
      "text/plain": [
       "formation\n",
       "4-3-3         6070\n",
       "4-2-3-1       3081\n",
       "4/4/2002      2353\n",
       "4/3/2003      1676\n",
       "4-4-1-1       1040\n",
       "4/5/2001       710\n",
       "3/4/2003       690\n",
       "4-1-4-1        614\n",
       "3/5/2002       311\n",
       "4-1-2-1-2◆     191\n",
       "5/4/2001       148\n",
       "5/3/2002       137\n",
       "3-4-1-2        124\n",
       "3-5-1-1         78\n",
       "4-3-1-2         72\n",
       "4-2-2-2         68\n",
       "4-3-2-1         44\n",
       "3-1-4-2         38\n",
       "3-3-3-1         12\n",
       "3-2-4-1         12\n",
       "4-1-3-2          6\n",
       "3-4-3◆           4\n",
       "4-2-4-0          1\n",
       "Name: count, dtype: int64"
      ]
     },
     "execution_count": 7,
     "metadata": {},
     "output_type": "execute_result"
    }
   ],
   "source": [
    "choices = [\"4-2-3-1\", \"4-4-2\", \"4-3-3\"]\n",
    "\n",
    "# Fill NaN values with randomly chosen values from the list\n",
    "match_df[\"formation\"] = match_df[\"formation\"].fillna(np.random.choice(choices))\n",
    "\n",
    "match_df[\"formation\"].value_counts()"
   ]
  },
  {
   "cell_type": "code",
   "execution_count": 8,
   "metadata": {},
   "outputs": [
    {
     "data": {
      "text/plain": [
       "array(['4-3-3', '4-2-3-1', '3-4-3', '3-2-4-1', '4-4-2', '4-1-4-1',\n",
       "       '4-1-2-1-2', '3-3-3-1', '3-4-1-2', '3-5-1-1', '3-5-2', '4-3-1-2',\n",
       "       '4-3-2-1', '4-2-2-2', '5-3-2', '5-4-1', '3-1-4-2', '4-4-1-1',\n",
       "       '4-5-1', '4-1-3-2', '4-2-4'], dtype=object)"
      ]
     },
     "execution_count": 8,
     "metadata": {},
     "output_type": "execute_result"
    }
   ],
   "source": [
    "# Xóa kí tự đặc biệt trong data cột 'formation'\n",
    "match_df['formation'] = match_df['formation'].str.replace('◆','', regex=False)\n",
    "\n",
    "def nomalize_formation(value):\n",
    "    if \"/\" in value:\n",
    "        parts = value.split(\"/\")\n",
    "        parts[2] = parts[2][-1]\n",
    "        return \"-\".join(parts)\n",
    "    elif value.endswith('-0'):\n",
    "        return value[:-2]\n",
    "    else:\n",
    "        return value\n",
    "\n",
    "match_df['formation'] = match_df['formation'].apply(nomalize_formation)\n",
    "match_df['formation'].unique()"
   ]
  },
  {
   "cell_type": "markdown",
   "metadata": {},
   "source": [
    "4. Xử lý attendance bị missing data"
   ]
  },
  {
   "cell_type": "code",
   "execution_count": 9,
   "metadata": {},
   "outputs": [
    {
     "name": "stdout",
     "output_type": "stream",
     "text": [
      "<class 'pandas.core.frame.DataFrame'>\n",
      "RangeIndex: 17480 entries, 0 to 17479\n",
      "Data columns (total 13 columns):\n",
      " #   Column      Non-Null Count  Dtype  \n",
      "---  ------      --------------  -----  \n",
      " 0   date        17480 non-null  object \n",
      " 1   time        6840 non-null   object \n",
      " 2   round       17480 non-null  object \n",
      " 3   venue       17480 non-null  object \n",
      " 4   result      17480 non-null  object \n",
      " 5   gf          17480 non-null  int64  \n",
      " 6   ga          17480 non-null  int64  \n",
      " 7   opponent    17480 non-null  object \n",
      " 8   attendance  17480 non-null  float64\n",
      " 9   formation   17480 non-null  object \n",
      " 10  referee     17480 non-null  object \n",
      " 11  season      17480 non-null  object \n",
      " 12  team        17480 non-null  object \n",
      "dtypes: float64(1), int64(2), object(10)\n",
      "memory usage: 1.7+ MB\n"
     ]
    }
   ],
   "source": [
    "# Fill giá trị thiếu trong cột 'attendance' bằng cách dùng group theo 2 đội đối đầu nhau rồi lấy trung bình\n",
    "# vì tùy cặp đấu mà lượng khán giả sẽ cao\n",
    "match_df['attendance'] = match_df.groupby(['team', 'opponent'])['attendance'].transform(lambda x: x.fillna(x.mean()))\n",
    "\n",
    "# Vì có thể có các cặp chưa từng đấu nên sẽ còn giá trị thiếu => ta sẽ tiếp tục fill data theo trung bình đội đó\n",
    "match_df['attendance'] = match_df.groupby('team')['attendance'].transform(lambda x: x.fillna(x.mean()))\n",
    "match_df.info()"
   ]
  },
  {
   "cell_type": "markdown",
   "metadata": {},
   "source": [
    "5. Điền giá trị mặc định cho cột time"
   ]
  },
  {
   "cell_type": "code",
   "execution_count": 10,
   "metadata": {},
   "outputs": [
    {
     "name": "stdout",
     "output_type": "stream",
     "text": [
      "<class 'pandas.core.frame.DataFrame'>\n",
      "RangeIndex: 17480 entries, 0 to 17479\n",
      "Data columns (total 13 columns):\n",
      " #   Column      Non-Null Count  Dtype  \n",
      "---  ------      --------------  -----  \n",
      " 0   date        17480 non-null  object \n",
      " 1   time        17480 non-null  object \n",
      " 2   round       17480 non-null  object \n",
      " 3   venue       17480 non-null  object \n",
      " 4   result      17480 non-null  object \n",
      " 5   gf          17480 non-null  int64  \n",
      " 6   ga          17480 non-null  int64  \n",
      " 7   opponent    17480 non-null  object \n",
      " 8   attendance  17480 non-null  float64\n",
      " 9   formation   17480 non-null  object \n",
      " 10  referee     17480 non-null  object \n",
      " 11  season      17480 non-null  object \n",
      " 12  team        17480 non-null  object \n",
      "dtypes: float64(1), int64(2), object(10)\n",
      "memory usage: 1.7+ MB\n"
     ]
    }
   ],
   "source": [
    "match_df[\"time\"] = match_df[\"time\"].fillna(\"00:00\")\n",
    "match_df.info()"
   ]
  },
  {
   "cell_type": "markdown",
   "metadata": {},
   "source": [
    "6. Sửa lại tên đội đúng"
   ]
  },
  {
   "cell_type": "code",
   "execution_count": 11,
   "metadata": {},
   "outputs": [
    {
     "data": {
      "text/html": [
       "<div>\n",
       "<style scoped>\n",
       "    .dataframe tbody tr th:only-of-type {\n",
       "        vertical-align: middle;\n",
       "    }\n",
       "\n",
       "    .dataframe tbody tr th {\n",
       "        vertical-align: top;\n",
       "    }\n",
       "\n",
       "    .dataframe thead th {\n",
       "        text-align: right;\n",
       "    }\n",
       "</style>\n",
       "<table border=\"1\" class=\"dataframe\">\n",
       "  <thead>\n",
       "    <tr style=\"text-align: right;\">\n",
       "      <th></th>\n",
       "      <th>Team Names</th>\n",
       "      <th>Opponent Names</th>\n",
       "    </tr>\n",
       "  </thead>\n",
       "  <tbody>\n",
       "    <tr>\n",
       "      <th>3</th>\n",
       "      <td>Blackburn Rovers</td>\n",
       "      <td>Blackburn</td>\n",
       "    </tr>\n",
       "    <tr>\n",
       "      <th>5</th>\n",
       "      <td>Bolton Wanderers</td>\n",
       "      <td>Bolton</td>\n",
       "    </tr>\n",
       "    <tr>\n",
       "      <th>9</th>\n",
       "      <td>Brighton and Hove Albion</td>\n",
       "      <td>Brighton</td>\n",
       "    </tr>\n",
       "    <tr>\n",
       "      <th>12</th>\n",
       "      <td>Charlton Athletic</td>\n",
       "      <td>Charlton Ath</td>\n",
       "    </tr>\n",
       "    <tr>\n",
       "      <th>19</th>\n",
       "      <td>Huddersfield Town</td>\n",
       "      <td>Huddersfield</td>\n",
       "    </tr>\n",
       "    <tr>\n",
       "      <th>26</th>\n",
       "      <td>Manchester United</td>\n",
       "      <td>Manchester Utd</td>\n",
       "    </tr>\n",
       "    <tr>\n",
       "      <th>28</th>\n",
       "      <td>Newcastle United</td>\n",
       "      <td>Newcastle Utd</td>\n",
       "    </tr>\n",
       "    <tr>\n",
       "      <th>30</th>\n",
       "      <td>Nottingham Forest</td>\n",
       "      <td>Nott'ham Forest</td>\n",
       "    </tr>\n",
       "    <tr>\n",
       "      <th>32</th>\n",
       "      <td>Queens Park Rangers</td>\n",
       "      <td>QPR</td>\n",
       "    </tr>\n",
       "    <tr>\n",
       "      <th>34</th>\n",
       "      <td>Sheffield United</td>\n",
       "      <td>Sheffield Utd</td>\n",
       "    </tr>\n",
       "    <tr>\n",
       "      <th>39</th>\n",
       "      <td>Tottenham Hotspur</td>\n",
       "      <td>Tottenham</td>\n",
       "    </tr>\n",
       "    <tr>\n",
       "      <th>41</th>\n",
       "      <td>West Bromwich Albion</td>\n",
       "      <td>West Brom</td>\n",
       "    </tr>\n",
       "    <tr>\n",
       "      <th>42</th>\n",
       "      <td>West Ham United</td>\n",
       "      <td>West Ham</td>\n",
       "    </tr>\n",
       "    <tr>\n",
       "      <th>44</th>\n",
       "      <td>Wolverhampton Wanderers</td>\n",
       "      <td>Wolves</td>\n",
       "    </tr>\n",
       "  </tbody>\n",
       "</table>\n",
       "</div>"
      ],
      "text/plain": [
       "                  Team Names   Opponent Names\n",
       "3           Blackburn Rovers        Blackburn\n",
       "5           Bolton Wanderers           Bolton\n",
       "9   Brighton and Hove Albion         Brighton\n",
       "12         Charlton Athletic     Charlton Ath\n",
       "19         Huddersfield Town     Huddersfield\n",
       "26         Manchester United   Manchester Utd\n",
       "28          Newcastle United    Newcastle Utd\n",
       "30         Nottingham Forest  Nott'ham Forest\n",
       "32       Queens Park Rangers              QPR\n",
       "34          Sheffield United    Sheffield Utd\n",
       "39         Tottenham Hotspur        Tottenham\n",
       "41      West Bromwich Albion        West Brom\n",
       "42           West Ham United         West Ham\n",
       "44   Wolverhampton Wanderers           Wolves"
      ]
     },
     "execution_count": 11,
     "metadata": {},
     "output_type": "execute_result"
    }
   ],
   "source": [
    "# Hàm lấy ra dataFrame tên khác nhau của 2 cột\n",
    "def compare_team_component():\n",
    "    sorted_unique_teams = sorted(match_df[\"team\"].unique())\n",
    "    sorted_unique_opponents = sorted(match_df[\"opponent\"].unique())\n",
    "\n",
    "    # Tạo DataFrame để hiển thị các tên đội đã được sắp xếp\n",
    "    team_df = pd.DataFrame(sorted_unique_teams, columns=[\"Team Names\"])\n",
    "    opponent_df = pd.DataFrame(sorted_unique_opponents, columns=[\"Opponent Names\"])\n",
    "\n",
    "    # Vì số lượng tên trong mỗi danh sách có thể không bằng nhau, ta cần thêm các hàng trống cho DataFrame ngắn hơn\n",
    "    max_length = max(len(team_df), len(opponent_df))\n",
    "    team_df = team_df.reindex(range(max_length)).fillna(\"\")\n",
    "    opponent_df = opponent_df.reindex(range(max_length)).fillna(\"\")\n",
    "\n",
    "    # Kết hợp hai DataFrame để dễ so sánh\n",
    "    comparison_df = pd.concat([team_df, opponent_df], axis=1)\n",
    "    comparison_df = comparison_df[\n",
    "        comparison_df[\"Team Names\"] != comparison_df[\"Opponent Names\"]\n",
    "    ]\n",
    "    return comparison_df\n",
    "\n",
    "\n",
    "comparison_df = compare_team_component()\n",
    "comparison_df"
   ]
  },
  {
   "cell_type": "code",
   "execution_count": 12,
   "metadata": {},
   "outputs": [
    {
     "data": {
      "text/html": [
       "<div>\n",
       "<style scoped>\n",
       "    .dataframe tbody tr th:only-of-type {\n",
       "        vertical-align: middle;\n",
       "    }\n",
       "\n",
       "    .dataframe tbody tr th {\n",
       "        vertical-align: top;\n",
       "    }\n",
       "\n",
       "    .dataframe thead th {\n",
       "        text-align: right;\n",
       "    }\n",
       "</style>\n",
       "<table border=\"1\" class=\"dataframe\">\n",
       "  <thead>\n",
       "    <tr style=\"text-align: right;\">\n",
       "      <th></th>\n",
       "      <th>Team Names</th>\n",
       "      <th>Opponent Names</th>\n",
       "    </tr>\n",
       "  </thead>\n",
       "  <tbody>\n",
       "  </tbody>\n",
       "</table>\n",
       "</div>"
      ],
      "text/plain": [
       "Empty DataFrame\n",
       "Columns: [Team Names, Opponent Names]\n",
       "Index: []"
      ]
     },
     "execution_count": 12,
     "metadata": {},
     "output_type": "execute_result"
    }
   ],
   "source": [
    "# Mảng các tên đội cần đổi lại để đồng nhất 2 cột\n",
    "rename_dict = {\n",
    "    \"Brighton\": \"Brighton and Hove Albion\",\n",
    "    \"Manchester Utd\": \"Manchester United\",\n",
    "    \"Newcastle Utd\": \"Newcastle United\",\n",
    "    \"Nott'ham Forest\": \"Nottingham Forest\",\n",
    "    \"Sheffield Utd\": \"Sheffield United\",\n",
    "    \"Tottenham\": \"Tottenham Hotspur\",\n",
    "    \"West Brom\": \"West Bromwich Albion\",\n",
    "    \"West Ham\": \"West Ham United\",\n",
    "    \"Wolves\": \"Wolverhampton Wanderers\",\n",
    "    \"Blackburn\": \"Blackburn Rovers\",\n",
    "    \"Bolton\": \"Bolton Wanderers\",\n",
    "    \"Charlton Ath\": \"Charlton Athletic\",\n",
    "    \"Huddersfield\": \"Huddersfield Town\",\n",
    "    \"QPR\": \"Queens Park Rangers\",\n",
    "}\n",
    "\n",
    "match_df['opponent'] = match_df['opponent'].replace(rename_dict)\n",
    "\n",
    "comparison_df = compare_team_component()\n",
    "comparison_df"
   ]
  },
  {
   "cell_type": "markdown",
   "metadata": {},
   "source": [
    "### Check lại data lần cuối"
   ]
  },
  {
   "cell_type": "code",
   "execution_count": 13,
   "metadata": {},
   "outputs": [
    {
     "data": {
      "text/plain": [
       "date\n",
       "2000    410\n",
       "2001    746\n",
       "2002    782\n",
       "2003    718\n",
       "2004    784\n",
       "2005    748\n",
       "2006    788\n",
       "2007    742\n",
       "2008    758\n",
       "2009    756\n",
       "2010    748\n",
       "2011    754\n",
       "2012    782\n",
       "2013    744\n",
       "2014    760\n",
       "2015    760\n",
       "2016    756\n",
       "2017    802\n",
       "2018    742\n",
       "2019    758\n",
       "2020    672\n",
       "2021    816\n",
       "2022    722\n",
       "2023    432\n",
       "Name: count, dtype: int64"
      ]
     },
     "execution_count": 13,
     "metadata": {},
     "output_type": "execute_result"
    }
   ],
   "source": [
    "pd.to_datetime(match_df[\"date\"]).dt.year.value_counts().sort_index()"
   ]
  },
  {
   "cell_type": "code",
   "execution_count": 14,
   "metadata": {},
   "outputs": [
    {
     "data": {
      "text/plain": [
       "season\n",
       "2022-2023    760\n",
       "2010-2011    760\n",
       "2001-2002    760\n",
       "2002-2003    760\n",
       "2003-2004    760\n",
       "2004-2005    760\n",
       "2005-2006    760\n",
       "2006-2007    760\n",
       "2007-2008    760\n",
       "2008-2009    760\n",
       "2009-2010    760\n",
       "2011-2012    760\n",
       "2021-2022    760\n",
       "2012-2013    760\n",
       "2013-2014    760\n",
       "2014-2015    760\n",
       "2015-2016    760\n",
       "2016-2017    760\n",
       "2017-2018    760\n",
       "2018-2019    760\n",
       "2019-2020    760\n",
       "2020-2021    760\n",
       "2000-2001    760\n",
       "Name: count, dtype: int64"
      ]
     },
     "execution_count": 14,
     "metadata": {},
     "output_type": "execute_result"
    }
   ],
   "source": [
    "match_df[\"season\"].value_counts()"
   ]
  }
 ],
 "metadata": {
  "kernelspec": {
   "display_name": "base",
   "language": "python",
   "name": "python3"
  },
  "language_info": {
   "codemirror_mode": {
    "name": "ipython",
    "version": 3
   },
   "file_extension": ".py",
   "mimetype": "text/x-python",
   "name": "python",
   "nbconvert_exporter": "python",
   "pygments_lexer": "ipython3",
   "version": "3.11.5"
  }
 },
 "nbformat": 4,
 "nbformat_minor": 2
}
