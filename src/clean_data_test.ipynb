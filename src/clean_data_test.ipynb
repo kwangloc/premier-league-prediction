{
 "cells": [
  {
   "cell_type": "markdown",
   "metadata": {},
   "source": [
    "### Làm sạch tập dữ liệu sau khi crawl (mùa giải 2023-2024)\n"
   ]
  },
  {
   "cell_type": "code",
   "execution_count": 1,
   "metadata": {},
   "outputs": [],
   "source": [
    "import pandas as pd\n",
    "import numpy as np\n",
    "\n",
    "np.random.seed(42)"
   ]
  },
  {
   "cell_type": "code",
   "execution_count": 2,
   "metadata": {},
   "outputs": [
    {
     "data": {
      "text/html": [
       "<div>\n",
       "<style scoped>\n",
       "    .dataframe tbody tr th:only-of-type {\n",
       "        vertical-align: middle;\n",
       "    }\n",
       "\n",
       "    .dataframe tbody tr th {\n",
       "        vertical-align: top;\n",
       "    }\n",
       "\n",
       "    .dataframe thead th {\n",
       "        text-align: right;\n",
       "    }\n",
       "</style>\n",
       "<table border=\"1\" class=\"dataframe\">\n",
       "  <thead>\n",
       "    <tr style=\"text-align: right;\">\n",
       "      <th></th>\n",
       "      <th>date</th>\n",
       "      <th>time</th>\n",
       "      <th>comp</th>\n",
       "      <th>round</th>\n",
       "      <th>day</th>\n",
       "      <th>venue</th>\n",
       "      <th>result</th>\n",
       "      <th>gf</th>\n",
       "      <th>ga</th>\n",
       "      <th>opponent</th>\n",
       "      <th>...</th>\n",
       "      <th>poss</th>\n",
       "      <th>attendance</th>\n",
       "      <th>captain</th>\n",
       "      <th>formation</th>\n",
       "      <th>referee</th>\n",
       "      <th>match report</th>\n",
       "      <th>notes</th>\n",
       "      <th>season</th>\n",
       "      <th>team</th>\n",
       "      <th>url</th>\n",
       "    </tr>\n",
       "  </thead>\n",
       "  <tbody>\n",
       "    <tr>\n",
       "      <th>0</th>\n",
       "      <td>2023-08-11</td>\n",
       "      <td>20:00</td>\n",
       "      <td>Premier League</td>\n",
       "      <td>Matchweek 1</td>\n",
       "      <td>Fri</td>\n",
       "      <td>Away</td>\n",
       "      <td>W</td>\n",
       "      <td>3</td>\n",
       "      <td>0</td>\n",
       "      <td>Burnley</td>\n",
       "      <td>...</td>\n",
       "      <td>65.0</td>\n",
       "      <td>21572.0</td>\n",
       "      <td>Kevin De Bruyne</td>\n",
       "      <td>4-2-3-1</td>\n",
       "      <td>Craig Pawson</td>\n",
       "      <td>Match Report</td>\n",
       "      <td>NaN</td>\n",
       "      <td>2023-2024</td>\n",
       "      <td>Manchester City</td>\n",
       "      <td>https://fbref.com/en/squads/b8fd03ef/Mancheste...</td>\n",
       "    </tr>\n",
       "    <tr>\n",
       "      <th>1</th>\n",
       "      <td>2023-08-19</td>\n",
       "      <td>20:00</td>\n",
       "      <td>Premier League</td>\n",
       "      <td>Matchweek 2</td>\n",
       "      <td>Sat</td>\n",
       "      <td>Home</td>\n",
       "      <td>W</td>\n",
       "      <td>1</td>\n",
       "      <td>0</td>\n",
       "      <td>Newcastle Utd</td>\n",
       "      <td>...</td>\n",
       "      <td>59.0</td>\n",
       "      <td>53419.0</td>\n",
       "      <td>Kyle Walker</td>\n",
       "      <td>4-2-3-1</td>\n",
       "      <td>Robert Jones</td>\n",
       "      <td>Match Report</td>\n",
       "      <td>NaN</td>\n",
       "      <td>2023-2024</td>\n",
       "      <td>Manchester City</td>\n",
       "      <td>https://fbref.com/en/squads/b8fd03ef/Mancheste...</td>\n",
       "    </tr>\n",
       "    <tr>\n",
       "      <th>2</th>\n",
       "      <td>2023-08-27</td>\n",
       "      <td>14:00</td>\n",
       "      <td>Premier League</td>\n",
       "      <td>Matchweek 3</td>\n",
       "      <td>Sun</td>\n",
       "      <td>Away</td>\n",
       "      <td>W</td>\n",
       "      <td>2</td>\n",
       "      <td>1</td>\n",
       "      <td>Sheffield Utd</td>\n",
       "      <td>...</td>\n",
       "      <td>79.0</td>\n",
       "      <td>31336.0</td>\n",
       "      <td>Kyle Walker</td>\n",
       "      <td>4-2-3-1</td>\n",
       "      <td>Jarred Gillett</td>\n",
       "      <td>Match Report</td>\n",
       "      <td>NaN</td>\n",
       "      <td>2023-2024</td>\n",
       "      <td>Manchester City</td>\n",
       "      <td>https://fbref.com/en/squads/b8fd03ef/Mancheste...</td>\n",
       "    </tr>\n",
       "    <tr>\n",
       "      <th>3</th>\n",
       "      <td>2023-09-02</td>\n",
       "      <td>15:00</td>\n",
       "      <td>Premier League</td>\n",
       "      <td>Matchweek 4</td>\n",
       "      <td>Sat</td>\n",
       "      <td>Home</td>\n",
       "      <td>W</td>\n",
       "      <td>5</td>\n",
       "      <td>1</td>\n",
       "      <td>Fulham</td>\n",
       "      <td>...</td>\n",
       "      <td>68.0</td>\n",
       "      <td>52899.0</td>\n",
       "      <td>Kyle Walker</td>\n",
       "      <td>4-2-3-1</td>\n",
       "      <td>Michael Oliver</td>\n",
       "      <td>Match Report</td>\n",
       "      <td>NaN</td>\n",
       "      <td>2023-2024</td>\n",
       "      <td>Manchester City</td>\n",
       "      <td>https://fbref.com/en/squads/b8fd03ef/Mancheste...</td>\n",
       "    </tr>\n",
       "    <tr>\n",
       "      <th>4</th>\n",
       "      <td>2023-09-16</td>\n",
       "      <td>15:00</td>\n",
       "      <td>Premier League</td>\n",
       "      <td>Matchweek 5</td>\n",
       "      <td>Sat</td>\n",
       "      <td>Away</td>\n",
       "      <td>W</td>\n",
       "      <td>3</td>\n",
       "      <td>1</td>\n",
       "      <td>West Ham</td>\n",
       "      <td>...</td>\n",
       "      <td>68.0</td>\n",
       "      <td>62475.0</td>\n",
       "      <td>Kyle Walker</td>\n",
       "      <td>4-2-3-1</td>\n",
       "      <td>Andy Madley</td>\n",
       "      <td>Match Report</td>\n",
       "      <td>NaN</td>\n",
       "      <td>2023-2024</td>\n",
       "      <td>Manchester City</td>\n",
       "      <td>https://fbref.com/en/squads/b8fd03ef/Mancheste...</td>\n",
       "    </tr>\n",
       "  </tbody>\n",
       "</table>\n",
       "<p>5 rows × 22 columns</p>\n",
       "</div>"
      ],
      "text/plain": [
       "         date   time            comp        round  day venue result  gf  ga  \\\n",
       "0  2023-08-11  20:00  Premier League  Matchweek 1  Fri  Away      W   3   0   \n",
       "1  2023-08-19  20:00  Premier League  Matchweek 2  Sat  Home      W   1   0   \n",
       "2  2023-08-27  14:00  Premier League  Matchweek 3  Sun  Away      W   2   1   \n",
       "3  2023-09-02  15:00  Premier League  Matchweek 4  Sat  Home      W   5   1   \n",
       "4  2023-09-16  15:00  Premier League  Matchweek 5  Sat  Away      W   3   1   \n",
       "\n",
       "        opponent  ...  poss  attendance          captain  formation  \\\n",
       "0        Burnley  ...  65.0     21572.0  Kevin De Bruyne    4-2-3-1   \n",
       "1  Newcastle Utd  ...  59.0     53419.0      Kyle Walker    4-2-3-1   \n",
       "2  Sheffield Utd  ...  79.0     31336.0      Kyle Walker    4-2-3-1   \n",
       "3         Fulham  ...  68.0     52899.0      Kyle Walker    4-2-3-1   \n",
       "4       West Ham  ...  68.0     62475.0      Kyle Walker    4-2-3-1   \n",
       "\n",
       "          referee  match report notes     season             team  \\\n",
       "0    Craig Pawson  Match Report   NaN  2023-2024  Manchester City   \n",
       "1    Robert Jones  Match Report   NaN  2023-2024  Manchester City   \n",
       "2  Jarred Gillett  Match Report   NaN  2023-2024  Manchester City   \n",
       "3  Michael Oliver  Match Report   NaN  2023-2024  Manchester City   \n",
       "4     Andy Madley  Match Report   NaN  2023-2024  Manchester City   \n",
       "\n",
       "                                                 url  \n",
       "0  https://fbref.com/en/squads/b8fd03ef/Mancheste...  \n",
       "1  https://fbref.com/en/squads/b8fd03ef/Mancheste...  \n",
       "2  https://fbref.com/en/squads/b8fd03ef/Mancheste...  \n",
       "3  https://fbref.com/en/squads/b8fd03ef/Mancheste...  \n",
       "4  https://fbref.com/en/squads/b8fd03ef/Mancheste...  \n",
       "\n",
       "[5 rows x 22 columns]"
      ]
     },
     "execution_count": 2,
     "metadata": {},
     "output_type": "execute_result"
    }
   ],
   "source": [
    "match_df = pd.read_csv(\"../raw_data/raw_data_test.csv\")\n",
    "match_df.head()"
   ]
  },
  {
   "cell_type": "markdown",
   "metadata": {},
   "source": [
    "#### Số mẫu của tập test chưa đi tách đội\n"
   ]
  },
  {
   "cell_type": "code",
   "execution_count": 3,
   "metadata": {},
   "outputs": [
    {
     "data": {
      "text/plain": [
       "(2280, 22)"
      ]
     },
     "execution_count": 3,
     "metadata": {},
     "output_type": "execute_result"
    }
   ],
   "source": [
    "match_df.shape"
   ]
  },
  {
   "cell_type": "code",
   "execution_count": 4,
   "metadata": {},
   "outputs": [
    {
     "name": "stdout",
     "output_type": "stream",
     "text": [
      "<class 'pandas.core.frame.DataFrame'>\n",
      "RangeIndex: 2280 entries, 0 to 2279\n",
      "Data columns (total 22 columns):\n",
      " #   Column        Non-Null Count  Dtype  \n",
      "---  ------        --------------  -----  \n",
      " 0   date          2280 non-null   object \n",
      " 1   time          2280 non-null   object \n",
      " 2   comp          2280 non-null   object \n",
      " 3   round         2280 non-null   object \n",
      " 4   day           2280 non-null   object \n",
      " 5   venue         2280 non-null   object \n",
      " 6   result        2280 non-null   object \n",
      " 7   gf            2280 non-null   int64  \n",
      " 8   ga            2280 non-null   int64  \n",
      " 9   opponent      2280 non-null   object \n",
      " 10  xg            760 non-null    float64\n",
      " 11  xga           760 non-null    float64\n",
      " 12  poss          760 non-null    float64\n",
      " 13  attendance    2272 non-null   float64\n",
      " 14  captain       2280 non-null   object \n",
      " 15  formation     2280 non-null   object \n",
      " 16  referee       2280 non-null   object \n",
      " 17  match report  2280 non-null   object \n",
      " 18  notes         0 non-null      float64\n",
      " 19  season        2280 non-null   object \n",
      " 20  team          2280 non-null   object \n",
      " 21  url           760 non-null    object \n",
      "dtypes: float64(5), int64(2), object(15)\n",
      "memory usage: 392.0+ KB\n"
     ]
    }
   ],
   "source": [
    "match_df.info()"
   ]
  },
  {
   "cell_type": "markdown",
   "metadata": {},
   "source": [
    "### Clean data\n"
   ]
  },
  {
   "cell_type": "markdown",
   "metadata": {},
   "source": [
    "1. Xóa các features không dùng cho việc build model\n"
   ]
  },
  {
   "cell_type": "code",
   "execution_count": 5,
   "metadata": {},
   "outputs": [
    {
     "data": {
      "text/plain": [
       "Index(['date', 'time', 'round', 'venue', 'result', 'gf', 'ga', 'opponent',\n",
       "       'attendance', 'formation', 'referee', 'season', 'team'],\n",
       "      dtype='object')"
      ]
     },
     "execution_count": 5,
     "metadata": {},
     "output_type": "execute_result"
    }
   ],
   "source": [
    "match_df = match_df.drop(\n",
    "    columns=[\n",
    "        \"comp\",\n",
    "        \"day\",\n",
    "        \"match report\",\n",
    "        \"poss\",\n",
    "        \"captain\",\n",
    "        \"notes\",\n",
    "        \"url\",\n",
    "        \"xg\",\n",
    "        \"xga\",\n",
    "    ]\n",
    ")\n",
    "match_df.columns"
   ]
  },
  {
   "cell_type": "markdown",
   "metadata": {},
   "source": [
    "2. Xử lý các giá trị NaN\n"
   ]
  },
  {
   "cell_type": "code",
   "execution_count": 6,
   "metadata": {},
   "outputs": [
    {
     "data": {
      "text/plain": [
       "(2280, 13)"
      ]
     },
     "execution_count": 6,
     "metadata": {},
     "output_type": "execute_result"
    }
   ],
   "source": [
    "match_df = match_df.dropna(subset=[\"result\"])\n",
    "match_df.shape"
   ]
  },
  {
   "cell_type": "markdown",
   "metadata": {},
   "source": [
    "3. Xử lý formation bị lỗi dữ liệu\n"
   ]
  },
  {
   "cell_type": "code",
   "execution_count": 7,
   "metadata": {},
   "outputs": [
    {
     "data": {
      "text/plain": [
       "formation\n",
       "4-2-3-1       720\n",
       "4/3/2003      407\n",
       "3/4/2003      180\n",
       "4-3-3         172\n",
       "4/4/2002      152\n",
       "3-4-3          89\n",
       "4-1-4-1        82\n",
       "3/5/2002       80\n",
       "4-4-1-1        71\n",
       "4-4-2          54\n",
       "3-5-2          41\n",
       "5/3/2002       36\n",
       "3-4-1-2        26\n",
       "5/4/2001       22\n",
       "3-2-4-1        21\n",
       "4-3-1-2        20\n",
       "4-1-2-1-2◆     16\n",
       "4-3-2-1        16\n",
       "4/5/2001       14\n",
       "4-2-2-2        12\n",
       "5-4-1          11\n",
       "3-5-1-1         9\n",
       "5-3-2           9\n",
       "3-3-3-1         7\n",
       "3-1-4-2         7\n",
       "4-5-1           3\n",
       "4-2-4-0         2\n",
       "3-4-3◆          1\n",
       "Name: count, dtype: int64"
      ]
     },
     "execution_count": 7,
     "metadata": {},
     "output_type": "execute_result"
    }
   ],
   "source": [
    "match_df[\"formation\"].value_counts()"
   ]
  },
  {
   "cell_type": "code",
   "execution_count": 8,
   "metadata": {},
   "outputs": [
    {
     "data": {
      "text/plain": [
       "formation\n",
       "4-2-3-1       720\n",
       "4/3/2003      407\n",
       "3/4/2003      180\n",
       "4-3-3         172\n",
       "4/4/2002      152\n",
       "3-4-3          89\n",
       "4-1-4-1        82\n",
       "3/5/2002       80\n",
       "4-4-1-1        71\n",
       "4-4-2          54\n",
       "3-5-2          41\n",
       "5/3/2002       36\n",
       "3-4-1-2        26\n",
       "5/4/2001       22\n",
       "3-2-4-1        21\n",
       "4-3-1-2        20\n",
       "4-1-2-1-2◆     16\n",
       "4-3-2-1        16\n",
       "4/5/2001       14\n",
       "4-2-2-2        12\n",
       "5-4-1          11\n",
       "3-5-1-1         9\n",
       "5-3-2           9\n",
       "3-3-3-1         7\n",
       "3-1-4-2         7\n",
       "4-5-1           3\n",
       "4-2-4-0         2\n",
       "3-4-3◆          1\n",
       "Name: count, dtype: int64"
      ]
     },
     "execution_count": 8,
     "metadata": {},
     "output_type": "execute_result"
    }
   ],
   "source": [
    "choices = [\"4-2-3-1\", \"4-4-2\", \"4-3-3\"]\n",
    "\n",
    "# Fill NaN values with randomly chosen values from the list\n",
    "match_df[\"formation\"] = match_df[\"formation\"].fillna(np.random.choice(choices))\n",
    "\n",
    "match_df[\"formation\"].value_counts()"
   ]
  },
  {
   "cell_type": "code",
   "execution_count": 9,
   "metadata": {},
   "outputs": [
    {
     "data": {
      "text/plain": [
       "array(['4-2-3-1', '4-3-3', '3-2-4-1', '3-4-3', '4-1-4-1', '4-4-2',\n",
       "       '4-2-2-2', '4-4-1-1', '3-5-2', '5-3-2', '4-3-1-2', '4-1-2-1-2',\n",
       "       '4-2-4', '4-3-2-1', '4-5-1', '5-4-1', '3-4-1-2', '3-5-1-1',\n",
       "       '3-3-3-1', '3-1-4-2'], dtype=object)"
      ]
     },
     "execution_count": 9,
     "metadata": {},
     "output_type": "execute_result"
    }
   ],
   "source": [
    "# Xóa kí tự đặc biệt trong data cột 'formation'\n",
    "match_df[\"formation\"] = match_df[\"formation\"].str.replace(\"◆\", \"\", regex=False)\n",
    "\n",
    "\n",
    "def nomalize_formation(value):\n",
    "    if \"/\" in value:\n",
    "        parts = value.split(\"/\")\n",
    "        parts[2] = parts[2][-1]\n",
    "        return \"-\".join(parts)\n",
    "    elif value.endswith(\"-0\"):\n",
    "        return value[:-2]\n",
    "    else:\n",
    "        return value\n",
    "\n",
    "\n",
    "match_df[\"formation\"] = match_df[\"formation\"].apply(nomalize_formation)\n",
    "match_df[\"formation\"].unique()"
   ]
  },
  {
   "cell_type": "markdown",
   "metadata": {},
   "source": [
    "4. Xử lý attendance bị missing data\n"
   ]
  },
  {
   "cell_type": "code",
   "execution_count": 10,
   "metadata": {},
   "outputs": [
    {
     "name": "stdout",
     "output_type": "stream",
     "text": [
      "<class 'pandas.core.frame.DataFrame'>\n",
      "RangeIndex: 2280 entries, 0 to 2279\n",
      "Data columns (total 13 columns):\n",
      " #   Column      Non-Null Count  Dtype  \n",
      "---  ------      --------------  -----  \n",
      " 0   date        2280 non-null   object \n",
      " 1   time        2280 non-null   object \n",
      " 2   round       2280 non-null   object \n",
      " 3   venue       2280 non-null   object \n",
      " 4   result      2280 non-null   object \n",
      " 5   gf          2280 non-null   int64  \n",
      " 6   ga          2280 non-null   int64  \n",
      " 7   opponent    2280 non-null   object \n",
      " 8   attendance  2280 non-null   float64\n",
      " 9   formation   2280 non-null   object \n",
      " 10  referee     2280 non-null   object \n",
      " 11  season      2280 non-null   object \n",
      " 12  team        2280 non-null   object \n",
      "dtypes: float64(1), int64(2), object(10)\n",
      "memory usage: 231.7+ KB\n"
     ]
    }
   ],
   "source": [
    "# Fill giá trị thiếu trong cột 'attendance' bằng cách dùng group theo 2 đội đối đầu nhau rồi lấy trung bình\n",
    "# vì tùy cặp đấu mà lượng khán giả sẽ cao\n",
    "match_df[\"attendance\"] = match_df.groupby([\"team\", \"opponent\"])[\"attendance\"].transform(\n",
    "    lambda x: x.fillna(x.mean())\n",
    ")\n",
    "\n",
    "# Vì có thể có các cặp chưa từng đấu nên sẽ còn giá trị thiếu => ta sẽ tiếp tục fill data theo trung bình đội đó\n",
    "match_df[\"attendance\"] = match_df.groupby(\"team\")[\"attendance\"].transform(\n",
    "    lambda x: x.fillna(x.mean())\n",
    ")\n",
    "match_df.info()"
   ]
  },
  {
   "cell_type": "markdown",
   "metadata": {},
   "source": [
    "5. Điền giá trị mặc định cho cột time\n"
   ]
  },
  {
   "cell_type": "code",
   "execution_count": 11,
   "metadata": {},
   "outputs": [
    {
     "name": "stdout",
     "output_type": "stream",
     "text": [
      "<class 'pandas.core.frame.DataFrame'>\n",
      "RangeIndex: 2280 entries, 0 to 2279\n",
      "Data columns (total 13 columns):\n",
      " #   Column      Non-Null Count  Dtype  \n",
      "---  ------      --------------  -----  \n",
      " 0   date        2280 non-null   object \n",
      " 1   time        2280 non-null   object \n",
      " 2   round       2280 non-null   object \n",
      " 3   venue       2280 non-null   object \n",
      " 4   result      2280 non-null   object \n",
      " 5   gf          2280 non-null   int64  \n",
      " 6   ga          2280 non-null   int64  \n",
      " 7   opponent    2280 non-null   object \n",
      " 8   attendance  2280 non-null   float64\n",
      " 9   formation   2280 non-null   object \n",
      " 10  referee     2280 non-null   object \n",
      " 11  season      2280 non-null   object \n",
      " 12  team        2280 non-null   object \n",
      "dtypes: float64(1), int64(2), object(10)\n",
      "memory usage: 231.7+ KB\n"
     ]
    }
   ],
   "source": [
    "match_df[\"time\"] = match_df[\"time\"].fillna(\"00:00\")\n",
    "match_df.info()"
   ]
  },
  {
   "cell_type": "markdown",
   "metadata": {},
   "source": [
    "6. Sửa lại tên đội đúng\n"
   ]
  },
  {
   "cell_type": "code",
   "execution_count": 12,
   "metadata": {},
   "outputs": [
    {
     "data": {
      "text/html": [
       "<div>\n",
       "<style scoped>\n",
       "    .dataframe tbody tr th:only-of-type {\n",
       "        vertical-align: middle;\n",
       "    }\n",
       "\n",
       "    .dataframe tbody tr th {\n",
       "        vertical-align: top;\n",
       "    }\n",
       "\n",
       "    .dataframe thead th {\n",
       "        text-align: right;\n",
       "    }\n",
       "</style>\n",
       "<table border=\"1\" class=\"dataframe\">\n",
       "  <thead>\n",
       "    <tr style=\"text-align: right;\">\n",
       "      <th></th>\n",
       "      <th>Team Names</th>\n",
       "      <th>Opponent Names</th>\n",
       "    </tr>\n",
       "  </thead>\n",
       "  <tbody>\n",
       "    <tr>\n",
       "      <th>4</th>\n",
       "      <td>Brighton and Hove Albion</td>\n",
       "      <td>Brighton</td>\n",
       "    </tr>\n",
       "    <tr>\n",
       "      <th>15</th>\n",
       "      <td>Manchester United</td>\n",
       "      <td>Manchester Utd</td>\n",
       "    </tr>\n",
       "    <tr>\n",
       "      <th>16</th>\n",
       "      <td>Newcastle United</td>\n",
       "      <td>Newcastle Utd</td>\n",
       "    </tr>\n",
       "    <tr>\n",
       "      <th>18</th>\n",
       "      <td>Nottingham Forest</td>\n",
       "      <td>Nott'ham Forest</td>\n",
       "    </tr>\n",
       "    <tr>\n",
       "      <th>19</th>\n",
       "      <td>Sheffield United</td>\n",
       "      <td>Sheffield Utd</td>\n",
       "    </tr>\n",
       "    <tr>\n",
       "      <th>21</th>\n",
       "      <td>Tottenham Hotspur</td>\n",
       "      <td>Tottenham</td>\n",
       "    </tr>\n",
       "    <tr>\n",
       "      <th>23</th>\n",
       "      <td>West Ham United</td>\n",
       "      <td>West Ham</td>\n",
       "    </tr>\n",
       "    <tr>\n",
       "      <th>24</th>\n",
       "      <td>Wolverhampton Wanderers</td>\n",
       "      <td>Wolves</td>\n",
       "    </tr>\n",
       "  </tbody>\n",
       "</table>\n",
       "</div>"
      ],
      "text/plain": [
       "                  Team Names   Opponent Names\n",
       "4   Brighton and Hove Albion         Brighton\n",
       "15         Manchester United   Manchester Utd\n",
       "16          Newcastle United    Newcastle Utd\n",
       "18         Nottingham Forest  Nott'ham Forest\n",
       "19          Sheffield United    Sheffield Utd\n",
       "21         Tottenham Hotspur        Tottenham\n",
       "23           West Ham United         West Ham\n",
       "24   Wolverhampton Wanderers           Wolves"
      ]
     },
     "execution_count": 12,
     "metadata": {},
     "output_type": "execute_result"
    }
   ],
   "source": [
    "# Hàm lấy ra dataFrame tên khác nhau của 2 cột\n",
    "def compare_team_component():\n",
    "    sorted_unique_teams = sorted(match_df[\"team\"].unique())\n",
    "    sorted_unique_opponents = sorted(match_df[\"opponent\"].unique())\n",
    "\n",
    "    # Tạo DataFrame để hiển thị các tên đội đã được sắp xếp\n",
    "    team_df = pd.DataFrame(sorted_unique_teams, columns=[\"Team Names\"])\n",
    "    opponent_df = pd.DataFrame(sorted_unique_opponents, columns=[\"Opponent Names\"])\n",
    "\n",
    "    # Vì số lượng tên trong mỗi danh sách có thể không bằng nhau, ta cần thêm các hàng trống cho DataFrame ngắn hơn\n",
    "    max_length = max(len(team_df), len(opponent_df))\n",
    "    team_df = team_df.reindex(range(max_length)).fillna(\"\")\n",
    "    opponent_df = opponent_df.reindex(range(max_length)).fillna(\"\")\n",
    "\n",
    "    # Kết hợp hai DataFrame để dễ so sánh\n",
    "    comparison_df = pd.concat([team_df, opponent_df], axis=1)\n",
    "    comparison_df = comparison_df[\n",
    "        comparison_df[\"Team Names\"] != comparison_df[\"Opponent Names\"]\n",
    "    ]\n",
    "    return comparison_df\n",
    "\n",
    "\n",
    "comparison_df = compare_team_component()\n",
    "comparison_df"
   ]
  },
  {
   "cell_type": "code",
   "execution_count": 13,
   "metadata": {},
   "outputs": [
    {
     "data": {
      "text/html": [
       "<div>\n",
       "<style scoped>\n",
       "    .dataframe tbody tr th:only-of-type {\n",
       "        vertical-align: middle;\n",
       "    }\n",
       "\n",
       "    .dataframe tbody tr th {\n",
       "        vertical-align: top;\n",
       "    }\n",
       "\n",
       "    .dataframe thead th {\n",
       "        text-align: right;\n",
       "    }\n",
       "</style>\n",
       "<table border=\"1\" class=\"dataframe\">\n",
       "  <thead>\n",
       "    <tr style=\"text-align: right;\">\n",
       "      <th></th>\n",
       "      <th>Team Names</th>\n",
       "      <th>Opponent Names</th>\n",
       "    </tr>\n",
       "  </thead>\n",
       "  <tbody>\n",
       "  </tbody>\n",
       "</table>\n",
       "</div>"
      ],
      "text/plain": [
       "Empty DataFrame\n",
       "Columns: [Team Names, Opponent Names]\n",
       "Index: []"
      ]
     },
     "execution_count": 13,
     "metadata": {},
     "output_type": "execute_result"
    }
   ],
   "source": [
    "# Mảng các tên đội cần đổi lại để đồng nhất 2 cột\n",
    "rename_dict = {\n",
    "    \"Brighton\": \"Brighton and Hove Albion\",\n",
    "    \"Manchester Utd\": \"Manchester United\",\n",
    "    \"Newcastle Utd\": \"Newcastle United\",\n",
    "    \"Nott'ham Forest\": \"Nottingham Forest\",\n",
    "    \"Sheffield Utd\": \"Sheffield United\",\n",
    "    \"Tottenham\": \"Tottenham Hotspur\",\n",
    "    \"West Brom\": \"West Bromwich Albion\",\n",
    "    \"West Ham\": \"West Ham United\",\n",
    "    \"Wolves\": \"Wolverhampton Wanderers\",\n",
    "    \"Blackburn\": \"Blackburn Rovers\",\n",
    "    \"Bolton\": \"Bolton Wanderers\",\n",
    "    \"Charlton Ath\": \"Charlton Athletic\",\n",
    "    \"Huddersfield\": \"Huddersfield Town\",\n",
    "    \"QPR\": \"Queens Park Rangers\",\n",
    "}\n",
    "\n",
    "match_df[\"opponent\"] = match_df[\"opponent\"].replace(rename_dict)\n",
    "\n",
    "comparison_df = compare_team_component()\n",
    "comparison_df"
   ]
  },
  {
   "cell_type": "markdown",
   "metadata": {},
   "source": [
    "### Check lại data lần cuối\n"
   ]
  },
  {
   "cell_type": "code",
   "execution_count": 14,
   "metadata": {},
   "outputs": [
    {
     "data": {
      "text/plain": [
       "season\n",
       "2023-2024    760\n",
       "2022-2023    760\n",
       "2021-2022    760\n",
       "Name: count, dtype: int64"
      ]
     },
     "execution_count": 14,
     "metadata": {},
     "output_type": "execute_result"
    }
   ],
   "source": [
    "match_df[\"season\"].value_counts()"
   ]
  },
  {
   "cell_type": "code",
   "execution_count": 15,
   "metadata": {},
   "outputs": [],
   "source": [
    "def parse_date(date_str):\n",
    "    try:\n",
    "        return pd.to_datetime(date_str, format='%Y-%m-%d').strftime('%Y-%m-%d')\n",
    "    except ValueError:\n",
    "        try:\n",
    "            return pd.to_datetime(date_str, format='%m/%d/%Y').strftime('%Y-%m-%d')\n",
    "        except ValueError:\n",
    "            return pd.NaT"
   ]
  },
  {
   "cell_type": "code",
   "execution_count": 16,
   "metadata": {},
   "outputs": [],
   "source": [
    "match_df[\"date\"] = match_df[\"date\"].apply(parse_date)"
   ]
  },
  {
   "cell_type": "code",
   "execution_count": 17,
   "metadata": {},
   "outputs": [],
   "source": [
    "match_df.to_csv(\"../raw_data/clean_data_test.csv\", index=False)"
   ]
  }
 ],
 "metadata": {
  "kernelspec": {
   "display_name": "base",
   "language": "python",
   "name": "python3"
  },
  "language_info": {
   "codemirror_mode": {
    "name": "ipython",
    "version": 3
   },
   "file_extension": ".py",
   "mimetype": "text/x-python",
   "name": "python",
   "nbconvert_exporter": "python",
   "pygments_lexer": "ipython3",
   "version": "3.11.5"
  }
 },
 "nbformat": 4,
 "nbformat_minor": 2
}
