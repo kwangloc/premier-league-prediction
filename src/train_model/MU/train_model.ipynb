{
 "cells": [
  {
   "cell_type": "code",
   "execution_count": 1,
   "metadata": {},
   "outputs": [],
   "source": [
    "import numpy as np\n",
    "import pandas as pd\n",
    "import seaborn as sns\n",
    "import json\n",
    "\n",
    "from sklearn.linear_model import LogisticRegression\n",
    "from sklearn.tree import DecisionTreeClassifier\n",
    "from sklearn.ensemble import RandomForestClassifier\n",
    "from sklearn.svm import SVC\n",
    "from sklearn.neighbors import KNeighborsClassifier\n",
    "\n",
    "from sklearn.model_selection import GridSearchCV\n",
    "from sklearn.model_selection import RandomizedSearchCV\n",
    "\n",
    "from sklearn.model_selection import cross_val_score\n",
    "from sklearn.calibration import CalibratedClassifierCV\n",
    "from sklearn.linear_model import LogisticRegression, SGDClassifier\n",
    "from sklearn.svm import SVC\n",
    "from sklearn.naive_bayes import GaussianNB\n",
    "from sklearn.preprocessing import LabelEncoder\n",
    "from sklearn.compose import ColumnTransformer\n",
    "from sklearn.preprocessing import OneHotEncoder, StandardScaler\n",
    "from sklearn.pipeline import Pipeline\n",
    "from sklearn.model_selection import KFold, StratifiedKFold, RepeatedStratifiedKFold\n",
    "\n",
    "import warnings\n",
    "warnings.filterwarnings('ignore')\n",
    "\n",
    "k_fold = 10\n",
    "seed = 42\n",
    "np.random.seed(seed)"
   ]
  },
  {
   "cell_type": "code",
   "execution_count": 2,
   "metadata": {},
   "outputs": [],
   "source": [
    "repeated_stratify_cv = RepeatedStratifiedKFold(n_splits=k_fold, n_repeats=3, random_state=seed)"
   ]
  },
  {
   "cell_type": "markdown",
   "metadata": {},
   "source": [
    "#### 1 Read and describe data"
   ]
  },
  {
   "cell_type": "code",
   "execution_count": 3,
   "metadata": {},
   "outputs": [
    {
     "data": {
      "image/png": "[encoded data removed]",
      "text/plain": [
       "<Figure size 640x480 with 1 Axes>"
      ]
     },
     "metadata": {},
     "output_type": "display_data"
    }
   ],
   "source": [
    "matches_df = pd.read_csv('data_rf.csv')\n",
    "sns.countplot(x='result', data=matches_df, palette=\"Set1\") \n",
    "matches_df.loc[matches_df[\"result\"] == \"W\", \"result\"] = 0\n",
    "matches_df.loc[matches_df[\"result\"] == \"L\", \"result\"] = 1\n",
    "matches_df.loc[matches_df[\"result\"] == \"D\", \"result\"] = 2"
   ]
  },
  {
   "cell_type": "markdown",
   "metadata": {},
   "source": [
    "## Phân chia dữ liệu"
   ]
  },
  {
   "cell_type": "markdown",
   "metadata": {},
   "source": [
    "### Chia dữ liệu"
   ]
  },
  {
   "cell_type": "code",
   "execution_count": 4,
   "metadata": {},
   "outputs": [],
   "source": [
    "X = matches_df.drop(\"result\", axis=1)\n",
    "y = matches_df[\"result\"].astype(\"int\")"
   ]
  },
  {
   "cell_type": "code",
   "execution_count": 5,
   "metadata": {},
   "outputs": [
    {
     "data": {
      "text/html": [
       "<div>\n",
       "<style scoped>\n",
       "    .dataframe tbody tr th:only-of-type {\n",
       "        vertical-align: middle;\n",
       "    }\n",
       "\n",
       "    .dataframe tbody tr th {\n",
       "        vertical-align: top;\n",
       "    }\n",
       "\n",
       "    .dataframe thead th {\n",
       "        text-align: right;\n",
       "    }\n",
       "</style>\n",
       "<table border=\"1\" class=\"dataframe\">\n",
       "  <thead>\n",
       "    <tr style=\"text-align: right;\">\n",
       "      <th></th>\n",
       "      <th>history_team1_draw_team2</th>\n",
       "      <th>is_opponent_big6</th>\n",
       "      <th>draw_before_team1</th>\n",
       "      <th>history_team1_win_team2</th>\n",
       "      <th>history_team1_lose_team2</th>\n",
       "      <th>lose_before_team2</th>\n",
       "      <th>win_before_team2</th>\n",
       "      <th>venue_Home</th>\n",
       "    </tr>\n",
       "  </thead>\n",
       "  <tbody>\n",
       "    <tr>\n",
       "      <th>0</th>\n",
       "      <td>0.000000</td>\n",
       "      <td>0</td>\n",
       "      <td>0.000000</td>\n",
       "      <td>0.000000</td>\n",
       "      <td>0.000000</td>\n",
       "      <td>0.000000</td>\n",
       "      <td>0.000000</td>\n",
       "      <td>1</td>\n",
       "    </tr>\n",
       "    <tr>\n",
       "      <th>1</th>\n",
       "      <td>0.000000</td>\n",
       "      <td>0</td>\n",
       "      <td>0.000000</td>\n",
       "      <td>0.000000</td>\n",
       "      <td>0.000000</td>\n",
       "      <td>1.000000</td>\n",
       "      <td>0.000000</td>\n",
       "      <td>0</td>\n",
       "    </tr>\n",
       "    <tr>\n",
       "      <th>2</th>\n",
       "      <td>0.000000</td>\n",
       "      <td>0</td>\n",
       "      <td>0.500000</td>\n",
       "      <td>0.000000</td>\n",
       "      <td>0.000000</td>\n",
       "      <td>1.000000</td>\n",
       "      <td>0.000000</td>\n",
       "      <td>0</td>\n",
       "    </tr>\n",
       "    <tr>\n",
       "      <th>3</th>\n",
       "      <td>0.000000</td>\n",
       "      <td>0</td>\n",
       "      <td>0.666667</td>\n",
       "      <td>0.000000</td>\n",
       "      <td>0.000000</td>\n",
       "      <td>0.333333</td>\n",
       "      <td>0.333333</td>\n",
       "      <td>1</td>\n",
       "    </tr>\n",
       "    <tr>\n",
       "      <th>4</th>\n",
       "      <td>0.000000</td>\n",
       "      <td>0</td>\n",
       "      <td>0.500000</td>\n",
       "      <td>0.000000</td>\n",
       "      <td>0.000000</td>\n",
       "      <td>0.500000</td>\n",
       "      <td>0.250000</td>\n",
       "      <td>1</td>\n",
       "    </tr>\n",
       "    <tr>\n",
       "      <th>...</th>\n",
       "      <td>...</td>\n",
       "      <td>...</td>\n",
       "      <td>...</td>\n",
       "      <td>...</td>\n",
       "      <td>...</td>\n",
       "      <td>...</td>\n",
       "      <td>...</td>\n",
       "      <td>...</td>\n",
       "    </tr>\n",
       "    <tr>\n",
       "      <th>869</th>\n",
       "      <td>0.205128</td>\n",
       "      <td>0</td>\n",
       "      <td>0.200000</td>\n",
       "      <td>0.615385</td>\n",
       "      <td>0.179487</td>\n",
       "      <td>0.600000</td>\n",
       "      <td>0.200000</td>\n",
       "      <td>0</td>\n",
       "    </tr>\n",
       "    <tr>\n",
       "      <th>870</th>\n",
       "      <td>0.176471</td>\n",
       "      <td>0</td>\n",
       "      <td>0.200000</td>\n",
       "      <td>0.588235</td>\n",
       "      <td>0.235294</td>\n",
       "      <td>0.400000</td>\n",
       "      <td>0.600000</td>\n",
       "      <td>1</td>\n",
       "    </tr>\n",
       "    <tr>\n",
       "      <th>871</th>\n",
       "      <td>0.090909</td>\n",
       "      <td>0</td>\n",
       "      <td>0.200000</td>\n",
       "      <td>0.727273</td>\n",
       "      <td>0.181818</td>\n",
       "      <td>0.600000</td>\n",
       "      <td>0.400000</td>\n",
       "      <td>0</td>\n",
       "    </tr>\n",
       "    <tr>\n",
       "      <th>872</th>\n",
       "      <td>0.422222</td>\n",
       "      <td>1</td>\n",
       "      <td>0.000000</td>\n",
       "      <td>0.266667</td>\n",
       "      <td>0.311111</td>\n",
       "      <td>0.600000</td>\n",
       "      <td>0.200000</td>\n",
       "      <td>1</td>\n",
       "    </tr>\n",
       "    <tr>\n",
       "      <th>873</th>\n",
       "      <td>0.193548</td>\n",
       "      <td>0</td>\n",
       "      <td>0.000000</td>\n",
       "      <td>0.709677</td>\n",
       "      <td>0.096774</td>\n",
       "      <td>0.400000</td>\n",
       "      <td>0.400000</td>\n",
       "      <td>1</td>\n",
       "    </tr>\n",
       "  </tbody>\n",
       "</table>\n",
       "<p>874 rows × 8 columns</p>\n",
       "</div>"
      ],
      "text/plain": [
       "     history_team1_draw_team2  is_opponent_big6  draw_before_team1  \\\n",
       "0                    0.000000                 0           0.000000   \n",
       "1                    0.000000                 0           0.000000   \n",
       "2                    0.000000                 0           0.500000   \n",
       "3                    0.000000                 0           0.666667   \n",
       "4                    0.000000                 0           0.500000   \n",
       "..                        ...               ...                ...   \n",
       "869                  0.205128                 0           0.200000   \n",
       "870                  0.176471                 0           0.200000   \n",
       "871                  0.090909                 0           0.200000   \n",
       "872                  0.422222                 1           0.000000   \n",
       "873                  0.193548                 0           0.000000   \n",
       "\n",
       "     history_team1_win_team2  history_team1_lose_team2  lose_before_team2  \\\n",
       "0                   0.000000                  0.000000           0.000000   \n",
       "1                   0.000000                  0.000000           1.000000   \n",
       "2                   0.000000                  0.000000           1.000000   \n",
       "3                   0.000000                  0.000000           0.333333   \n",
       "4                   0.000000                  0.000000           0.500000   \n",
       "..                       ...                       ...                ...   \n",
       "869                 0.615385                  0.179487           0.600000   \n",
       "870                 0.588235                  0.235294           0.400000   \n",
       "871                 0.727273                  0.181818           0.600000   \n",
       "872                 0.266667                  0.311111           0.600000   \n",
       "873                 0.709677                  0.096774           0.400000   \n",
       "\n",
       "     win_before_team2  venue_Home  \n",
       "0            0.000000           1  \n",
       "1            0.000000           0  \n",
       "2            0.000000           0  \n",
       "3            0.333333           1  \n",
       "4            0.250000           1  \n",
       "..                ...         ...  \n",
       "869          0.200000           0  \n",
       "870          0.600000           1  \n",
       "871          0.400000           0  \n",
       "872          0.200000           1  \n",
       "873          0.400000           1  \n",
       "\n",
       "[874 rows x 8 columns]"
      ]
     },
     "execution_count": 5,
     "metadata": {},
     "output_type": "execute_result"
    }
   ],
   "source": [
    "X"
   ]
  },
  {
   "cell_type": "code",
   "execution_count": 6,
   "metadata": {},
   "outputs": [],
   "source": [
    "# Xác định các cột phân loại và cột số\n",
    "categorical_cols = X.select_dtypes(include=['object', 'category']).columns\n",
    "numerical_cols = X.select_dtypes(include=['int64', 'float64']).columns\n",
    "\n",
    "# Tạo ColumnTransformer\n",
    "preprocessor = ColumnTransformer(\n",
    "    transformers=[\n",
    "        ('num', StandardScaler(), numerical_cols),\n",
    "        # ('cat', OneHotEncoder(handle_unknown=\"ignore\"), categorical_cols)\n",
    "    ])"
   ]
  },
  {
   "cell_type": "markdown",
   "metadata": {},
   "source": [
    "### Thử nghiệm các mô hình"
   ]
  },
  {
   "cell_type": "code",
   "execution_count": 7,
   "metadata": {},
   "outputs": [
    {
     "name": "stdout",
     "output_type": "stream",
     "text": [
      "LR: 0.43477446882619303\n",
      "SVC: 0.45043974225008704\n",
      "KNN: 0.5781957506095438\n",
      "DTC: 0.478182688958551\n",
      "SGDC: 0.6064263322884014\n",
      "NB: 0.581230407523511\n",
      "RF: 0.5793277603622432\n"
     ]
    }
   ],
   "source": [
    "algorithms = [\n",
    "    (\"LR\", LogisticRegression(random_state=seed, class_weight='balanced')),\n",
    "    (\n",
    "        \"SVC\",\n",
    "        SVC(\n",
    "            probability=True,\n",
    "            random_state=seed,\n",
    "            class_weight='balanced',\n",
    "        ),\n",
    "    ),\n",
    "    (\"KNN\", KNeighborsClassifier()),\n",
    "    (\"DTC\", DecisionTreeClassifier(random_state=seed, class_weight='balanced')),\n",
    "    (\"SGDC\", CalibratedClassifierCV(SGDClassifier(random_state=seed, class_weight='balanced'))),\n",
    "    (\"NB\", GaussianNB()),\n",
    "    (\n",
    "        \"RF\",\n",
    "        RandomForestClassifier(\n",
    "            n_estimators=100,\n",
    "            random_state=seed,\n",
    "            class_weight='balanced'\n",
    "        ),\n",
    "    ),\n",
    "]\n",
    "\n",
    "cv_results = {}\n",
    "for name, model in algorithms:\n",
    "    # Tạo pipeline bao gồm preprocessor và mô hình\n",
    "    pipeline = Pipeline([(\"preprocessor\", preprocessor), (\"model\", model)])\n",
    "    \n",
    "    # Thực hiện cross-validation\n",
    "    cv_scores = cross_val_score(\n",
    "        pipeline, X, y, cv=repeated_stratify_cv, scoring=\"accuracy\"\n",
    "    )\n",
    "    cv_results[name] = cv_scores.mean()\n",
    "\n",
    "# Hiển thị kết quả cross-validation\n",
    "for name, score in cv_results.items():\n",
    "    print(f\"{name}: {score}\")"
   ]
  },
  {
   "cell_type": "markdown",
   "metadata": {},
   "source": [
    "### Thử nghiệm lại preprocessor"
   ]
  },
  {
   "cell_type": "code",
   "execution_count": 8,
   "metadata": {},
   "outputs": [
    {
     "data": {
      "text/html": [
       "<div>\n",
       "<style scoped>\n",
       "    .dataframe tbody tr th:only-of-type {\n",
       "        vertical-align: middle;\n",
       "    }\n",
       "\n",
       "    .dataframe tbody tr th {\n",
       "        vertical-align: top;\n",
       "    }\n",
       "\n",
       "    .dataframe thead th {\n",
       "        text-align: right;\n",
       "    }\n",
       "</style>\n",
       "<table border=\"1\" class=\"dataframe\">\n",
       "  <thead>\n",
       "    <tr style=\"text-align: right;\">\n",
       "      <th></th>\n",
       "      <th>history_team1_draw_team2</th>\n",
       "      <th>is_opponent_big6</th>\n",
       "      <th>draw_before_team1</th>\n",
       "      <th>history_team1_win_team2</th>\n",
       "      <th>history_team1_lose_team2</th>\n",
       "      <th>lose_before_team2</th>\n",
       "      <th>win_before_team2</th>\n",
       "      <th>venue_Home</th>\n",
       "    </tr>\n",
       "  </thead>\n",
       "  <tbody>\n",
       "    <tr>\n",
       "      <th>0</th>\n",
       "      <td>-1.152226</td>\n",
       "      <td>-0.594089</td>\n",
       "      <td>-1.047219</td>\n",
       "      <td>-2.380529</td>\n",
       "      <td>-0.992415</td>\n",
       "      <td>-1.415549</td>\n",
       "      <td>-1.400086</td>\n",
       "      <td>1.0</td>\n",
       "    </tr>\n",
       "    <tr>\n",
       "      <th>1</th>\n",
       "      <td>-1.152226</td>\n",
       "      <td>-0.594089</td>\n",
       "      <td>-1.047219</td>\n",
       "      <td>-2.380529</td>\n",
       "      <td>-0.992415</td>\n",
       "      <td>2.477230</td>\n",
       "      <td>-1.400086</td>\n",
       "      <td>-1.0</td>\n",
       "    </tr>\n",
       "    <tr>\n",
       "      <th>2</th>\n",
       "      <td>-1.152226</td>\n",
       "      <td>-0.594089</td>\n",
       "      <td>1.587155</td>\n",
       "      <td>-2.380529</td>\n",
       "      <td>-0.992415</td>\n",
       "      <td>2.477230</td>\n",
       "      <td>-1.400086</td>\n",
       "      <td>-1.0</td>\n",
       "    </tr>\n",
       "    <tr>\n",
       "      <th>3</th>\n",
       "      <td>-1.152226</td>\n",
       "      <td>-0.594089</td>\n",
       "      <td>2.465279</td>\n",
       "      <td>-2.380529</td>\n",
       "      <td>-0.992415</td>\n",
       "      <td>-0.117956</td>\n",
       "      <td>-0.112210</td>\n",
       "      <td>1.0</td>\n",
       "    </tr>\n",
       "    <tr>\n",
       "      <th>4</th>\n",
       "      <td>-1.152226</td>\n",
       "      <td>-0.594089</td>\n",
       "      <td>1.587155</td>\n",
       "      <td>-2.380529</td>\n",
       "      <td>-0.992415</td>\n",
       "      <td>0.530840</td>\n",
       "      <td>-0.434179</td>\n",
       "      <td>1.0</td>\n",
       "    </tr>\n",
       "    <tr>\n",
       "      <th>...</th>\n",
       "      <td>...</td>\n",
       "      <td>...</td>\n",
       "      <td>...</td>\n",
       "      <td>...</td>\n",
       "      <td>...</td>\n",
       "      <td>...</td>\n",
       "      <td>...</td>\n",
       "      <td>...</td>\n",
       "    </tr>\n",
       "    <tr>\n",
       "      <th>869</th>\n",
       "      <td>0.181689</td>\n",
       "      <td>-0.594089</td>\n",
       "      <td>0.006531</td>\n",
       "      <td>0.056115</td>\n",
       "      <td>0.047699</td>\n",
       "      <td>0.920118</td>\n",
       "      <td>-0.627361</td>\n",
       "      <td>-1.0</td>\n",
       "    </tr>\n",
       "    <tr>\n",
       "      <th>870</th>\n",
       "      <td>-0.004667</td>\n",
       "      <td>-0.594089</td>\n",
       "      <td>0.006531</td>\n",
       "      <td>-0.051384</td>\n",
       "      <td>0.371096</td>\n",
       "      <td>0.141562</td>\n",
       "      <td>0.918090</td>\n",
       "      <td>1.0</td>\n",
       "    </tr>\n",
       "    <tr>\n",
       "      <th>871</th>\n",
       "      <td>-0.561059</td>\n",
       "      <td>-0.594089</td>\n",
       "      <td>0.006531</td>\n",
       "      <td>0.499141</td>\n",
       "      <td>0.061207</td>\n",
       "      <td>0.920118</td>\n",
       "      <td>0.145365</td>\n",
       "      <td>-1.0</td>\n",
       "    </tr>\n",
       "    <tr>\n",
       "      <th>872</th>\n",
       "      <td>1.593415</td>\n",
       "      <td>1.683251</td>\n",
       "      <td>-1.047219</td>\n",
       "      <td>-1.324650</td>\n",
       "      <td>0.810450</td>\n",
       "      <td>0.920118</td>\n",
       "      <td>-0.627361</td>\n",
       "      <td>1.0</td>\n",
       "    </tr>\n",
       "    <tr>\n",
       "      <th>873</th>\n",
       "      <td>0.106387</td>\n",
       "      <td>-0.594089</td>\n",
       "      <td>-1.047219</td>\n",
       "      <td>0.429472</td>\n",
       "      <td>-0.431616</td>\n",
       "      <td>0.141562</td>\n",
       "      <td>0.145365</td>\n",
       "      <td>1.0</td>\n",
       "    </tr>\n",
       "  </tbody>\n",
       "</table>\n",
       "<p>874 rows × 8 columns</p>\n",
       "</div>"
      ],
      "text/plain": [
       "     history_team1_draw_team2  is_opponent_big6  draw_before_team1  \\\n",
       "0                   -1.152226         -0.594089          -1.047219   \n",
       "1                   -1.152226         -0.594089          -1.047219   \n",
       "2                   -1.152226         -0.594089           1.587155   \n",
       "3                   -1.152226         -0.594089           2.465279   \n",
       "4                   -1.152226         -0.594089           1.587155   \n",
       "..                        ...               ...                ...   \n",
       "869                  0.181689         -0.594089           0.006531   \n",
       "870                 -0.004667         -0.594089           0.006531   \n",
       "871                 -0.561059         -0.594089           0.006531   \n",
       "872                  1.593415          1.683251          -1.047219   \n",
       "873                  0.106387         -0.594089          -1.047219   \n",
       "\n",
       "     history_team1_win_team2  history_team1_lose_team2  lose_before_team2  \\\n",
       "0                  -2.380529                 -0.992415          -1.415549   \n",
       "1                  -2.380529                 -0.992415           2.477230   \n",
       "2                  -2.380529                 -0.992415           2.477230   \n",
       "3                  -2.380529                 -0.992415          -0.117956   \n",
       "4                  -2.380529                 -0.992415           0.530840   \n",
       "..                       ...                       ...                ...   \n",
       "869                 0.056115                  0.047699           0.920118   \n",
       "870                -0.051384                  0.371096           0.141562   \n",
       "871                 0.499141                  0.061207           0.920118   \n",
       "872                -1.324650                  0.810450           0.920118   \n",
       "873                 0.429472                 -0.431616           0.141562   \n",
       "\n",
       "     win_before_team2  venue_Home  \n",
       "0           -1.400086         1.0  \n",
       "1           -1.400086        -1.0  \n",
       "2           -1.400086        -1.0  \n",
       "3           -0.112210         1.0  \n",
       "4           -0.434179         1.0  \n",
       "..                ...         ...  \n",
       "869         -0.627361        -1.0  \n",
       "870          0.918090         1.0  \n",
       "871          0.145365        -1.0  \n",
       "872         -0.627361         1.0  \n",
       "873          0.145365         1.0  \n",
       "\n",
       "[874 rows x 8 columns]"
      ]
     },
     "execution_count": 8,
     "metadata": {},
     "output_type": "execute_result"
    }
   ],
   "source": [
    "transformed_X = preprocessor.fit_transform(X)\n",
    "new_columns = numerical_cols.to_list()\n",
    "\n",
    "transformed_X = pd.DataFrame(transformed_X, columns=new_columns)\n",
    "transformed_X"
   ]
  },
  {
   "cell_type": "code",
   "execution_count": 9,
   "metadata": {},
   "outputs": [],
   "source": [
    "X = transformed_X"
   ]
  },
  {
   "cell_type": "markdown",
   "metadata": {},
   "source": [
    "# Chọn bộ tham số"
   ]
  },
  {
   "cell_type": "markdown",
   "metadata": {},
   "source": [
    "### SVC"
   ]
  },
  {
   "cell_type": "code",
   "execution_count": null,
   "metadata": {},
   "outputs": [],
   "source": [
    "best_params_SVC = {}\n",
    "models_tuned_SVC = {}\n",
    "\n",
    "# Adjust your algorithms list to use descriptive names that match param_grid\n",
    "algorithms = [\n",
    "    (\"SVC\", SVC(probability=True)),\n",
    "]\n",
    "\n",
    "# Define parameter grid with correct keys\n",
    "param_grid = {\n",
    "    \"SVC\": {\n",
    "        \"C\": [0.1, 1, 10, 50, 100, 200, 300],  # Expanded C range\n",
    "        \"gamma\": [\"scale\", \"auto\", 0.01, 0.1, 1, 10, 20],  # More granular gamma range\n",
    "        \"kernel\": [\"linear\", \"poly\", \"rbf\", \"sigmoid\"]  # Added kernel options\n",
    "    }\n",
    "}\n",
    "\n",
    "\n",
    "# Randomized Search application with check for parameter grid existence\n",
    "for name, model in algorithms:\n",
    "    print(\"Model processing: \", name)\n",
    "    if name in param_grid:\n",
    "        randomized_search = RandomizedSearchCV(\n",
    "            estimator=model, \n",
    "            param_distributions=param_grid[name], \n",
    "            n_iter=100,  # You can adjust the number of iterations\n",
    "            cv=5, \n",
    "            scoring='accuracy', \n",
    "            random_state=42,\n",
    "            n_jobs=-1,\n",
    "            verbose=1\n",
    "        )\n",
    "        randomized_search.fit(X, y)\n",
    "        best_params_SVC[name] = randomized_search.best_params_\n",
    "        models_tuned_SVC[name] = randomized_search.best_estimator_\n",
    "    else:\n",
    "        print(f\"No parameter grid defined for {name}\")\n"
   ]
  },
  {
   "cell_type": "markdown",
   "metadata": {},
   "source": [
    "### RF"
   ]
  },
  {
   "cell_type": "code",
   "execution_count": null,
   "metadata": {},
   "outputs": [],
   "source": [
    "best_params_RF = {}\n",
    "models_tuned_RF = {}\n",
    "\n",
    "# Adjust your algorithms list to use descriptive names that match param_grid\n",
    "algorithms = [\n",
    "    ('RF', RandomForestClassifier()),\n",
    "]\n",
    "\n",
    "# Define parameter grid with correct keys\n",
    "param_grid = {\n",
    "    \"RF\": {\n",
    "        \"n_estimators\": [int(x) for x in np.linspace(start = 200, stop = 2000, num = 10)],  # More options for n_estimators\n",
    "        \"max_features\": [\"auto\", \"sqrt\", \"log2\", 0.2, 0.4, 0.6],  # More granular control\n",
    "        \"max_depth\": [int(x) for x in np.linspace(10, 110, num = 11)] + [None],  # Added max_depth\n",
    "        \"min_samples_split\": [2, 5, 10, 20],  # Added min_samples_split\n",
    "        \"min_samples_leaf\": [1, 2, 4, 6]  # Added min_samples_leaf\n",
    "    }\n",
    "}\n",
    "\n",
    "\n",
    "# Randomized Search application with check for parameter grid existence\n",
    "for name, model in algorithms:\n",
    "    print(\"Model processing: \", name)\n",
    "    if name in param_grid:\n",
    "        randomized_search = RandomizedSearchCV(\n",
    "            estimator=model, \n",
    "            param_distributions=param_grid[name], \n",
    "            n_iter=100,  # You can adjust the number of iterations\n",
    "            cv=5, \n",
    "            scoring='accuracy', \n",
    "            random_state=42,\n",
    "            n_jobs=-1,\n",
    "            verbose=1\n",
    "        )\n",
    "        randomized_search.fit(X, y)\n",
    "        best_params_RF[name] = randomized_search.best_params_\n",
    "        models_tuned_RF[name] = randomized_search.best_estimator_\n",
    "    else:\n",
    "        print(f\"No parameter grid defined for {name}\")\n"
   ]
  },
  {
   "cell_type": "markdown",
   "metadata": {},
   "source": [
    "### Các thuật toán khác"
   ]
  },
  {
   "cell_type": "code",
   "execution_count": 13,
   "metadata": {},
   "outputs": [
    {
     "name": "stdout",
     "output_type": "stream",
     "text": [
      "Model processing:  LR\n",
      "Fitting 5 folds for each of 100 candidates, totalling 500 fits\n",
      "Model processing:  KNN\n",
      "Fitting 5 folds for each of 100 candidates, totalling 500 fits\n",
      "Model processing:  DTC\n",
      "Fitting 5 folds for each of 100 candidates, totalling 500 fits\n",
      "Model processing:  SGDC\n",
      "No parameter grid defined for SGDC\n",
      "Model processing:  NB\n",
      "No parameter grid defined for NB\n"
     ]
    }
   ],
   "source": [
    "best_params_random_other = {}\n",
    "models_tuned_random_other = {}\n",
    "\n",
    "# Adjust your algorithms list to use descriptive names that match param_grid\n",
    "algorithms = [\n",
    "    (\"LR\", LogisticRegression()),\n",
    "    ('KNN', KNeighborsClassifier()),\n",
    "    (\"DTC\", DecisionTreeClassifier()),\n",
    "    (\"SGDC\", CalibratedClassifierCV(SGDClassifier())),\n",
    "    (\"NB\", GaussianNB()),\n",
    "]\n",
    "\n",
    "# Define parameter grid with correct keys\n",
    "param_grid = {\n",
    "    \"LR\": {\n",
    "        \"C\": np.logspace(-4, 4, 20),  # More granular range for C\n",
    "        \"solver\": [\"liblinear\", \"lbfgs\", \"saga\", \"newton-cg\"],  # Added 'newton-cg'\n",
    "        \"penalty\": [\"l1\", \"l2\", \"elasticnet\", \"none\"]  # Different norms for regularization\n",
    "    },\n",
    "    \"DTC\": {\n",
    "        \"max_depth\": [None, 3, 5, 10, 15, 20, 30, 50, 100],  # Expanded range\n",
    "        \"min_samples_split\": [2, 5, 10, 20, 40, 100],  # More options\n",
    "        \"min_samples_leaf\": [1, 2, 5, 10, 20]  # Added min_samples_leaf\n",
    "    },\n",
    "    \"KNN\": {\n",
    "        \"n_neighbors\": list(range(1, 21)),  # More neighbors\n",
    "        \"weights\": [\"uniform\", \"distance\"],  # Existing weights\n",
    "        \"metric\": [\"euclidean\", \"manhattan\", \"chebyshev\", \"minkowski\"]  # Added distance metrics\n",
    "    }\n",
    "}\n",
    "\n",
    "\n",
    "# Randomized Search application with check for parameter grid existence\n",
    "for name, model in algorithms:\n",
    "    print(\"Model processing: \", name)\n",
    "    if name in param_grid:\n",
    "        randomized_search = RandomizedSearchCV(\n",
    "            estimator=model, \n",
    "            param_distributions=param_grid[name], \n",
    "            n_iter=100,  # You can adjust the number of iterations\n",
    "            cv=5, \n",
    "            scoring='accuracy', \n",
    "            random_state=42,\n",
    "            n_jobs=-1,\n",
    "            verbose=1\n",
    "        )\n",
    "        randomized_search.fit(X, y)\n",
    "        best_params_random_other[name] = randomized_search.best_params_\n",
    "        models_tuned_random_other[name] = randomized_search.best_estimator_\n",
    "    else:\n",
    "        print(f\"No parameter grid defined for {name}\")\n"
   ]
  },
  {
   "cell_type": "code",
   "execution_count": 14,
   "metadata": {},
   "outputs": [],
   "source": [
    "with open('best_params/best_params_random_other.json', 'w') as f:\n",
    "    json.dump(best_params_random_other, f)"
   ]
  },
  {
   "cell_type": "markdown",
   "metadata": {},
   "source": [
    "#### Thử nghiệm bộ tham số"
   ]
  },
  {
   "cell_type": "code",
   "execution_count": 11,
   "metadata": {},
   "outputs": [],
   "source": [
    "algorithms_score_df = []"
   ]
  },
  {
   "cell_type": "markdown",
   "metadata": {},
   "source": [
    "##### Random forest"
   ]
  },
  {
   "cell_type": "code",
   "execution_count": 12,
   "metadata": {},
   "outputs": [
    {
     "name": "stdout",
     "output_type": "stream",
     "text": [
      "RF: 0.5869688013136289\n"
     ]
    }
   ],
   "source": [
    "with open('best_params/best_params_RF_balanced.json', 'r') as f:\n",
    "    best_params_RF = json.load(f)\n",
    "\n",
    "# Assuming 'best_params' has been filled with the best parameters for each model from GridSearchCV or RandomizedSearchCV\n",
    "algorithms = [\n",
    "    ('RF', RandomForestClassifier(**best_params_RF.get(\"RF\", {}), random_state=42)),\n",
    "]\n",
    "\n",
    "cv_results = {}\n",
    "for name, model in algorithms:\n",
    "    cv_scores = cross_val_score(model, X, y, cv=5)  # Thực hiện cross-validation với số lượng fold là 5\n",
    "    cv_results[name] = cv_scores.mean()  # Lưu kết quả trung bình của các fold\n",
    "\n",
    "# Hiển thị kết quả cross-validation\n",
    "for name, score in cv_results.items():\n",
    "    algorithms_score_df.append({\n",
    "        \"model\": name,\n",
    "        \"score\": score\n",
    "    })\n",
    "    print(f\"{name}: {score}\")"
   ]
  },
  {
   "cell_type": "markdown",
   "metadata": {},
   "source": [
    "##### Các thuật toán khác"
   ]
  },
  {
   "cell_type": "code",
   "execution_count": 18,
   "metadata": {},
   "outputs": [
    {
     "name": "stdout",
     "output_type": "stream",
     "text": [
      "LR: 0.6201313628899836\n",
      "KNN: 0.6075336617405582\n",
      "DTC: 0.6098456486042694\n",
      "SGDC: 0.6064105090311986\n",
      "NB: 0.5926502463054187\n"
     ]
    }
   ],
   "source": [
    "with open('best_params/best_params_random_other.json', 'r') as f:\n",
    "    best_params = json.load(f)\n",
    "\n",
    "# Assuming 'best_params' has been filled with the best parameters for each model from GridSearchCV or RandomizedSearchCV\n",
    "algorithms = [\n",
    "    (\"LR\", LogisticRegression(**best_params.get(\"LR\", {}), random_state=42)),\n",
    "    ('KNN', KNeighborsClassifier(**best_params.get(\"KNN\", {}))),\n",
    "    (\"DTC\", DecisionTreeClassifier(**best_params.get(\"DTC\", {}), random_state=42)),\n",
    "    (\"SGDC\", CalibratedClassifierCV(SGDClassifier(**best_params.get(\"SGDC\", {})))),\n",
    "    (\"NB\", GaussianNB()),  # GaussianNB không có tham số cụ thể để điều chỉnh\n",
    "]\n",
    "\n",
    "cv_results = {}\n",
    "for name, model in algorithms:\n",
    "    cv_scores = cross_val_score(model, X, y, cv=5)  # Thực hiện cross-validation với số lượng fold là 5\n",
    "    cv_results[name] = cv_scores.mean()  # Lưu kết quả trung bình của các fold\n",
    "\n",
    "# Hiển thị kết quả cross-validation\n",
    "for name, score in cv_results.items():\n",
    "    algorithms_score_df.append({\n",
    "        \"model\": name,\n",
    "        \"score\": score\n",
    "    })\n",
    "    print(f\"{name}: {score}\")"
   ]
  },
  {
   "cell_type": "code",
   "execution_count": 19,
   "metadata": {},
   "outputs": [
    {
     "data": {
      "text/html": [
       "<div>\n",
       "<style scoped>\n",
       "    .dataframe tbody tr th:only-of-type {\n",
       "        vertical-align: middle;\n",
       "    }\n",
       "\n",
       "    .dataframe tbody tr th {\n",
       "        vertical-align: top;\n",
       "    }\n",
       "\n",
       "    .dataframe thead th {\n",
       "        text-align: right;\n",
       "    }\n",
       "</style>\n",
       "<table border=\"1\" class=\"dataframe\">\n",
       "  <thead>\n",
       "    <tr style=\"text-align: right;\">\n",
       "      <th></th>\n",
       "      <th>model</th>\n",
       "      <th>score</th>\n",
       "    </tr>\n",
       "  </thead>\n",
       "  <tbody>\n",
       "    <tr>\n",
       "      <th>1</th>\n",
       "      <td>LR</td>\n",
       "      <td>0.620131</td>\n",
       "    </tr>\n",
       "    <tr>\n",
       "      <th>3</th>\n",
       "      <td>DTC</td>\n",
       "      <td>0.609846</td>\n",
       "    </tr>\n",
       "    <tr>\n",
       "      <th>0</th>\n",
       "      <td>RF</td>\n",
       "      <td>0.608683</td>\n",
       "    </tr>\n",
       "    <tr>\n",
       "      <th>2</th>\n",
       "      <td>KNN</td>\n",
       "      <td>0.607534</td>\n",
       "    </tr>\n",
       "    <tr>\n",
       "      <th>4</th>\n",
       "      <td>SGDC</td>\n",
       "      <td>0.606411</td>\n",
       "    </tr>\n",
       "    <tr>\n",
       "      <th>5</th>\n",
       "      <td>NB</td>\n",
       "      <td>0.592650</td>\n",
       "    </tr>\n",
       "  </tbody>\n",
       "</table>\n",
       "</div>"
      ],
      "text/plain": [
       "  model     score\n",
       "1    LR  0.620131\n",
       "3   DTC  0.609846\n",
       "0    RF  0.608683\n",
       "2   KNN  0.607534\n",
       "4  SGDC  0.606411\n",
       "5    NB  0.592650"
      ]
     },
     "execution_count": 19,
     "metadata": {},
     "output_type": "execute_result"
    }
   ],
   "source": [
    "df = pd.DataFrame(algorithms_score_df)\n",
    "df.sort_values(by=\"score\", ascending=False)"
   ]
  },
  {
   "cell_type": "markdown",
   "metadata": {},
   "source": [
    "#### Vẽ ma trận nhầm lẫn của model có độ chính xác cao nhất "
   ]
  },
  {
   "cell_type": "code",
   "execution_count": 15,
   "metadata": {},
   "outputs": [],
   "source": [
    "import seaborn as sns\n",
    "import matplotlib.pyplot as plt\n",
    "from sklearn.metrics import confusion_matrix, accuracy_score\n",
    "from sklearn.model_selection import train_test_split\n",
    "\n",
    "X_train, X_test, y_train, y_test = train_test_split(X, y, test_size=0.2, random_state=42)"
   ]
  },
  {
   "cell_type": "markdown",
   "metadata": {},
   "source": [
    "##### Trước khi dùng resampling"
   ]
  },
  {
   "cell_type": "code",
   "execution_count": 17,
   "metadata": {},
   "outputs": [
    {
     "data": {
      "image/png": "[encoded data removed]",
      "text/plain": [
       "<Figure size 1000x700 with 1 Axes>"
      ]
     },
     "metadata": {},
     "output_type": "display_data"
    }
   ],
   "source": [
    "with open('best_params/best_params_RF.json', 'r') as f:\n",
    "    best_params_RF = json.load(f)\n",
    "\n",
    "rf_model = RandomForestClassifier(**best_params_RF.get(\"RF\", {}), random_state=42)\n",
    "\n",
    "y_pred = rf_model.fit(X_train, y_train).predict(X_test)\n",
    "# Tạo ma trận confusion\n",
    "cm = confusion_matrix(y_test, y_pred)\n",
    "\n",
    "# Định nghĩa nhãn cho các trục tương ứng với các lớp của 'Result'\n",
    "labels = ['Win', 'Lose', 'Draw']\n",
    "\n",
    "df_cm = pd.DataFrame(cm, index=labels, columns=labels)\n",
    "\n",
    "# Vẽ ma trận confusion với nhãn cụ thể\n",
    "plt.figure(figsize=(10, 7))\n",
    "sns.heatmap(df_cm, annot=True, fmt=\"d\", cmap='Blues', cbar=False)\n",
    "plt.xlabel('Predicted labels')\n",
    "plt.ylabel('True labels')\n",
    "plt.title('Confusion Matrix for Random Forest')\n",
    "plt.show()"
   ]
  },
  {
   "cell_type": "markdown",
   "metadata": {},
   "source": [
    "##### Sau khi dùng resampling"
   ]
  },
  {
   "cell_type": "code",
   "execution_count": 18,
   "metadata": {},
   "outputs": [
    {
     "data": {
      "image/png": "[encoded data removed]",
      "text/plain": [
       "<Figure size 1000x700 with 1 Axes>"
      ]
     },
     "metadata": {},
     "output_type": "display_data"
    }
   ],
   "source": [
    "with open('best_params/best_params_RF_balanced.json', 'r') as f:\n",
    "    best_params_RF = json.load(f)\n",
    "\n",
    "rf_model = RandomForestClassifier(**best_params_RF.get(\"RF\", {}), random_state=42)\n",
    "\n",
    "y_pred = rf_model.fit(X_train, y_train).predict(X_test)\n",
    "# Tạo ma trận confusion\n",
    "cm = confusion_matrix(y_test, y_pred)\n",
    "\n",
    "# Định nghĩa nhãn cho các trục tương ứng với các lớp của 'Result'\n",
    "labels = ['Win', 'Lose', 'Draw']\n",
    "\n",
    "df_cm = pd.DataFrame(cm, index=labels, columns=labels)\n",
    "\n",
    "# Vẽ ma trận confusion với nhãn cụ thể\n",
    "plt.figure(figsize=(10, 7))\n",
    "sns.heatmap(df_cm, annot=True, fmt=\"d\", cmap='Blues', cbar=False)\n",
    "plt.xlabel('Predicted labels')\n",
    "plt.ylabel('True labels')\n",
    "plt.title('Confusion Matrix for Random Forest')\n",
    "plt.show()"
   ]
  },
  {
   "cell_type": "markdown",
   "metadata": {},
   "source": [
    "##### Linear regression"
   ]
  },
  {
   "cell_type": "code",
   "execution_count": 20,
   "metadata": {},
   "outputs": [
    {
     "data": {
      "image/png": "[encoded data removed]",
      "text/plain": [
       "<Figure size 1000x700 with 1 Axes>"
      ]
     },
     "metadata": {},
     "output_type": "display_data"
    }
   ],
   "source": [
    "with open('best_params/best_params_random_other.json', 'r') as f:\n",
    "    best_params_other = json.load(f)\n",
    "\n",
    "lr_model = LogisticRegression(**best_params_other.get(\"LR\", {}), random_state=42)\n",
    "\n",
    "y_pred = lr_model.fit(X_train, y_train).predict(X_test)\n",
    "# Tạo ma trận confusion\n",
    "cm = confusion_matrix(y_test, y_pred)\n",
    "\n",
    "# Định nghĩa nhãn cho các trục tương ứng với các lớp của 'Result'\n",
    "labels = ['Win', 'Lose', 'Draw']\n",
    "\n",
    "df_cm = pd.DataFrame(cm, index=labels, columns=labels)\n",
    "\n",
    "# Vẽ ma trận confusion với nhãn cụ thể\n",
    "plt.figure(figsize=(10, 7))\n",
    "sns.heatmap(df_cm, annot=True, fmt=\"d\", cmap='Blues', cbar=False)\n",
    "plt.xlabel('Predicted labels')\n",
    "plt.ylabel('True labels')\n",
    "plt.title('Confusion Matrix for Linear Regression')\n",
    "plt.show()"
   ]
  },
  {
   "cell_type": "code",
   "execution_count": null,
   "metadata": {},
   "outputs": [],
   "source": []
  }
 ],
 "metadata": {
  "kernelspec": {
   "display_name": ".venv",
   "language": "python",
   "name": "python3"
  },
  "language_info": {
   "codemirror_mode": {
    "name": "ipython",
    "version": 3
   },
   "file_extension": ".py",
   "mimetype": "text/x-python",
   "name": "python",
   "nbconvert_exporter": "python",
   "pygments_lexer": "ipython3",
   "version": "3.10.6"
  }
 },
 "nbformat": 4,
 "nbformat_minor": 2
}
