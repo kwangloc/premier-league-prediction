{
 "cells": [
  {
   "cell_type": "code",
   "execution_count": 1,
   "metadata": {},
   "outputs": [],
   "source": [
    "import numpy as np\n",
    "import pandas as pd\n",
    "import seaborn as sns\n",
    "import json\n",
    "\n",
    "from sklearn.linear_model import LogisticRegression\n",
    "from sklearn.tree import DecisionTreeClassifier\n",
    "from sklearn.ensemble import RandomForestClassifier, GradientBoostingClassifier\n",
    "from sklearn.svm import SVC\n",
    "from sklearn.neighbors import KNeighborsClassifier\n",
    "\n",
    "from sklearn.model_selection import RandomizedSearchCV\n",
    "\n",
    "from sklearn.model_selection import cross_val_score\n",
    "from sklearn.calibration import CalibratedClassifierCV\n",
    "from sklearn.linear_model import LogisticRegression, SGDClassifier\n",
    "from sklearn.svm import SVC\n",
    "from sklearn.naive_bayes import GaussianNB\n",
    "from sklearn.compose import ColumnTransformer\n",
    "from sklearn.preprocessing import OneHotEncoder, StandardScaler\n",
    "from sklearn.pipeline import Pipeline\n",
    "from sklearn.model_selection import RepeatedStratifiedKFold\n",
    "import seaborn as sns\n",
    "import matplotlib.pyplot as plt\n",
    "from sklearn.metrics import confusion_matrix, accuracy_score\n",
    "\n",
    "import warnings\n",
    "warnings.filterwarnings('ignore')\n",
    "\n",
    "k_fold = 10\n",
    "seed = 42\n",
    "np.random.seed(seed)"
   ]
  },
  {
   "cell_type": "code",
   "execution_count": 2,
   "metadata": {},
   "outputs": [],
   "source": [
    "repeated_stratify_cv = RepeatedStratifiedKFold(n_splits=k_fold, n_repeats=3, random_state=seed)"
   ]
  },
  {
   "cell_type": "markdown",
   "metadata": {},
   "source": [
    "#### 1 Read and describe data"
   ]
  },
  {
   "cell_type": "code",
   "execution_count": 3,
   "metadata": {},
   "outputs": [
    {
     "data": {
      "image/png": "[encoded data removed]",
      "text/plain": [
       "<Figure size 640x480 with 1 Axes>"
      ]
     },
     "metadata": {},
     "output_type": "display_data"
    }
   ],
   "source": [
    "matches_df = pd.read_csv('data_rf.csv')\n",
    "sns.countplot(x='result', data=matches_df, palette=\"Set1\") \n",
    "matches_df.loc[matches_df[\"result\"] == \"W\", \"result\"] = 0\n",
    "matches_df.loc[matches_df[\"result\"] == \"L\", \"result\"] = 1\n",
    "matches_df.loc[matches_df[\"result\"] == \"D\", \"result\"] = 2"
   ]
  },
  {
   "cell_type": "markdown",
   "metadata": {},
   "source": [
    "### Chia dữ liệu"
   ]
  },
  {
   "cell_type": "code",
   "execution_count": 4,
   "metadata": {},
   "outputs": [],
   "source": [
    "X = matches_df.drop(\"result\", axis=1)\n",
    "y = matches_df[\"result\"].astype(\"int\")"
   ]
  },
  {
   "cell_type": "code",
   "execution_count": 5,
   "metadata": {},
   "outputs": [
    {
     "data": {
      "text/html": [
       "<div>\n",
       "<style scoped>\n",
       "    .dataframe tbody tr th:only-of-type {\n",
       "        vertical-align: middle;\n",
       "    }\n",
       "\n",
       "    .dataframe tbody tr th {\n",
       "        vertical-align: top;\n",
       "    }\n",
       "\n",
       "    .dataframe thead th {\n",
       "        text-align: right;\n",
       "    }\n",
       "</style>\n",
       "<table border=\"1\" class=\"dataframe\">\n",
       "  <thead>\n",
       "    <tr style=\"text-align: right;\">\n",
       "      <th></th>\n",
       "      <th>venue</th>\n",
       "      <th>win_before_team1</th>\n",
       "      <th>win_before_team2</th>\n",
       "      <th>draw_before_team2</th>\n",
       "      <th>lose_before_team1</th>\n",
       "      <th>lose_before_team2</th>\n",
       "      <th>history_team1_win_team2</th>\n",
       "      <th>history_team1_draw_team2</th>\n",
       "      <th>history_team1_lose_team2</th>\n",
       "      <th>is_opponent_big6</th>\n",
       "    </tr>\n",
       "  </thead>\n",
       "  <tbody>\n",
       "    <tr>\n",
       "      <th>0</th>\n",
       "      <td>Away</td>\n",
       "      <td>0.000000</td>\n",
       "      <td>0.000000</td>\n",
       "      <td>0.000000</td>\n",
       "      <td>0.000000</td>\n",
       "      <td>0.000000</td>\n",
       "      <td>0.000000</td>\n",
       "      <td>0.000000</td>\n",
       "      <td>0.000000</td>\n",
       "      <td>0</td>\n",
       "    </tr>\n",
       "    <tr>\n",
       "      <th>1</th>\n",
       "      <td>Home</td>\n",
       "      <td>0.000000</td>\n",
       "      <td>1.000000</td>\n",
       "      <td>0.000000</td>\n",
       "      <td>1.000000</td>\n",
       "      <td>0.000000</td>\n",
       "      <td>0.000000</td>\n",
       "      <td>0.000000</td>\n",
       "      <td>0.000000</td>\n",
       "      <td>1</td>\n",
       "    </tr>\n",
       "    <tr>\n",
       "      <th>2</th>\n",
       "      <td>Home</td>\n",
       "      <td>0.500000</td>\n",
       "      <td>0.500000</td>\n",
       "      <td>0.000000</td>\n",
       "      <td>0.500000</td>\n",
       "      <td>0.500000</td>\n",
       "      <td>0.000000</td>\n",
       "      <td>0.000000</td>\n",
       "      <td>0.000000</td>\n",
       "      <td>0</td>\n",
       "    </tr>\n",
       "    <tr>\n",
       "      <th>3</th>\n",
       "      <td>Away</td>\n",
       "      <td>0.666667</td>\n",
       "      <td>0.333333</td>\n",
       "      <td>0.333333</td>\n",
       "      <td>0.333333</td>\n",
       "      <td>0.333333</td>\n",
       "      <td>0.000000</td>\n",
       "      <td>0.000000</td>\n",
       "      <td>0.000000</td>\n",
       "      <td>1</td>\n",
       "    </tr>\n",
       "    <tr>\n",
       "      <th>4</th>\n",
       "      <td>Away</td>\n",
       "      <td>0.500000</td>\n",
       "      <td>0.250000</td>\n",
       "      <td>0.250000</td>\n",
       "      <td>0.250000</td>\n",
       "      <td>0.500000</td>\n",
       "      <td>0.000000</td>\n",
       "      <td>0.000000</td>\n",
       "      <td>0.000000</td>\n",
       "      <td>0</td>\n",
       "    </tr>\n",
       "    <tr>\n",
       "      <th>...</th>\n",
       "      <td>...</td>\n",
       "      <td>...</td>\n",
       "      <td>...</td>\n",
       "      <td>...</td>\n",
       "      <td>...</td>\n",
       "      <td>...</td>\n",
       "      <td>...</td>\n",
       "      <td>...</td>\n",
       "      <td>...</td>\n",
       "      <td>...</td>\n",
       "    </tr>\n",
       "    <tr>\n",
       "      <th>870</th>\n",
       "      <td>Home</td>\n",
       "      <td>0.200000</td>\n",
       "      <td>0.000000</td>\n",
       "      <td>0.200000</td>\n",
       "      <td>0.200000</td>\n",
       "      <td>0.800000</td>\n",
       "      <td>0.311111</td>\n",
       "      <td>0.311111</td>\n",
       "      <td>0.377778</td>\n",
       "      <td>1</td>\n",
       "    </tr>\n",
       "    <tr>\n",
       "      <th>871</th>\n",
       "      <td>Away</td>\n",
       "      <td>0.200000</td>\n",
       "      <td>0.800000</td>\n",
       "      <td>0.000000</td>\n",
       "      <td>0.200000</td>\n",
       "      <td>0.200000</td>\n",
       "      <td>0.658537</td>\n",
       "      <td>0.219512</td>\n",
       "      <td>0.121951</td>\n",
       "      <td>0</td>\n",
       "    </tr>\n",
       "    <tr>\n",
       "      <th>872</th>\n",
       "      <td>Home</td>\n",
       "      <td>0.400000</td>\n",
       "      <td>0.600000</td>\n",
       "      <td>0.000000</td>\n",
       "      <td>0.200000</td>\n",
       "      <td>0.400000</td>\n",
       "      <td>0.363636</td>\n",
       "      <td>0.272727</td>\n",
       "      <td>0.363636</td>\n",
       "      <td>0</td>\n",
       "    </tr>\n",
       "    <tr>\n",
       "      <th>873</th>\n",
       "      <td>Away</td>\n",
       "      <td>0.400000</td>\n",
       "      <td>0.400000</td>\n",
       "      <td>0.200000</td>\n",
       "      <td>0.400000</td>\n",
       "      <td>0.400000</td>\n",
       "      <td>1.000000</td>\n",
       "      <td>0.000000</td>\n",
       "      <td>0.000000</td>\n",
       "      <td>0</td>\n",
       "    </tr>\n",
       "    <tr>\n",
       "      <th>874</th>\n",
       "      <td>Home</td>\n",
       "      <td>0.400000</td>\n",
       "      <td>0.400000</td>\n",
       "      <td>0.200000</td>\n",
       "      <td>0.600000</td>\n",
       "      <td>0.400000</td>\n",
       "      <td>0.647059</td>\n",
       "      <td>0.176471</td>\n",
       "      <td>0.176471</td>\n",
       "      <td>0</td>\n",
       "    </tr>\n",
       "  </tbody>\n",
       "</table>\n",
       "<p>875 rows × 10 columns</p>\n",
       "</div>"
      ],
      "text/plain": [
       "    venue  win_before_team1  win_before_team2  draw_before_team2  \\\n",
       "0    Away          0.000000          0.000000           0.000000   \n",
       "1    Home          0.000000          1.000000           0.000000   \n",
       "2    Home          0.500000          0.500000           0.000000   \n",
       "3    Away          0.666667          0.333333           0.333333   \n",
       "4    Away          0.500000          0.250000           0.250000   \n",
       "..    ...               ...               ...                ...   \n",
       "870  Home          0.200000          0.000000           0.200000   \n",
       "871  Away          0.200000          0.800000           0.000000   \n",
       "872  Home          0.400000          0.600000           0.000000   \n",
       "873  Away          0.400000          0.400000           0.200000   \n",
       "874  Home          0.400000          0.400000           0.200000   \n",
       "\n",
       "     lose_before_team1  lose_before_team2  history_team1_win_team2  \\\n",
       "0             0.000000           0.000000                 0.000000   \n",
       "1             1.000000           0.000000                 0.000000   \n",
       "2             0.500000           0.500000                 0.000000   \n",
       "3             0.333333           0.333333                 0.000000   \n",
       "4             0.250000           0.500000                 0.000000   \n",
       "..                 ...                ...                      ...   \n",
       "870           0.200000           0.800000                 0.311111   \n",
       "871           0.200000           0.200000                 0.658537   \n",
       "872           0.200000           0.400000                 0.363636   \n",
       "873           0.400000           0.400000                 1.000000   \n",
       "874           0.600000           0.400000                 0.647059   \n",
       "\n",
       "     history_team1_draw_team2  history_team1_lose_team2  is_opponent_big6  \n",
       "0                    0.000000                  0.000000                 0  \n",
       "1                    0.000000                  0.000000                 1  \n",
       "2                    0.000000                  0.000000                 0  \n",
       "3                    0.000000                  0.000000                 1  \n",
       "4                    0.000000                  0.000000                 0  \n",
       "..                        ...                       ...               ...  \n",
       "870                  0.311111                  0.377778                 1  \n",
       "871                  0.219512                  0.121951                 0  \n",
       "872                  0.272727                  0.363636                 0  \n",
       "873                  0.000000                  0.000000                 0  \n",
       "874                  0.176471                  0.176471                 0  \n",
       "\n",
       "[875 rows x 10 columns]"
      ]
     },
     "execution_count": 5,
     "metadata": {},
     "output_type": "execute_result"
    }
   ],
   "source": [
    "X"
   ]
  },
  {
   "cell_type": "code",
   "execution_count": 6,
   "metadata": {},
   "outputs": [],
   "source": [
    "# Xác định các cột phân loại và cột số\n",
    "categorical_cols = X.select_dtypes(include=['object', 'category']).columns\n",
    "numerical_cols = X.select_dtypes(include=['int64', 'float64']).columns\n",
    "\n",
    "# Tạo ColumnTransformer\n",
    "preprocessor = ColumnTransformer(\n",
    "    transformers=[\n",
    "        ('num', StandardScaler(), numerical_cols),\n",
    "        ('cat', OneHotEncoder(handle_unknown=\"ignore\"), categorical_cols)\n",
    "    ])"
   ]
  },
  {
   "cell_type": "markdown",
   "metadata": {},
   "source": [
    "### Thử nghiệm các mô hình"
   ]
  },
  {
   "cell_type": "code",
   "execution_count": 7,
   "metadata": {},
   "outputs": [
    {
     "name": "stdout",
     "output_type": "stream",
     "text": [
      "LR: 0.4708507488679902\n",
      "SVC: 0.46405433646812955\n",
      "KNN: 0.5451410658307211\n",
      "DTC: 0.46898293277603625\n",
      "SGDC: 0.5691309648206201\n",
      "NB: 0.5690917798676419\n",
      "RF: 0.5664750957854406\n"
     ]
    }
   ],
   "source": [
    "algorithms = [\n",
    "    (\"LR\", LogisticRegression(random_state=seed, class_weight='balanced')),\n",
    "    (\n",
    "        \"SVC\",\n",
    "        SVC(\n",
    "            probability=True,\n",
    "            random_state=seed,\n",
    "            class_weight='balanced',\n",
    "        ),\n",
    "    ),\n",
    "    (\"KNN\", KNeighborsClassifier()),\n",
    "    (\"DTC\", DecisionTreeClassifier(random_state=seed, class_weight='balanced')),\n",
    "    (\"SGDC\", CalibratedClassifierCV(SGDClassifier(random_state=seed, class_weight='balanced'))),\n",
    "    (\"NB\", GaussianNB()),\n",
    "    (\n",
    "        \"RF\",\n",
    "        RandomForestClassifier(\n",
    "            n_estimators=100,\n",
    "            random_state=seed,\n",
    "            class_weight='balanced'\n",
    "        ),\n",
    "    ),\n",
    "]\n",
    "\n",
    "cv_results = {}\n",
    "for name, model in algorithms:\n",
    "    # Tạo pipeline bao gồm preprocessor và mô hình\n",
    "    pipeline = Pipeline([(\"preprocessor\", preprocessor), (\"model\", model)])\n",
    "    \n",
    "    # Thực hiện cross-validation\n",
    "    cv_scores = cross_val_score(\n",
    "        pipeline, X, y, cv=repeated_stratify_cv, scoring=\"accuracy\"\n",
    "    )\n",
    "    cv_results[name] = cv_scores.mean()\n",
    "\n",
    "# Hiển thị kết quả cross-validation\n",
    "for name, score in cv_results.items():\n",
    "    print(f\"{name}: {score}\")"
   ]
  },
  {
   "cell_type": "markdown",
   "metadata": {},
   "source": [
    "### Thử nghiệm lại preprocessor"
   ]
  },
  {
   "cell_type": "code",
   "execution_count": 8,
   "metadata": {},
   "outputs": [
    {
     "data": {
      "text/html": [
       "<div>\n",
       "<style scoped>\n",
       "    .dataframe tbody tr th:only-of-type {\n",
       "        vertical-align: middle;\n",
       "    }\n",
       "\n",
       "    .dataframe tbody tr th {\n",
       "        vertical-align: top;\n",
       "    }\n",
       "\n",
       "    .dataframe thead th {\n",
       "        text-align: right;\n",
       "    }\n",
       "</style>\n",
       "<table border=\"1\" class=\"dataframe\">\n",
       "  <thead>\n",
       "    <tr style=\"text-align: right;\">\n",
       "      <th></th>\n",
       "      <th>win_before_team1</th>\n",
       "      <th>win_before_team2</th>\n",
       "      <th>draw_before_team2</th>\n",
       "      <th>lose_before_team1</th>\n",
       "      <th>lose_before_team2</th>\n",
       "      <th>history_team1_win_team2</th>\n",
       "      <th>history_team1_draw_team2</th>\n",
       "      <th>history_team1_lose_team2</th>\n",
       "      <th>is_opponent_big6</th>\n",
       "      <th>venue_Away</th>\n",
       "      <th>venue_Home</th>\n",
       "    </tr>\n",
       "  </thead>\n",
       "  <tbody>\n",
       "    <tr>\n",
       "      <th>0</th>\n",
       "      <td>-2.163616</td>\n",
       "      <td>-1.362390</td>\n",
       "      <td>-1.200677</td>\n",
       "      <td>-0.980361</td>\n",
       "      <td>-1.435440</td>\n",
       "      <td>-2.254012</td>\n",
       "      <td>-1.279594</td>\n",
       "      <td>-1.045951</td>\n",
       "      <td>-0.595390</td>\n",
       "      <td>1.0</td>\n",
       "      <td>0.0</td>\n",
       "    </tr>\n",
       "    <tr>\n",
       "      <th>1</th>\n",
       "      <td>-2.163616</td>\n",
       "      <td>2.376723</td>\n",
       "      <td>-1.200677</td>\n",
       "      <td>3.828923</td>\n",
       "      <td>-1.435440</td>\n",
       "      <td>-2.254012</td>\n",
       "      <td>-1.279594</td>\n",
       "      <td>-1.045951</td>\n",
       "      <td>1.679572</td>\n",
       "      <td>0.0</td>\n",
       "      <td>1.0</td>\n",
       "    </tr>\n",
       "    <tr>\n",
       "      <th>2</th>\n",
       "      <td>-0.186972</td>\n",
       "      <td>0.507166</td>\n",
       "      <td>-1.200677</td>\n",
       "      <td>1.424281</td>\n",
       "      <td>0.540040</td>\n",
       "      <td>-2.254012</td>\n",
       "      <td>-1.279594</td>\n",
       "      <td>-1.045951</td>\n",
       "      <td>-0.595390</td>\n",
       "      <td>0.0</td>\n",
       "      <td>1.0</td>\n",
       "    </tr>\n",
       "    <tr>\n",
       "      <th>3</th>\n",
       "      <td>0.471910</td>\n",
       "      <td>-0.116019</td>\n",
       "      <td>0.426005</td>\n",
       "      <td>0.622734</td>\n",
       "      <td>-0.118454</td>\n",
       "      <td>-2.254012</td>\n",
       "      <td>-1.279594</td>\n",
       "      <td>-1.045951</td>\n",
       "      <td>1.679572</td>\n",
       "      <td>1.0</td>\n",
       "      <td>0.0</td>\n",
       "    </tr>\n",
       "    <tr>\n",
       "      <th>4</th>\n",
       "      <td>-0.186972</td>\n",
       "      <td>-0.427612</td>\n",
       "      <td>0.019334</td>\n",
       "      <td>0.221960</td>\n",
       "      <td>0.540040</td>\n",
       "      <td>-2.254012</td>\n",
       "      <td>-1.279594</td>\n",
       "      <td>-1.045951</td>\n",
       "      <td>-0.595390</td>\n",
       "      <td>1.0</td>\n",
       "      <td>0.0</td>\n",
       "    </tr>\n",
       "    <tr>\n",
       "      <th>...</th>\n",
       "      <td>...</td>\n",
       "      <td>...</td>\n",
       "      <td>...</td>\n",
       "      <td>...</td>\n",
       "      <td>...</td>\n",
       "      <td>...</td>\n",
       "      <td>...</td>\n",
       "      <td>...</td>\n",
       "      <td>...</td>\n",
       "      <td>...</td>\n",
       "      <td>...</td>\n",
       "    </tr>\n",
       "    <tr>\n",
       "      <th>870</th>\n",
       "      <td>-1.372958</td>\n",
       "      <td>-1.362390</td>\n",
       "      <td>-0.224668</td>\n",
       "      <td>-0.018504</td>\n",
       "      <td>1.725328</td>\n",
       "      <td>-0.983496</td>\n",
       "      <td>0.436062</td>\n",
       "      <td>1.338160</td>\n",
       "      <td>1.679572</td>\n",
       "      <td>0.0</td>\n",
       "      <td>1.0</td>\n",
       "    </tr>\n",
       "    <tr>\n",
       "      <th>871</th>\n",
       "      <td>-1.372958</td>\n",
       "      <td>1.628900</td>\n",
       "      <td>-1.200677</td>\n",
       "      <td>-0.018504</td>\n",
       "      <td>-0.645248</td>\n",
       "      <td>0.435321</td>\n",
       "      <td>-0.069070</td>\n",
       "      <td>-0.276331</td>\n",
       "      <td>-0.595390</td>\n",
       "      <td>1.0</td>\n",
       "      <td>0.0</td>\n",
       "    </tr>\n",
       "    <tr>\n",
       "      <th>872</th>\n",
       "      <td>-0.582301</td>\n",
       "      <td>0.881078</td>\n",
       "      <td>-1.200677</td>\n",
       "      <td>-0.018504</td>\n",
       "      <td>0.144944</td>\n",
       "      <td>-0.768993</td>\n",
       "      <td>0.224390</td>\n",
       "      <td>1.248916</td>\n",
       "      <td>-0.595390</td>\n",
       "      <td>0.0</td>\n",
       "      <td>1.0</td>\n",
       "    </tr>\n",
       "    <tr>\n",
       "      <th>873</th>\n",
       "      <td>-0.582301</td>\n",
       "      <td>0.133255</td>\n",
       "      <td>-0.224668</td>\n",
       "      <td>0.943353</td>\n",
       "      <td>0.144944</td>\n",
       "      <td>1.829791</td>\n",
       "      <td>-1.279594</td>\n",
       "      <td>-1.045951</td>\n",
       "      <td>-0.595390</td>\n",
       "      <td>1.0</td>\n",
       "      <td>0.0</td>\n",
       "    </tr>\n",
       "    <tr>\n",
       "      <th>874</th>\n",
       "      <td>-0.582301</td>\n",
       "      <td>0.133255</td>\n",
       "      <td>-0.224668</td>\n",
       "      <td>1.905210</td>\n",
       "      <td>0.144944</td>\n",
       "      <td>0.388448</td>\n",
       "      <td>-0.306428</td>\n",
       "      <td>0.067734</td>\n",
       "      <td>-0.595390</td>\n",
       "      <td>0.0</td>\n",
       "      <td>1.0</td>\n",
       "    </tr>\n",
       "  </tbody>\n",
       "</table>\n",
       "<p>875 rows × 11 columns</p>\n",
       "</div>"
      ],
      "text/plain": [
       "     win_before_team1  win_before_team2  draw_before_team2  lose_before_team1  \\\n",
       "0           -2.163616         -1.362390          -1.200677          -0.980361   \n",
       "1           -2.163616          2.376723          -1.200677           3.828923   \n",
       "2           -0.186972          0.507166          -1.200677           1.424281   \n",
       "3            0.471910         -0.116019           0.426005           0.622734   \n",
       "4           -0.186972         -0.427612           0.019334           0.221960   \n",
       "..                ...               ...                ...                ...   \n",
       "870         -1.372958         -1.362390          -0.224668          -0.018504   \n",
       "871         -1.372958          1.628900          -1.200677          -0.018504   \n",
       "872         -0.582301          0.881078          -1.200677          -0.018504   \n",
       "873         -0.582301          0.133255          -0.224668           0.943353   \n",
       "874         -0.582301          0.133255          -0.224668           1.905210   \n",
       "\n",
       "     lose_before_team2  history_team1_win_team2  history_team1_draw_team2  \\\n",
       "0            -1.435440                -2.254012                 -1.279594   \n",
       "1            -1.435440                -2.254012                 -1.279594   \n",
       "2             0.540040                -2.254012                 -1.279594   \n",
       "3            -0.118454                -2.254012                 -1.279594   \n",
       "4             0.540040                -2.254012                 -1.279594   \n",
       "..                 ...                      ...                       ...   \n",
       "870           1.725328                -0.983496                  0.436062   \n",
       "871          -0.645248                 0.435321                 -0.069070   \n",
       "872           0.144944                -0.768993                  0.224390   \n",
       "873           0.144944                 1.829791                 -1.279594   \n",
       "874           0.144944                 0.388448                 -0.306428   \n",
       "\n",
       "     history_team1_lose_team2  is_opponent_big6  venue_Away  venue_Home  \n",
       "0                   -1.045951         -0.595390         1.0         0.0  \n",
       "1                   -1.045951          1.679572         0.0         1.0  \n",
       "2                   -1.045951         -0.595390         0.0         1.0  \n",
       "3                   -1.045951          1.679572         1.0         0.0  \n",
       "4                   -1.045951         -0.595390         1.0         0.0  \n",
       "..                        ...               ...         ...         ...  \n",
       "870                  1.338160          1.679572         0.0         1.0  \n",
       "871                 -0.276331         -0.595390         1.0         0.0  \n",
       "872                  1.248916         -0.595390         0.0         1.0  \n",
       "873                 -1.045951         -0.595390         1.0         0.0  \n",
       "874                  0.067734         -0.595390         0.0         1.0  \n",
       "\n",
       "[875 rows x 11 columns]"
      ]
     },
     "execution_count": 8,
     "metadata": {},
     "output_type": "execute_result"
    }
   ],
   "source": [
    "transformed_X = preprocessor.fit_transform(X)\n",
    "new_columns = numerical_cols.to_list() + list(\n",
    "    preprocessor.named_transformers_[\"cat\"].get_feature_names_out(categorical_cols)\n",
    ")\n",
    "\n",
    "transformed_X = pd.DataFrame(transformed_X, columns=new_columns)\n",
    "transformed_X"
   ]
  },
  {
   "cell_type": "code",
   "execution_count": 9,
   "metadata": {},
   "outputs": [],
   "source": [
    "X = transformed_X"
   ]
  },
  {
   "cell_type": "markdown",
   "metadata": {},
   "source": [
    "# Chọn bộ siêu tham số"
   ]
  },
  {
   "cell_type": "markdown",
   "metadata": {},
   "source": [
    "### SVC"
   ]
  },
  {
   "cell_type": "code",
   "execution_count": 16,
   "metadata": {},
   "outputs": [
    {
     "name": "stdout",
     "output_type": "stream",
     "text": [
      "Model processing:  SVC\n",
      "Fitting 5 folds for each of 1 candidates, totalling 5 fits\n"
     ]
    }
   ],
   "source": [
    "best_params_SVC = {}\n",
    "models_tuned_SVC = {}\n",
    "\n",
    "# Adjust your algorithms list to use descriptive names that match param_grid\n",
    "algorithms = [\n",
    "    (\"SVC\", SVC(probability=True)),\n",
    "]\n",
    "\n",
    "# Define parameter grid with correct keys\n",
    "param_grid = {\n",
    "    \"SVC\": {\n",
    "        \"C\": [0.001, 0.01, 0.1, 1, 10, 100],  # Expanded C range\n",
    "        \"gamma\": [0.001, 0.01, 0.1, 1, 10, 100],  # More granular gamma range\n",
    "        \"kernel\": [\"linear\", \"poly\", \"rbf\", \"sigmoid\"],  # Added kernel options\n",
    "        \"class_weight\": [\"balanced\"]\n",
    "    }\n",
    "}\n",
    "\n",
    "\n",
    "# Randomized Search application with check for parameter grid existence\n",
    "for name, model in algorithms:\n",
    "    print(\"Model processing: \", name)\n",
    "    if name in param_grid:\n",
    "        randomized_search = RandomizedSearchCV(\n",
    "            estimator=model, \n",
    "            param_distributions=param_grid[name], \n",
    "            n_iter=100,  # You can adjust the number of iterations\n",
    "            cv=5, \n",
    "            scoring='accuracy', \n",
    "            random_state=42,\n",
    "            n_jobs=-1,\n",
    "            verbose=1\n",
    "        )\n",
    "        randomized_search.fit(X, y)\n",
    "        best_params_SVC[name] = randomized_search.best_params_\n",
    "        models_tuned_SVC[name] = randomized_search.best_estimator_\n",
    "    else:\n",
    "        print(f\"No parameter grid defined for {name}\")\n"
   ]
  },
  {
   "cell_type": "code",
   "execution_count": 17,
   "metadata": {},
   "outputs": [],
   "source": [
    "with open('best_params/best_params_SVC.json', 'w') as f:\n",
    "    json.dump(best_params_SVC, f)"
   ]
  },
  {
   "cell_type": "markdown",
   "metadata": {},
   "source": [
    "### RF"
   ]
  },
  {
   "cell_type": "code",
   "execution_count": null,
   "metadata": {},
   "outputs": [],
   "source": [
    "best_params_RF = {}\n",
    "models_tuned_RF = {}\n",
    "\n",
    "# Adjust your algorithms list to use descriptive names that match param_grid\n",
    "algorithms = [\n",
    "    ('RF', RandomForestClassifier()),\n",
    "]\n",
    "\n",
    "# Define parameter grid with correct keys\n",
    "param_grid = {\n",
    "    \"RF\": {\n",
    "        \"n_estimators\": [int(x) for x in np.linspace(start = 200, stop = 2000, num = 10)],  # More options for n_estimators\n",
    "        \"max_features\": [\"auto\", \"sqrt\", \"log2\", 0.2, 0.4, 0.6],  # More granular control\n",
    "        \"max_depth\": [int(x) for x in np.linspace(10, 110, num = 11)] + [None],  # Added max_depth\n",
    "        \"min_samples_split\": [2, 5, 10, 20],  # Added min_samples_split\n",
    "        \"min_samples_leaf\": [1, 2, 4, 6],  # Added min_samples_leaf\n",
    "        \"class_weight\": [\"balanced\"]\n",
    "    }\n",
    "}\n",
    "\n",
    "\n",
    "# Randomized Search application with check for parameter grid existence\n",
    "for name, model in algorithms:\n",
    "    print(\"Model processing: \", name)\n",
    "    if name in param_grid:\n",
    "        randomized_search = RandomizedSearchCV(\n",
    "            estimator=model, \n",
    "            param_distributions=param_grid[name], \n",
    "            n_iter=100,  # You can adjust the number of iterations\n",
    "            cv=5, \n",
    "            scoring='accuracy', \n",
    "            random_state=42,\n",
    "            n_jobs=-1,\n",
    "            verbose=1\n",
    "        )\n",
    "        randomized_search.fit(X, y)\n",
    "        best_params_RF[name] = randomized_search.best_params_\n",
    "        models_tuned_RF[name] = randomized_search.best_estimator_\n",
    "    else:\n",
    "        print(f\"No parameter grid defined for {name}\")\n"
   ]
  },
  {
   "cell_type": "markdown",
   "metadata": {},
   "source": [
    "### Các thuật toán khác"
   ]
  },
  {
   "cell_type": "code",
   "execution_count": 52,
   "metadata": {},
   "outputs": [
    {
     "name": "stdout",
     "output_type": "stream",
     "text": [
      "Model processing:  LR\n",
      "Fitting 5 folds for each of 100 candidates, totalling 500 fits\n",
      "Model processing:  KNN\n",
      "Fitting 5 folds for each of 100 candidates, totalling 500 fits\n",
      "Model processing:  DTC\n",
      "Fitting 5 folds for each of 100 candidates, totalling 500 fits\n"
     ]
    }
   ],
   "source": [
    "best_params_random_other = {}\n",
    "models_tuned_random_other = {}\n",
    "\n",
    "# Adjust your algorithms list to use descriptive names that match param_grid\n",
    "algorithms = [\n",
    "    (\"LR\", LogisticRegression()),\n",
    "    ('KNN', KNeighborsClassifier()),\n",
    "    (\"DTC\", DecisionTreeClassifier()),\n",
    "]\n",
    "\n",
    "# Define parameter grid with correct keys\n",
    "param_grid = {\n",
    "    \"LR\": {\n",
    "        \"C\": np.logspace(-4, 4, 20),  # More granular range for C\n",
    "        \"solver\": [\"liblinear\", \"lbfgs\", \"saga\", \"newton-cg\"],  # Added 'newton-cg'\n",
    "        \"penalty\": [\"l1\", \"l2\", \"elasticnet\", \"none\"],  # Different norms for regularization\n",
    "        \"class_weight\": [\"balanced\"]  # Added class_weight\n",
    "    },\n",
    "    \"DTC\": {\n",
    "        \"max_depth\": [None, 3, 5, 10, 15, 20, 30, 50, 100],  # Expanded range\n",
    "        \"min_samples_split\": [2, 5, 10, 20, 40, 100],  # More options\n",
    "        \"min_samples_leaf\": [1, 2, 5, 10, 20],  # Added min_samples_leaf\n",
    "        \"class_weight\": [\"balanced\"]\n",
    "    },\n",
    "    \"KNN\": {\n",
    "        \"n_neighbors\": list(range(1, 21)),  # More neighbors\n",
    "        \"weights\": [\"uniform\", \"distance\"],  # Existing weights\n",
    "        \"metric\": [\"euclidean\", \"manhattan\", \"chebyshev\", \"minkowski\"]  # Added distance metrics\n",
    "    },\n",
    "}\n",
    "\n",
    "\n",
    "# Randomized Search application with check for parameter grid existence\n",
    "for name, model in algorithms:\n",
    "    print(\"Model processing: \", name)\n",
    "    if name in param_grid:\n",
    "        randomized_search = RandomizedSearchCV(\n",
    "            estimator=model, \n",
    "            param_distributions=param_grid[name], \n",
    "            n_iter=100,  # You can adjust the number of iterations\n",
    "            cv=5, \n",
    "            scoring='accuracy', \n",
    "            random_state=42,\n",
    "            n_jobs=-1,\n",
    "            verbose=1\n",
    "        )\n",
    "        randomized_search.fit(X, y)\n",
    "        best_params_random_other[name] = randomized_search.best_params_\n",
    "        models_tuned_random_other[name] = randomized_search.best_estimator_\n",
    "    else:\n",
    "        print(f\"No parameter grid defined for {name}\")\n"
   ]
  },
  {
   "cell_type": "code",
   "execution_count": 53,
   "metadata": {},
   "outputs": [],
   "source": [
    "with open('best_params/best_params_random_other_balanced.json', 'w') as f:\n",
    "    json.dump(best_params_random_other, f)"
   ]
  },
  {
   "cell_type": "markdown",
   "metadata": {},
   "source": [
    "#### Thử nghiệm bộ tham số"
   ]
  },
  {
   "cell_type": "code",
   "execution_count": 21,
   "metadata": {},
   "outputs": [],
   "source": [
    "algorithms_score_df = []\n",
    "algorithms_score_df_resampling = []"
   ]
  },
  {
   "cell_type": "markdown",
   "metadata": {},
   "source": [
    "##### SVC"
   ]
  },
  {
   "cell_type": "markdown",
   "metadata": {},
   "source": [
    "##### Trước resampling"
   ]
  },
  {
   "cell_type": "code",
   "execution_count": 11,
   "metadata": {},
   "outputs": [
    {
     "name": "stdout",
     "output_type": "stream",
     "text": [
      "SVC: 0.574857142857143\n"
     ]
    }
   ],
   "source": [
    "with open('best_params/best_params_SVC.json', 'r') as f:\n",
    "    best_params = json.load(f)\n",
    "\n",
    "# Assuming 'best_params' has been filled with the best parameters for each model from GridSearchCV or RandomizedSearchCV\n",
    "algorithms = [\n",
    "    (\"SVC\", SVC(probability=True, **best_params.get(\"SVC\", {}), random_state=42)),\n",
    "]\n",
    "\n",
    "cv_results = {}\n",
    "for name, model in algorithms:\n",
    "    cv_scores = cross_val_score(model, X, y, cv=5)  # Thực hiện cross-validation với số lượng fold là 5\n",
    "    cv_results[name] = cv_scores.mean()  # Lưu kết quả trung bình của các fold\n",
    "\n",
    "# Hiển thị kết quả cross-validation\n",
    "for name, score in cv_results.items():\n",
    "    algorithms_score_df.append({\n",
    "        \"model\": name,\n",
    "        \"score\": score\n",
    "    })\n",
    "    print(f\"{name}: {score}\")"
   ]
  },
  {
   "cell_type": "markdown",
   "metadata": {},
   "source": [
    "##### Sau resampling"
   ]
  },
  {
   "cell_type": "code",
   "execution_count": 22,
   "metadata": {},
   "outputs": [
    {
     "name": "stdout",
     "output_type": "stream",
     "text": [
      "SVC: 0.5302857142857142\n"
     ]
    }
   ],
   "source": [
    "with open('best_params/best_params_SVC_balanced.json', 'r') as f:\n",
    "    best_params = json.load(f)\n",
    "\n",
    "# Assuming 'best_params' has been filled with the best parameters for each model from GridSearchCV or RandomizedSearchCV\n",
    "algorithms = [\n",
    "    (\"SVC\", SVC(probability=True, **best_params.get(\"SVC\", {}), random_state=42)),\n",
    "]\n",
    "\n",
    "cv_results = {}\n",
    "for name, model in algorithms:\n",
    "    cv_scores = cross_val_score(model, X, y, cv=5)  # Thực hiện cross-validation với số lượng fold là 5\n",
    "    cv_results[name] = cv_scores.mean()  # Lưu kết quả trung bình của các fold\n",
    "\n",
    "# Hiển thị kết quả cross-validation\n",
    "for name, score in cv_results.items():\n",
    "    algorithms_score_df_resampling.append({\n",
    "        \"model\": name,\n",
    "        \"score\": score\n",
    "    })\n",
    "    print(f\"{name}: {score}\")"
   ]
  },
  {
   "cell_type": "markdown",
   "metadata": {},
   "source": [
    "##### Random forest"
   ]
  },
  {
   "cell_type": "markdown",
   "metadata": {},
   "source": [
    "##### Trước resampling"
   ]
  },
  {
   "cell_type": "code",
   "execution_count": 14,
   "metadata": {},
   "outputs": [
    {
     "name": "stdout",
     "output_type": "stream",
     "text": [
      "RF: 0.6022857142857143\n"
     ]
    }
   ],
   "source": [
    "with open('best_params/best_params_RF.json', 'r') as f:\n",
    "    best_params_RF = json.load(f)\n",
    "\n",
    "# Assuming 'best_params' has been filled with the best parameters for each model from GridSearchCV or RandomizedSearchCV\n",
    "algorithms = [\n",
    "    ('RF', RandomForestClassifier(**best_params_RF.get(\"RF\", {}), random_state=42)),\n",
    "]\n",
    "\n",
    "cv_results = {}\n",
    "for name, model in algorithms:\n",
    "    cv_scores = cross_val_score(model, X, y, cv=5)  # Thực hiện cross-validation với số lượng fold là 5\n",
    "    cv_results[name] = cv_scores.mean()  # Lưu kết quả trung bình của các fold\n",
    "\n",
    "# Hiển thị kết quả cross-validation\n",
    "for name, score in cv_results.items():\n",
    "    algorithms_score_df.append({\n",
    "        \"model\": name,\n",
    "        \"score\": score\n",
    "    })\n",
    "    print(f\"{name}: {score}\")"
   ]
  },
  {
   "cell_type": "markdown",
   "metadata": {},
   "source": [
    "##### Sau resampling"
   ]
  },
  {
   "cell_type": "code",
   "execution_count": 23,
   "metadata": {},
   "outputs": [
    {
     "name": "stdout",
     "output_type": "stream",
     "text": [
      "RF: 0.5577142857142857\n"
     ]
    }
   ],
   "source": [
    "with open('best_params/best_params_RF_balanced.json', 'r') as f:\n",
    "    best_params_RF = json.load(f)\n",
    "\n",
    "# Assuming 'best_params' has been filled with the best parameters for each model from GridSearchCV or RandomizedSearchCV\n",
    "algorithms = [\n",
    "    ('RF', RandomForestClassifier(**best_params_RF.get(\"RF\", {}), random_state=42)),\n",
    "]\n",
    "\n",
    "cv_results = {}\n",
    "for name, model in algorithms:\n",
    "    cv_scores = cross_val_score(model, X, y, cv=5)  # Thực hiện cross-validation với số lượng fold là 5\n",
    "    cv_results[name] = cv_scores.mean()  # Lưu kết quả trung bình của các fold\n",
    "\n",
    "# Hiển thị kết quả cross-validation\n",
    "for name, score in cv_results.items():\n",
    "    algorithms_score_df_resampling.append({\n",
    "        \"model\": name,\n",
    "        \"score\": score\n",
    "    })\n",
    "    print(f\"{name}: {score}\")"
   ]
  },
  {
   "cell_type": "markdown",
   "metadata": {},
   "source": [
    "##### Các thuật toán khác"
   ]
  },
  {
   "cell_type": "markdown",
   "metadata": {},
   "source": [
    "##### Trước resampling"
   ]
  },
  {
   "cell_type": "code",
   "execution_count": 16,
   "metadata": {},
   "outputs": [
    {
     "name": "stdout",
     "output_type": "stream",
     "text": [
      "LR: 0.6034285714285714\n",
      "KNN: 0.5885714285714286\n",
      "DTC: 0.598857142857143\n"
     ]
    }
   ],
   "source": [
    "with open('best_params/best_params_random_other.json', 'r') as f:\n",
    "    best_params = json.load(f)\n",
    "\n",
    "# Assuming 'best_params' has been filled with the best parameters for each model from GridSearchCV or RandomizedSearchCV\n",
    "algorithms = [\n",
    "    (\"LR\", LogisticRegression(**best_params.get(\"LR\", {}), random_state=42)),\n",
    "    ('KNN', KNeighborsClassifier(**best_params.get(\"KNN\", {}))),\n",
    "    (\"DTC\", DecisionTreeClassifier(**best_params.get(\"DTC\", {}), random_state=42)),\n",
    "]\n",
    "\n",
    "cv_results = {}\n",
    "for name, model in algorithms:\n",
    "    cv_scores = cross_val_score(model, X, y, cv=5)  # Thực hiện cross-validation với số lượng fold là 5\n",
    "    cv_results[name] = cv_scores.mean()  # Lưu kết quả trung bình của các fold\n",
    "\n",
    "# Hiển thị kết quả cross-validation\n",
    "for name, score in cv_results.items():\n",
    "    algorithms_score_df.append({\n",
    "        \"model\": name,\n",
    "        \"score\": score\n",
    "    })\n",
    "    print(f\"{name}: {score}\")"
   ]
  },
  {
   "cell_type": "markdown",
   "metadata": {},
   "source": [
    "##### Sau resampling"
   ]
  },
  {
   "cell_type": "code",
   "execution_count": 24,
   "metadata": {},
   "outputs": [
    {
     "name": "stdout",
     "output_type": "stream",
     "text": [
      "LR: 0.5657142857142856\n",
      "KNN: 0.5897142857142856\n",
      "DTC: 0.4868571428571428\n"
     ]
    }
   ],
   "source": [
    "with open('best_params/best_params_random_other_balanced.json', 'r') as f:\n",
    "    best_params = json.load(f)\n",
    "\n",
    "# Assuming 'best_params' has been filled with the best parameters for each model from GridSearchCV or RandomizedSearchCV\n",
    "algorithms = [\n",
    "    (\"LR\", LogisticRegression(**best_params.get(\"LR\", {}), random_state=42)),\n",
    "    ('KNN', KNeighborsClassifier(**best_params.get(\"KNN\", {}))),\n",
    "    (\"DTC\", DecisionTreeClassifier(**best_params.get(\"DTC\", {}), random_state=42)),\n",
    "]\n",
    "\n",
    "cv_results = {}\n",
    "for name, model in algorithms:\n",
    "    cv_scores = cross_val_score(model, X, y, cv=5)  # Thực hiện cross-validation với số lượng fold là 5\n",
    "    cv_results[name] = cv_scores.mean()  # Lưu kết quả trung bình của các fold\n",
    "\n",
    "# Hiển thị kết quả cross-validation\n",
    "for name, score in cv_results.items():\n",
    "    algorithms_score_df_resampling.append({\n",
    "        \"model\": name,\n",
    "        \"score\": score\n",
    "    })\n",
    "    print(f\"{name}: {score}\")"
   ]
  },
  {
   "cell_type": "code",
   "execution_count": 19,
   "metadata": {},
   "outputs": [
    {
     "data": {
      "text/html": [
       "<div>\n",
       "<style scoped>\n",
       "    .dataframe tbody tr th:only-of-type {\n",
       "        vertical-align: middle;\n",
       "    }\n",
       "\n",
       "    .dataframe tbody tr th {\n",
       "        vertical-align: top;\n",
       "    }\n",
       "\n",
       "    .dataframe thead th {\n",
       "        text-align: right;\n",
       "    }\n",
       "</style>\n",
       "<table border=\"1\" class=\"dataframe\">\n",
       "  <thead>\n",
       "    <tr style=\"text-align: right;\">\n",
       "      <th></th>\n",
       "      <th>model</th>\n",
       "      <th>score</th>\n",
       "    </tr>\n",
       "  </thead>\n",
       "  <tbody>\n",
       "    <tr>\n",
       "      <th>2</th>\n",
       "      <td>LR</td>\n",
       "      <td>0.603429</td>\n",
       "    </tr>\n",
       "    <tr>\n",
       "      <th>1</th>\n",
       "      <td>RF</td>\n",
       "      <td>0.602286</td>\n",
       "    </tr>\n",
       "    <tr>\n",
       "      <th>4</th>\n",
       "      <td>DTC</td>\n",
       "      <td>0.598857</td>\n",
       "    </tr>\n",
       "    <tr>\n",
       "      <th>3</th>\n",
       "      <td>KNN</td>\n",
       "      <td>0.588571</td>\n",
       "    </tr>\n",
       "    <tr>\n",
       "      <th>0</th>\n",
       "      <td>SVC</td>\n",
       "      <td>0.574857</td>\n",
       "    </tr>\n",
       "  </tbody>\n",
       "</table>\n",
       "</div>"
      ],
      "text/plain": [
       "  model     score\n",
       "2    LR  0.603429\n",
       "1    RF  0.602286\n",
       "4   DTC  0.598857\n",
       "3   KNN  0.588571\n",
       "0   SVC  0.574857"
      ]
     },
     "execution_count": 19,
     "metadata": {},
     "output_type": "execute_result"
    }
   ],
   "source": [
    "df = pd.DataFrame(algorithms_score_df)\n",
    "df.sort_values(by=\"score\", ascending=False)"
   ]
  },
  {
   "cell_type": "code",
   "execution_count": 25,
   "metadata": {},
   "outputs": [
    {
     "data": {
      "text/html": [
       "<div>\n",
       "<style scoped>\n",
       "    .dataframe tbody tr th:only-of-type {\n",
       "        vertical-align: middle;\n",
       "    }\n",
       "\n",
       "    .dataframe tbody tr th {\n",
       "        vertical-align: top;\n",
       "    }\n",
       "\n",
       "    .dataframe thead th {\n",
       "        text-align: right;\n",
       "    }\n",
       "</style>\n",
       "<table border=\"1\" class=\"dataframe\">\n",
       "  <thead>\n",
       "    <tr style=\"text-align: right;\">\n",
       "      <th></th>\n",
       "      <th>model</th>\n",
       "      <th>score</th>\n",
       "    </tr>\n",
       "  </thead>\n",
       "  <tbody>\n",
       "    <tr>\n",
       "      <th>3</th>\n",
       "      <td>KNN</td>\n",
       "      <td>0.589714</td>\n",
       "    </tr>\n",
       "    <tr>\n",
       "      <th>2</th>\n",
       "      <td>LR</td>\n",
       "      <td>0.565714</td>\n",
       "    </tr>\n",
       "    <tr>\n",
       "      <th>1</th>\n",
       "      <td>RF</td>\n",
       "      <td>0.557714</td>\n",
       "    </tr>\n",
       "    <tr>\n",
       "      <th>0</th>\n",
       "      <td>SVC</td>\n",
       "      <td>0.530286</td>\n",
       "    </tr>\n",
       "    <tr>\n",
       "      <th>4</th>\n",
       "      <td>DTC</td>\n",
       "      <td>0.486857</td>\n",
       "    </tr>\n",
       "  </tbody>\n",
       "</table>\n",
       "</div>"
      ],
      "text/plain": [
       "  model     score\n",
       "3   KNN  0.589714\n",
       "2    LR  0.565714\n",
       "1    RF  0.557714\n",
       "0   SVC  0.530286\n",
       "4   DTC  0.486857"
      ]
     },
     "execution_count": 25,
     "metadata": {},
     "output_type": "execute_result"
    }
   ],
   "source": [
    "df = pd.DataFrame(algorithms_score_df_resampling)\n",
    "df.sort_values(by=\"score\", ascending=False)"
   ]
  },
  {
   "cell_type": "markdown",
   "metadata": {},
   "source": [
    "#### Vẽ ma trận nhầm lẫn của model có độ chính xác cao nhất "
   ]
  },
  {
   "cell_type": "code",
   "execution_count": 26,
   "metadata": {},
   "outputs": [],
   "source": [
    "from sklearn.model_selection import train_test_split\n",
    "from imblearn.over_sampling import SMOTE\n",
    "\n",
    "X_train, X_test, y_train, y_test = train_test_split(X, y, test_size=0.2, random_state=42)"
   ]
  },
  {
   "cell_type": "markdown",
   "metadata": {},
   "source": [
    "##### Random forest"
   ]
  },
  {
   "cell_type": "markdown",
   "metadata": {},
   "source": [
    "##### Trước resampling"
   ]
  },
  {
   "cell_type": "code",
   "execution_count": 27,
   "metadata": {},
   "outputs": [
    {
     "data": {
      "image/png": "[encoded data removed]",
      "text/plain": [
       "<Figure size 1000x700 with 1 Axes>"
      ]
     },
     "metadata": {},
     "output_type": "display_data"
    }
   ],
   "source": [
    "with open('best_params/best_params_RF.json', 'r') as f:\n",
    "    best_params_RF = json.load(f)\n",
    "\n",
    "rf_model = RandomForestClassifier(**best_params_RF.get(\"RF\", {}), random_state=42)\n",
    "\n",
    "y_pred = rf_model.fit(X_train, y_train).predict(X_test)\n",
    "# Tạo ma trận confusion\n",
    "cm = confusion_matrix(y_test, y_pred)\n",
    "\n",
    "# Định nghĩa nhãn cho các trục tương ứng với các lớp của 'Result'\n",
    "labels = ['Win', 'Lose', 'Draw']\n",
    "\n",
    "df_cm = pd.DataFrame(cm, index=labels, columns=labels)\n",
    "\n",
    "# Vẽ ma trận confusion với nhãn cụ thể\n",
    "plt.figure(figsize=(10, 7))\n",
    "sns.heatmap(df_cm, annot=True, fmt=\"d\", cmap='Blues', cbar=False)\n",
    "plt.xlabel('Predicted labels')\n",
    "plt.ylabel('True labels')\n",
    "plt.title('Confusion Matrix for Random Forest')\n",
    "plt.show()"
   ]
  },
  {
   "cell_type": "markdown",
   "metadata": {},
   "source": [
    "##### Sau resampling"
   ]
  },
  {
   "cell_type": "code",
   "execution_count": 28,
   "metadata": {},
   "outputs": [
    {
     "data": {
      "image/png": "[encoded data removed]",
      "text/plain": [
       "<Figure size 1000x700 with 1 Axes>"
      ]
     },
     "metadata": {},
     "output_type": "display_data"
    }
   ],
   "source": [
    "with open('best_params/best_params_RF_balanced.json', 'r') as f:\n",
    "    best_params_RF = json.load(f)\n",
    "\n",
    "rf_model = RandomForestClassifier(**best_params_RF.get(\"RF\", {}), random_state=42)\n",
    "\n",
    "y_pred = rf_model.fit(X_train, y_train).predict(X_test)\n",
    "# Tạo ma trận confusion\n",
    "cm = confusion_matrix(y_test, y_pred)\n",
    "\n",
    "# Định nghĩa nhãn cho các trục tương ứng với các lớp của 'Result'\n",
    "labels = ['Win', 'Lose', 'Draw']\n",
    "\n",
    "df_cm = pd.DataFrame(cm, index=labels, columns=labels)\n",
    "\n",
    "# Vẽ ma trận confusion với nhãn cụ thể\n",
    "plt.figure(figsize=(10, 7))\n",
    "sns.heatmap(df_cm, annot=True, fmt=\"d\", cmap='Blues', cbar=False)\n",
    "plt.xlabel('Predicted labels')\n",
    "plt.ylabel('True labels')\n",
    "plt.title('Confusion Matrix for Random Forest')\n",
    "plt.show()"
   ]
  },
  {
   "cell_type": "markdown",
   "metadata": {},
   "source": [
    "##### Logistic regression"
   ]
  },
  {
   "cell_type": "markdown",
   "metadata": {},
   "source": [
    "##### Trước resampling"
   ]
  },
  {
   "cell_type": "code",
   "execution_count": 29,
   "metadata": {},
   "outputs": [
    {
     "data": {
      "image/png": "[encoded data removed]",
      "text/plain": [
       "<Figure size 1000x700 with 1 Axes>"
      ]
     },
     "metadata": {},
     "output_type": "display_data"
    }
   ],
   "source": [
    "with open('best_params/best_params_random_other.json', 'r') as f:\n",
    "    best_params_other = json.load(f)\n",
    "\n",
    "lr_model = LogisticRegression(**best_params_other.get(\"LR\", {}), random_state=42)\n",
    "\n",
    "y_pred = lr_model.fit(X_train, y_train).predict(X_test)\n",
    "# Tạo ma trận confusion\n",
    "cm = confusion_matrix(y_test, y_pred)\n",
    "\n",
    "# Định nghĩa nhãn cho các trục tương ứng với các lớp của 'Result'\n",
    "labels = ['Win', 'Lose', 'Draw']\n",
    "\n",
    "df_cm = pd.DataFrame(cm, index=labels, columns=labels)\n",
    "\n",
    "# Vẽ ma trận confusion với nhãn cụ thể\n",
    "plt.figure(figsize=(10, 7))\n",
    "sns.heatmap(df_cm, annot=True, fmt=\"d\", cmap='Blues', cbar=False)\n",
    "plt.xlabel('Predicted labels')\n",
    "plt.ylabel('True labels')\n",
    "plt.title('Confusion Matrix for Logistic Regression')\n",
    "plt.show()"
   ]
  },
  {
   "cell_type": "markdown",
   "metadata": {},
   "source": [
    "##### Sau resampling"
   ]
  },
  {
   "cell_type": "code",
   "execution_count": 30,
   "metadata": {},
   "outputs": [
    {
     "data": {
      "image/png": "[encoded data removed]",
      "text/plain": [
       "<Figure size 1000x700 with 1 Axes>"
      ]
     },
     "metadata": {},
     "output_type": "display_data"
    }
   ],
   "source": [
    "with open('best_params/best_params_random_other_balanced.json', 'r') as f:\n",
    "    best_params_other = json.load(f)\n",
    "\n",
    "lr_model = LogisticRegression(**best_params_other.get(\"LR\", {}), random_state=42)\n",
    "\n",
    "y_pred = lr_model.fit(X_train, y_train).predict(X_test)\n",
    "# Tạo ma trận confusion\n",
    "cm = confusion_matrix(y_test, y_pred)\n",
    "\n",
    "# Định nghĩa nhãn cho các trục tương ứng với các lớp của 'Result'\n",
    "labels = ['Win', 'Lose', 'Draw']\n",
    "\n",
    "df_cm = pd.DataFrame(cm, index=labels, columns=labels)\n",
    "\n",
    "# Vẽ ma trận confusion với nhãn cụ thể\n",
    "plt.figure(figsize=(10, 7))\n",
    "sns.heatmap(df_cm, annot=True, fmt=\"d\", cmap='Blues', cbar=False)\n",
    "plt.xlabel('Predicted labels')\n",
    "plt.ylabel('True labels')\n",
    "plt.title('Confusion Matrix for Logistic Regression')\n",
    "plt.show()"
   ]
  }
 ],
 "metadata": {
  "kernelspec": {
   "display_name": ".venv",
   "language": "python",
   "name": "python3"
  },
  "language_info": {
   "codemirror_mode": {
    "name": "ipython",
    "version": 3
   },
   "file_extension": ".py",
   "mimetype": "text/x-python",
   "name": "python",
   "nbconvert_exporter": "python",
   "pygments_lexer": "ipython3",
   "version": "3.10.6"
  }
 },
 "nbformat": 4,
 "nbformat_minor": 2
}
