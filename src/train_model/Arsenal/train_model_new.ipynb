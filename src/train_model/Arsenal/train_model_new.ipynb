{
 "cells": [
  {
   "cell_type": "code",
   "execution_count": 1,
   "metadata": {},
   "outputs": [
    {
     "name": "stderr",
     "output_type": "stream",
     "text": [
      "C:\\Users\\Think Pad\\AppData\\Local\\Temp\\ipykernel_16728\\4134095659.py:2: DeprecationWarning: \n",
      "Pyarrow will become a required dependency of pandas in the next major release of pandas (pandas 3.0),\n",
      "(to allow more performant data types, such as the Arrow string type, and better interoperability with other libraries)\n",
      "but was not found to be installed on your system.\n",
      "If this would cause problems for you,\n",
      "please provide us feedback at https://github.com/pandas-dev/pandas/issues/54466\n",
      "        \n",
      "  import pandas as pd\n"
     ]
    }
   ],
   "source": [
    "import numpy as np\n",
    "import pandas as pd\n",
    "import seaborn as sns\n",
    "import json\n",
    "\n",
    "from sklearn.linear_model import LogisticRegression\n",
    "from sklearn.tree import DecisionTreeClassifier\n",
    "from sklearn.ensemble import RandomForestClassifier\n",
    "from sklearn.svm import SVC\n",
    "from sklearn.neighbors import KNeighborsClassifier\n",
    "\n",
    "from sklearn.model_selection import RandomizedSearchCV\n",
    "\n",
    "from sklearn.model_selection import cross_val_score\n",
    "from sklearn.calibration import CalibratedClassifierCV\n",
    "from sklearn.linear_model import LogisticRegression, SGDClassifier\n",
    "from sklearn.svm import SVC\n",
    "from sklearn.naive_bayes import GaussianNB\n",
    "from sklearn.compose import ColumnTransformer\n",
    "from sklearn.preprocessing import StandardScaler, LabelEncoder\n",
    "from category_encoders import OneHotEncoder, BinaryEncoder\n",
    "from sklearn.model_selection import KFold, StratifiedKFold\n",
    "import seaborn as sns\n",
    "import matplotlib.pyplot as plt\n",
    "\n",
    "import warnings\n",
    "warnings.filterwarnings('ignore')\n",
    "\n",
    "n_splits = 10\n",
    "seed = 42\n",
    "np.random.seed(seed)\n",
    "\n",
    "k_fold = KFold(n_splits=n_splits, shuffle=True, random_state=seed)\n",
    "skf = StratifiedKFold(n_splits=5, shuffle=True, random_state=seed)"
   ]
  },
  {
   "cell_type": "markdown",
   "metadata": {},
   "source": [
    "#### 1 Read and describe data"
   ]
  },
  {
   "cell_type": "code",
   "execution_count": 2,
   "metadata": {},
   "outputs": [
    {
     "data": {
      "text/plain": [
       "Index(['result', 'venue', 'season', 'win_percent_before_team2',\n",
       "       'win_percent_diff', 'draw_percent_before_team2',\n",
       "       'lose_percent_before_team2', 'head2head_win_percent',\n",
       "       'head2head_draw_percent', 'head2head_lost_percent', 'is_opponent_big6',\n",
       "       'ELO_before_match_team2', 'ELO_before_diff',\n",
       "       'average_score_before_match_team1', 'average_score_before_match_team2',\n",
       "       'average_score_before_match_diff'],\n",
       "      dtype='object')"
      ]
     },
     "execution_count": 2,
     "metadata": {},
     "output_type": "execute_result"
    }
   ],
   "source": [
    "matches_df = pd.read_csv(\"../../../data_for_training/arsenal.csv\")\n",
    "matches_df.columns"
   ]
  },
  {
   "cell_type": "code",
   "execution_count": 3,
   "metadata": {},
   "outputs": [
    {
     "data": {
      "image/png": "[encoded data removed]",
      "text/plain": [
       "<Figure size 640x480 with 1 Axes>"
      ]
     },
     "metadata": {},
     "output_type": "display_data"
    }
   ],
   "source": [
    "matches_df = matches_df.drop(\n",
    "    columns=[\n",
    "        \"average_score_before_match_team1\",\n",
    "        \"average_score_before_match_diff\",\n",
    "        \"draw_percent_before_team2\",\n",
    "    ]\n",
    ")\n",
    "\n",
    "sns.countplot(x=\"result\", data=matches_df, palette=\"Set1\");"
   ]
  },
  {
   "cell_type": "code",
   "execution_count": 4,
   "metadata": {},
   "outputs": [
    {
     "data": {
      "text/plain": [
       "Index(['result', 'venue', 'season', 'win_percent_before_team2',\n",
       "       'win_percent_diff', 'lose_percent_before_team2',\n",
       "       'head2head_win_percent', 'head2head_draw_percent',\n",
       "       'head2head_lost_percent', 'is_opponent_big6', 'ELO_before_match_team2',\n",
       "       'ELO_before_diff', 'average_score_before_match_team2'],\n",
       "      dtype='object')"
      ]
     },
     "execution_count": 4,
     "metadata": {},
     "output_type": "execute_result"
    }
   ],
   "source": [
    "matches_df.columns"
   ]
  },
  {
   "cell_type": "markdown",
   "metadata": {},
   "source": [
    "### Phân chia dữ liệu thành X, y"
   ]
  },
  {
   "cell_type": "code",
   "execution_count": 5,
   "metadata": {},
   "outputs": [
    {
     "data": {
      "text/html": [
       "<div>\n",
       "<style scoped>\n",
       "    .dataframe tbody tr th:only-of-type {\n",
       "        vertical-align: middle;\n",
       "    }\n",
       "\n",
       "    .dataframe tbody tr th {\n",
       "        vertical-align: top;\n",
       "    }\n",
       "\n",
       "    .dataframe thead th {\n",
       "        text-align: right;\n",
       "    }\n",
       "</style>\n",
       "<table border=\"1\" class=\"dataframe\">\n",
       "  <thead>\n",
       "    <tr style=\"text-align: right;\">\n",
       "      <th></th>\n",
       "      <th>venue</th>\n",
       "      <th>season</th>\n",
       "      <th>win_percent_before_team2</th>\n",
       "      <th>win_percent_diff</th>\n",
       "      <th>lose_percent_before_team2</th>\n",
       "      <th>head2head_win_percent</th>\n",
       "      <th>head2head_draw_percent</th>\n",
       "      <th>head2head_lost_percent</th>\n",
       "      <th>is_opponent_big6</th>\n",
       "      <th>ELO_before_match_team2</th>\n",
       "      <th>ELO_before_diff</th>\n",
       "      <th>average_score_before_match_team2</th>\n",
       "    </tr>\n",
       "  </thead>\n",
       "  <tbody>\n",
       "    <tr>\n",
       "      <th>0</th>\n",
       "      <td>Away</td>\n",
       "      <td>2000-2001</td>\n",
       "      <td>0.000000</td>\n",
       "      <td>0.000000</td>\n",
       "      <td>0.000000</td>\n",
       "      <td>0.0</td>\n",
       "      <td>0.0</td>\n",
       "      <td>0.0</td>\n",
       "      <td>0</td>\n",
       "      <td>1500.000000</td>\n",
       "      <td>0.000000</td>\n",
       "      <td>0.000000</td>\n",
       "    </tr>\n",
       "    <tr>\n",
       "      <th>1</th>\n",
       "      <td>Home</td>\n",
       "      <td>2000-2001</td>\n",
       "      <td>1.000000</td>\n",
       "      <td>-1.000000</td>\n",
       "      <td>0.000000</td>\n",
       "      <td>0.0</td>\n",
       "      <td>0.0</td>\n",
       "      <td>0.0</td>\n",
       "      <td>1</td>\n",
       "      <td>1531.250000</td>\n",
       "      <td>-62.500000</td>\n",
       "      <td>3.000000</td>\n",
       "    </tr>\n",
       "    <tr>\n",
       "      <th>2</th>\n",
       "      <td>Home</td>\n",
       "      <td>2000-2001</td>\n",
       "      <td>0.500000</td>\n",
       "      <td>0.000000</td>\n",
       "      <td>0.500000</td>\n",
       "      <td>0.0</td>\n",
       "      <td>0.0</td>\n",
       "      <td>0.0</td>\n",
       "      <td>0</td>\n",
       "      <td>1513.545664</td>\n",
       "      <td>-0.621645</td>\n",
       "      <td>1.500000</td>\n",
       "    </tr>\n",
       "    <tr>\n",
       "      <th>3</th>\n",
       "      <td>Away</td>\n",
       "      <td>2000-2001</td>\n",
       "      <td>0.333333</td>\n",
       "      <td>0.333333</td>\n",
       "      <td>0.333333</td>\n",
       "      <td>0.0</td>\n",
       "      <td>0.0</td>\n",
       "      <td>0.0</td>\n",
       "      <td>1</td>\n",
       "      <td>1507.852086</td>\n",
       "      <td>42.639029</td>\n",
       "      <td>1.333333</td>\n",
       "    </tr>\n",
       "    <tr>\n",
       "      <th>4</th>\n",
       "      <td>Away</td>\n",
       "      <td>2000-2001</td>\n",
       "      <td>0.250000</td>\n",
       "      <td>0.250000</td>\n",
       "      <td>0.500000</td>\n",
       "      <td>0.0</td>\n",
       "      <td>0.0</td>\n",
       "      <td>0.0</td>\n",
       "      <td>0</td>\n",
       "      <td>1456.587085</td>\n",
       "      <td>96.956843</td>\n",
       "      <td>1.000000</td>\n",
       "    </tr>\n",
       "  </tbody>\n",
       "</table>\n",
       "</div>"
      ],
      "text/plain": [
       "  venue     season  win_percent_before_team2  win_percent_diff  \\\n",
       "0  Away  2000-2001                  0.000000          0.000000   \n",
       "1  Home  2000-2001                  1.000000         -1.000000   \n",
       "2  Home  2000-2001                  0.500000          0.000000   \n",
       "3  Away  2000-2001                  0.333333          0.333333   \n",
       "4  Away  2000-2001                  0.250000          0.250000   \n",
       "\n",
       "   lose_percent_before_team2  head2head_win_percent  head2head_draw_percent  \\\n",
       "0                   0.000000                    0.0                     0.0   \n",
       "1                   0.000000                    0.0                     0.0   \n",
       "2                   0.500000                    0.0                     0.0   \n",
       "3                   0.333333                    0.0                     0.0   \n",
       "4                   0.500000                    0.0                     0.0   \n",
       "\n",
       "   head2head_lost_percent  is_opponent_big6  ELO_before_match_team2  \\\n",
       "0                     0.0                 0             1500.000000   \n",
       "1                     0.0                 1             1531.250000   \n",
       "2                     0.0                 0             1513.545664   \n",
       "3                     0.0                 1             1507.852086   \n",
       "4                     0.0                 0             1456.587085   \n",
       "\n",
       "   ELO_before_diff  average_score_before_match_team2  \n",
       "0         0.000000                          0.000000  \n",
       "1       -62.500000                          3.000000  \n",
       "2        -0.621645                          1.500000  \n",
       "3        42.639029                          1.333333  \n",
       "4        96.956843                          1.000000  "
      ]
     },
     "execution_count": 5,
     "metadata": {},
     "output_type": "execute_result"
    }
   ],
   "source": [
    "X = matches_df.drop(\"result\", axis=1)\n",
    "X.head()"
   ]
  },
  {
   "cell_type": "code",
   "execution_count": 6,
   "metadata": {},
   "outputs": [],
   "source": [
    "label_encoder = LabelEncoder()\n",
    "y = label_encoder.fit_transform(matches_df[\"result\"])"
   ]
  },
  {
   "cell_type": "code",
   "execution_count": 7,
   "metadata": {},
   "outputs": [
    {
     "data": {
      "text/plain": [
       "(Index(['win_percent_before_team2', 'win_percent_diff',\n",
       "        'lose_percent_before_team2', 'head2head_win_percent',\n",
       "        'head2head_draw_percent', 'head2head_lost_percent', 'is_opponent_big6',\n",
       "        'ELO_before_match_team2', 'ELO_before_diff',\n",
       "        'average_score_before_match_team2'],\n",
       "       dtype='object'),\n",
       " Index(['venue', 'season'], dtype='object'))"
      ]
     },
     "execution_count": 7,
     "metadata": {},
     "output_type": "execute_result"
    }
   ],
   "source": [
    "# Xác định các cột phân loại và cột số\n",
    "categorical_cols = X.select_dtypes(include=['object', 'category']).columns\n",
    "numerical_cols = X.select_dtypes(include=['int64', 'float64']).columns\n",
    "\n",
    "numerical_cols, categorical_cols"
   ]
  },
  {
   "cell_type": "markdown",
   "metadata": {},
   "source": [
    "#### Encoding cho các đặc trưng"
   ]
  },
  {
   "cell_type": "code",
   "execution_count": 9,
   "metadata": {},
   "outputs": [
    {
     "data": {
      "text/html": [
       "<div>\n",
       "<style scoped>\n",
       "    .dataframe tbody tr th:only-of-type {\n",
       "        vertical-align: middle;\n",
       "    }\n",
       "\n",
       "    .dataframe tbody tr th {\n",
       "        vertical-align: top;\n",
       "    }\n",
       "\n",
       "    .dataframe thead th {\n",
       "        text-align: right;\n",
       "    }\n",
       "</style>\n",
       "<table border=\"1\" class=\"dataframe\">\n",
       "  <thead>\n",
       "    <tr style=\"text-align: right;\">\n",
       "      <th></th>\n",
       "      <th>venue_Away</th>\n",
       "      <th>venue_Home</th>\n",
       "      <th>season_0</th>\n",
       "      <th>season_1</th>\n",
       "      <th>season_2</th>\n",
       "      <th>season_3</th>\n",
       "      <th>season_4</th>\n",
       "      <th>win_percent_before_team2</th>\n",
       "      <th>win_percent_diff</th>\n",
       "      <th>lose_percent_before_team2</th>\n",
       "      <th>head2head_win_percent</th>\n",
       "      <th>head2head_draw_percent</th>\n",
       "      <th>head2head_lost_percent</th>\n",
       "      <th>is_opponent_big6</th>\n",
       "      <th>ELO_before_match_team2</th>\n",
       "      <th>ELO_before_diff</th>\n",
       "      <th>average_score_before_match_team2</th>\n",
       "    </tr>\n",
       "  </thead>\n",
       "  <tbody>\n",
       "    <tr>\n",
       "      <th>0</th>\n",
       "      <td>1.0</td>\n",
       "      <td>0.0</td>\n",
       "      <td>0.0</td>\n",
       "      <td>0.0</td>\n",
       "      <td>0.0</td>\n",
       "      <td>0.0</td>\n",
       "      <td>1.0</td>\n",
       "      <td>-1.362390</td>\n",
       "      <td>-0.520879</td>\n",
       "      <td>-1.435440</td>\n",
       "      <td>-1.948832</td>\n",
       "      <td>-1.169633</td>\n",
       "      <td>-0.973674</td>\n",
       "      <td>-0.595390</td>\n",
       "      <td>0.026422</td>\n",
       "      <td>-0.826088</td>\n",
       "      <td>-1.794548</td>\n",
       "    </tr>\n",
       "    <tr>\n",
       "      <th>1</th>\n",
       "      <td>0.0</td>\n",
       "      <td>1.0</td>\n",
       "      <td>0.0</td>\n",
       "      <td>0.0</td>\n",
       "      <td>0.0</td>\n",
       "      <td>0.0</td>\n",
       "      <td>1.0</td>\n",
       "      <td>2.376723</td>\n",
       "      <td>-3.368248</td>\n",
       "      <td>-1.435440</td>\n",
       "      <td>-1.948832</td>\n",
       "      <td>-1.169633</td>\n",
       "      <td>-0.973674</td>\n",
       "      <td>1.679572</td>\n",
       "      <td>0.155401</td>\n",
       "      <td>-1.022913</td>\n",
       "      <td>2.225725</td>\n",
       "    </tr>\n",
       "    <tr>\n",
       "      <th>2</th>\n",
       "      <td>0.0</td>\n",
       "      <td>1.0</td>\n",
       "      <td>0.0</td>\n",
       "      <td>0.0</td>\n",
       "      <td>0.0</td>\n",
       "      <td>0.0</td>\n",
       "      <td>1.0</td>\n",
       "      <td>0.507166</td>\n",
       "      <td>-0.520879</td>\n",
       "      <td>0.540040</td>\n",
       "      <td>-1.948832</td>\n",
       "      <td>-1.169633</td>\n",
       "      <td>-0.973674</td>\n",
       "      <td>-0.595390</td>\n",
       "      <td>0.082329</td>\n",
       "      <td>-0.828046</td>\n",
       "      <td>0.215589</td>\n",
       "    </tr>\n",
       "    <tr>\n",
       "      <th>3</th>\n",
       "      <td>1.0</td>\n",
       "      <td>0.0</td>\n",
       "      <td>0.0</td>\n",
       "      <td>0.0</td>\n",
       "      <td>0.0</td>\n",
       "      <td>0.0</td>\n",
       "      <td>1.0</td>\n",
       "      <td>-0.116019</td>\n",
       "      <td>0.428244</td>\n",
       "      <td>-0.118454</td>\n",
       "      <td>-1.948832</td>\n",
       "      <td>-1.169633</td>\n",
       "      <td>-0.973674</td>\n",
       "      <td>1.679572</td>\n",
       "      <td>0.058830</td>\n",
       "      <td>-0.691810</td>\n",
       "      <td>-0.007760</td>\n",
       "    </tr>\n",
       "    <tr>\n",
       "      <th>4</th>\n",
       "      <td>1.0</td>\n",
       "      <td>0.0</td>\n",
       "      <td>0.0</td>\n",
       "      <td>0.0</td>\n",
       "      <td>0.0</td>\n",
       "      <td>0.0</td>\n",
       "      <td>1.0</td>\n",
       "      <td>-0.427612</td>\n",
       "      <td>0.190964</td>\n",
       "      <td>0.540040</td>\n",
       "      <td>-1.948832</td>\n",
       "      <td>-1.169633</td>\n",
       "      <td>-0.973674</td>\n",
       "      <td>-0.595390</td>\n",
       "      <td>-0.152758</td>\n",
       "      <td>-0.520753</td>\n",
       "      <td>-0.454457</td>\n",
       "    </tr>\n",
       "  </tbody>\n",
       "</table>\n",
       "</div>"
      ],
      "text/plain": [
       "   venue_Away  venue_Home  season_0  season_1  season_2  season_3  season_4  \\\n",
       "0         1.0         0.0       0.0       0.0       0.0       0.0       1.0   \n",
       "1         0.0         1.0       0.0       0.0       0.0       0.0       1.0   \n",
       "2         0.0         1.0       0.0       0.0       0.0       0.0       1.0   \n",
       "3         1.0         0.0       0.0       0.0       0.0       0.0       1.0   \n",
       "4         1.0         0.0       0.0       0.0       0.0       0.0       1.0   \n",
       "\n",
       "   win_percent_before_team2  win_percent_diff  lose_percent_before_team2  \\\n",
       "0                 -1.362390         -0.520879                  -1.435440   \n",
       "1                  2.376723         -3.368248                  -1.435440   \n",
       "2                  0.507166         -0.520879                   0.540040   \n",
       "3                 -0.116019          0.428244                  -0.118454   \n",
       "4                 -0.427612          0.190964                   0.540040   \n",
       "\n",
       "   head2head_win_percent  head2head_draw_percent  head2head_lost_percent  \\\n",
       "0              -1.948832               -1.169633               -0.973674   \n",
       "1              -1.948832               -1.169633               -0.973674   \n",
       "2              -1.948832               -1.169633               -0.973674   \n",
       "3              -1.948832               -1.169633               -0.973674   \n",
       "4              -1.948832               -1.169633               -0.973674   \n",
       "\n",
       "   is_opponent_big6  ELO_before_match_team2  ELO_before_diff  \\\n",
       "0         -0.595390                0.026422        -0.826088   \n",
       "1          1.679572                0.155401        -1.022913   \n",
       "2         -0.595390                0.082329        -0.828046   \n",
       "3          1.679572                0.058830        -0.691810   \n",
       "4         -0.595390               -0.152758        -0.520753   \n",
       "\n",
       "   average_score_before_match_team2  \n",
       "0                         -1.794548  \n",
       "1                          2.225725  \n",
       "2                          0.215589  \n",
       "3                         -0.007760  \n",
       "4                         -0.454457  "
      ]
     },
     "execution_count": 9,
     "metadata": {},
     "output_type": "execute_result"
    }
   ],
   "source": [
    "preprocessor = ColumnTransformer(\n",
    "    transformers=[\n",
    "        (\"venue\", OneHotEncoder(use_cat_names=True), [\"venue\"]),\n",
    "        (\"season\", BinaryEncoder(), [\"season\"]),\n",
    "        ('num', StandardScaler(), numerical_cols),\n",
    "    ]\n",
    ")\n",
    "\n",
    "transformed_X = preprocessor.fit_transform(X)\n",
    "\n",
    "# Hiển thị dữ liệu sau khi tiền xử lý\n",
    "columns = (\n",
    "    list(preprocessor.named_transformers_[\"venue\"].get_feature_names_out())\n",
    "    + list(preprocessor.named_transformers_[\"season\"].get_feature_names_out())\n",
    "    + numerical_cols.tolist()\n",
    ")\n",
    "\n",
    "transformed_X = pd.DataFrame(transformed_X, columns=columns)\n",
    "transformed_X.head()"
   ]
  },
  {
   "cell_type": "code",
   "execution_count": 10,
   "metadata": {},
   "outputs": [
    {
     "data": {
      "text/plain": [
       "Index(['result', 'venue', 'season', 'win_percent_before_team2',\n",
       "       'win_percent_diff', 'draw_percent_before_team2',\n",
       "       'lose_percent_before_team2', 'head2head_win_percent',\n",
       "       'head2head_draw_percent', 'head2head_lost_percent', 'is_opponent_big6',\n",
       "       'ELO_before_match_team2', 'ELO_before_diff',\n",
       "       'average_score_before_match_team1', 'average_score_before_match_team2',\n",
       "       'average_score_before_match_diff'],\n",
       "      dtype='object')"
      ]
     },
     "execution_count": 10,
     "metadata": {},
     "output_type": "execute_result"
    }
   ],
   "source": [
    "matches_df = pd.read_csv(\"../../../data_for_training/arsenal.csv\")\n",
    "matches_df.columns"
   ]
  },
  {
   "cell_type": "markdown",
   "metadata": {},
   "source": [
    "#### Note: Cell này dùng để thử nghiệm việc lựa chọn đặc trưng"
   ]
  },
  {
   "cell_type": "code",
   "execution_count": 11,
   "metadata": {},
   "outputs": [],
   "source": [
    "matches_df = pd.read_csv(\"../../../data_for_training/arsenal.csv\")\n",
    "matches_df = matches_df.drop(\n",
    "    columns=[\n",
    "        \"average_score_before_match_team1\",\n",
    "        \"average_score_before_match_diff\",\n",
    "        \"draw_percent_before_team2\",\n",
    "    ]\n",
    ")\n",
    "\n",
    "X = matches_df.drop(\"result\", axis=1)\n",
    "label_encoder = LabelEncoder()\n",
    "y = label_encoder.fit_transform(matches_df[\"result\"])\n",
    "\n",
    "categorical_cols = X.select_dtypes(include=['object', 'category']).columns\n",
    "numerical_cols = X.select_dtypes(include=['int64', 'float64']).columns\n",
    "\n",
    "preprocessor = ColumnTransformer(\n",
    "    transformers=[\n",
    "        (\"venue\", OneHotEncoder(use_cat_names=True), [\"venue\"]),\n",
    "        (\"season\", BinaryEncoder(), [\"season\"]),\n",
    "        ('num', StandardScaler(), numerical_cols),\n",
    "    ]\n",
    ")\n",
    "\n",
    "X = preprocessor.fit_transform(X)\n",
    "\n",
    "# Hiển thị dữ liệu sau khi tiền xử lý\n",
    "columns = (\n",
    "    list(preprocessor.named_transformers_[\"venue\"].get_feature_names_out())\n",
    "    + list(preprocessor.named_transformers_[\"season\"].get_feature_names_out())\n",
    "    + numerical_cols.tolist()\n",
    ")\n",
    "\n",
    "X = pd.DataFrame(X, columns=columns)"
   ]
  },
  {
   "cell_type": "code",
   "execution_count": 12,
   "metadata": {},
   "outputs": [
    {
     "data": {
      "text/html": [
       "<div>\n",
       "<style scoped>\n",
       "    .dataframe tbody tr th:only-of-type {\n",
       "        vertical-align: middle;\n",
       "    }\n",
       "\n",
       "    .dataframe tbody tr th {\n",
       "        vertical-align: top;\n",
       "    }\n",
       "\n",
       "    .dataframe thead th {\n",
       "        text-align: right;\n",
       "    }\n",
       "</style>\n",
       "<table border=\"1\" class=\"dataframe\">\n",
       "  <thead>\n",
       "    <tr style=\"text-align: right;\">\n",
       "      <th></th>\n",
       "      <th>venue_Away</th>\n",
       "      <th>venue_Home</th>\n",
       "      <th>season_0</th>\n",
       "      <th>season_1</th>\n",
       "      <th>season_2</th>\n",
       "      <th>season_3</th>\n",
       "      <th>season_4</th>\n",
       "      <th>win_percent_before_team2</th>\n",
       "      <th>win_percent_diff</th>\n",
       "      <th>lose_percent_before_team2</th>\n",
       "      <th>head2head_win_percent</th>\n",
       "      <th>head2head_draw_percent</th>\n",
       "      <th>head2head_lost_percent</th>\n",
       "      <th>is_opponent_big6</th>\n",
       "      <th>ELO_before_match_team2</th>\n",
       "      <th>ELO_before_diff</th>\n",
       "      <th>average_score_before_match_team2</th>\n",
       "    </tr>\n",
       "  </thead>\n",
       "  <tbody>\n",
       "    <tr>\n",
       "      <th>0</th>\n",
       "      <td>1.0</td>\n",
       "      <td>0.0</td>\n",
       "      <td>0.0</td>\n",
       "      <td>0.0</td>\n",
       "      <td>0.0</td>\n",
       "      <td>0.0</td>\n",
       "      <td>1.0</td>\n",
       "      <td>-1.362390</td>\n",
       "      <td>-0.520879</td>\n",
       "      <td>-1.435440</td>\n",
       "      <td>-1.948832</td>\n",
       "      <td>-1.169633</td>\n",
       "      <td>-0.973674</td>\n",
       "      <td>-0.595390</td>\n",
       "      <td>0.026422</td>\n",
       "      <td>-0.826088</td>\n",
       "      <td>-1.794548</td>\n",
       "    </tr>\n",
       "    <tr>\n",
       "      <th>1</th>\n",
       "      <td>0.0</td>\n",
       "      <td>1.0</td>\n",
       "      <td>0.0</td>\n",
       "      <td>0.0</td>\n",
       "      <td>0.0</td>\n",
       "      <td>0.0</td>\n",
       "      <td>1.0</td>\n",
       "      <td>2.376723</td>\n",
       "      <td>-3.368248</td>\n",
       "      <td>-1.435440</td>\n",
       "      <td>-1.948832</td>\n",
       "      <td>-1.169633</td>\n",
       "      <td>-0.973674</td>\n",
       "      <td>1.679572</td>\n",
       "      <td>0.155401</td>\n",
       "      <td>-1.022913</td>\n",
       "      <td>2.225725</td>\n",
       "    </tr>\n",
       "    <tr>\n",
       "      <th>2</th>\n",
       "      <td>0.0</td>\n",
       "      <td>1.0</td>\n",
       "      <td>0.0</td>\n",
       "      <td>0.0</td>\n",
       "      <td>0.0</td>\n",
       "      <td>0.0</td>\n",
       "      <td>1.0</td>\n",
       "      <td>0.507166</td>\n",
       "      <td>-0.520879</td>\n",
       "      <td>0.540040</td>\n",
       "      <td>-1.948832</td>\n",
       "      <td>-1.169633</td>\n",
       "      <td>-0.973674</td>\n",
       "      <td>-0.595390</td>\n",
       "      <td>0.082329</td>\n",
       "      <td>-0.828046</td>\n",
       "      <td>0.215589</td>\n",
       "    </tr>\n",
       "    <tr>\n",
       "      <th>3</th>\n",
       "      <td>1.0</td>\n",
       "      <td>0.0</td>\n",
       "      <td>0.0</td>\n",
       "      <td>0.0</td>\n",
       "      <td>0.0</td>\n",
       "      <td>0.0</td>\n",
       "      <td>1.0</td>\n",
       "      <td>-0.116019</td>\n",
       "      <td>0.428244</td>\n",
       "      <td>-0.118454</td>\n",
       "      <td>-1.948832</td>\n",
       "      <td>-1.169633</td>\n",
       "      <td>-0.973674</td>\n",
       "      <td>1.679572</td>\n",
       "      <td>0.058830</td>\n",
       "      <td>-0.691810</td>\n",
       "      <td>-0.007760</td>\n",
       "    </tr>\n",
       "    <tr>\n",
       "      <th>4</th>\n",
       "      <td>1.0</td>\n",
       "      <td>0.0</td>\n",
       "      <td>0.0</td>\n",
       "      <td>0.0</td>\n",
       "      <td>0.0</td>\n",
       "      <td>0.0</td>\n",
       "      <td>1.0</td>\n",
       "      <td>-0.427612</td>\n",
       "      <td>0.190964</td>\n",
       "      <td>0.540040</td>\n",
       "      <td>-1.948832</td>\n",
       "      <td>-1.169633</td>\n",
       "      <td>-0.973674</td>\n",
       "      <td>-0.595390</td>\n",
       "      <td>-0.152758</td>\n",
       "      <td>-0.520753</td>\n",
       "      <td>-0.454457</td>\n",
       "    </tr>\n",
       "    <tr>\n",
       "      <th>...</th>\n",
       "      <td>...</td>\n",
       "      <td>...</td>\n",
       "      <td>...</td>\n",
       "      <td>...</td>\n",
       "      <td>...</td>\n",
       "      <td>...</td>\n",
       "      <td>...</td>\n",
       "      <td>...</td>\n",
       "      <td>...</td>\n",
       "      <td>...</td>\n",
       "      <td>...</td>\n",
       "      <td>...</td>\n",
       "      <td>...</td>\n",
       "      <td>...</td>\n",
       "      <td>...</td>\n",
       "      <td>...</td>\n",
       "      <td>...</td>\n",
       "    </tr>\n",
       "    <tr>\n",
       "      <th>870</th>\n",
       "      <td>0.0</td>\n",
       "      <td>1.0</td>\n",
       "      <td>1.0</td>\n",
       "      <td>0.0</td>\n",
       "      <td>1.0</td>\n",
       "      <td>1.0</td>\n",
       "      <td>1.0</td>\n",
       "      <td>-1.362390</td>\n",
       "      <td>0.048595</td>\n",
       "      <td>1.725328</td>\n",
       "      <td>-0.477415</td>\n",
       "      <td>0.410062</td>\n",
       "      <td>0.503041</td>\n",
       "      <td>1.679572</td>\n",
       "      <td>-0.145722</td>\n",
       "      <td>1.539203</td>\n",
       "      <td>-1.526529</td>\n",
       "    </tr>\n",
       "    <tr>\n",
       "      <th>871</th>\n",
       "      <td>1.0</td>\n",
       "      <td>0.0</td>\n",
       "      <td>1.0</td>\n",
       "      <td>0.0</td>\n",
       "      <td>1.0</td>\n",
       "      <td>1.0</td>\n",
       "      <td>1.0</td>\n",
       "      <td>1.628900</td>\n",
       "      <td>-2.229301</td>\n",
       "      <td>-0.645248</td>\n",
       "      <td>0.626148</td>\n",
       "      <td>-0.643068</td>\n",
       "      <td>0.010802</td>\n",
       "      <td>-0.595390</td>\n",
       "      <td>2.297142</td>\n",
       "      <td>-0.321636</td>\n",
       "      <td>1.421670</td>\n",
       "    </tr>\n",
       "    <tr>\n",
       "      <th>872</th>\n",
       "      <td>0.0</td>\n",
       "      <td>1.0</td>\n",
       "      <td>1.0</td>\n",
       "      <td>0.0</td>\n",
       "      <td>1.0</td>\n",
       "      <td>1.0</td>\n",
       "      <td>1.0</td>\n",
       "      <td>0.881078</td>\n",
       "      <td>-1.090353</td>\n",
       "      <td>0.144944</td>\n",
       "      <td>-0.845269</td>\n",
       "      <td>0.410062</td>\n",
       "      <td>0.995279</td>\n",
       "      <td>-0.595390</td>\n",
       "      <td>1.192365</td>\n",
       "      <td>0.690306</td>\n",
       "      <td>0.617616</td>\n",
       "    </tr>\n",
       "    <tr>\n",
       "      <th>873</th>\n",
       "      <td>1.0</td>\n",
       "      <td>0.0</td>\n",
       "      <td>1.0</td>\n",
       "      <td>0.0</td>\n",
       "      <td>1.0</td>\n",
       "      <td>1.0</td>\n",
       "      <td>1.0</td>\n",
       "      <td>0.133255</td>\n",
       "      <td>-0.520879</td>\n",
       "      <td>0.144944</td>\n",
       "      <td>1.729711</td>\n",
       "      <td>-1.169633</td>\n",
       "      <td>-0.973674</td>\n",
       "      <td>-0.595390</td>\n",
       "      <td>-1.746270</td>\n",
       "      <td>2.673179</td>\n",
       "      <td>0.081580</td>\n",
       "    </tr>\n",
       "    <tr>\n",
       "      <th>874</th>\n",
       "      <td>0.0</td>\n",
       "      <td>1.0</td>\n",
       "      <td>1.0</td>\n",
       "      <td>0.0</td>\n",
       "      <td>1.0</td>\n",
       "      <td>1.0</td>\n",
       "      <td>1.0</td>\n",
       "      <td>0.133255</td>\n",
       "      <td>-0.520879</td>\n",
       "      <td>0.144944</td>\n",
       "      <td>-0.109561</td>\n",
       "      <td>-0.116503</td>\n",
       "      <td>0.503041</td>\n",
       "      <td>-0.595390</td>\n",
       "      <td>-1.121497</td>\n",
       "      <td>2.196144</td>\n",
       "      <td>0.081580</td>\n",
       "    </tr>\n",
       "  </tbody>\n",
       "</table>\n",
       "<p>875 rows × 17 columns</p>\n",
       "</div>"
      ],
      "text/plain": [
       "     venue_Away  venue_Home  season_0  season_1  season_2  season_3  season_4  \\\n",
       "0           1.0         0.0       0.0       0.0       0.0       0.0       1.0   \n",
       "1           0.0         1.0       0.0       0.0       0.0       0.0       1.0   \n",
       "2           0.0         1.0       0.0       0.0       0.0       0.0       1.0   \n",
       "3           1.0         0.0       0.0       0.0       0.0       0.0       1.0   \n",
       "4           1.0         0.0       0.0       0.0       0.0       0.0       1.0   \n",
       "..          ...         ...       ...       ...       ...       ...       ...   \n",
       "870         0.0         1.0       1.0       0.0       1.0       1.0       1.0   \n",
       "871         1.0         0.0       1.0       0.0       1.0       1.0       1.0   \n",
       "872         0.0         1.0       1.0       0.0       1.0       1.0       1.0   \n",
       "873         1.0         0.0       1.0       0.0       1.0       1.0       1.0   \n",
       "874         0.0         1.0       1.0       0.0       1.0       1.0       1.0   \n",
       "\n",
       "     win_percent_before_team2  win_percent_diff  lose_percent_before_team2  \\\n",
       "0                   -1.362390         -0.520879                  -1.435440   \n",
       "1                    2.376723         -3.368248                  -1.435440   \n",
       "2                    0.507166         -0.520879                   0.540040   \n",
       "3                   -0.116019          0.428244                  -0.118454   \n",
       "4                   -0.427612          0.190964                   0.540040   \n",
       "..                        ...               ...                        ...   \n",
       "870                 -1.362390          0.048595                   1.725328   \n",
       "871                  1.628900         -2.229301                  -0.645248   \n",
       "872                  0.881078         -1.090353                   0.144944   \n",
       "873                  0.133255         -0.520879                   0.144944   \n",
       "874                  0.133255         -0.520879                   0.144944   \n",
       "\n",
       "     head2head_win_percent  head2head_draw_percent  head2head_lost_percent  \\\n",
       "0                -1.948832               -1.169633               -0.973674   \n",
       "1                -1.948832               -1.169633               -0.973674   \n",
       "2                -1.948832               -1.169633               -0.973674   \n",
       "3                -1.948832               -1.169633               -0.973674   \n",
       "4                -1.948832               -1.169633               -0.973674   \n",
       "..                     ...                     ...                     ...   \n",
       "870              -0.477415                0.410062                0.503041   \n",
       "871               0.626148               -0.643068                0.010802   \n",
       "872              -0.845269                0.410062                0.995279   \n",
       "873               1.729711               -1.169633               -0.973674   \n",
       "874              -0.109561               -0.116503                0.503041   \n",
       "\n",
       "     is_opponent_big6  ELO_before_match_team2  ELO_before_diff  \\\n",
       "0           -0.595390                0.026422        -0.826088   \n",
       "1            1.679572                0.155401        -1.022913   \n",
       "2           -0.595390                0.082329        -0.828046   \n",
       "3            1.679572                0.058830        -0.691810   \n",
       "4           -0.595390               -0.152758        -0.520753   \n",
       "..                ...                     ...              ...   \n",
       "870          1.679572               -0.145722         1.539203   \n",
       "871         -0.595390                2.297142        -0.321636   \n",
       "872         -0.595390                1.192365         0.690306   \n",
       "873         -0.595390               -1.746270         2.673179   \n",
       "874         -0.595390               -1.121497         2.196144   \n",
       "\n",
       "     average_score_before_match_team2  \n",
       "0                           -1.794548  \n",
       "1                            2.225725  \n",
       "2                            0.215589  \n",
       "3                           -0.007760  \n",
       "4                           -0.454457  \n",
       "..                                ...  \n",
       "870                         -1.526529  \n",
       "871                          1.421670  \n",
       "872                          0.617616  \n",
       "873                          0.081580  \n",
       "874                          0.081580  \n",
       "\n",
       "[875 rows x 17 columns]"
      ]
     },
     "execution_count": 12,
     "metadata": {},
     "output_type": "execute_result"
    }
   ],
   "source": [
    "X"
   ]
  },
  {
   "cell_type": "code",
   "execution_count": 7,
   "metadata": {},
   "outputs": [
    {
     "data": {
      "text/plain": [
       "array([1, 2, 2, 0, 0, 2, 0, 2, 2, 2, 2, 2, 0, 1, 1, 2, 2, 0, 1, 2, 0, 1,\n",
       "       0, 0, 2, 2, 2, 1, 2, 0, 2, 2, 1, 2, 2, 2, 0, 1, 2, 1, 2, 0, 2, 0,\n",
       "       2, 2, 0, 0, 1, 0, 2, 2, 2, 0, 1, 2, 2, 2, 0, 0, 2, 2, 0, 2, 2, 2,\n",
       "       2, 2, 2, 2, 2, 2, 2, 2, 2, 2, 2, 0, 2, 0, 2, 2, 2, 2, 2, 1, 1, 2,\n",
       "       2, 2, 1, 2, 1, 0, 2, 2, 0, 0, 2, 2, 2, 0, 2, 0, 2, 2, 1, 2, 0, 0,\n",
       "       2, 0, 1, 2, 2, 2, 2, 2, 2, 0, 0, 2, 2, 2, 0, 2, 2, 2, 0, 0, 2, 0,\n",
       "       2, 2, 0, 2, 2, 2, 2, 2, 2, 2, 2, 2, 0, 2, 0, 2, 0, 0, 0, 2, 2, 2,\n",
       "       2, 2, 2, 2, 0, 2, 2, 2, 1, 0, 0, 2, 0, 1, 2, 0, 2, 2, 2, 2, 0, 1,\n",
       "       2, 1, 2, 2, 0, 2, 2, 2, 2, 0, 2, 2, 2, 2, 1, 2, 1, 2, 1, 2, 0, 2,\n",
       "       1, 2, 0, 2, 2, 2, 1, 1, 1, 2, 2, 0, 0, 2, 1, 1, 2, 0, 1, 1, 2, 2,\n",
       "       2, 2, 1, 0, 2, 0, 2, 2, 2, 0, 1, 0, 2, 2, 2, 2, 2, 0, 1, 2, 0, 1,\n",
       "       1, 2, 0, 2, 0, 2, 2, 1, 2, 2, 2, 0, 2, 2, 2, 1, 1, 1, 0, 2, 2, 0,\n",
       "       2, 0, 0, 2, 0, 2, 2, 2, 2, 2, 2, 2, 0, 0, 2, 2, 2, 0, 1, 2, 2, 0,\n",
       "       2, 2, 0, 2, 2, 2, 2, 0, 0, 0, 0, 1, 2, 0, 1, 2, 2, 2, 2, 2, 1, 2,\n",
       "       2, 2, 1, 0, 2, 2, 0, 1, 2, 1, 1, 2, 2, 0, 0, 0, 2, 2, 2, 0, 0, 0,\n",
       "       0, 0, 2, 2, 2, 2, 2, 0, 2, 2, 1, 0, 2, 2, 2, 1, 1, 2, 2, 2, 2, 0,\n",
       "       2, 2, 1, 1, 2, 2, 0, 2, 2, 2, 0, 2, 2, 0, 1, 1, 2, 2, 2, 2, 2, 2,\n",
       "       0, 2, 1, 1, 0, 1, 2, 0, 2, 2, 2, 0, 1, 1, 2, 2, 2, 1, 2, 2, 1, 2,\n",
       "       2, 1, 2, 0, 2, 0, 2, 2, 2, 0, 2, 2, 0, 0, 0, 2, 0, 0, 1, 2, 1, 1,\n",
       "       0, 0, 1, 1, 2, 1, 2, 1, 2, 2, 2, 2, 2, 0, 2, 2, 1, 2, 0, 2, 1, 1,\n",
       "       1, 0, 2, 2, 2, 2, 2, 2, 2, 1, 2, 2, 1, 0, 0, 0, 2, 0, 0, 2, 2, 0,\n",
       "       1, 2, 1, 2, 1, 0, 2, 0, 0, 1, 2, 2, 2, 2, 0, 1, 1, 2, 0, 2, 2, 2,\n",
       "       1, 2, 2, 2, 2, 0, 2, 0, 2, 2, 2, 1, 2, 2, 2, 2, 2, 0, 2, 2, 2, 1,\n",
       "       2, 2, 2, 0, 1, 0, 2, 2, 2, 2, 2, 0, 2, 1, 0, 2, 1, 2, 1, 0, 0, 1,\n",
       "       2, 2, 2, 2, 2, 2, 0, 0, 0, 2, 0, 1, 0, 2, 2, 1, 1, 2, 2, 1, 2, 0,\n",
       "       2, 2, 1, 2, 2, 2, 1, 2, 2, 2, 2, 2, 2, 2, 2, 0, 2, 1, 0, 0, 2, 1,\n",
       "       2, 0, 2, 2, 1, 2, 2, 2, 2, 2, 0, 1, 0, 2, 2, 2, 1, 2, 2, 0, 0, 1,\n",
       "       0, 2, 2, 1, 1, 0, 2, 2, 0, 0, 2, 0, 2, 0, 2, 1, 0, 2, 2, 2, 2, 2,\n",
       "       2, 0, 2, 0, 0, 2, 2, 2, 1, 1, 2, 2, 0, 2, 2, 1, 1, 2, 1, 1, 0, 2,\n",
       "       1, 2, 2, 1, 2, 2, 2, 2, 2, 2, 1, 1, 2, 0, 2, 2, 1, 2, 2, 1, 2, 2,\n",
       "       2, 1, 0, 0, 2, 0, 2, 0, 0, 1, 2, 1, 2, 1, 1, 1, 2, 2, 2, 1, 2, 1,\n",
       "       2, 1, 2, 1, 1, 2, 2, 2, 2, 2, 2, 2, 0, 0, 0, 2, 2, 0, 2, 1, 2, 0,\n",
       "       1, 2, 1, 2, 2, 1, 2, 2, 2, 0, 2, 2, 1, 2, 1, 1, 1, 0, 2, 2, 2, 1,\n",
       "       0, 0, 2, 0, 2, 1, 0, 0, 1, 0, 0, 1, 2, 1, 0, 0, 1, 2, 0, 0, 0, 0,\n",
       "       2, 2, 2, 1, 1, 2, 2, 2, 0, 1, 2, 1, 2, 2, 2, 1, 2, 1, 1, 2, 1, 0,\n",
       "       1, 1, 1, 0, 1, 2, 2, 2, 0, 2, 2, 0, 1, 1, 2, 1, 2, 0, 2, 0, 1, 2,\n",
       "       0, 1, 2, 2, 2, 2, 2, 1, 1, 1, 2, 2, 2, 0, 0, 2, 2, 2, 1, 2, 1, 1,\n",
       "       2, 2, 2, 2, 1, 0, 2, 2, 2, 2, 2, 1, 2, 1, 1, 1, 2, 2, 2, 2, 1, 1,\n",
       "       2, 2, 2, 2, 2, 2, 1, 2, 2, 2, 2, 0, 2, 2, 2, 2, 2, 0, 2, 2, 1, 0,\n",
       "       1, 2, 2, 2, 2, 2, 2, 2, 0, 0, 0, 1, 2, 2, 1, 1, 2])"
      ]
     },
     "execution_count": 7,
     "metadata": {},
     "output_type": "execute_result"
    }
   ],
   "source": [
    "# 0: D\n",
    "# 1: L\n",
    "# 2: W\n",
    "y"
   ]
  },
  {
   "cell_type": "markdown",
   "metadata": {},
   "source": [
    "### Thử nghiệm các mô hình"
   ]
  },
  {
   "cell_type": "code",
   "execution_count": 10,
   "metadata": {},
   "outputs": [
    {
     "name": "stdout",
     "output_type": "stream",
     "text": [
      "Accuracy LR: 0.48803552769070013\n",
      "Accuracy SVC: 0.48013322884012544\n",
      "Accuracy KNN: 0.4948928944618601\n",
      "Accuracy DTC: 0.4753134796238244\n",
      "Accuracy SGDC: 0.5747518286311389\n",
      "Accuracy NB: 0.55316091954023\n",
      "Accuracy RF: 0.5760188087774294\n"
     ]
    }
   ],
   "source": [
    "algorithms = [\n",
    "    (\"LR\", LogisticRegression(random_state=seed, class_weight=\"balanced\")),\n",
    "    (\n",
    "        \"SVC\",\n",
    "        SVC(\n",
    "            probability=True,\n",
    "            random_state=seed,\n",
    "            class_weight=\"balanced\",\n",
    "        ),\n",
    "    ),\n",
    "    (\"KNN\", KNeighborsClassifier()),\n",
    "    (\"DTC\", DecisionTreeClassifier(random_state=seed, class_weight=\"balanced\")),\n",
    "    (\n",
    "        \"SGDC\",\n",
    "        CalibratedClassifierCV(\n",
    "            SGDClassifier(random_state=seed, class_weight=\"balanced\")\n",
    "        ),\n",
    "    ),\n",
    "    (\"NB\", GaussianNB()),\n",
    "    (\n",
    "        \"RF\",\n",
    "        RandomForestClassifier(\n",
    "            n_estimators=100, random_state=seed, class_weight=\"balanced\"\n",
    "        ),\n",
    "    ),\n",
    "]\n",
    "\n",
    "cv_results = {}\n",
    "\n",
    "for name, model in algorithms:\n",
    "    # Thực hiện cross-validation\n",
    "    cv_scores = cross_val_score(model, X, y, cv=k_fold, scoring=\"accuracy\")\n",
    "    cv_results[name] = cv_scores.mean()\n",
    "\n",
    "# Hiển thị kết quả cross-validation\n",
    "for name, score in cv_results.items():\n",
    "    print(f\"Accuracy {name}: {score}\")"
   ]
  },
  {
   "cell_type": "code",
   "execution_count": 11,
   "metadata": {},
   "outputs": [],
   "source": [
    "X = transformed_X"
   ]
  },
  {
   "cell_type": "markdown",
   "metadata": {},
   "source": [
    "### Chọn bộ siêu tham số"
   ]
  },
  {
   "cell_type": "markdown",
   "metadata": {},
   "source": [
    "#### SVC"
   ]
  },
  {
   "cell_type": "code",
   "execution_count": 16,
   "metadata": {},
   "outputs": [
    {
     "name": "stdout",
     "output_type": "stream",
     "text": [
      "Model processing:  SVC\n",
      "Fitting 5 folds for each of 1 candidates, totalling 5 fits\n"
     ]
    }
   ],
   "source": [
    "best_params_SVC = {}\n",
    "models_tuned_SVC = {}\n",
    "\n",
    "# Adjust your algorithms list to use descriptive names that match param_grid\n",
    "algorithms = [\n",
    "    (\"SVC\", SVC(probability=True)),\n",
    "]\n",
    "\n",
    "# Define parameter grid with correct keys\n",
    "param_grid = {\n",
    "    \"SVC\": {\n",
    "        \"C\": [0.001, 0.01, 0.1, 1, 10, 100],  # Expanded C range\n",
    "        \"gamma\": [0.001, 0.01, 0.1, 1, 10, 100],  # More granular gamma range\n",
    "        \"kernel\": [\"linear\", \"poly\", \"rbf\", \"sigmoid\"],  # Added kernel options\n",
    "        \"class_weight\": [\"balanced\"]\n",
    "    }\n",
    "}\n",
    "\n",
    "\n",
    "# Randomized Search application with check for parameter grid existence\n",
    "for name, model in algorithms:\n",
    "    print(\"Model processing: \", name)\n",
    "    if name in param_grid:\n",
    "        randomized_search = RandomizedSearchCV(\n",
    "            estimator=model, \n",
    "            param_distributions=param_grid[name], \n",
    "            n_iter=100,  # You can adjust the number of iterations\n",
    "            cv=5, \n",
    "            scoring='accuracy', \n",
    "            random_state=42,\n",
    "            n_jobs=-1,\n",
    "            verbose=1\n",
    "        )\n",
    "        randomized_search.fit(X, y)\n",
    "        best_params_SVC[name] = randomized_search.best_params_\n",
    "        models_tuned_SVC[name] = randomized_search.best_estimator_\n",
    "    else:\n",
    "        print(f\"No parameter grid defined for {name}\")\n"
   ]
  },
  {
   "cell_type": "code",
   "execution_count": 17,
   "metadata": {},
   "outputs": [],
   "source": [
    "with open('best_params/best_params_SVC.json', 'w') as f:\n",
    "    json.dump(best_params_SVC, f)"
   ]
  },
  {
   "cell_type": "markdown",
   "metadata": {},
   "source": [
    "### RF"
   ]
  },
  {
   "cell_type": "code",
   "execution_count": 12,
   "metadata": {},
   "outputs": [
    {
     "name": "stdout",
     "output_type": "stream",
     "text": [
      "Model processing:  RF\n",
      "Fitting 10 folds for each of 100 candidates, totalling 1000 fits\n"
     ]
    }
   ],
   "source": [
    "best_params_RF = {}\n",
    "models_tuned_RF = {}\n",
    "\n",
    "# Adjust your algorithms list to use descriptive names that match param_grid\n",
    "algorithms = [\n",
    "    ('RF', RandomForestClassifier()),\n",
    "]\n",
    "\n",
    "# Define parameter grid with correct keys\n",
    "param_grid = {\n",
    "    \"RF\": {\n",
    "        \"n_estimators\": [int(x) for x in np.linspace(start = 200, stop = 2000, num = 10)],\n",
    "        \"max_features\": [\"sqrt\", \"log2\", 0.2, 0.4, 0.6],\n",
    "        \"max_depth\": [int(x) for x in np.linspace(10, 110, num = 11)] + [None],\n",
    "        \"min_samples_split\": [2, 5, 10, 20],\n",
    "        \"min_samples_leaf\": [1, 2, 4, 6],\n",
    "        \"class_weight\": [\"balanced\"]\n",
    "    }\n",
    "}\n",
    "\n",
    "\n",
    "# Randomized Search application with check for parameter grid existence\n",
    "for name, model in algorithms:\n",
    "    print(\"Model processing: \", name)\n",
    "    if name in param_grid:\n",
    "        randomized_search = RandomizedSearchCV(\n",
    "            estimator=model, \n",
    "            param_distributions=param_grid[name], \n",
    "            n_iter=100,\n",
    "            cv=k_fold, \n",
    "            scoring='accuracy', \n",
    "            random_state=seed,\n",
    "            n_jobs=-1,\n",
    "            verbose=1\n",
    "        )\n",
    "        randomized_search.fit(X, y)\n",
    "        best_params_RF[name] = randomized_search.best_params_\n",
    "        models_tuned_RF[name] = randomized_search.best_estimator_\n",
    "    else:\n",
    "        print(f\"No parameter grid defined for {name}\")\n"
   ]
  },
  {
   "cell_type": "code",
   "execution_count": 13,
   "metadata": {},
   "outputs": [
    {
     "data": {
      "text/plain": [
       "{'n_estimators': 1200,\n",
       " 'min_samples_split': 2,\n",
       " 'min_samples_leaf': 1,\n",
       " 'max_features': 'sqrt',\n",
       " 'max_depth': 110,\n",
       " 'class_weight': 'balanced'}"
      ]
     },
     "execution_count": 13,
     "metadata": {},
     "output_type": "execute_result"
    }
   ],
   "source": [
    "best_params_RF[\"RF\"]"
   ]
  },
  {
   "cell_type": "code",
   "execution_count": 14,
   "metadata": {},
   "outputs": [],
   "source": [
    "# Lưu siêu tham số vào file JSON\n",
    "with open('final_best_params/best_params_RF.json', 'w') as f:\n",
    "    json.dump(best_params_RF, f)"
   ]
  },
  {
   "cell_type": "markdown",
   "metadata": {},
   "source": [
    "### Các thuật toán khác"
   ]
  },
  {
   "cell_type": "code",
   "execution_count": 15,
   "metadata": {},
   "outputs": [
    {
     "name": "stdout",
     "output_type": "stream",
     "text": [
      "Model processing:  LR\n",
      "Fitting 10 folds for each of 100 candidates, totalling 1000 fits\n",
      "Model processing:  KNN\n",
      "Fitting 10 folds for each of 100 candidates, totalling 1000 fits\n",
      "Model processing:  DTC\n",
      "Fitting 10 folds for each of 100 candidates, totalling 1000 fits\n"
     ]
    }
   ],
   "source": [
    "best_params_random_other = {}\n",
    "models_tuned_random_other = {}\n",
    "\n",
    "# Adjust your algorithms list to use descriptive names that match param_grid\n",
    "algorithms = [\n",
    "    (\"LR\", LogisticRegression()),\n",
    "    ('KNN', KNeighborsClassifier()),\n",
    "    (\"DTC\", DecisionTreeClassifier()),\n",
    "]\n",
    "\n",
    "# Define parameter grid with correct keys\n",
    "param_grid = {\n",
    "    \"LR\": {\n",
    "        \"C\": np.logspace(-4, 4, 20),  # More granular range for C\n",
    "        \"solver\": [\"liblinear\", \"lbfgs\", \"saga\", \"newton-cg\"],  # Added 'newton-cg'\n",
    "        \"penalty\": [\"l1\", \"l2\", \"elasticnet\", \"none\"],  # Different norms for regularization\n",
    "        \"class_weight\": [\"balanced\", None]  # Added class_weight\n",
    "    },\n",
    "    \"DTC\": {\n",
    "        \"max_depth\": [None, 3, 5, 10, 15, 20, 30, 50, 100],  # Expanded range\n",
    "        \"min_samples_split\": [2, 5, 10, 20, 40, 100],  # More options\n",
    "        \"min_samples_leaf\": [1, 2, 5, 10, 20],  # Added min_samples_leaf\n",
    "        \"class_weight\": [\"balanced\"]\n",
    "    },\n",
    "    \"KNN\": {\n",
    "        \"n_neighbors\": list(range(1, 21)),  # More neighbors\n",
    "        \"weights\": [\"uniform\", \"distance\"],  # Existing weights\n",
    "        \"metric\": [\"euclidean\", \"manhattan\", \"chebyshev\", \"minkowski\"]  # Added distance metrics\n",
    "    },\n",
    "}\n",
    "\n",
    "\n",
    "# Randomized Search application with check for parameter grid existence\n",
    "for name, model in algorithms:\n",
    "    print(\"Model processing: \", name)\n",
    "    if name in param_grid:\n",
    "        randomized_search = RandomizedSearchCV(\n",
    "            estimator=model, \n",
    "            param_distributions=param_grid[name], \n",
    "            n_iter=100,  # You can adjust the number of iterations\n",
    "            cv=k_fold, \n",
    "            scoring='accuracy', \n",
    "            random_state=seed,\n",
    "            n_jobs=-1,\n",
    "            verbose=1\n",
    "        )\n",
    "        randomized_search.fit(X, y)\n",
    "        best_params_random_other[name] = randomized_search.best_params_\n",
    "        models_tuned_random_other[name] = randomized_search.best_estimator_\n",
    "    else:\n",
    "        print(f\"No parameter grid defined for {name}\")\n"
   ]
  },
  {
   "cell_type": "code",
   "execution_count": 16,
   "metadata": {},
   "outputs": [],
   "source": [
    "with open('final_best_params/best_params_random_other_balanced.json', 'w') as f:\n",
    "    json.dump(best_params_random_other, f)"
   ]
  },
  {
   "cell_type": "markdown",
   "metadata": {},
   "source": [
    "## Thử nghiệm bộ tham số"
   ]
  },
  {
   "cell_type": "code",
   "execution_count": 97,
   "metadata": {},
   "outputs": [],
   "source": [
    "algorithms_score_df = []"
   ]
  },
  {
   "cell_type": "markdown",
   "metadata": {},
   "source": [
    "##### SVC"
   ]
  },
  {
   "cell_type": "markdown",
   "metadata": {},
   "source": [
    "##### Trước resampling"
   ]
  },
  {
   "cell_type": "code",
   "execution_count": null,
   "metadata": {},
   "outputs": [],
   "source": [
    "with open('final_best_params/best_params_SVC.json', 'r') as f:\n",
    "    best_params = json.load(f)\n",
    "\n",
    "# Assuming 'best_params' has been filled with the best parameters for each model from GridSearchCV or RandomizedSearchCV\n",
    "algorithms = [\n",
    "    (\"SVC\", SVC(probability=True, **best_params.get(\"SVC\", {}), random_state=42)),\n",
    "]\n",
    "\n",
    "cv_results = {}\n",
    "for name, model in algorithms:\n",
    "    cv_scores = cross_val_score(model, X, y, cv=5)\n",
    "    cv_results[name] = cv_scores.mean()\n",
    "\n",
    "# Hiển thị kết quả cross-validation\n",
    "for name, score in cv_results.items():\n",
    "    algorithms_score_df.append({\n",
    "        \"model\": name + \"before_resampling\",\n",
    "        \"score\": score\n",
    "    })\n",
    "    print(f\"{name}: {score}\")"
   ]
  },
  {
   "cell_type": "markdown",
   "metadata": {},
   "source": [
    "##### Sau resampling"
   ]
  },
  {
   "cell_type": "code",
   "execution_count": 20,
   "metadata": {},
   "outputs": [
    {
     "name": "stdout",
     "output_type": "stream",
     "text": [
      "SVC: 0.3897142857142857\n"
     ]
    }
   ],
   "source": [
    "with open('final_best_params/best_params_SVC.json', 'r') as f:\n",
    "    best_params = json.load(f)\n",
    "\n",
    "# Assuming 'best_params' has been filled with the best parameters for each model from GridSearchCV or RandomizedSearchCV\n",
    "algorithms = [\n",
    "    (\"SVC\", SVC(probability=True, **best_params.get(\"SVC\", {}), class_weight=\"balanced\", random_state=42)),\n",
    "]\n",
    "\n",
    "cv_results = {}\n",
    "for name, model in algorithms:\n",
    "    cv_scores = cross_val_score(model, X, y, cv=5)  # Thực hiện cross-validation với số lượng fold là 5\n",
    "    cv_results[name] = cv_scores.mean()  # Lưu kết quả trung bình của các fold\n",
    "\n",
    "# Hiển thị kết quả cross-validation\n",
    "for name, score in cv_results.items():\n",
    "    algorithms_score_df.append({\n",
    "        \"model\": name  + \"after_resampling\",\n",
    "        \"score\": score\n",
    "    })\n",
    "    print(f\"{name}: {score}\")"
   ]
  },
  {
   "cell_type": "markdown",
   "metadata": {},
   "source": [
    "##### Random forest"
   ]
  },
  {
   "cell_type": "markdown",
   "metadata": {},
   "source": [
    "##### Trước resampling"
   ]
  },
  {
   "cell_type": "code",
   "execution_count": 99,
   "metadata": {},
   "outputs": [
    {
     "name": "stdout",
     "output_type": "stream",
     "text": [
      "{'RF': {'n_estimators': 1200, 'min_samples_split': 2, 'min_samples_leaf': 1, 'max_features': 'sqrt', 'max_depth': 110}}\n"
     ]
    }
   ],
   "source": [
    "with open('final_best_params/best_params_RF.json', 'r') as f:\n",
    "    best_params_RF = json.load(f)\n",
    "    del best_params_RF.get(\"RF\")[\"class_weight\"]\n",
    "    print(best_params_RF)"
   ]
  },
  {
   "cell_type": "code",
   "execution_count": 100,
   "metadata": {},
   "outputs": [
    {
     "name": "stdout",
     "output_type": "stream",
     "text": [
      "RF: 0.5691353187042842\n"
     ]
    }
   ],
   "source": [
    "with open('final_best_params/best_params_RF.json', 'r') as f:\n",
    "    best_params_RF = json.load(f)\n",
    "    del best_params_RF.get(\"RF\")[\"class_weight\"]\n",
    "\n",
    "# Assuming 'best_params' has been filled with the best parameters for each model from GridSearchCV or RandomizedSearchCV\n",
    "algorithms = [\n",
    "    ('RF', RandomForestClassifier(**best_params_RF.get(\"RF\", {}), random_state=seed)),\n",
    "]\n",
    "\n",
    "cv_results = {}\n",
    "for name, model in algorithms:\n",
    "    cv_scores = cross_val_score(\n",
    "        model, transformed_X, y, cv=k_fold, scoring=\"accuracy\"\n",
    "    )\n",
    "    cv_results[name] = cv_scores.mean()\n",
    "\n",
    "# Hiển thị kết quả cross-validation\n",
    "for name, score in cv_results.items():\n",
    "    algorithms_score_df.append({\n",
    "        \"model\": name + \"before_resampling\",\n",
    "        \"score\": score\n",
    "    })\n",
    "    print(f\"{name}: {score}\")"
   ]
  },
  {
   "cell_type": "markdown",
   "metadata": {},
   "source": [
    "##### Sau resampling"
   ]
  },
  {
   "cell_type": "code",
   "execution_count": 102,
   "metadata": {},
   "outputs": [
    {
     "name": "stdout",
     "output_type": "stream",
     "text": [
      "RF: 0.5714080459770116\n"
     ]
    }
   ],
   "source": [
    "with open('final_best_params/best_params_RF.json', 'r') as f:\n",
    "    best_params_RF = json.load(f)\n",
    "\n",
    "# Assuming 'best_params' has been filled with the best parameters for each model from GridSearchCV or RandomizedSearchCV\n",
    "algorithms = [\n",
    "    ('RF', RandomForestClassifier(**best_params_RF.get(\"RF\", {}), random_state=seed)),\n",
    "]\n",
    "\n",
    "cv_results = {}\n",
    "for name, model in algorithms:\n",
    "    cv_scores = cross_val_score(\n",
    "        model, transformed_X, y, cv=k_fold, scoring=\"accuracy\"\n",
    "    )\n",
    "    cv_results[name] = cv_scores.mean()\n",
    "\n",
    "# Hiển thị kết quả cross-validation\n",
    "for name, score in cv_results.items():\n",
    "    algorithms_score_df.append({\n",
    "        \"model\": name + \"after_resampling\",\n",
    "        \"score\": score\n",
    "    })\n",
    "    print(f\"{name}: {score}\")"
   ]
  },
  {
   "cell_type": "markdown",
   "metadata": {},
   "source": [
    "##### Các thuật toán khác"
   ]
  },
  {
   "cell_type": "markdown",
   "metadata": {},
   "source": [
    "##### Trước resampling"
   ]
  },
  {
   "cell_type": "code",
   "execution_count": 103,
   "metadata": {},
   "outputs": [
    {
     "name": "stdout",
     "output_type": "stream",
     "text": [
      "{'LR': {'solver': 'saga', 'penalty': 'l1', 'C': 0.08858667904100823}, 'KNN': {'weights': 'uniform', 'n_neighbors': 20, 'metric': 'minkowski'}, 'DTC': {'min_samples_split': 100, 'min_samples_leaf': 5, 'max_depth': 5}}\n",
      "LR: 0.5965256008359457\n",
      "KNN: 0.5805120167189133\n",
      "DTC: 0.586298328108673\n"
     ]
    }
   ],
   "source": [
    "with open('final_best_params/best_params_random_other.json', 'r') as f:\n",
    "    best_params = json.load(f)\n",
    "    best_params[\"LR\"].pop(\"class_weight\", None)\n",
    "    best_params[\"KNN\"].pop(\"class_weight\", None)\n",
    "    best_params[\"DTC\"].pop(\"class_weight\", None)\n",
    "    print(best_params)\n",
    "\n",
    "# Assuming 'best_params' has been filled with the best parameters for each model from GridSearchCV or RandomizedSearchCV\n",
    "algorithms = [\n",
    "    (\"LR\", LogisticRegression(**best_params.get(\"LR\", {}), random_state=seed)),\n",
    "    ('KNN', KNeighborsClassifier(**best_params.get(\"KNN\", {}))),\n",
    "    (\"DTC\", DecisionTreeClassifier(**best_params.get(\"DTC\", {}), random_state=seed)),\n",
    "]\n",
    "\n",
    "cv_results = {}\n",
    "for name, model in algorithms:\n",
    "    cv_scores = cross_val_score(model, X, y, cv=k_fold)  # Thực hiện cross-validation với số lượng fold là 5\n",
    "    cv_results[name] = cv_scores.mean()  # Lưu kết quả trung bình của các fold\n",
    "\n",
    "# Hiển thị kết quả cross-validation\n",
    "for name, score in cv_results.items():\n",
    "    algorithms_score_df.append({\n",
    "        \"model\": name + \"before_resampling\",\n",
    "        \"score\": score\n",
    "    })\n",
    "    print(f\"{name}: {score}\")"
   ]
  },
  {
   "cell_type": "markdown",
   "metadata": {},
   "source": [
    "##### Sau resampling"
   ]
  },
  {
   "cell_type": "code",
   "execution_count": 104,
   "metadata": {},
   "outputs": [
    {
     "name": "stdout",
     "output_type": "stream",
     "text": [
      "LR: 0.5462857142857143\n",
      "KNN: 0.5188571428571429\n",
      "DTC: 0.46399999999999997\n"
     ]
    }
   ],
   "source": [
    "with open('final_best_params/best_params_random_other_balanced.json', 'r') as f:\n",
    "    best_params = json.load(f)\n",
    "    best_params[\"LR\"].setdefault(\"class_weight\", \"balanced\")\n",
    "    best_params[\"DTC\"].setdefault(\"class_weight\", \"balanced\")\n",
    "\n",
    "# Assuming 'best_params' has been filled with the best parameters for each model from GridSearchCV or RandomizedSearchCV\n",
    "algorithms = [\n",
    "    (\"LR\", LogisticRegression(**best_params.get(\"LR\", {}), random_state=seed)),\n",
    "    ('KNN', KNeighborsClassifier(**best_params.get(\"KNN\", {}))),\n",
    "    (\"DTC\", DecisionTreeClassifier(**best_params.get(\"DTC\", {}), random_state=seed)),\n",
    "]\n",
    "\n",
    "cv_results = {}\n",
    "for name, model in algorithms:\n",
    "    cv_scores = cross_val_score(model, X, y, cv=5)  # Thực hiện cross-validation với số lượng fold là 5\n",
    "    cv_results[name] = cv_scores.mean()  # Lưu kết quả trung bình của các fold\n",
    "\n",
    "# Hiển thị kết quả cross-validation\n",
    "for name, score in cv_results.items():\n",
    "    algorithms_score_df.append({\n",
    "        \"model\": name + \"after_resampling\",\n",
    "        \"score\": score\n",
    "    })\n",
    "    print(f\"{name}: {score}\")"
   ]
  },
  {
   "cell_type": "code",
   "execution_count": 105,
   "metadata": {},
   "outputs": [
    {
     "data": {
      "text/plain": [
       "[{'model': 'RFbefore_resampling', 'score': 0.5691353187042842},\n",
       " {'model': 'RFafter_resampling', 'score': 0.5714080459770116},\n",
       " {'model': 'LRbefore_resampling', 'score': 0.5965256008359457},\n",
       " {'model': 'KNNbefore_resampling', 'score': 0.5805120167189133},\n",
       " {'model': 'DTCbefore_resampling', 'score': 0.586298328108673},\n",
       " {'model': 'LRafter_resampling', 'score': 0.5462857142857143},\n",
       " {'model': 'KNNafter_resampling', 'score': 0.5188571428571429},\n",
       " {'model': 'DTCafter_resampling', 'score': 0.46399999999999997}]"
      ]
     },
     "execution_count": 105,
     "metadata": {},
     "output_type": "execute_result"
    }
   ],
   "source": [
    "algorithms_score_df"
   ]
  },
  {
   "cell_type": "code",
   "execution_count": 112,
   "metadata": {},
   "outputs": [
    {
     "data": {
      "image/png": "[encoded data removed]",
      "text/plain": [
       "<Figure size 1000x600 with 1 Axes>"
      ]
     },
     "metadata": {},
     "output_type": "display_data"
    }
   ],
   "source": [
    "df = pd.DataFrame(algorithms_score_df)\n",
    "\n",
    "# Remove các hàng có cùng tên model\n",
    "df = df.drop_duplicates(subset=[\"model\"])\n",
    "df[\"model\"] = df[\"model\"].str.replace(\"before_resampling\", \"_before_resampling\")\n",
    "df[\"model\"] = df[\"model\"].str.replace(\"after_resampling\", \"_after_resampling\")\n",
    "\n",
    "# Sắp xếp lại dữ liệu\n",
    "df.sort_values(by=[\"model\", \"score\"], inplace=True, ascending=False)\n",
    "\n",
    "# Tạo một bảng màu tùy chỉnh cho các loại resampling\n",
    "palette = {\n",
    "    \"RF_before_resampling\": \"C0\",\n",
    "    \"RF_after_resampling\": \"C0\",\n",
    "    \"LR_before_resampling\": \"C1\",\n",
    "    \"LR_after_resampling\": \"C1\",\n",
    "    \"KNN_before_resampling\": \"C2\",\n",
    "    \"KNN_after_resampling\": \"C2\",\n",
    "    \"DTC_before_resampling\": \"C3\",\n",
    "    \"DTC_after_resampling\": \"C3\",\n",
    "}\n",
    "\n",
    "plt.figure(figsize=(10, 6))\n",
    "bar_plot = sns.barplot(x=\"model\", y=\"score\", data=df, palette=palette)\n",
    "plt.title(\"Accuracy before and after resampling\")\n",
    "plt.ylabel(\"Accuracy\")\n",
    "plt.xlabel(\"Model\")\n",
    "plt.xticks(rotation=45)\n",
    "\n",
    "bar_plot.set_ylim(0, 0.75)\n",
    "\n",
    "# Thêm các con số lên trên các cột\n",
    "for p in bar_plot.patches:\n",
    "    bar_plot.annotate(format(p.get_height(), '.3f'), \n",
    "                      (p.get_x() + p.get_width() / 2., p.get_height()), \n",
    "                      ha = 'center', va = 'center', \n",
    "                      xytext = (0, 9), \n",
    "                      textcoords = 'offset points')\n",
    "\n",
    "plt.show()"
   ]
  },
  {
   "cell_type": "markdown",
   "metadata": {},
   "source": [
    "#### Vẽ ma trận nhầm lẫn của model có độ chính xác cao nhất "
   ]
  },
  {
   "cell_type": "code",
   "execution_count": 147,
   "metadata": {},
   "outputs": [],
   "source": [
    "from sklearn.model_selection import train_test_split\n",
    "X_train, X_test, y_train, y_test = train_test_split(X, y, test_size=0.2, random_state=seed, stratify=y)"
   ]
  },
  {
   "cell_type": "code",
   "execution_count": 148,
   "metadata": {},
   "outputs": [],
   "source": [
    "from sklearn.metrics import confusion_matrix"
   ]
  },
  {
   "cell_type": "markdown",
   "metadata": {},
   "source": [
    "##### Random forest"
   ]
  },
  {
   "cell_type": "code",
   "execution_count": 149,
   "metadata": {},
   "outputs": [
    {
     "data": {
      "image/png": "[encoded data removed]",
      "text/plain": [
       "<Figure size 1000x700 with 1 Axes>"
      ]
     },
     "metadata": {},
     "output_type": "display_data"
    }
   ],
   "source": [
    "with open('final_best_params/best_params_RF.json', 'r') as f:\n",
    "    best_params_RF = json.load(f)\n",
    "    best_params_RF[\"RF\"].pop(\"class_weight\", None)\n",
    "\n",
    "rf_model = RandomForestClassifier(**best_params_RF.get(\"RF\", {}), random_state=seed)\n",
    "\n",
    "y_pred = rf_model.fit(X_train, y_train).predict(X_test)\n",
    "# Tạo ma trận confusion\n",
    "cm = confusion_matrix(y_test, y_pred)\n",
    "\n",
    "# Định nghĩa lại nhãn theo thứ tự mong muốn\n",
    "original_labels = ['Draw', 'Lose', 'Win']\n",
    "desired_labels = ['Win', 'Lose', 'Draw']\n",
    "label_mapping = {label: i for i, label in enumerate(original_labels)}\n",
    "desired_indices = [label_mapping[label] for label in desired_labels]\n",
    "\n",
    "cm_reordered = cm[desired_indices, :][:, desired_indices]\n",
    "df_cm = pd.DataFrame(cm_reordered, index=desired_labels, columns=desired_labels)\n",
    "\n",
    "# Vẽ ma trận confusion với nhãn cụ thể\n",
    "plt.figure(figsize=(10, 7))\n",
    "sns.heatmap(df_cm, annot=True, fmt=\"d\", cmap='Blues', cbar=False)\n",
    "plt.xlabel('Predicted labels')\n",
    "plt.ylabel('True labels')\n",
    "plt.title('Confusion Matrix for Random Forest')\n",
    "plt.show()"
   ]
  },
  {
   "cell_type": "code",
   "execution_count": 150,
   "metadata": {},
   "outputs": [
    {
     "data": {
      "image/png": "[encoded data removed]",
      "text/plain": [
       "<Figure size 1000x700 with 1 Axes>"
      ]
     },
     "metadata": {},
     "output_type": "display_data"
    }
   ],
   "source": [
    "with open('final_best_params/best_params_RF.json', 'r') as f:\n",
    "    best_params_RF = json.load(f)\n",
    "    best_params_RF[\"RF\"][\"class_weight\"] = \"balanced\"\n",
    "\n",
    "rf_model = RandomForestClassifier(**best_params_RF.get(\"RF\", {}), random_state=seed)\n",
    "\n",
    "y_pred = rf_model.fit(X_train, y_train).predict(X_test)\n",
    "\n",
    "# Tạo ma trận confusion\n",
    "cm = confusion_matrix(y_test, y_pred)\n",
    "\n",
    "# Định nghĩa lại nhãn theo thứ tự mong muốn\n",
    "original_labels = ['Draw', 'Lose', 'Win']\n",
    "desired_labels = ['Win', 'Lose', 'Draw']\n",
    "label_mapping = {label: i for i, label in enumerate(original_labels)}\n",
    "desired_indices = [label_mapping[label] for label in desired_labels]\n",
    "\n",
    "cm_reordered = cm[desired_indices, :][:, desired_indices]\n",
    "df_cm = pd.DataFrame(cm_reordered, index=desired_labels, columns=desired_labels)\n",
    "\n",
    "# Vẽ ma trận confusion với nhãn cụ thể\n",
    "plt.figure(figsize=(10, 7))\n",
    "sns.heatmap(df_cm, annot=True, fmt=\"d\", cmap='Blues', cbar=False)\n",
    "plt.xlabel('Predicted labels')\n",
    "plt.ylabel('True labels')\n",
    "plt.title('Confusion Matrix for Random Forest')\n",
    "plt.show()"
   ]
  },
  {
   "cell_type": "markdown",
   "metadata": {},
   "source": [
    "##### Logistic regression"
   ]
  },
  {
   "cell_type": "code",
   "execution_count": 151,
   "metadata": {},
   "outputs": [
    {
     "data": {
      "image/png": "[encoded data removed]",
      "text/plain": [
       "<Figure size 1000x700 with 1 Axes>"
      ]
     },
     "metadata": {},
     "output_type": "display_data"
    }
   ],
   "source": [
    "with open('final_best_params/best_params_random_other_balanced.json', 'r') as f:\n",
    "    best_params_other = json.load(f)\n",
    "    best_params_other[\"LR\"].pop(\"class_weight\", None)\n",
    "\n",
    "lr_model = LogisticRegression(**best_params_other.get(\"LR\", {}), random_state=seed)\n",
    "\n",
    "y_pred = lr_model.fit(X_train, y_train).predict(X_test)\n",
    "\n",
    "# Tạo ma trận confusion\n",
    "cm = confusion_matrix(y_test, y_pred)\n",
    "\n",
    "# Định nghĩa lại nhãn theo thứ tự mong muốn\n",
    "original_labels = ['Draw', 'Lose', 'Win']\n",
    "desired_labels = ['Win', 'Lose', 'Draw']\n",
    "label_mapping = {label: i for i, label in enumerate(original_labels)}\n",
    "desired_indices = [label_mapping[label] for label in desired_labels]\n",
    "\n",
    "# Sắp xếp lại ma trận confusion\n",
    "cm_reordered = cm[:, desired_indices][desired_indices, :]\n",
    "\n",
    "df_cm = pd.DataFrame(cm_reordered, index=desired_labels, columns=desired_labels)\n",
    "\n",
    "# Vẽ ma trận confusion với nhãn cụ thể\n",
    "plt.figure(figsize=(10, 7))\n",
    "sns.heatmap(df_cm, annot=True, fmt=\"d\", cmap='Blues', cbar=False)\n",
    "plt.xlabel('Predicted labels')\n",
    "plt.ylabel('True labels')\n",
    "plt.title('Confusion Matrix for Logistic Regression')\n",
    "plt.show()"
   ]
  },
  {
   "cell_type": "code",
   "execution_count": 152,
   "metadata": {},
   "outputs": [
    {
     "data": {
      "image/png": "[encoded data removed]",
      "text/plain": [
       "<Figure size 1000x700 with 1 Axes>"
      ]
     },
     "metadata": {},
     "output_type": "display_data"
    }
   ],
   "source": [
    "with open('final_best_params/best_params_random_other_balanced.json', 'r') as f:\n",
    "    best_params_other = json.load(f)\n",
    "    best_params_other[\"LR\"].pop(\"class_weight\", None)\n",
    "\n",
    "lr_model = LogisticRegression(**best_params_other.get(\"LR\", {}), class_weight=\"balanced\", random_state=seed)\n",
    "\n",
    "y_pred = lr_model.fit(X_train, y_train).predict(X_test)\n",
    "\n",
    "# Tạo ma trận confusion\n",
    "cm = confusion_matrix(y_test, y_pred)\n",
    "\n",
    "# Định nghĩa lại nhãn theo thứ tự mong muốn\n",
    "original_labels = ['Draw', 'Lose', 'Win']\n",
    "desired_labels = ['Win', 'Lose', 'Draw']\n",
    "label_mapping = {label: i for i, label in enumerate(original_labels)}\n",
    "desired_indices = [label_mapping[label] for label in desired_labels]\n",
    "\n",
    "# Sắp xếp lại ma trận confusion\n",
    "cm_reordered = cm[:, desired_indices][desired_indices, :]\n",
    "\n",
    "df_cm = pd.DataFrame(cm_reordered, index=desired_labels, columns=desired_labels)\n",
    "\n",
    "# Vẽ ma trận confusion với nhãn cụ thể\n",
    "plt.figure(figsize=(10, 7))\n",
    "sns.heatmap(df_cm, annot=True, fmt=\"d\", cmap='Blues', cbar=False)\n",
    "plt.xlabel('Predicted labels')\n",
    "plt.ylabel('True labels')\n",
    "plt.title('Confusion Matrix for Logistic Regression')\n",
    "plt.show()"
   ]
  },
  {
   "cell_type": "markdown",
   "metadata": {},
   "source": [
    "### Nhận xét:\n",
    "- Model random forest cho thấy sự hiệu quả hơn so với model Logistic regression\n",
    "- Thông qua confusion matrix (sau resampling), ta thấy rằng model random forest dự đoán các mẫu positive tốt hơn so với model logistic regression\n",
    "\n",
    "=> Ta sẽ chọn model random forest và dùng nó cho dữ liệu test"
   ]
  },
  {
   "cell_type": "code",
   "execution_count": 8,
   "metadata": {},
   "outputs": [],
   "source": [
    "import pickle\n",
    "def save_model(model, file_name):\n",
    "    with open(file_name, \"wb\") as file:\n",
    "        pickle.dump(model, file)"
   ]
  },
  {
   "cell_type": "code",
   "execution_count": 14,
   "metadata": {},
   "outputs": [],
   "source": [
    "# Lưu các encoder\n",
    "save_model(preprocessor, \"final_model/preprocessor.pkl\")"
   ]
  },
  {
   "cell_type": "code",
   "execution_count": 9,
   "metadata": {},
   "outputs": [],
   "source": [
    "# Lưu model vào file joblib\n",
    "import joblib\n",
    "\n",
    "with open('final_best_params/best_params_RF.json', 'r') as f:\n",
    "    best_params_RF = json.load(f)\n",
    "    best_params_RF[\"RF\"][\"class_weight\"] = \"balanced\"\n",
    "\n",
    "rf_model = RandomForestClassifier(**best_params_RF.get(\"RF\", {}), random_state=seed)\n",
    "rf_model.fit(X, y)\n",
    "\n",
    "save_model(rf_model, \"final_model/RF.pkl\")"
   ]
  },
  {
   "cell_type": "code",
   "execution_count": 15,
   "metadata": {},
   "outputs": [
    {
     "data": {
      "text/plain": [
       "Index(['venue_Away', 'venue_Home', 'season_0', 'season_1', 'season_2',\n",
       "       'season_3', 'season_4', 'win_percent_before_team2', 'win_percent_diff',\n",
       "       'lose_percent_before_team2', 'head2head_win_percent',\n",
       "       'head2head_draw_percent', 'head2head_lost_percent', 'is_opponent_big6',\n",
       "       'ELO_before_match_team2', 'ELO_before_diff',\n",
       "       'average_score_before_match_team2'],\n",
       "      dtype='object')"
      ]
     },
     "execution_count": 15,
     "metadata": {},
     "output_type": "execute_result"
    }
   ],
   "source": [
    "X.columns"
   ]
  }
 ],
 "metadata": {
  "kernelspec": {
   "display_name": ".venv",
   "language": "python",
   "name": "python3"
  },
  "language_info": {
   "codemirror_mode": {
    "name": "ipython",
    "version": 3
   },
   "file_extension": ".py",
   "mimetype": "text/x-python",
   "name": "python",
   "nbconvert_exporter": "python",
   "pygments_lexer": "ipython3",
   "version": "3.12.1"
  }
 },
 "nbformat": 4,
 "nbformat_minor": 2
}
