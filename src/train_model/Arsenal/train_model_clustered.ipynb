{
 "cells": [
  {
   "cell_type": "code",
   "execution_count": 2,
   "metadata": {},
   "outputs": [],
   "source": [
    "import numpy as np\n",
    "import pandas as pd\n",
    "import seaborn as sns\n",
    "import json\n",
    "\n",
    "from sklearn.linear_model import LogisticRegression\n",
    "from sklearn.tree import DecisionTreeClassifier\n",
    "from sklearn.ensemble import RandomForestClassifier\n",
    "from sklearn.svm import SVC\n",
    "from sklearn.neighbors import KNeighborsClassifier\n",
    "\n",
    "from sklearn.model_selection import RandomizedSearchCV\n",
    "\n",
    "from sklearn.model_selection import cross_val_score\n",
    "from sklearn.calibration import CalibratedClassifierCV\n",
    "from sklearn.linear_model import LogisticRegression, SGDClassifier\n",
    "from sklearn.svm import SVC\n",
    "from sklearn.naive_bayes import GaussianNB\n",
    "from sklearn.compose import ColumnTransformer\n",
    "from sklearn.preprocessing import StandardScaler, LabelEncoder\n",
    "from category_encoders import OneHotEncoder, BinaryEncoder\n",
    "from sklearn.model_selection import KFold\n",
    "import seaborn as sns\n",
    "import matplotlib.pyplot as plt\n",
    "from sklearn.metrics import confusion_matrix\n",
    "\n",
    "import warnings\n",
    "warnings.filterwarnings('ignore')\n",
    "\n",
    "n_splits = 10\n",
    "seed = 42\n",
    "np.random.seed(seed)\n",
    "\n",
    "k_fold = KFold(n_splits=n_splits, shuffle=True, random_state=seed)"
   ]
  },
  {
   "cell_type": "markdown",
   "metadata": {},
   "source": [
    "#### 1 Read and describe data"
   ]
  },
  {
   "cell_type": "code",
   "execution_count": 3,
   "metadata": {},
   "outputs": [
    {
     "data": {
      "text/plain": [
       "Index(['result', 'venue', 'season', 'win_percent_before_team2',\n",
       "       'win_percent_diff', 'draw_percent_before_team2',\n",
       "       'lose_percent_before_team2', 'head2head_win_percent',\n",
       "       'head2head_draw_percent', 'head2head_lost_percent', 'is_opponent_big6',\n",
       "       'ELO_before_match_team2', 'ELO_before_diff',\n",
       "       'average_score_before_match_team1', 'average_score_before_match_team2',\n",
       "       'average_score_before_match_diff', 'Cluster', 'match_type',\n",
       "       'win_rate_type'],\n",
       "      dtype='object')"
      ]
     },
     "execution_count": 3,
     "metadata": {},
     "output_type": "execute_result"
    }
   ],
   "source": [
    "matches_df = pd.read_csv(\"../../../data_for_training/arsenal_clustered.csv\")\n",
    "matches_df.columns"
   ]
  },
  {
   "cell_type": "code",
   "execution_count": 4,
   "metadata": {},
   "outputs": [
    {
     "data": {
      "image/png": "[encoded data removed]",
      "text/plain": [
       "<Figure size 640x480 with 1 Axes>"
      ]
     },
     "metadata": {},
     "output_type": "display_data"
    }
   ],
   "source": [
    "matches_df = matches_df.drop(\n",
    "    columns=[\n",
    "        \"average_score_before_match_team1\",\n",
    "        \"average_score_before_match_diff\",\n",
    "        \"draw_percent_before_team2\",\n",
    "    ]\n",
    ")\n",
    "\n",
    "sns.countplot(x=\"result\", data=matches_df, palette=\"Set1\");"
   ]
  },
  {
   "cell_type": "markdown",
   "metadata": {},
   "source": [
    "### Phân chia dữ liệu thành X, y"
   ]
  },
  {
   "cell_type": "code",
   "execution_count": 5,
   "metadata": {},
   "outputs": [
    {
     "data": {
      "text/html": [
       "<div>\n",
       "<style scoped>\n",
       "    .dataframe tbody tr th:only-of-type {\n",
       "        vertical-align: middle;\n",
       "    }\n",
       "\n",
       "    .dataframe tbody tr th {\n",
       "        vertical-align: top;\n",
       "    }\n",
       "\n",
       "    .dataframe thead th {\n",
       "        text-align: right;\n",
       "    }\n",
       "</style>\n",
       "<table border=\"1\" class=\"dataframe\">\n",
       "  <thead>\n",
       "    <tr style=\"text-align: right;\">\n",
       "      <th></th>\n",
       "      <th>venue</th>\n",
       "      <th>season</th>\n",
       "      <th>win_percent_before_team2</th>\n",
       "      <th>win_percent_diff</th>\n",
       "      <th>lose_percent_before_team2</th>\n",
       "      <th>head2head_win_percent</th>\n",
       "      <th>head2head_draw_percent</th>\n",
       "      <th>head2head_lost_percent</th>\n",
       "      <th>is_opponent_big6</th>\n",
       "      <th>ELO_before_match_team2</th>\n",
       "      <th>ELO_before_diff</th>\n",
       "      <th>average_score_before_match_team2</th>\n",
       "      <th>Cluster</th>\n",
       "      <th>match_type</th>\n",
       "      <th>win_rate_type</th>\n",
       "    </tr>\n",
       "  </thead>\n",
       "  <tbody>\n",
       "    <tr>\n",
       "      <th>0</th>\n",
       "      <td>Away</td>\n",
       "      <td>2000-2001</td>\n",
       "      <td>0.000000</td>\n",
       "      <td>0.000000</td>\n",
       "      <td>0.000000</td>\n",
       "      <td>0.0</td>\n",
       "      <td>0.0</td>\n",
       "      <td>0.0</td>\n",
       "      <td>0</td>\n",
       "      <td>1500.000000</td>\n",
       "      <td>0.000000</td>\n",
       "      <td>0.000000</td>\n",
       "      <td>0</td>\n",
       "      <td>Weak Opponent</td>\n",
       "      <td>Diverse Win Rate</td>\n",
       "    </tr>\n",
       "    <tr>\n",
       "      <th>1</th>\n",
       "      <td>Home</td>\n",
       "      <td>2000-2001</td>\n",
       "      <td>1.000000</td>\n",
       "      <td>-1.000000</td>\n",
       "      <td>0.000000</td>\n",
       "      <td>0.0</td>\n",
       "      <td>0.0</td>\n",
       "      <td>0.0</td>\n",
       "      <td>1</td>\n",
       "      <td>1531.250000</td>\n",
       "      <td>-62.500000</td>\n",
       "      <td>3.000000</td>\n",
       "      <td>2</td>\n",
       "      <td>Strong Opponent</td>\n",
       "      <td>High Win Rate</td>\n",
       "    </tr>\n",
       "    <tr>\n",
       "      <th>2</th>\n",
       "      <td>Home</td>\n",
       "      <td>2000-2001</td>\n",
       "      <td>0.500000</td>\n",
       "      <td>0.000000</td>\n",
       "      <td>0.500000</td>\n",
       "      <td>0.0</td>\n",
       "      <td>0.0</td>\n",
       "      <td>0.0</td>\n",
       "      <td>0</td>\n",
       "      <td>1513.545664</td>\n",
       "      <td>-0.621645</td>\n",
       "      <td>1.500000</td>\n",
       "      <td>0</td>\n",
       "      <td>Weak Opponent</td>\n",
       "      <td>Diverse Win Rate</td>\n",
       "    </tr>\n",
       "    <tr>\n",
       "      <th>3</th>\n",
       "      <td>Away</td>\n",
       "      <td>2000-2001</td>\n",
       "      <td>0.333333</td>\n",
       "      <td>0.333333</td>\n",
       "      <td>0.333333</td>\n",
       "      <td>0.0</td>\n",
       "      <td>0.0</td>\n",
       "      <td>0.0</td>\n",
       "      <td>1</td>\n",
       "      <td>1507.852086</td>\n",
       "      <td>42.639029</td>\n",
       "      <td>1.333333</td>\n",
       "      <td>0</td>\n",
       "      <td>Weak Opponent</td>\n",
       "      <td>Diverse Win Rate</td>\n",
       "    </tr>\n",
       "    <tr>\n",
       "      <th>4</th>\n",
       "      <td>Away</td>\n",
       "      <td>2000-2001</td>\n",
       "      <td>0.250000</td>\n",
       "      <td>0.250000</td>\n",
       "      <td>0.500000</td>\n",
       "      <td>0.0</td>\n",
       "      <td>0.0</td>\n",
       "      <td>0.0</td>\n",
       "      <td>0</td>\n",
       "      <td>1456.587085</td>\n",
       "      <td>96.956843</td>\n",
       "      <td>1.000000</td>\n",
       "      <td>0</td>\n",
       "      <td>Weak Opponent</td>\n",
       "      <td>Diverse Win Rate</td>\n",
       "    </tr>\n",
       "  </tbody>\n",
       "</table>\n",
       "</div>"
      ],
      "text/plain": [
       "  venue     season  win_percent_before_team2  win_percent_diff  \\\n",
       "0  Away  2000-2001                  0.000000          0.000000   \n",
       "1  Home  2000-2001                  1.000000         -1.000000   \n",
       "2  Home  2000-2001                  0.500000          0.000000   \n",
       "3  Away  2000-2001                  0.333333          0.333333   \n",
       "4  Away  2000-2001                  0.250000          0.250000   \n",
       "\n",
       "   lose_percent_before_team2  head2head_win_percent  head2head_draw_percent  \\\n",
       "0                   0.000000                    0.0                     0.0   \n",
       "1                   0.000000                    0.0                     0.0   \n",
       "2                   0.500000                    0.0                     0.0   \n",
       "3                   0.333333                    0.0                     0.0   \n",
       "4                   0.500000                    0.0                     0.0   \n",
       "\n",
       "   head2head_lost_percent  is_opponent_big6  ELO_before_match_team2  \\\n",
       "0                     0.0                 0             1500.000000   \n",
       "1                     0.0                 1             1531.250000   \n",
       "2                     0.0                 0             1513.545664   \n",
       "3                     0.0                 1             1507.852086   \n",
       "4                     0.0                 0             1456.587085   \n",
       "\n",
       "   ELO_before_diff  average_score_before_match_team2  Cluster  \\\n",
       "0         0.000000                          0.000000        0   \n",
       "1       -62.500000                          3.000000        2   \n",
       "2        -0.621645                          1.500000        0   \n",
       "3        42.639029                          1.333333        0   \n",
       "4        96.956843                          1.000000        0   \n",
       "\n",
       "        match_type     win_rate_type  \n",
       "0    Weak Opponent  Diverse Win Rate  \n",
       "1  Strong Opponent     High Win Rate  \n",
       "2    Weak Opponent  Diverse Win Rate  \n",
       "3    Weak Opponent  Diverse Win Rate  \n",
       "4    Weak Opponent  Diverse Win Rate  "
      ]
     },
     "execution_count": 5,
     "metadata": {},
     "output_type": "execute_result"
    }
   ],
   "source": [
    "X = matches_df.drop(\"result\", axis=1)\n",
    "X.head()"
   ]
  },
  {
   "cell_type": "code",
   "execution_count": 6,
   "metadata": {},
   "outputs": [],
   "source": [
    "label_encoder = LabelEncoder()\n",
    "y = label_encoder.fit_transform(matches_df[\"result\"])"
   ]
  },
  {
   "cell_type": "code",
   "execution_count": 7,
   "metadata": {},
   "outputs": [
    {
     "data": {
      "text/plain": [
       "(Index(['win_percent_before_team2', 'win_percent_diff',\n",
       "        'lose_percent_before_team2', 'head2head_win_percent',\n",
       "        'head2head_draw_percent', 'head2head_lost_percent', 'is_opponent_big6',\n",
       "        'ELO_before_match_team2', 'ELO_before_diff',\n",
       "        'average_score_before_match_team2', 'Cluster'],\n",
       "       dtype='object'),\n",
       " Index(['venue', 'season', 'match_type', 'win_rate_type'], dtype='object'))"
      ]
     },
     "execution_count": 7,
     "metadata": {},
     "output_type": "execute_result"
    }
   ],
   "source": [
    "# Xác định các cột phân loại và cột số\n",
    "categorical_cols = X.select_dtypes(include=['object', 'category']).columns\n",
    "numerical_cols = X.select_dtypes(include=['int64', 'float64']).columns\n",
    "\n",
    "numerical_cols, categorical_cols"
   ]
  },
  {
   "cell_type": "markdown",
   "metadata": {},
   "source": [
    "#### Encoding cho các đặc trưng"
   ]
  },
  {
   "cell_type": "code",
   "execution_count": 8,
   "metadata": {},
   "outputs": [
    {
     "data": {
      "text/html": [
       "<div>\n",
       "<style scoped>\n",
       "    .dataframe tbody tr th:only-of-type {\n",
       "        vertical-align: middle;\n",
       "    }\n",
       "\n",
       "    .dataframe tbody tr th {\n",
       "        vertical-align: top;\n",
       "    }\n",
       "\n",
       "    .dataframe thead th {\n",
       "        text-align: right;\n",
       "    }\n",
       "</style>\n",
       "<table border=\"1\" class=\"dataframe\">\n",
       "  <thead>\n",
       "    <tr style=\"text-align: right;\">\n",
       "      <th></th>\n",
       "      <th>venue_Away</th>\n",
       "      <th>venue_Home</th>\n",
       "      <th>season_0</th>\n",
       "      <th>season_1</th>\n",
       "      <th>season_2</th>\n",
       "      <th>season_3</th>\n",
       "      <th>season_4</th>\n",
       "      <th>match_type_0</th>\n",
       "      <th>match_type_1</th>\n",
       "      <th>win_rate_type_0</th>\n",
       "      <th>...</th>\n",
       "      <th>win_percent_diff</th>\n",
       "      <th>lose_percent_before_team2</th>\n",
       "      <th>head2head_win_percent</th>\n",
       "      <th>head2head_draw_percent</th>\n",
       "      <th>head2head_lost_percent</th>\n",
       "      <th>is_opponent_big6</th>\n",
       "      <th>ELO_before_match_team2</th>\n",
       "      <th>ELO_before_diff</th>\n",
       "      <th>average_score_before_match_team2</th>\n",
       "      <th>Cluster</th>\n",
       "    </tr>\n",
       "  </thead>\n",
       "  <tbody>\n",
       "    <tr>\n",
       "      <th>0</th>\n",
       "      <td>1.0</td>\n",
       "      <td>0.0</td>\n",
       "      <td>0.0</td>\n",
       "      <td>0.0</td>\n",
       "      <td>0.0</td>\n",
       "      <td>0.0</td>\n",
       "      <td>1.0</td>\n",
       "      <td>0.0</td>\n",
       "      <td>1.0</td>\n",
       "      <td>0.0</td>\n",
       "      <td>...</td>\n",
       "      <td>-0.520879</td>\n",
       "      <td>-1.435440</td>\n",
       "      <td>-1.948832</td>\n",
       "      <td>-1.169633</td>\n",
       "      <td>-0.973674</td>\n",
       "      <td>-0.595390</td>\n",
       "      <td>0.026422</td>\n",
       "      <td>-0.826088</td>\n",
       "      <td>-1.794548</td>\n",
       "      <td>-1.119467</td>\n",
       "    </tr>\n",
       "    <tr>\n",
       "      <th>1</th>\n",
       "      <td>0.0</td>\n",
       "      <td>1.0</td>\n",
       "      <td>0.0</td>\n",
       "      <td>0.0</td>\n",
       "      <td>0.0</td>\n",
       "      <td>0.0</td>\n",
       "      <td>1.0</td>\n",
       "      <td>1.0</td>\n",
       "      <td>0.0</td>\n",
       "      <td>1.0</td>\n",
       "      <td>...</td>\n",
       "      <td>-3.368248</td>\n",
       "      <td>-1.435440</td>\n",
       "      <td>-1.948832</td>\n",
       "      <td>-1.169633</td>\n",
       "      <td>-0.973674</td>\n",
       "      <td>1.679572</td>\n",
       "      <td>0.155401</td>\n",
       "      <td>-1.022913</td>\n",
       "      <td>2.225725</td>\n",
       "      <td>1.485675</td>\n",
       "    </tr>\n",
       "    <tr>\n",
       "      <th>2</th>\n",
       "      <td>0.0</td>\n",
       "      <td>1.0</td>\n",
       "      <td>0.0</td>\n",
       "      <td>0.0</td>\n",
       "      <td>0.0</td>\n",
       "      <td>0.0</td>\n",
       "      <td>1.0</td>\n",
       "      <td>0.0</td>\n",
       "      <td>1.0</td>\n",
       "      <td>0.0</td>\n",
       "      <td>...</td>\n",
       "      <td>-0.520879</td>\n",
       "      <td>0.540040</td>\n",
       "      <td>-1.948832</td>\n",
       "      <td>-1.169633</td>\n",
       "      <td>-0.973674</td>\n",
       "      <td>-0.595390</td>\n",
       "      <td>0.082329</td>\n",
       "      <td>-0.828046</td>\n",
       "      <td>0.215589</td>\n",
       "      <td>-1.119467</td>\n",
       "    </tr>\n",
       "    <tr>\n",
       "      <th>3</th>\n",
       "      <td>1.0</td>\n",
       "      <td>0.0</td>\n",
       "      <td>0.0</td>\n",
       "      <td>0.0</td>\n",
       "      <td>0.0</td>\n",
       "      <td>0.0</td>\n",
       "      <td>1.0</td>\n",
       "      <td>0.0</td>\n",
       "      <td>1.0</td>\n",
       "      <td>0.0</td>\n",
       "      <td>...</td>\n",
       "      <td>0.428244</td>\n",
       "      <td>-0.118454</td>\n",
       "      <td>-1.948832</td>\n",
       "      <td>-1.169633</td>\n",
       "      <td>-0.973674</td>\n",
       "      <td>1.679572</td>\n",
       "      <td>0.058830</td>\n",
       "      <td>-0.691810</td>\n",
       "      <td>-0.007760</td>\n",
       "      <td>-1.119467</td>\n",
       "    </tr>\n",
       "    <tr>\n",
       "      <th>4</th>\n",
       "      <td>1.0</td>\n",
       "      <td>0.0</td>\n",
       "      <td>0.0</td>\n",
       "      <td>0.0</td>\n",
       "      <td>0.0</td>\n",
       "      <td>0.0</td>\n",
       "      <td>1.0</td>\n",
       "      <td>0.0</td>\n",
       "      <td>1.0</td>\n",
       "      <td>0.0</td>\n",
       "      <td>...</td>\n",
       "      <td>0.190964</td>\n",
       "      <td>0.540040</td>\n",
       "      <td>-1.948832</td>\n",
       "      <td>-1.169633</td>\n",
       "      <td>-0.973674</td>\n",
       "      <td>-0.595390</td>\n",
       "      <td>-0.152758</td>\n",
       "      <td>-0.520753</td>\n",
       "      <td>-0.454457</td>\n",
       "      <td>-1.119467</td>\n",
       "    </tr>\n",
       "  </tbody>\n",
       "</table>\n",
       "<p>5 rows × 22 columns</p>\n",
       "</div>"
      ],
      "text/plain": [
       "   venue_Away  venue_Home  season_0  season_1  season_2  season_3  season_4  \\\n",
       "0         1.0         0.0       0.0       0.0       0.0       0.0       1.0   \n",
       "1         0.0         1.0       0.0       0.0       0.0       0.0       1.0   \n",
       "2         0.0         1.0       0.0       0.0       0.0       0.0       1.0   \n",
       "3         1.0         0.0       0.0       0.0       0.0       0.0       1.0   \n",
       "4         1.0         0.0       0.0       0.0       0.0       0.0       1.0   \n",
       "\n",
       "   match_type_0  match_type_1  win_rate_type_0  ...  win_percent_diff  \\\n",
       "0           0.0           1.0              0.0  ...         -0.520879   \n",
       "1           1.0           0.0              1.0  ...         -3.368248   \n",
       "2           0.0           1.0              0.0  ...         -0.520879   \n",
       "3           0.0           1.0              0.0  ...          0.428244   \n",
       "4           0.0           1.0              0.0  ...          0.190964   \n",
       "\n",
       "   lose_percent_before_team2  head2head_win_percent  head2head_draw_percent  \\\n",
       "0                  -1.435440              -1.948832               -1.169633   \n",
       "1                  -1.435440              -1.948832               -1.169633   \n",
       "2                   0.540040              -1.948832               -1.169633   \n",
       "3                  -0.118454              -1.948832               -1.169633   \n",
       "4                   0.540040              -1.948832               -1.169633   \n",
       "\n",
       "   head2head_lost_percent  is_opponent_big6  ELO_before_match_team2  \\\n",
       "0               -0.973674         -0.595390                0.026422   \n",
       "1               -0.973674          1.679572                0.155401   \n",
       "2               -0.973674         -0.595390                0.082329   \n",
       "3               -0.973674          1.679572                0.058830   \n",
       "4               -0.973674         -0.595390               -0.152758   \n",
       "\n",
       "   ELO_before_diff  average_score_before_match_team2   Cluster  \n",
       "0        -0.826088                         -1.794548 -1.119467  \n",
       "1        -1.022913                          2.225725  1.485675  \n",
       "2        -0.828046                          0.215589 -1.119467  \n",
       "3        -0.691810                         -0.007760 -1.119467  \n",
       "4        -0.520753                         -0.454457 -1.119467  \n",
       "\n",
       "[5 rows x 22 columns]"
      ]
     },
     "execution_count": 8,
     "metadata": {},
     "output_type": "execute_result"
    }
   ],
   "source": [
    "preprocessor = ColumnTransformer(\n",
    "    transformers=[\n",
    "        (\"venue\", OneHotEncoder(use_cat_names=True), [\"venue\"]),\n",
    "        (\"season\", BinaryEncoder(), [\"season\"]),\n",
    "        (\"match_type\", BinaryEncoder(), [\"match_type\"]),\n",
    "        (\"win_rate_type\", BinaryEncoder(), [\"win_rate_type\"]),\n",
    "        ('num', StandardScaler(), numerical_cols),\n",
    "    ]\n",
    ")\n",
    "\n",
    "transformed_X = preprocessor.fit_transform(X)\n",
    "\n",
    "# Hiển thị dữ liệu sau khi tiền xử lý\n",
    "columns = (\n",
    "    list(preprocessor.named_transformers_[\"venue\"].get_feature_names_out())\n",
    "    + list(preprocessor.named_transformers_[\"season\"].get_feature_names_out())\n",
    "    + list(preprocessor.named_transformers_[\"match_type\"].get_feature_names_out())\n",
    "    + list(preprocessor.named_transformers_[\"win_rate_type\"].get_feature_names_out())\n",
    "    + numerical_cols.tolist()\n",
    ")\n",
    "\n",
    "transformed_X = pd.DataFrame(transformed_X, columns=columns)\n",
    "transformed_X.head()"
   ]
  },
  {
   "cell_type": "code",
   "execution_count": 9,
   "metadata": {},
   "outputs": [],
   "source": [
    "X = transformed_X"
   ]
  },
  {
   "cell_type": "code",
   "execution_count": 10,
   "metadata": {},
   "outputs": [
    {
     "name": "stdout",
     "output_type": "stream",
     "text": [
      "              precision    recall  f1-score   support\n",
      "\n",
      "           0       0.82      0.74      0.78       152\n",
      "           1       0.73      0.75      0.74       147\n",
      "           2       0.66      0.71      0.68       148\n",
      "\n",
      "    accuracy                           0.73       447\n",
      "   macro avg       0.74      0.73      0.73       447\n",
      "weighted avg       0.74      0.73      0.73       447\n",
      "\n"
     ]
    }
   ],
   "source": [
    "from imblearn.over_sampling import SMOTE\n",
    "\n",
    "smote = SMOTE(random_state=42)\n",
    "X_resampled, y_resampled = smote.fit_resample(X, y)\n",
    "\n",
    "# Huấn luyện mô hình với dữ liệu đã xử lý mất cân bằng\n",
    "from sklearn.ensemble import RandomForestClassifier\n",
    "from sklearn.model_selection import train_test_split\n",
    "from sklearn.metrics import classification_report\n",
    "\n",
    "X_train, X_test, y_train, y_test = train_test_split(X_resampled, y_resampled, test_size=0.3, random_state=42)\n",
    "rf = RandomForestClassifier(n_estimators=100, random_state=42)\n",
    "rf.fit(X_train, y_train)\n",
    "y_pred = rf.predict(X_test)\n",
    "\n",
    "print(classification_report(y_test, y_pred))\n"
   ]
  },
  {
   "cell_type": "code",
   "execution_count": 11,
   "metadata": {},
   "outputs": [
    {
     "data": {
      "text/plain": [
       "win_percent_before_team2            0.091143\n",
       "win_percent_diff                   -0.051543\n",
       "lose_percent_before_team2          -0.081934\n",
       "head2head_win_percent              -0.050576\n",
       "head2head_draw_percent              0.022022\n",
       "head2head_lost_percent              0.054338\n",
       "is_opponent_big6                    0.119248\n",
       "ELO_before_match_team2              0.097436\n",
       "ELO_before_diff                    -0.059937\n",
       "average_score_before_match_team2    0.105563\n",
       "Cluster                             0.077692\n",
       "dtype: float64"
      ]
     },
     "execution_count": 11,
     "metadata": {},
     "output_type": "execute_result"
    }
   ],
   "source": [
    "X_test[numerical_cols].mean()"
   ]
  },
  {
   "cell_type": "code",
   "execution_count": 11,
   "metadata": {},
   "outputs": [
    {
     "name": "stdout",
     "output_type": "stream",
     "text": [
      "Counter({1: 496, 2: 496, 0: 496})\n"
     ]
    },
    {
     "data": {
      "image/png": "[encoded data removed]",
      "text/plain": [
       "<Figure size 1800x600 with 2 Axes>"
      ]
     },
     "metadata": {},
     "output_type": "display_data"
    }
   ],
   "source": [
    "from collections import Counter\n",
    "\n",
    "# Xem số lượng các giá trị trong y_resampled\n",
    "counter = Counter(y_resampled)\n",
    "print(counter)\n",
    "\n",
    "# Vẽ biểu đồ phân phối của nhãn trước và sau khi áp dụng SMOTE trên cùng một figure\n",
    "fig, axes = plt.subplots(1, 2, figsize=(18, 6))\n",
    "\n",
    "# Trước khi áp dụng SMOTE\n",
    "sns.countplot(x=\"result\", data=matches_df, palette=\"Set1\", ax=axes[0])\n",
    "axes[0].set_title('Distribution of Result Before SMOTE')\n",
    "\n",
    "# Sau khi áp dụng SMOTE\n",
    "resampled_df = pd.DataFrame(y_resampled, columns=[\"result_resampled\"])\n",
    "sns.countplot(x=\"result_resampled\", data=resampled_df, palette=\"Set1\", ax=axes[1])\n",
    "axes[1].set_title('Distribution of Result After SMOTE')\n",
    "axes[1].set_xticklabels(['L', 'W', 'D'])\n",
    "\n",
    "plt.show()"
   ]
  },
  {
   "cell_type": "code",
   "execution_count": 11,
   "metadata": {},
   "outputs": [
    {
     "name": "stdout",
     "output_type": "stream",
     "text": [
      "Fitting 3 folds for each of 81 candidates, totalling 243 fits\n",
      "Best parameters found: {'max_depth': 20, 'min_samples_leaf': 1, 'min_samples_split': 2, 'n_estimators': 300}\n",
      "              precision    recall  f1-score   support\n",
      "\n",
      "           0       0.82      0.74      0.78       152\n",
      "           1       0.76      0.74      0.75       147\n",
      "           2       0.65      0.74      0.69       148\n",
      "\n",
      "    accuracy                           0.74       447\n",
      "   macro avg       0.74      0.74      0.74       447\n",
      "weighted avg       0.75      0.74      0.74       447\n",
      "\n"
     ]
    }
   ],
   "source": [
    "from sklearn.model_selection import GridSearchCV\n",
    "\n",
    "param_grid = {\n",
    "    'n_estimators': [100, 200, 300],\n",
    "    'max_depth': [10, 20, 30],\n",
    "    'min_samples_split': [2, 5, 10],\n",
    "    'min_samples_leaf': [1, 2, 4]\n",
    "}\n",
    "\n",
    "grid_search = GridSearchCV(estimator=rf, param_grid=param_grid, cv=3, n_jobs=-1, verbose=2)\n",
    "grid_search.fit(X_train, y_train)\n",
    "\n",
    "print(f'Best parameters found: {grid_search.best_params_}')\n",
    "best_rf = grid_search.best_estimator_\n",
    "y_pred = best_rf.predict(X_test)\n",
    "print(classification_report(y_test, y_pred))\n"
   ]
  },
  {
   "cell_type": "code",
   "execution_count": 12,
   "metadata": {},
   "outputs": [
    {
     "name": "stdout",
     "output_type": "stream",
     "text": [
      "SVM Classification Report:\n",
      "              precision    recall  f1-score   support\n",
      "\n",
      "           0       0.54      0.54      0.54       152\n",
      "           1       0.59      0.69      0.63       147\n",
      "           2       0.61      0.51      0.56       148\n",
      "\n",
      "    accuracy                           0.58       447\n",
      "   macro avg       0.58      0.58      0.58       447\n",
      "weighted avg       0.58      0.58      0.58       447\n",
      "\n",
      "XGBoost Classification Report:\n",
      "              precision    recall  f1-score   support\n",
      "\n",
      "           0       0.78      0.73      0.75       152\n",
      "           1       0.75      0.73      0.74       147\n",
      "           2       0.65      0.70      0.68       148\n",
      "\n",
      "    accuracy                           0.72       447\n",
      "   macro avg       0.73      0.72      0.72       447\n",
      "weighted avg       0.73      0.72      0.72       447\n",
      "\n"
     ]
    }
   ],
   "source": [
    "from sklearn.svm import SVC\n",
    "from xgboost import XGBClassifier\n",
    "\n",
    "# Thử nghiệm với SVM\n",
    "svc = SVC()\n",
    "svc.fit(X_train, y_train)\n",
    "y_pred_svc = svc.predict(X_test)\n",
    "print('SVM Classification Report:')\n",
    "print(classification_report(y_test, y_pred_svc))\n",
    "\n",
    "# Thử nghiệm với XGBoost\n",
    "xgb = XGBClassifier()\n",
    "xgb.fit(X_train, y_train)\n",
    "y_pred_xgb = xgb.predict(X_test)\n",
    "print('XGBoost Classification Report:')\n",
    "print(classification_report(y_test, y_pred_xgb))\n"
   ]
  },
  {
   "cell_type": "code",
   "execution_count": 13,
   "metadata": {},
   "outputs": [
    {
     "name": "stdout",
     "output_type": "stream",
     "text": [
      "Cross-validation scores: [0.55428571 0.58857143 0.6        0.57714286 0.48      ]\n",
      "Average cross-validation score: 0.56\n"
     ]
    }
   ],
   "source": [
    "from sklearn.model_selection import cross_val_score\n",
    "\n",
    "# Đánh giá mô hình với cross-validation\n",
    "cv_scores = cross_val_score(rf, transformed_X, y, cv=5)\n",
    "print(f'Cross-validation scores: {cv_scores}')\n",
    "print(f'Average cross-validation score: {cv_scores.mean()}')\n"
   ]
  },
  {
   "cell_type": "markdown",
   "metadata": {},
   "source": [
    "#### Note: Cell này dùng để thử nghiệm việc lựa chọn đặc trưng"
   ]
  },
  {
   "cell_type": "code",
   "execution_count": 10,
   "metadata": {},
   "outputs": [],
   "source": [
    "matches_df = pd.read_csv(\"../../../data_for_training/arsenal.csv\")\n",
    "matches_df = matches_df.drop(\n",
    "    columns=[\n",
    "        \"average_score_before_match_team1\",\n",
    "        \"average_score_before_match_diff\",\n",
    "        \"draw_percent_before_team2\",\n",
    "    ]\n",
    ")\n",
    "\n",
    "X = matches_df.drop(\"result\", axis=1)\n",
    "label_encoder = LabelEncoder()\n",
    "y = label_encoder.fit_transform(matches_df[\"result\"])\n",
    "\n",
    "categorical_cols = X.select_dtypes(include=['object', 'category']).columns\n",
    "numerical_cols = X.select_dtypes(include=['int64', 'float64']).columns\n",
    "\n",
    "preprocessor = ColumnTransformer(\n",
    "    transformers=[\n",
    "        (\"venue\", OneHotEncoder(use_cat_names=True), [\"venue\"]),\n",
    "        (\"season\", BinaryEncoder(), [\"season\"]),\n",
    "        ('num', StandardScaler(), numerical_cols),\n",
    "    ]\n",
    ")\n",
    "\n",
    "X = preprocessor.fit_transform(X)\n",
    "\n",
    "# Hiển thị dữ liệu sau khi tiền xử lý\n",
    "columns = (\n",
    "    list(preprocessor.named_transformers_[\"venue\"].get_feature_names_out())\n",
    "    + list(preprocessor.named_transformers_[\"season\"].get_feature_names_out())\n",
    "    + numerical_cols.tolist()\n",
    ")\n",
    "\n",
    "X = pd.DataFrame(X, columns=columns)"
   ]
  },
  {
   "cell_type": "markdown",
   "metadata": {},
   "source": [
    "### Thử nghiệm các mô hình"
   ]
  },
  {
   "cell_type": "code",
   "execution_count": 14,
   "metadata": {},
   "outputs": [
    {
     "name": "stdout",
     "output_type": "stream",
     "text": [
      "Accuracy LR: 0.5080854344277163\n",
      "Accuracy SVC: 0.6129874841284236\n",
      "Accuracy KNN: 0.6774805006348631\n",
      "Accuracy DTC: 0.6196716851079268\n",
      "Accuracy SGDC: 0.4382006167241067\n",
      "Accuracy NB: 0.4509477598403773\n",
      "Accuracy RF: 0.7755895156901869\n"
     ]
    }
   ],
   "source": [
    "algorithms = [\n",
    "    (\"LR\", LogisticRegression(random_state=seed, class_weight=\"balanced\")),\n",
    "    (\n",
    "        \"SVC\",\n",
    "        SVC(\n",
    "            probability=True,\n",
    "            random_state=seed,\n",
    "            class_weight=\"balanced\",\n",
    "        ),\n",
    "    ),\n",
    "    (\"KNN\", KNeighborsClassifier()),\n",
    "    (\"DTC\", DecisionTreeClassifier(random_state=seed, class_weight=\"balanced\")),\n",
    "    (\n",
    "        \"SGDC\",\n",
    "        CalibratedClassifierCV(\n",
    "            SGDClassifier(random_state=seed, class_weight=\"balanced\")\n",
    "        ),\n",
    "    ),\n",
    "    (\"NB\", GaussianNB()),\n",
    "    (\n",
    "        \"RF\",\n",
    "        RandomForestClassifier(\n",
    "            n_estimators=100, random_state=seed, class_weight=\"balanced\"\n",
    "        ),\n",
    "    ),\n",
    "]\n",
    "\n",
    "cv_results = {}\n",
    "\n",
    "for name, model in algorithms:\n",
    "    # Thực hiện cross-validation\n",
    "    cv_scores = cross_val_score(model, X_resampled, y_resampled, cv=k_fold, scoring=\"accuracy\")\n",
    "    cv_results[name] = cv_scores.mean()\n",
    "\n",
    "# Hiển thị kết quả cross-validation\n",
    "for name, score in cv_results.items():\n",
    "    print(f\"Accuracy {name}: {score}\")"
   ]
  },
  {
   "cell_type": "markdown",
   "metadata": {},
   "source": [
    "### Chọn bộ siêu tham số"
   ]
  },
  {
   "cell_type": "markdown",
   "metadata": {},
   "source": [
    "#### SVC"
   ]
  },
  {
   "cell_type": "code",
   "execution_count": 16,
   "metadata": {},
   "outputs": [
    {
     "name": "stdout",
     "output_type": "stream",
     "text": [
      "Model processing:  SVC\n",
      "Fitting 5 folds for each of 1 candidates, totalling 5 fits\n"
     ]
    }
   ],
   "source": [
    "best_params_SVC = {}\n",
    "models_tuned_SVC = {}\n",
    "\n",
    "# Adjust your algorithms list to use descriptive names that match param_grid\n",
    "algorithms = [\n",
    "    (\"SVC\", SVC(probability=True)),\n",
    "]\n",
    "\n",
    "# Define parameter grid with correct keys\n",
    "param_grid = {\n",
    "    \"SVC\": {\n",
    "        \"C\": [0.001, 0.01, 0.1, 1, 10, 100],  # Expanded C range\n",
    "        \"gamma\": [0.001, 0.01, 0.1, 1, 10, 100],  # More granular gamma range\n",
    "        \"kernel\": [\"linear\", \"poly\", \"rbf\", \"sigmoid\"],  # Added kernel options\n",
    "        \"class_weight\": [\"balanced\"]\n",
    "    }\n",
    "}\n",
    "\n",
    "\n",
    "# Randomized Search application with check for parameter grid existence\n",
    "for name, model in algorithms:\n",
    "    print(\"Model processing: \", name)\n",
    "    if name in param_grid:\n",
    "        randomized_search = RandomizedSearchCV(\n",
    "            estimator=model, \n",
    "            param_distributions=param_grid[name], \n",
    "            n_iter=100,  # You can adjust the number of iterations\n",
    "            cv=5, \n",
    "            scoring='accuracy', \n",
    "            random_state=42,\n",
    "            n_jobs=-1,\n",
    "            verbose=1\n",
    "        )\n",
    "        randomized_search.fit(X, y)\n",
    "        best_params_SVC[name] = randomized_search.best_params_\n",
    "        models_tuned_SVC[name] = randomized_search.best_estimator_\n",
    "    else:\n",
    "        print(f\"No parameter grid defined for {name}\")\n"
   ]
  },
  {
   "cell_type": "code",
   "execution_count": 17,
   "metadata": {},
   "outputs": [],
   "source": [
    "with open('best_params/best_params_SVC.json', 'w') as f:\n",
    "    json.dump(best_params_SVC, f)"
   ]
  },
  {
   "cell_type": "markdown",
   "metadata": {},
   "source": [
    "#### RF"
   ]
  },
  {
   "cell_type": "code",
   "execution_count": 14,
   "metadata": {},
   "outputs": [
    {
     "name": "stdout",
     "output_type": "stream",
     "text": [
      "Model processing:  RF\n",
      "Fitting 10 folds for each of 100 candidates, totalling 1000 fits\n"
     ]
    }
   ],
   "source": [
    "best_params_RF = {}\n",
    "models_tuned_RF = {}\n",
    "\n",
    "# Adjust your algorithms list to use descriptive names that match param_grid\n",
    "algorithms = [\n",
    "    ('RF', RandomForestClassifier()),\n",
    "]\n",
    "\n",
    "# Define parameter grid with correct keys\n",
    "param_grid = {\n",
    "    \"RF\": {\n",
    "        \"n_estimators\": [int(x) for x in np.linspace(start = 200, stop = 2000, num = 10)],\n",
    "        \"max_features\": [\"sqrt\", \"log2\", 0.2, 0.4, 0.6],\n",
    "        \"max_depth\": [int(x) for x in np.linspace(10, 110, num = 11)] + [None],\n",
    "        \"min_samples_split\": [2, 5, 10, 20],\n",
    "        \"min_samples_leaf\": [1, 2, 4, 6],\n",
    "        \"class_weight\": [\"balanced\"]\n",
    "    }\n",
    "}\n",
    "\n",
    "\n",
    "# Randomized Search application with check for parameter grid existence\n",
    "for name, model in algorithms:\n",
    "    print(\"Model processing: \", name)\n",
    "    if name in param_grid:\n",
    "        randomized_search = RandomizedSearchCV(\n",
    "            estimator=model, \n",
    "            param_distributions=param_grid[name], \n",
    "            n_iter=100,\n",
    "            cv=k_fold, \n",
    "            scoring='accuracy', \n",
    "            random_state=42,\n",
    "            n_jobs=-1,\n",
    "            verbose=1\n",
    "        )\n",
    "        randomized_search.fit(X, y)\n",
    "        best_params_RF[name] = randomized_search.best_params_\n",
    "        models_tuned_RF[name] = randomized_search.best_estimator_\n",
    "    else:\n",
    "        print(f\"No parameter grid defined for {name}\")\n"
   ]
  },
  {
   "cell_type": "code",
   "execution_count": 15,
   "metadata": {},
   "outputs": [
    {
     "data": {
      "text/plain": [
       "{'n_estimators': 200,\n",
       " 'min_samples_split': 2,\n",
       " 'min_samples_leaf': 1,\n",
       " 'max_features': 'log2',\n",
       " 'max_depth': 20,\n",
       " 'class_weight': 'balanced'}"
      ]
     },
     "execution_count": 15,
     "metadata": {},
     "output_type": "execute_result"
    }
   ],
   "source": [
    "best_params_RF[\"RF\"]"
   ]
  },
  {
   "cell_type": "markdown",
   "metadata": {},
   "source": [
    "#### Các thuật toán khác"
   ]
  },
  {
   "cell_type": "code",
   "execution_count": 16,
   "metadata": {},
   "outputs": [
    {
     "name": "stdout",
     "output_type": "stream",
     "text": [
      "Model processing:  LR\n",
      "Fitting 5 folds for each of 100 candidates, totalling 500 fits\n",
      "Model processing:  KNN\n",
      "Fitting 5 folds for each of 100 candidates, totalling 500 fits\n",
      "Model processing:  DTC\n",
      "Fitting 5 folds for each of 100 candidates, totalling 500 fits\n"
     ]
    }
   ],
   "source": [
    "best_params_random_other = {}\n",
    "models_tuned_random_other = {}\n",
    "\n",
    "# Adjust your algorithms list to use descriptive names that match param_grid\n",
    "algorithms = [\n",
    "    (\"LR\", LogisticRegression()),\n",
    "    ('KNN', KNeighborsClassifier()),\n",
    "    (\"DTC\", DecisionTreeClassifier()),\n",
    "]\n",
    "\n",
    "# Define parameter grid with correct keys\n",
    "param_grid = {\n",
    "    \"LR\": {\n",
    "        \"C\": np.logspace(-4, 4, 20),  # More granular range for C\n",
    "        \"solver\": [\"liblinear\", \"lbfgs\", \"saga\", \"newton-cg\"],  # Added 'newton-cg'\n",
    "        \"penalty\": [\"l1\", \"l2\", \"elasticnet\", \"none\"],  # Different norms for regularization\n",
    "        \"class_weight\": [\"balanced\", None]  # Added class_weight\n",
    "    },\n",
    "    \"DTC\": {\n",
    "        \"max_depth\": [None, 3, 5, 10, 15, 20, 30, 50, 100],  # Expanded range\n",
    "        \"min_samples_split\": [2, 5, 10, 20, 40, 100],  # More options\n",
    "        \"min_samples_leaf\": [1, 2, 5, 10, 20],  # Added min_samples_leaf\n",
    "        \"class_weight\": [\"balanced\"]\n",
    "    },\n",
    "    \"KNN\": {\n",
    "        \"n_neighbors\": list(range(1, 21)),  # More neighbors\n",
    "        \"weights\": [\"uniform\", \"distance\"],  # Existing weights\n",
    "        \"metric\": [\"euclidean\", \"manhattan\", \"chebyshev\", \"minkowski\"]  # Added distance metrics\n",
    "    },\n",
    "}\n",
    "\n",
    "\n",
    "# Randomized Search application with check for parameter grid existence\n",
    "for name, model in algorithms:\n",
    "    print(\"Model processing: \", name)\n",
    "    if name in param_grid:\n",
    "        randomized_search = RandomizedSearchCV(\n",
    "            estimator=model, \n",
    "            param_distributions=param_grid[name], \n",
    "            n_iter=100,  # You can adjust the number of iterations\n",
    "            cv=5, \n",
    "            scoring='accuracy', \n",
    "            random_state=42,\n",
    "            n_jobs=-1,\n",
    "            verbose=1\n",
    "        )\n",
    "        randomized_search.fit(X, y)\n",
    "        best_params_random_other[name] = randomized_search.best_params_\n",
    "        models_tuned_random_other[name] = randomized_search.best_estimator_\n",
    "    else:\n",
    "        print(f\"No parameter grid defined for {name}\")\n"
   ]
  },
  {
   "cell_type": "code",
   "execution_count": 17,
   "metadata": {},
   "outputs": [],
   "source": [
    "with open('best_params/best_params_random_other_balanced.json', 'w') as f:\n",
    "    json.dump(best_params_random_other, f)"
   ]
  },
  {
   "cell_type": "markdown",
   "metadata": {},
   "source": [
    "## Thử nghiệm bộ tham số"
   ]
  },
  {
   "cell_type": "code",
   "execution_count": 15,
   "metadata": {},
   "outputs": [],
   "source": [
    "algorithms_score_df = []"
   ]
  },
  {
   "cell_type": "markdown",
   "metadata": {},
   "source": [
    "##### SVC"
   ]
  },
  {
   "cell_type": "markdown",
   "metadata": {},
   "source": [
    "##### Trước resampling"
   ]
  },
  {
   "cell_type": "code",
   "execution_count": 19,
   "metadata": {},
   "outputs": [
    {
     "name": "stdout",
     "output_type": "stream",
     "text": [
      "SVC: 0.5542857142857144\n"
     ]
    }
   ],
   "source": [
    "with open('best_params/best_params_SVC.json', 'r') as f:\n",
    "    best_params = json.load(f)\n",
    "\n",
    "# Assuming 'best_params' has been filled with the best parameters for each model from GridSearchCV or RandomizedSearchCV\n",
    "algorithms = [\n",
    "    (\"SVC\", SVC(probability=True, **best_params.get(\"SVC\", {}), random_state=42)),\n",
    "]\n",
    "\n",
    "cv_results = {}\n",
    "for name, model in algorithms:\n",
    "    cv_scores = cross_val_score(model, X, y, cv=5)\n",
    "    cv_results[name] = cv_scores.mean()\n",
    "\n",
    "# Hiển thị kết quả cross-validation\n",
    "for name, score in cv_results.items():\n",
    "    algorithms_score_df.append({\n",
    "        \"model\": name + \"before_resampling\",\n",
    "        \"score\": score\n",
    "    })\n",
    "    print(f\"{name}: {score}\")"
   ]
  },
  {
   "cell_type": "markdown",
   "metadata": {},
   "source": [
    "##### Sau resampling"
   ]
  },
  {
   "cell_type": "code",
   "execution_count": 20,
   "metadata": {},
   "outputs": [
    {
     "name": "stdout",
     "output_type": "stream",
     "text": [
      "SVC: 0.3897142857142857\n"
     ]
    }
   ],
   "source": [
    "with open('best_params/best_params_SVC.json', 'r') as f:\n",
    "    best_params = json.load(f)\n",
    "\n",
    "# Assuming 'best_params' has been filled with the best parameters for each model from GridSearchCV or RandomizedSearchCV\n",
    "algorithms = [\n",
    "    (\"SVC\", SVC(probability=True, **best_params.get(\"SVC\", {}), class_weight=\"balanced\", random_state=42)),\n",
    "]\n",
    "\n",
    "cv_results = {}\n",
    "for name, model in algorithms:\n",
    "    cv_scores = cross_val_score(model, X, y, cv=5)  # Thực hiện cross-validation với số lượng fold là 5\n",
    "    cv_results[name] = cv_scores.mean()  # Lưu kết quả trung bình của các fold\n",
    "\n",
    "# Hiển thị kết quả cross-validation\n",
    "for name, score in cv_results.items():\n",
    "    algorithms_score_df.append({\n",
    "        \"model\": name  + \"after_resampling\",\n",
    "        \"score\": score\n",
    "    })\n",
    "    print(f\"{name}: {score}\")"
   ]
  },
  {
   "cell_type": "markdown",
   "metadata": {},
   "source": [
    "##### Random forest"
   ]
  },
  {
   "cell_type": "markdown",
   "metadata": {},
   "source": [
    "##### Trước resampling"
   ]
  },
  {
   "cell_type": "code",
   "execution_count": 11,
   "metadata": {},
   "outputs": [
    {
     "name": "stdout",
     "output_type": "stream",
     "text": [
      "RF: 0.5725835945663532\n"
     ]
    }
   ],
   "source": [
    "with open('best_params/best_params_RF.json', 'r') as f:\n",
    "    best_params_RF = json.load(f)\n",
    "\n",
    "# Assuming 'best_params' has been filled with the best parameters for each model from GridSearchCV or RandomizedSearchCV\n",
    "algorithms = [\n",
    "    ('RF', RandomForestClassifier(**best_params_RF.get(\"RF\", {}), random_state=42)),\n",
    "]\n",
    "\n",
    "cv_results = {}\n",
    "for name, model in algorithms:\n",
    "    cv_scores = cross_val_score(\n",
    "        model, transformed_X, y, cv=k_fold, scoring=\"accuracy\"\n",
    "    )\n",
    "    cv_results[name] = cv_scores.mean()\n",
    "\n",
    "# Hiển thị kết quả cross-validation\n",
    "for name, score in cv_results.items():\n",
    "    algorithms_score_df.append({\n",
    "        \"model\": name + \"before_resampling\",\n",
    "        \"score\": score\n",
    "    })\n",
    "    print(f\"{name}: {score}\")"
   ]
  },
  {
   "cell_type": "markdown",
   "metadata": {},
   "source": [
    "##### Sau resampling"
   ]
  },
  {
   "cell_type": "code",
   "execution_count": 16,
   "metadata": {},
   "outputs": [
    {
     "name": "stdout",
     "output_type": "stream",
     "text": [
      "RF: 0.7816569925630328\n"
     ]
    }
   ],
   "source": [
    "with open('best_params/best_params_RF_balanced.json', 'r') as f:\n",
    "    best_params_RF = json.load(f)\n",
    "\n",
    "# Assuming 'best_params' has been filled with the best parameters for each model from GridSearchCV or RandomizedSearchCV\n",
    "algorithms = [\n",
    "    ('RF', RandomForestClassifier(**best_params_RF.get(\"RF\", {}), random_state=42)),\n",
    "]\n",
    "\n",
    "cv_results = {}\n",
    "for name, model in algorithms:\n",
    "    cv_scores = cross_val_score(\n",
    "        model, X_resampled, y_resampled, cv=k_fold, scoring=\"accuracy\"\n",
    "    )\n",
    "    cv_results[name] = cv_scores.mean()\n",
    "\n",
    "# Hiển thị kết quả cross-validation\n",
    "for name, score in cv_results.items():\n",
    "    algorithms_score_df.append({\n",
    "        \"model\": name + \"after_resampling\",\n",
    "        \"score\": score\n",
    "    })\n",
    "    print(f\"{name}: {score}\")"
   ]
  },
  {
   "cell_type": "markdown",
   "metadata": {},
   "source": [
    "##### Các thuật toán khác"
   ]
  },
  {
   "cell_type": "markdown",
   "metadata": {},
   "source": [
    "##### Trước resampling"
   ]
  },
  {
   "cell_type": "code",
   "execution_count": 54,
   "metadata": {},
   "outputs": [
    {
     "name": "stdout",
     "output_type": "stream",
     "text": [
      "LR: 0.6034285714285714\n",
      "KNN: 0.5885714285714286\n",
      "DTC: 0.598857142857143\n"
     ]
    }
   ],
   "source": [
    "with open('best_params/best_params_random_other.json', 'r') as f:\n",
    "    best_params = json.load(f)\n",
    "\n",
    "# Assuming 'best_params' has been filled with the best parameters for each model from GridSearchCV or RandomizedSearchCV\n",
    "algorithms = [\n",
    "    (\"LR\", LogisticRegression(**best_params.get(\"LR\", {}), random_state=42)),\n",
    "    ('KNN', KNeighborsClassifier(**best_params.get(\"KNN\", {}))),\n",
    "    (\"DTC\", DecisionTreeClassifier(**best_params.get(\"DTC\", {}), random_state=42)),\n",
    "]\n",
    "\n",
    "cv_results = {}\n",
    "for name, model in algorithms:\n",
    "    cv_scores = cross_val_score(model, X, y, cv=5)  # Thực hiện cross-validation với số lượng fold là 5\n",
    "    cv_results[name] = cv_scores.mean()  # Lưu kết quả trung bình của các fold\n",
    "\n",
    "# Hiển thị kết quả cross-validation\n",
    "for name, score in cv_results.items():\n",
    "    algorithms_score_df.append({\n",
    "        \"model\": name + \"before_resampling\",\n",
    "        \"score\": score\n",
    "    })\n",
    "    print(f\"{name}: {score}\")"
   ]
  },
  {
   "cell_type": "markdown",
   "metadata": {},
   "source": [
    "##### Sau resampling"
   ]
  },
  {
   "cell_type": "code",
   "execution_count": 55,
   "metadata": {},
   "outputs": [
    {
     "name": "stdout",
     "output_type": "stream",
     "text": [
      "LR: 0.6034285714285714\n",
      "KNN: 0.5897142857142856\n",
      "DTC: 0.4868571428571428\n"
     ]
    }
   ],
   "source": [
    "with open('best_params/best_params_random_other_balanced.json', 'r') as f:\n",
    "    best_params = json.load(f)\n",
    "\n",
    "# Assuming 'best_params' has been filled with the best parameters for each model from GridSearchCV or RandomizedSearchCV\n",
    "algorithms = [\n",
    "    (\"LR\", LogisticRegression(**best_params.get(\"LR\", {}), random_state=42)),\n",
    "    ('KNN', KNeighborsClassifier(**best_params.get(\"KNN\", {}))),\n",
    "    (\"DTC\", DecisionTreeClassifier(**best_params.get(\"DTC\", {}), random_state=42)),\n",
    "]\n",
    "\n",
    "cv_results = {}\n",
    "for name, model in algorithms:\n",
    "    cv_scores = cross_val_score(model, X, y, cv=5)  # Thực hiện cross-validation với số lượng fold là 5\n",
    "    cv_results[name] = cv_scores.mean()  # Lưu kết quả trung bình của các fold\n",
    "\n",
    "# Hiển thị kết quả cross-validation\n",
    "for name, score in cv_results.items():\n",
    "    algorithms_score_df.append({\n",
    "        \"model\": name + \"after_resampling\",\n",
    "        \"score\": score\n",
    "    })\n",
    "    print(f\"{name}: {score}\")"
   ]
  },
  {
   "cell_type": "code",
   "execution_count": 56,
   "metadata": {},
   "outputs": [
    {
     "data": {
      "text/html": [
       "<div>\n",
       "<style scoped>\n",
       "    .dataframe tbody tr th:only-of-type {\n",
       "        vertical-align: middle;\n",
       "    }\n",
       "\n",
       "    .dataframe tbody tr th {\n",
       "        vertical-align: top;\n",
       "    }\n",
       "\n",
       "    .dataframe thead th {\n",
       "        text-align: right;\n",
       "    }\n",
       "</style>\n",
       "<table border=\"1\" class=\"dataframe\">\n",
       "  <thead>\n",
       "    <tr style=\"text-align: right;\">\n",
       "      <th></th>\n",
       "      <th>model</th>\n",
       "      <th>score</th>\n",
       "    </tr>\n",
       "  </thead>\n",
       "  <tbody>\n",
       "    <tr>\n",
       "      <th>4</th>\n",
       "      <td>LRbefore_resampling</td>\n",
       "      <td>0.603429</td>\n",
       "    </tr>\n",
       "    <tr>\n",
       "      <th>7</th>\n",
       "      <td>LRafter_resampling</td>\n",
       "      <td>0.603429</td>\n",
       "    </tr>\n",
       "    <tr>\n",
       "      <th>2</th>\n",
       "      <td>RFbefore_resampling</td>\n",
       "      <td>0.602286</td>\n",
       "    </tr>\n",
       "    <tr>\n",
       "      <th>6</th>\n",
       "      <td>DTCbefore_resampling</td>\n",
       "      <td>0.598857</td>\n",
       "    </tr>\n",
       "    <tr>\n",
       "      <th>8</th>\n",
       "      <td>KNNafter_resampling</td>\n",
       "      <td>0.589714</td>\n",
       "    </tr>\n",
       "    <tr>\n",
       "      <th>5</th>\n",
       "      <td>KNNbefore_resampling</td>\n",
       "      <td>0.588571</td>\n",
       "    </tr>\n",
       "    <tr>\n",
       "      <th>0</th>\n",
       "      <td>SVCbefore_resampling</td>\n",
       "      <td>0.574857</td>\n",
       "    </tr>\n",
       "    <tr>\n",
       "      <th>3</th>\n",
       "      <td>RFafter_resampling</td>\n",
       "      <td>0.557714</td>\n",
       "    </tr>\n",
       "    <tr>\n",
       "      <th>9</th>\n",
       "      <td>DTCafter_resampling</td>\n",
       "      <td>0.486857</td>\n",
       "    </tr>\n",
       "    <tr>\n",
       "      <th>1</th>\n",
       "      <td>SVCafter_resampling</td>\n",
       "      <td>0.473143</td>\n",
       "    </tr>\n",
       "  </tbody>\n",
       "</table>\n",
       "</div>"
      ],
      "text/plain": [
       "                  model     score\n",
       "4   LRbefore_resampling  0.603429\n",
       "7    LRafter_resampling  0.603429\n",
       "2   RFbefore_resampling  0.602286\n",
       "6  DTCbefore_resampling  0.598857\n",
       "8   KNNafter_resampling  0.589714\n",
       "5  KNNbefore_resampling  0.588571\n",
       "0  SVCbefore_resampling  0.574857\n",
       "3    RFafter_resampling  0.557714\n",
       "9   DTCafter_resampling  0.486857\n",
       "1   SVCafter_resampling  0.473143"
      ]
     },
     "execution_count": 56,
     "metadata": {},
     "output_type": "execute_result"
    }
   ],
   "source": [
    "df = pd.DataFrame(algorithms_score_df)\n",
    "df.sort_values(by=\"score\", ascending=False)\n"
   ]
  },
  {
   "cell_type": "markdown",
   "metadata": {},
   "source": [
    "#### Vẽ ma trận nhầm lẫn của model có độ chính xác cao nhất "
   ]
  },
  {
   "cell_type": "code",
   "execution_count": 11,
   "metadata": {},
   "outputs": [],
   "source": [
    "from sklearn.model_selection import train_test_split\n",
    "from imblearn.over_sampling import SMOTE\n",
    "\n",
    "X_train, X_test, y_train, y_test = train_test_split(X, y, test_size=0.2, random_state=42)"
   ]
  },
  {
   "cell_type": "markdown",
   "metadata": {},
   "source": [
    "##### Random forest"
   ]
  },
  {
   "cell_type": "code",
   "execution_count": 17,
   "metadata": {},
   "outputs": [
    {
     "data": {
      "image/png": "[encoded data removed]",
      "text/plain": [
       "<Figure size 1000x700 with 1 Axes>"
      ]
     },
     "metadata": {},
     "output_type": "display_data"
    }
   ],
   "source": [
    "with open('best_params/best_params_RF.json', 'r') as f:\n",
    "    best_params_RF = json.load(f)\n",
    "\n",
    "rf_model = RandomForestClassifier(**best_params_RF.get(\"RF\", {}), class_weight='balanced', random_state=42)\n",
    "\n",
    "y_pred = rf_model.fit(X_train, y_train).predict(X_test)\n",
    "# Tạo ma trận confusion\n",
    "cm = confusion_matrix(y_test, y_pred)\n",
    "\n",
    "# Định nghĩa nhãn cho các trục tương ứng với các lớp của 'Result'\n",
    "labels = ['Win', 'Lose', 'Draw']\n",
    "\n",
    "df_cm = pd.DataFrame(cm, index=labels, columns=labels)\n",
    "\n",
    "# Vẽ ma trận confusion với nhãn cụ thể\n",
    "plt.figure(figsize=(10, 7))\n",
    "sns.heatmap(df_cm, annot=True, fmt=\"d\", cmap='Blues', cbar=False)\n",
    "plt.xlabel('Predicted labels')\n",
    "plt.ylabel('True labels')\n",
    "plt.title('Confusion Matrix for Random Forest')\n",
    "plt.show()"
   ]
  },
  {
   "cell_type": "markdown",
   "metadata": {},
   "source": [
    "##### Linear regression"
   ]
  },
  {
   "cell_type": "code",
   "execution_count": 18,
   "metadata": {},
   "outputs": [
    {
     "data": {
      "image/png": "[encoded data removed]",
      "text/plain": [
       "<Figure size 1000x700 with 1 Axes>"
      ]
     },
     "metadata": {},
     "output_type": "display_data"
    }
   ],
   "source": [
    "with open('best_params/best_params_random_other.json', 'r') as f:\n",
    "    best_params_other = json.load(f)\n",
    "\n",
    "lr_model = LogisticRegression(**best_params_other.get(\"LR\", {}), class_weight='balanced', random_state=42)\n",
    "\n",
    "y_pred = lr_model.fit(X_train, y_train).predict(X_test)\n",
    "# Tạo ma trận confusion\n",
    "cm = confusion_matrix(y_test, y_pred)\n",
    "\n",
    "# Định nghĩa nhãn cho các trục tương ứng với các lớp của 'Result'\n",
    "labels = ['Win', 'Lose', 'Draw']\n",
    "\n",
    "df_cm = pd.DataFrame(cm, index=labels, columns=labels)\n",
    "\n",
    "# Vẽ ma trận confusion với nhãn cụ thể\n",
    "plt.figure(figsize=(10, 7))\n",
    "sns.heatmap(df_cm, annot=True, fmt=\"d\", cmap='Blues', cbar=False)\n",
    "plt.xlabel('Predicted labels')\n",
    "plt.ylabel('True labels')\n",
    "plt.title('Confusion Matrix for Linear Regression')\n",
    "plt.show()"
   ]
  },
  {
   "cell_type": "markdown",
   "metadata": {},
   "source": [
    "## Test Vẽ ma trận nhầm lẫn của model có độ chính xác cao nhất"
   ]
  },
  {
   "cell_type": "code",
   "execution_count": 17,
   "metadata": {},
   "outputs": [],
   "source": [
    "from sklearn.model_selection import train_test_split\n",
    "X_train, X_test, y_train, y_test = train_test_split(X_resampled, y_resampled, test_size=0.2, random_state=seed, stratify=y_resampled)"
   ]
  },
  {
   "cell_type": "code",
   "execution_count": 18,
   "metadata": {},
   "outputs": [],
   "source": [
    "from sklearn.metrics import confusion_matrix"
   ]
  },
  {
   "cell_type": "code",
   "execution_count": 19,
   "metadata": {},
   "outputs": [
    {
     "data": {
      "image/png": "[encoded data removed]",
      "text/plain": [
       "<Figure size 1000x700 with 1 Axes>"
      ]
     },
     "metadata": {},
     "output_type": "display_data"
    }
   ],
   "source": [
    "with open('best_params/best_params_RF_balanced.json', 'r') as f:\n",
    "    best_params_RF = json.load(f)\n",
    "    best_params_RF[\"RF\"].pop(\"class_weight\", None)\n",
    "\n",
    "rf_model = RandomForestClassifier(**best_params_RF.get(\"RF\", {}), random_state=seed)\n",
    "\n",
    "y_pred = rf_model.fit(X_train, y_train).predict(X_test)\n",
    "# Tạo ma trận confusion\n",
    "cm = confusion_matrix(y_test, y_pred)\n",
    "\n",
    "# Định nghĩa lại nhãn theo thứ tự mong muốn\n",
    "original_labels = ['Draw', 'Lose', 'Win']\n",
    "desired_labels = ['Win', 'Lose', 'Draw']\n",
    "label_mapping = {label: i for i, label in enumerate(original_labels)}\n",
    "desired_indices = [label_mapping[label] for label in desired_labels]\n",
    "\n",
    "cm_reordered = cm[desired_indices, :][:, desired_indices]\n",
    "df_cm = pd.DataFrame(cm_reordered, index=desired_labels, columns=desired_labels)\n",
    "\n",
    "# Vẽ ma trận confusion với nhãn cụ thể\n",
    "plt.figure(figsize=(10, 7))\n",
    "sns.heatmap(df_cm, annot=True, fmt=\"d\", cmap='Blues', cbar=False)\n",
    "plt.xlabel('Predicted labels')\n",
    "plt.ylabel('True labels')\n",
    "plt.title('Confusion Matrix for Random Forest')\n",
    "plt.show()"
   ]
  },
  {
   "cell_type": "code",
   "execution_count": 19,
   "metadata": {},
   "outputs": [],
   "source": [
    "import pickle\n",
    "def save_model(model, file_name):\n",
    "    with open(file_name, \"wb\") as file:\n",
    "        pickle.dump(model, file)"
   ]
  },
  {
   "cell_type": "code",
   "execution_count": 21,
   "metadata": {},
   "outputs": [],
   "source": [
    "# Lưu các encoder\n",
    "save_model(preprocessor, \"final_model_clustered/preprocessor.pkl\")"
   ]
  },
  {
   "cell_type": "code",
   "execution_count": 22,
   "metadata": {},
   "outputs": [],
   "source": [
    "# Lưu model vào file joblib\n",
    "import joblib\n",
    "\n",
    "with open('best_params/best_params_RF_balanced.json', 'r') as f:\n",
    "    best_params_RF = json.load(f)\n",
    "    best_params_RF[\"RF\"][\"class_weight\"] = \"balanced\"\n",
    "\n",
    "rf_model = RandomForestClassifier(**best_params_RF.get(\"RF\", {}), random_state=seed)\n",
    "rf_model.fit(X, y)\n",
    "\n",
    "save_model(rf_model, \"final_model_clustered/RF.pkl\")"
   ]
  },
  {
   "cell_type": "markdown",
   "metadata": {},
   "source": [
    "### Tạo model cho việc phân cụm"
   ]
  },
  {
   "cell_type": "code",
   "execution_count": 30,
   "metadata": {},
   "outputs": [
    {
     "data": {
      "text/html": [
       "<div>\n",
       "<style scoped>\n",
       "    .dataframe tbody tr th:only-of-type {\n",
       "        vertical-align: middle;\n",
       "    }\n",
       "\n",
       "    .dataframe tbody tr th {\n",
       "        vertical-align: top;\n",
       "    }\n",
       "\n",
       "    .dataframe thead th {\n",
       "        text-align: right;\n",
       "    }\n",
       "</style>\n",
       "<table border=\"1\" class=\"dataframe\">\n",
       "  <thead>\n",
       "    <tr style=\"text-align: right;\">\n",
       "      <th></th>\n",
       "      <th>venue_Away</th>\n",
       "      <th>venue_Home</th>\n",
       "      <th>season_0</th>\n",
       "      <th>season_1</th>\n",
       "      <th>season_2</th>\n",
       "      <th>season_3</th>\n",
       "      <th>season_4</th>\n",
       "      <th>match_type_0</th>\n",
       "      <th>match_type_1</th>\n",
       "      <th>win_rate_type_0</th>\n",
       "      <th>...</th>\n",
       "      <th>win_percent_diff</th>\n",
       "      <th>lose_percent_before_team2</th>\n",
       "      <th>head2head_win_percent</th>\n",
       "      <th>head2head_draw_percent</th>\n",
       "      <th>head2head_lost_percent</th>\n",
       "      <th>is_opponent_big6</th>\n",
       "      <th>ELO_before_match_team2</th>\n",
       "      <th>ELO_before_diff</th>\n",
       "      <th>average_score_before_match_team2</th>\n",
       "      <th>Cluster</th>\n",
       "    </tr>\n",
       "  </thead>\n",
       "  <tbody>\n",
       "    <tr>\n",
       "      <th>0</th>\n",
       "      <td>1.000000</td>\n",
       "      <td>0.000000</td>\n",
       "      <td>0.000000</td>\n",
       "      <td>0.000000</td>\n",
       "      <td>0.000000</td>\n",
       "      <td>0.0</td>\n",
       "      <td>1.000000</td>\n",
       "      <td>0.0</td>\n",
       "      <td>1.0</td>\n",
       "      <td>0.0</td>\n",
       "      <td>...</td>\n",
       "      <td>-0.520879</td>\n",
       "      <td>-1.435440</td>\n",
       "      <td>-1.948832</td>\n",
       "      <td>-1.169633</td>\n",
       "      <td>-0.973674</td>\n",
       "      <td>-0.595390</td>\n",
       "      <td>0.026422</td>\n",
       "      <td>-0.826088</td>\n",
       "      <td>-1.794548</td>\n",
       "      <td>-1.119467</td>\n",
       "    </tr>\n",
       "    <tr>\n",
       "      <th>1</th>\n",
       "      <td>0.000000</td>\n",
       "      <td>1.000000</td>\n",
       "      <td>0.000000</td>\n",
       "      <td>0.000000</td>\n",
       "      <td>0.000000</td>\n",
       "      <td>0.0</td>\n",
       "      <td>1.000000</td>\n",
       "      <td>1.0</td>\n",
       "      <td>0.0</td>\n",
       "      <td>1.0</td>\n",
       "      <td>...</td>\n",
       "      <td>-3.368248</td>\n",
       "      <td>-1.435440</td>\n",
       "      <td>-1.948832</td>\n",
       "      <td>-1.169633</td>\n",
       "      <td>-0.973674</td>\n",
       "      <td>1.679572</td>\n",
       "      <td>0.155401</td>\n",
       "      <td>-1.022913</td>\n",
       "      <td>2.225725</td>\n",
       "      <td>1.485675</td>\n",
       "    </tr>\n",
       "    <tr>\n",
       "      <th>2</th>\n",
       "      <td>0.000000</td>\n",
       "      <td>1.000000</td>\n",
       "      <td>0.000000</td>\n",
       "      <td>0.000000</td>\n",
       "      <td>0.000000</td>\n",
       "      <td>0.0</td>\n",
       "      <td>1.000000</td>\n",
       "      <td>0.0</td>\n",
       "      <td>1.0</td>\n",
       "      <td>0.0</td>\n",
       "      <td>...</td>\n",
       "      <td>-0.520879</td>\n",
       "      <td>0.540040</td>\n",
       "      <td>-1.948832</td>\n",
       "      <td>-1.169633</td>\n",
       "      <td>-0.973674</td>\n",
       "      <td>-0.595390</td>\n",
       "      <td>0.082329</td>\n",
       "      <td>-0.828046</td>\n",
       "      <td>0.215589</td>\n",
       "      <td>-1.119467</td>\n",
       "    </tr>\n",
       "    <tr>\n",
       "      <th>3</th>\n",
       "      <td>1.000000</td>\n",
       "      <td>0.000000</td>\n",
       "      <td>0.000000</td>\n",
       "      <td>0.000000</td>\n",
       "      <td>0.000000</td>\n",
       "      <td>0.0</td>\n",
       "      <td>1.000000</td>\n",
       "      <td>0.0</td>\n",
       "      <td>1.0</td>\n",
       "      <td>0.0</td>\n",
       "      <td>...</td>\n",
       "      <td>0.428244</td>\n",
       "      <td>-0.118454</td>\n",
       "      <td>-1.948832</td>\n",
       "      <td>-1.169633</td>\n",
       "      <td>-0.973674</td>\n",
       "      <td>1.679572</td>\n",
       "      <td>0.058830</td>\n",
       "      <td>-0.691810</td>\n",
       "      <td>-0.007760</td>\n",
       "      <td>-1.119467</td>\n",
       "    </tr>\n",
       "    <tr>\n",
       "      <th>4</th>\n",
       "      <td>1.000000</td>\n",
       "      <td>0.000000</td>\n",
       "      <td>0.000000</td>\n",
       "      <td>0.000000</td>\n",
       "      <td>0.000000</td>\n",
       "      <td>0.0</td>\n",
       "      <td>1.000000</td>\n",
       "      <td>0.0</td>\n",
       "      <td>1.0</td>\n",
       "      <td>0.0</td>\n",
       "      <td>...</td>\n",
       "      <td>0.190964</td>\n",
       "      <td>0.540040</td>\n",
       "      <td>-1.948832</td>\n",
       "      <td>-1.169633</td>\n",
       "      <td>-0.973674</td>\n",
       "      <td>-0.595390</td>\n",
       "      <td>-0.152758</td>\n",
       "      <td>-0.520753</td>\n",
       "      <td>-0.454457</td>\n",
       "      <td>-1.119467</td>\n",
       "    </tr>\n",
       "    <tr>\n",
       "      <th>...</th>\n",
       "      <td>...</td>\n",
       "      <td>...</td>\n",
       "      <td>...</td>\n",
       "      <td>...</td>\n",
       "      <td>...</td>\n",
       "      <td>...</td>\n",
       "      <td>...</td>\n",
       "      <td>...</td>\n",
       "      <td>...</td>\n",
       "      <td>...</td>\n",
       "      <td>...</td>\n",
       "      <td>...</td>\n",
       "      <td>...</td>\n",
       "      <td>...</td>\n",
       "      <td>...</td>\n",
       "      <td>...</td>\n",
       "      <td>...</td>\n",
       "      <td>...</td>\n",
       "      <td>...</td>\n",
       "      <td>...</td>\n",
       "      <td>...</td>\n",
       "    </tr>\n",
       "    <tr>\n",
       "      <th>1483</th>\n",
       "      <td>0.000000</td>\n",
       "      <td>1.000000</td>\n",
       "      <td>1.000000</td>\n",
       "      <td>0.000000</td>\n",
       "      <td>1.000000</td>\n",
       "      <td>0.0</td>\n",
       "      <td>0.000000</td>\n",
       "      <td>1.0</td>\n",
       "      <td>0.0</td>\n",
       "      <td>1.0</td>\n",
       "      <td>...</td>\n",
       "      <td>-1.090353</td>\n",
       "      <td>0.575080</td>\n",
       "      <td>-1.380739</td>\n",
       "      <td>0.696694</td>\n",
       "      <td>1.443862</td>\n",
       "      <td>1.679572</td>\n",
       "      <td>0.658430</td>\n",
       "      <td>-1.291376</td>\n",
       "      <td>-0.064314</td>\n",
       "      <td>1.485675</td>\n",
       "    </tr>\n",
       "    <tr>\n",
       "      <th>1484</th>\n",
       "      <td>1.000000</td>\n",
       "      <td>0.000000</td>\n",
       "      <td>0.379867</td>\n",
       "      <td>0.620133</td>\n",
       "      <td>1.000000</td>\n",
       "      <td>1.0</td>\n",
       "      <td>0.000000</td>\n",
       "      <td>1.0</td>\n",
       "      <td>0.0</td>\n",
       "      <td>1.0</td>\n",
       "      <td>...</td>\n",
       "      <td>0.048595</td>\n",
       "      <td>-0.645248</td>\n",
       "      <td>-1.352859</td>\n",
       "      <td>-0.116503</td>\n",
       "      <td>2.166741</td>\n",
       "      <td>1.679572</td>\n",
       "      <td>0.682964</td>\n",
       "      <td>-0.702396</td>\n",
       "      <td>0.682011</td>\n",
       "      <td>1.485675</td>\n",
       "    </tr>\n",
       "    <tr>\n",
       "      <th>1485</th>\n",
       "      <td>0.277381</td>\n",
       "      <td>0.722619</td>\n",
       "      <td>0.000000</td>\n",
       "      <td>0.722619</td>\n",
       "      <td>0.722619</td>\n",
       "      <td>1.0</td>\n",
       "      <td>1.000000</td>\n",
       "      <td>0.0</td>\n",
       "      <td>1.0</td>\n",
       "      <td>0.0</td>\n",
       "      <td>...</td>\n",
       "      <td>-0.109366</td>\n",
       "      <td>-0.426064</td>\n",
       "      <td>-0.469491</td>\n",
       "      <td>-0.139190</td>\n",
       "      <td>1.005883</td>\n",
       "      <td>-0.595390</td>\n",
       "      <td>0.614161</td>\n",
       "      <td>0.476451</td>\n",
       "      <td>0.811291</td>\n",
       "      <td>-1.119467</td>\n",
       "    </tr>\n",
       "    <tr>\n",
       "      <th>1486</th>\n",
       "      <td>0.188121</td>\n",
       "      <td>0.811879</td>\n",
       "      <td>1.000000</td>\n",
       "      <td>0.000000</td>\n",
       "      <td>0.000000</td>\n",
       "      <td>1.0</td>\n",
       "      <td>0.811879</td>\n",
       "      <td>1.0</td>\n",
       "      <td>0.0</td>\n",
       "      <td>1.0</td>\n",
       "      <td>...</td>\n",
       "      <td>-0.520879</td>\n",
       "      <td>-1.435440</td>\n",
       "      <td>-1.442575</td>\n",
       "      <td>0.936627</td>\n",
       "      <td>1.302316</td>\n",
       "      <td>1.679572</td>\n",
       "      <td>0.216126</td>\n",
       "      <td>-0.799637</td>\n",
       "      <td>-1.340769</td>\n",
       "      <td>1.485675</td>\n",
       "    </tr>\n",
       "    <tr>\n",
       "      <th>1487</th>\n",
       "      <td>1.000000</td>\n",
       "      <td>0.000000</td>\n",
       "      <td>1.000000</td>\n",
       "      <td>0.000000</td>\n",
       "      <td>0.000000</td>\n",
       "      <td>0.0</td>\n",
       "      <td>1.000000</td>\n",
       "      <td>1.0</td>\n",
       "      <td>0.0</td>\n",
       "      <td>1.0</td>\n",
       "      <td>...</td>\n",
       "      <td>0.089941</td>\n",
       "      <td>0.568725</td>\n",
       "      <td>-0.845269</td>\n",
       "      <td>0.654229</td>\n",
       "      <td>0.767029</td>\n",
       "      <td>1.679572</td>\n",
       "      <td>1.568261</td>\n",
       "      <td>-0.920715</td>\n",
       "      <td>-0.101077</td>\n",
       "      <td>1.485675</td>\n",
       "    </tr>\n",
       "  </tbody>\n",
       "</table>\n",
       "<p>1488 rows × 22 columns</p>\n",
       "</div>"
      ],
      "text/plain": [
       "      venue_Away  venue_Home  season_0  season_1  season_2  season_3  \\\n",
       "0       1.000000    0.000000  0.000000  0.000000  0.000000       0.0   \n",
       "1       0.000000    1.000000  0.000000  0.000000  0.000000       0.0   \n",
       "2       0.000000    1.000000  0.000000  0.000000  0.000000       0.0   \n",
       "3       1.000000    0.000000  0.000000  0.000000  0.000000       0.0   \n",
       "4       1.000000    0.000000  0.000000  0.000000  0.000000       0.0   \n",
       "...          ...         ...       ...       ...       ...       ...   \n",
       "1483    0.000000    1.000000  1.000000  0.000000  1.000000       0.0   \n",
       "1484    1.000000    0.000000  0.379867  0.620133  1.000000       1.0   \n",
       "1485    0.277381    0.722619  0.000000  0.722619  0.722619       1.0   \n",
       "1486    0.188121    0.811879  1.000000  0.000000  0.000000       1.0   \n",
       "1487    1.000000    0.000000  1.000000  0.000000  0.000000       0.0   \n",
       "\n",
       "      season_4  match_type_0  match_type_1  win_rate_type_0  ...  \\\n",
       "0     1.000000           0.0           1.0              0.0  ...   \n",
       "1     1.000000           1.0           0.0              1.0  ...   \n",
       "2     1.000000           0.0           1.0              0.0  ...   \n",
       "3     1.000000           0.0           1.0              0.0  ...   \n",
       "4     1.000000           0.0           1.0              0.0  ...   \n",
       "...        ...           ...           ...              ...  ...   \n",
       "1483  0.000000           1.0           0.0              1.0  ...   \n",
       "1484  0.000000           1.0           0.0              1.0  ...   \n",
       "1485  1.000000           0.0           1.0              0.0  ...   \n",
       "1486  0.811879           1.0           0.0              1.0  ...   \n",
       "1487  1.000000           1.0           0.0              1.0  ...   \n",
       "\n",
       "      win_percent_diff  lose_percent_before_team2  head2head_win_percent  \\\n",
       "0            -0.520879                  -1.435440              -1.948832   \n",
       "1            -3.368248                  -1.435440              -1.948832   \n",
       "2            -0.520879                   0.540040              -1.948832   \n",
       "3             0.428244                  -0.118454              -1.948832   \n",
       "4             0.190964                   0.540040              -1.948832   \n",
       "...                ...                        ...                    ...   \n",
       "1483         -1.090353                   0.575080              -1.380739   \n",
       "1484          0.048595                  -0.645248              -1.352859   \n",
       "1485         -0.109366                  -0.426064              -0.469491   \n",
       "1486         -0.520879                  -1.435440              -1.442575   \n",
       "1487          0.089941                   0.568725              -0.845269   \n",
       "\n",
       "      head2head_draw_percent  head2head_lost_percent  is_opponent_big6  \\\n",
       "0                  -1.169633               -0.973674         -0.595390   \n",
       "1                  -1.169633               -0.973674          1.679572   \n",
       "2                  -1.169633               -0.973674         -0.595390   \n",
       "3                  -1.169633               -0.973674          1.679572   \n",
       "4                  -1.169633               -0.973674         -0.595390   \n",
       "...                      ...                     ...               ...   \n",
       "1483                0.696694                1.443862          1.679572   \n",
       "1484               -0.116503                2.166741          1.679572   \n",
       "1485               -0.139190                1.005883         -0.595390   \n",
       "1486                0.936627                1.302316          1.679572   \n",
       "1487                0.654229                0.767029          1.679572   \n",
       "\n",
       "      ELO_before_match_team2  ELO_before_diff  \\\n",
       "0                   0.026422        -0.826088   \n",
       "1                   0.155401        -1.022913   \n",
       "2                   0.082329        -0.828046   \n",
       "3                   0.058830        -0.691810   \n",
       "4                  -0.152758        -0.520753   \n",
       "...                      ...              ...   \n",
       "1483                0.658430        -1.291376   \n",
       "1484                0.682964        -0.702396   \n",
       "1485                0.614161         0.476451   \n",
       "1486                0.216126        -0.799637   \n",
       "1487                1.568261        -0.920715   \n",
       "\n",
       "      average_score_before_match_team2   Cluster  \n",
       "0                            -1.794548 -1.119467  \n",
       "1                             2.225725  1.485675  \n",
       "2                             0.215589 -1.119467  \n",
       "3                            -0.007760 -1.119467  \n",
       "4                            -0.454457 -1.119467  \n",
       "...                                ...       ...  \n",
       "1483                         -0.064314  1.485675  \n",
       "1484                          0.682011  1.485675  \n",
       "1485                          0.811291 -1.119467  \n",
       "1486                         -1.340769  1.485675  \n",
       "1487                         -0.101077  1.485675  \n",
       "\n",
       "[1488 rows x 22 columns]"
      ]
     },
     "execution_count": 30,
     "metadata": {},
     "output_type": "execute_result"
    }
   ],
   "source": [
    "X_resampled"
   ]
  },
  {
   "cell_type": "code",
   "execution_count": 31,
   "metadata": {},
   "outputs": [],
   "source": [
    "from sklearn.cluster import KMeans\n",
    "import pickle\n",
    "\n",
    "# Giả sử bạn đã có tập huấn luyện X_train\n",
    "kmeans = KMeans(n_clusters=3, random_state=42)\n",
    "kmeans.fit(X_resampled)\n",
    "\n",
    "# Lưu mô hình phân cụm\n",
    "with open(\"final_model_clustered/kmeans_model.pkl\", \"wb\") as file:\n",
    "    pickle.dump(kmeans, file)\n"
   ]
  },
  {
   "cell_type": "code",
   "execution_count": 26,
   "metadata": {},
   "outputs": [],
   "source": [
    "def assign_cluster_label(cluster):\n",
    "    if cluster == 0:\n",
    "        return 'Weak Opponent'\n",
    "    elif cluster == 1:\n",
    "        return 'Average Opponent'\n",
    "    elif cluster == 2:\n",
    "        return 'Strong Opponent'\n",
    "    else:\n",
    "        return 'Unknown'\n",
    "\n",
    "def assign_win_label(cluster):\n",
    "    if cluster == 0:\n",
    "        return 'Diverse Win Rate'\n",
    "    elif cluster == 1:\n",
    "        return 'Low Win Rate'\n",
    "    elif cluster == 2:\n",
    "        return 'High Win Rate'\n",
    "    else:\n",
    "        return 'Unknown'\n"
   ]
  },
  {
   "cell_type": "code",
   "execution_count": null,
   "metadata": {},
   "outputs": [],
   "source": [
    "from sklearn.base import BaseEstimator, TransformerMixin\n",
    "from sklearn.pipeline import Pipeline\n",
    "\n",
    "class ClusteringFeatureAdder(BaseEstimator, TransformerMixin):\n",
    "    def __init__(self, kmeans_model):\n",
    "        self.kmeans_model = kmeans_model\n",
    "\n",
    "    def fit(self, X, y=None):\n",
    "        return self\n",
    "\n",
    "    def transform(self, X, y=None):\n",
    "        clusters = self.kmeans_model.predict(X)\n",
    "        X['Cluster'] = clusters\n",
    "        X['match_type'] = X['Cluster'].apply(assign_cluster_label)\n",
    "        X['win_rate_type'] = X['Cluster'].apply(assign_win_label)\n",
    "        return X\n",
    "# Tải mô hình phân cụm đã huấn luyện\n",
    "with open(\"final_model_clustered/kmeans_model.pkl\", \"rb\") as file:\n",
    "    kmeans_model = pickle.load(file)\n",
    "\n",
    "# Tạo lớp tùy chỉnh để thêm các đặc trưng phân cụm\n",
    "clustering_adder = ClusteringFeatureAdder(kmeans_model=kmeans_model)"
   ]
  }
 ],
 "metadata": {
  "kernelspec": {
   "display_name": ".venv",
   "language": "python",
   "name": "python3"
  },
  "language_info": {
   "codemirror_mode": {
    "name": "ipython",
    "version": 3
   },
   "file_extension": ".py",
   "mimetype": "text/x-python",
   "name": "python",
   "nbconvert_exporter": "python",
   "pygments_lexer": "ipython3",
   "version": "3.10.6"
  }
 },
 "nbformat": 4,
 "nbformat_minor": 2
}
