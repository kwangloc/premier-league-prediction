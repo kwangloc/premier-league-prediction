{
 "cells": [
  {
   "cell_type": "markdown",
   "metadata": {},
   "source": [
    "### Sử dụng model Random forest và dự đoán trên tập test"
   ]
  },
  {
   "cell_type": "code",
   "execution_count": 1,
   "metadata": {},
   "outputs": [],
   "source": [
    "import pandas as pd\n",
    "import pickle\n",
    "import matplotlib.pyplot as plt\n",
    "import seaborn as sns\n",
    "from sklearn.preprocessing import LabelEncoder\n",
    "from sklearn.metrics import accuracy_score, confusion_matrix\n",
    "\n",
    "\n",
    "import warnings\n",
    "warnings.filterwarnings('ignore')"
   ]
  },
  {
   "cell_type": "markdown",
   "metadata": {},
   "source": [
    "#### 1. Bước chuẩn bị dữ liệu"
   ]
  },
  {
   "cell_type": "code",
   "execution_count": 2,
   "metadata": {},
   "outputs": [],
   "source": [
    "with open(\"final_model/preprocessor.pkl\", \"rb\") as file:\n",
    "    preprocessor_for_clustering = pickle.load(file)"
   ]
  },
  {
   "cell_type": "code",
   "execution_count": 3,
   "metadata": {},
   "outputs": [],
   "source": [
    "with open(\"final_model_clustered/preprocessor.pkl\", \"rb\") as file:\n",
    "    preprocessor = pickle.load(file)"
   ]
  },
  {
   "cell_type": "code",
   "execution_count": 4,
   "metadata": {},
   "outputs": [],
   "source": [
    "with open(\"final_model_clustered/RF.pkl\", \"rb\") as file:\n",
    "    RF_model = pickle.load(file)"
   ]
  },
  {
   "cell_type": "code",
   "execution_count": 5,
   "metadata": {},
   "outputs": [],
   "source": [
    "# Load dữ liệu từ tập test\n",
    "test_df = pd.read_csv(\"../../../feature_engineering_data/test/arsenal.csv\")\n",
    "test_df[\"win_percent_diff\"] = test_df['win_percent_before_team1'] - test_df['win_percent_before_team2']\n",
    "test_df[\"ELO_before_diff\"] = test_df['ELO_before_match_team1'] - test_df['ELO_before_match_team2']"
   ]
  },
  {
   "cell_type": "code",
   "execution_count": 6,
   "metadata": {},
   "outputs": [
    {
     "data": {
      "image/png": "[encoded data removed]",
      "text/plain": [
       "<Figure size 640x480 with 1 Axes>"
      ]
     },
     "metadata": {},
     "output_type": "display_data"
    }
   ],
   "source": [
    "sns.countplot(x=\"result\", data=test_df, palette=\"Set1\");"
   ]
  },
  {
   "cell_type": "code",
   "execution_count": 7,
   "metadata": {},
   "outputs": [],
   "source": [
    "test_df_with_opponent = test_df[\n",
    "    [\n",
    "        \"opponent\",\n",
    "        \"result\",\n",
    "        \"venue\",\n",
    "        \"season\",\n",
    "        \"win_percent_before_team2\",\n",
    "        \"win_percent_diff\",\n",
    "        \"lose_percent_before_team2\",\n",
    "        \"head2head_win_percent\",\n",
    "        \"head2head_draw_percent\",\n",
    "        \"head2head_lost_percent\",\n",
    "        \"is_opponent_big6\",\n",
    "        \"ELO_before_match_team2\",\n",
    "        \"ELO_before_diff\",\n",
    "        \"average_score_before_match_team2\",\n",
    "    ]\n",
    "]\n",
    "\n",
    "test_df = test_df[\n",
    "    [\n",
    "        \"opponent\",\n",
    "        \"result\",\n",
    "        \"venue\",\n",
    "        \"season\",\n",
    "        \"win_percent_before_team2\",\n",
    "        \"win_percent_diff\",\n",
    "        \"lose_percent_before_team2\",\n",
    "        \"head2head_win_percent\",\n",
    "        \"head2head_draw_percent\",\n",
    "        \"head2head_lost_percent\",\n",
    "        \"is_opponent_big6\",\n",
    "        \"ELO_before_match_team2\",\n",
    "        \"ELO_before_diff\",\n",
    "        \"average_score_before_match_team2\",\n",
    "    ]\n",
    "]"
   ]
  },
  {
   "cell_type": "code",
   "execution_count": 8,
   "metadata": {},
   "outputs": [
    {
     "data": {
      "text/html": [
       "<div>\n",
       "<style scoped>\n",
       "    .dataframe tbody tr th:only-of-type {\n",
       "        vertical-align: middle;\n",
       "    }\n",
       "\n",
       "    .dataframe tbody tr th {\n",
       "        vertical-align: top;\n",
       "    }\n",
       "\n",
       "    .dataframe thead th {\n",
       "        text-align: right;\n",
       "    }\n",
       "</style>\n",
       "<table border=\"1\" class=\"dataframe\">\n",
       "  <thead>\n",
       "    <tr style=\"text-align: right;\">\n",
       "      <th></th>\n",
       "      <th>opponent</th>\n",
       "      <th>result</th>\n",
       "      <th>venue</th>\n",
       "      <th>season</th>\n",
       "      <th>win_percent_before_team2</th>\n",
       "      <th>win_percent_diff</th>\n",
       "      <th>lose_percent_before_team2</th>\n",
       "      <th>head2head_win_percent</th>\n",
       "      <th>head2head_draw_percent</th>\n",
       "      <th>head2head_lost_percent</th>\n",
       "      <th>is_opponent_big6</th>\n",
       "      <th>ELO_before_match_team2</th>\n",
       "      <th>ELO_before_diff</th>\n",
       "      <th>average_score_before_match_team2</th>\n",
       "    </tr>\n",
       "  </thead>\n",
       "  <tbody>\n",
       "    <tr>\n",
       "      <th>0</th>\n",
       "      <td>Nottingham Forest</td>\n",
       "      <td>W</td>\n",
       "      <td>Home</td>\n",
       "      <td>2023-2024</td>\n",
       "      <td>0.000000</td>\n",
       "      <td>0.00</td>\n",
       "      <td>0.000000</td>\n",
       "      <td>0.5</td>\n",
       "      <td>0.0</td>\n",
       "      <td>0.5</td>\n",
       "      <td>0</td>\n",
       "      <td>1500.000000</td>\n",
       "      <td>0.000000</td>\n",
       "      <td>0.00</td>\n",
       "    </tr>\n",
       "    <tr>\n",
       "      <th>1</th>\n",
       "      <td>Crystal Palace</td>\n",
       "      <td>W</td>\n",
       "      <td>Away</td>\n",
       "      <td>2023-2024</td>\n",
       "      <td>1.000000</td>\n",
       "      <td>0.00</td>\n",
       "      <td>0.000000</td>\n",
       "      <td>0.3</td>\n",
       "      <td>0.5</td>\n",
       "      <td>0.2</td>\n",
       "      <td>0</td>\n",
       "      <td>1531.250000</td>\n",
       "      <td>0.000000</td>\n",
       "      <td>3.00</td>\n",
       "    </tr>\n",
       "    <tr>\n",
       "      <th>2</th>\n",
       "      <td>Fulham</td>\n",
       "      <td>D</td>\n",
       "      <td>Home</td>\n",
       "      <td>2023-2024</td>\n",
       "      <td>0.500000</td>\n",
       "      <td>0.50</td>\n",
       "      <td>0.500000</td>\n",
       "      <td>0.8</td>\n",
       "      <td>0.2</td>\n",
       "      <td>0.0</td>\n",
       "      <td>0</td>\n",
       "      <td>1483.575496</td>\n",
       "      <td>78.924504</td>\n",
       "      <td>1.50</td>\n",
       "    </tr>\n",
       "    <tr>\n",
       "      <th>3</th>\n",
       "      <td>Manchester United</td>\n",
       "      <td>W</td>\n",
       "      <td>Home</td>\n",
       "      <td>2023-2024</td>\n",
       "      <td>0.666667</td>\n",
       "      <td>0.00</td>\n",
       "      <td>0.333333</td>\n",
       "      <td>0.5</td>\n",
       "      <td>0.3</td>\n",
       "      <td>0.2</td>\n",
       "      <td>1</td>\n",
       "      <td>1528.623448</td>\n",
       "      <td>28.293188</td>\n",
       "      <td>2.00</td>\n",
       "    </tr>\n",
       "    <tr>\n",
       "      <th>4</th>\n",
       "      <td>Everton</td>\n",
       "      <td>W</td>\n",
       "      <td>Away</td>\n",
       "      <td>2023-2024</td>\n",
       "      <td>0.000000</td>\n",
       "      <td>0.75</td>\n",
       "      <td>0.750000</td>\n",
       "      <td>0.4</td>\n",
       "      <td>0.1</td>\n",
       "      <td>0.5</td>\n",
       "      <td>0</td>\n",
       "      <td>1391.908650</td>\n",
       "      <td>199.460931</td>\n",
       "      <td>0.25</td>\n",
       "    </tr>\n",
       "  </tbody>\n",
       "</table>\n",
       "</div>"
      ],
      "text/plain": [
       "            opponent result venue     season  win_percent_before_team2  \\\n",
       "0  Nottingham Forest      W  Home  2023-2024                  0.000000   \n",
       "1     Crystal Palace      W  Away  2023-2024                  1.000000   \n",
       "2             Fulham      D  Home  2023-2024                  0.500000   \n",
       "3  Manchester United      W  Home  2023-2024                  0.666667   \n",
       "4            Everton      W  Away  2023-2024                  0.000000   \n",
       "\n",
       "   win_percent_diff  lose_percent_before_team2  head2head_win_percent  \\\n",
       "0              0.00                   0.000000                    0.5   \n",
       "1              0.00                   0.000000                    0.3   \n",
       "2              0.50                   0.500000                    0.8   \n",
       "3              0.00                   0.333333                    0.5   \n",
       "4              0.75                   0.750000                    0.4   \n",
       "\n",
       "   head2head_draw_percent  head2head_lost_percent  is_opponent_big6  \\\n",
       "0                     0.0                     0.5                 0   \n",
       "1                     0.5                     0.2                 0   \n",
       "2                     0.2                     0.0                 0   \n",
       "3                     0.3                     0.2                 1   \n",
       "4                     0.1                     0.5                 0   \n",
       "\n",
       "   ELO_before_match_team2  ELO_before_diff  average_score_before_match_team2  \n",
       "0             1500.000000         0.000000                              0.00  \n",
       "1             1531.250000         0.000000                              3.00  \n",
       "2             1483.575496        78.924504                              1.50  \n",
       "3             1528.623448        28.293188                              2.00  \n",
       "4             1391.908650       199.460931                              0.25  "
      ]
     },
     "execution_count": 8,
     "metadata": {},
     "output_type": "execute_result"
    }
   ],
   "source": [
    "test_df.head()"
   ]
  },
  {
   "cell_type": "code",
   "execution_count": 9,
   "metadata": {},
   "outputs": [
    {
     "data": {
      "text/plain": [
       "Index(['opponent', 'result', 'venue', 'season', 'win_percent_before_team2',\n",
       "       'win_percent_diff', 'lose_percent_before_team2',\n",
       "       'head2head_win_percent', 'head2head_draw_percent',\n",
       "       'head2head_lost_percent', 'is_opponent_big6', 'ELO_before_match_team2',\n",
       "       'ELO_before_diff', 'average_score_before_match_team2'],\n",
       "      dtype='object')"
      ]
     },
     "execution_count": 9,
     "metadata": {},
     "output_type": "execute_result"
    }
   ],
   "source": [
    "test_df.columns"
   ]
  },
  {
   "cell_type": "code",
   "execution_count": 10,
   "metadata": {},
   "outputs": [],
   "source": [
    "from sklearn.cluster import KMeans\n",
    "k = 3  # Có thể thay đổi số này sau khi phân tích (ví dụ: sử dụng phương pháp Elbow)\n",
    "\n",
    "# Phân cụm\n",
    "kmeans = KMeans(n_clusters=k, random_state=42)\n",
    "test_df['Cluster'] = kmeans.fit_predict(preprocessor_for_clustering.transform(test_df.drop(columns=['result'])))"
   ]
  },
  {
   "cell_type": "code",
   "execution_count": 11,
   "metadata": {},
   "outputs": [
    {
     "name": "stdout",
     "output_type": "stream",
     "text": [
      "   Cluster       match_type\n",
      "0        0    Weak Opponent\n",
      "1        2  Strong Opponent\n",
      "2        2  Strong Opponent\n",
      "3        2  Strong Opponent\n",
      "4        0    Weak Opponent\n",
      "   Cluster       match_type     win_rate_type\n",
      "0        0    Weak Opponent  Diverse Win Rate\n",
      "1        2  Strong Opponent     High Win Rate\n",
      "2        2  Strong Opponent     High Win Rate\n",
      "3        2  Strong Opponent     High Win Rate\n",
      "4        0    Weak Opponent  Diverse Win Rate\n"
     ]
    }
   ],
   "source": [
    "# Gán nhãn cho từng cụm\n",
    "def assign_cluster_label(cluster):\n",
    "    if cluster == 0:\n",
    "        return 'Weak Opponent'\n",
    "    elif cluster == 1:\n",
    "        return 'Average Opponent'\n",
    "    elif cluster == 2:\n",
    "        return 'Strong Opponent'\n",
    "    else:\n",
    "        return 'Unknown'\n",
    "\n",
    "# Thêm cột match_type vào DataFrame\n",
    "test_df['match_type'] = test_df['Cluster'].apply(assign_cluster_label)\n",
    "\n",
    "# Kiểm tra kết quả\n",
    "print(test_df[['Cluster', 'match_type']].head())\n",
    "# Gán nhãn tỷ lệ thắng cho từng cụm\n",
    "def assign_win_label(cluster):\n",
    "    if cluster == 0:\n",
    "        return 'Diverse Win Rate'\n",
    "    elif cluster == 1:\n",
    "        return 'Low Win Rate'\n",
    "    elif cluster == 2:\n",
    "        return 'High Win Rate'\n",
    "    else:\n",
    "        return 'Unknown'\n",
    "\n",
    "# Thêm cột win_rate_type vào DataFrame\n",
    "test_df['win_rate_type'] = test_df['Cluster'].apply(assign_win_label)\n",
    "\n",
    "# Kiểm tra kết quả\n",
    "print(test_df[['Cluster', 'match_type', 'win_rate_type']].head())"
   ]
  },
  {
   "cell_type": "markdown",
   "metadata": {},
   "source": [
    "##### Phân chia dữ liệu thành X, y"
   ]
  },
  {
   "cell_type": "code",
   "execution_count": 12,
   "metadata": {},
   "outputs": [],
   "source": [
    "X_test = test_df.drop([\"result\",\"opponent\"], axis=1)\n",
    "y_test = test_df[\"result\"]"
   ]
  },
  {
   "cell_type": "code",
   "execution_count": 13,
   "metadata": {},
   "outputs": [
    {
     "data": {
      "text/html": [
       "<div>\n",
       "<style scoped>\n",
       "    .dataframe tbody tr th:only-of-type {\n",
       "        vertical-align: middle;\n",
       "    }\n",
       "\n",
       "    .dataframe tbody tr th {\n",
       "        vertical-align: top;\n",
       "    }\n",
       "\n",
       "    .dataframe thead th {\n",
       "        text-align: right;\n",
       "    }\n",
       "</style>\n",
       "<table border=\"1\" class=\"dataframe\">\n",
       "  <thead>\n",
       "    <tr style=\"text-align: right;\">\n",
       "      <th></th>\n",
       "      <th>venue</th>\n",
       "      <th>season</th>\n",
       "      <th>win_percent_before_team2</th>\n",
       "      <th>win_percent_diff</th>\n",
       "      <th>lose_percent_before_team2</th>\n",
       "      <th>head2head_win_percent</th>\n",
       "      <th>head2head_draw_percent</th>\n",
       "      <th>head2head_lost_percent</th>\n",
       "      <th>is_opponent_big6</th>\n",
       "      <th>ELO_before_match_team2</th>\n",
       "      <th>ELO_before_diff</th>\n",
       "      <th>average_score_before_match_team2</th>\n",
       "      <th>Cluster</th>\n",
       "      <th>match_type</th>\n",
       "      <th>win_rate_type</th>\n",
       "    </tr>\n",
       "  </thead>\n",
       "  <tbody>\n",
       "    <tr>\n",
       "      <th>0</th>\n",
       "      <td>Home</td>\n",
       "      <td>2023-2024</td>\n",
       "      <td>0.000000</td>\n",
       "      <td>0.00</td>\n",
       "      <td>0.000000</td>\n",
       "      <td>0.5</td>\n",
       "      <td>0.0</td>\n",
       "      <td>0.5</td>\n",
       "      <td>0</td>\n",
       "      <td>1500.000000</td>\n",
       "      <td>0.000000</td>\n",
       "      <td>0.00</td>\n",
       "      <td>0</td>\n",
       "      <td>Weak Opponent</td>\n",
       "      <td>Diverse Win Rate</td>\n",
       "    </tr>\n",
       "    <tr>\n",
       "      <th>1</th>\n",
       "      <td>Away</td>\n",
       "      <td>2023-2024</td>\n",
       "      <td>1.000000</td>\n",
       "      <td>0.00</td>\n",
       "      <td>0.000000</td>\n",
       "      <td>0.3</td>\n",
       "      <td>0.5</td>\n",
       "      <td>0.2</td>\n",
       "      <td>0</td>\n",
       "      <td>1531.250000</td>\n",
       "      <td>0.000000</td>\n",
       "      <td>3.00</td>\n",
       "      <td>2</td>\n",
       "      <td>Strong Opponent</td>\n",
       "      <td>High Win Rate</td>\n",
       "    </tr>\n",
       "    <tr>\n",
       "      <th>2</th>\n",
       "      <td>Home</td>\n",
       "      <td>2023-2024</td>\n",
       "      <td>0.500000</td>\n",
       "      <td>0.50</td>\n",
       "      <td>0.500000</td>\n",
       "      <td>0.8</td>\n",
       "      <td>0.2</td>\n",
       "      <td>0.0</td>\n",
       "      <td>0</td>\n",
       "      <td>1483.575496</td>\n",
       "      <td>78.924504</td>\n",
       "      <td>1.50</td>\n",
       "      <td>2</td>\n",
       "      <td>Strong Opponent</td>\n",
       "      <td>High Win Rate</td>\n",
       "    </tr>\n",
       "    <tr>\n",
       "      <th>3</th>\n",
       "      <td>Home</td>\n",
       "      <td>2023-2024</td>\n",
       "      <td>0.666667</td>\n",
       "      <td>0.00</td>\n",
       "      <td>0.333333</td>\n",
       "      <td>0.5</td>\n",
       "      <td>0.3</td>\n",
       "      <td>0.2</td>\n",
       "      <td>1</td>\n",
       "      <td>1528.623448</td>\n",
       "      <td>28.293188</td>\n",
       "      <td>2.00</td>\n",
       "      <td>2</td>\n",
       "      <td>Strong Opponent</td>\n",
       "      <td>High Win Rate</td>\n",
       "    </tr>\n",
       "    <tr>\n",
       "      <th>4</th>\n",
       "      <td>Away</td>\n",
       "      <td>2023-2024</td>\n",
       "      <td>0.000000</td>\n",
       "      <td>0.75</td>\n",
       "      <td>0.750000</td>\n",
       "      <td>0.4</td>\n",
       "      <td>0.1</td>\n",
       "      <td>0.5</td>\n",
       "      <td>0</td>\n",
       "      <td>1391.908650</td>\n",
       "      <td>199.460931</td>\n",
       "      <td>0.25</td>\n",
       "      <td>0</td>\n",
       "      <td>Weak Opponent</td>\n",
       "      <td>Diverse Win Rate</td>\n",
       "    </tr>\n",
       "  </tbody>\n",
       "</table>\n",
       "</div>"
      ],
      "text/plain": [
       "  venue     season  win_percent_before_team2  win_percent_diff  \\\n",
       "0  Home  2023-2024                  0.000000              0.00   \n",
       "1  Away  2023-2024                  1.000000              0.00   \n",
       "2  Home  2023-2024                  0.500000              0.50   \n",
       "3  Home  2023-2024                  0.666667              0.00   \n",
       "4  Away  2023-2024                  0.000000              0.75   \n",
       "\n",
       "   lose_percent_before_team2  head2head_win_percent  head2head_draw_percent  \\\n",
       "0                   0.000000                    0.5                     0.0   \n",
       "1                   0.000000                    0.3                     0.5   \n",
       "2                   0.500000                    0.8                     0.2   \n",
       "3                   0.333333                    0.5                     0.3   \n",
       "4                   0.750000                    0.4                     0.1   \n",
       "\n",
       "   head2head_lost_percent  is_opponent_big6  ELO_before_match_team2  \\\n",
       "0                     0.5                 0             1500.000000   \n",
       "1                     0.2                 0             1531.250000   \n",
       "2                     0.0                 0             1483.575496   \n",
       "3                     0.2                 1             1528.623448   \n",
       "4                     0.5                 0             1391.908650   \n",
       "\n",
       "   ELO_before_diff  average_score_before_match_team2  Cluster  \\\n",
       "0         0.000000                              0.00        0   \n",
       "1         0.000000                              3.00        2   \n",
       "2        78.924504                              1.50        2   \n",
       "3        28.293188                              2.00        2   \n",
       "4       199.460931                              0.25        0   \n",
       "\n",
       "        match_type     win_rate_type  \n",
       "0    Weak Opponent  Diverse Win Rate  \n",
       "1  Strong Opponent     High Win Rate  \n",
       "2  Strong Opponent     High Win Rate  \n",
       "3  Strong Opponent     High Win Rate  \n",
       "4    Weak Opponent  Diverse Win Rate  "
      ]
     },
     "execution_count": 13,
     "metadata": {},
     "output_type": "execute_result"
    }
   ],
   "source": [
    "X_test.head()"
   ]
  },
  {
   "cell_type": "markdown",
   "metadata": {},
   "source": [
    "#### 2. Chuẩn hoá, encoding dữ liệu"
   ]
  },
  {
   "cell_type": "code",
   "execution_count": 14,
   "metadata": {},
   "outputs": [],
   "source": [
    "# test_df[\"Cluster\"].astype(\"int64\")"
   ]
  },
  {
   "cell_type": "code",
   "execution_count": 15,
   "metadata": {},
   "outputs": [],
   "source": [
    "label_encoder = LabelEncoder()\n",
    "y_test = label_encoder.fit_transform(test_df[\"result\"])"
   ]
  },
  {
   "cell_type": "code",
   "execution_count": 16,
   "metadata": {},
   "outputs": [
    {
     "data": {
      "text/plain": [
       "array([2, 2, 0, 2, 2, 0, 2, 2, 0, 2, 1, 2, 2, 2, 2, 1, 2, 0, 1, 1, 2, 2,\n",
       "       2, 2, 2, 2, 2, 2, 0, 2, 2, 1, 2, 2, 2, 2, 2, 2])"
      ]
     },
     "execution_count": 16,
     "metadata": {},
     "output_type": "execute_result"
    }
   ],
   "source": [
    "# D: 0\n",
    "# L: 1\n",
    "# W: 2\n",
    "y_test"
   ]
  },
  {
   "cell_type": "code",
   "execution_count": 17,
   "metadata": {},
   "outputs": [
    {
     "name": "stdout",
     "output_type": "stream",
     "text": [
      "Number of 'venue' features: 2\n",
      "Number of 'season' features: 5\n",
      "Number of 'match_type' features: 2\n",
      "Number of 'win_rate_type' features: 2\n",
      "Number of numerical columns: 11\n",
      "Total number of columns expected: 22\n",
      "Actual number of features in transformed_X: 22\n",
      "   venue_Away  venue_Home  season_0  season_1  season_2  season_3  season_4  \\\n",
      "0         0.0         1.0       0.0       0.0       0.0       0.0       0.0   \n",
      "1         1.0         0.0       0.0       0.0       0.0       0.0       0.0   \n",
      "2         0.0         1.0       0.0       0.0       0.0       0.0       0.0   \n",
      "3         0.0         1.0       0.0       0.0       0.0       0.0       0.0   \n",
      "4         1.0         0.0       0.0       0.0       0.0       0.0       0.0   \n",
      "\n",
      "   match_type_0  match_type_1  win_rate_type_0  ...  win_percent_diff  \\\n",
      "0           0.0           1.0              0.0  ...         -0.520879   \n",
      "1           1.0           0.0              1.0  ...         -0.520879   \n",
      "2           1.0           0.0              1.0  ...          0.902806   \n",
      "3           1.0           0.0              1.0  ...         -0.520879   \n",
      "4           0.0           1.0              0.0  ...          1.614648   \n",
      "\n",
      "   lose_percent_before_team2  head2head_win_percent  head2head_draw_percent  \\\n",
      "0                  -1.435440              -0.109561               -1.169633   \n",
      "1                  -1.435440              -0.845269                1.463192   \n",
      "2                   0.540040               0.994002               -0.116503   \n",
      "3                  -0.118454              -0.109561                0.410062   \n",
      "4                   1.527780              -0.477415               -0.643068   \n",
      "\n",
      "   head2head_lost_percent  is_opponent_big6  ELO_before_match_team2  \\\n",
      "0                1.487517         -0.595390                0.026422   \n",
      "1                0.010802         -0.595390                0.155401   \n",
      "2               -0.973674         -0.595390               -0.041368   \n",
      "3                0.010802          1.679572                0.144560   \n",
      "4                1.487517         -0.595390               -0.419707   \n",
      "\n",
      "   ELO_before_diff  average_score_before_match_team2   Cluster  \n",
      "0        -0.826088                         -1.794548 -1.119467  \n",
      "1        -0.826088                          2.225725  1.485675  \n",
      "2        -0.577540                          0.215589  1.485675  \n",
      "3        -0.736988                          0.885634  1.485675  \n",
      "4        -0.197948                         -1.459525 -1.119467  \n",
      "\n",
      "[5 rows x 22 columns]\n"
     ]
    }
   ],
   "source": [
    "# Áp dụng preprocessor đã lưu\n",
    "transformed_X = preprocessor.transform(X_test)\n",
    "\n",
    "# Lấy tên các cột đã được chuyển đổi từ tất cả các thành phần của preprocessor\n",
    "venue_features = list(preprocessor.named_transformers_[\"venue\"].get_feature_names_out())\n",
    "season_features = list(preprocessor.named_transformers_[\"season\"].get_feature_names_out())\n",
    "match_type_features = list(preprocessor.named_transformers_[\"match_type\"].get_feature_names_out())\n",
    "win_rate_type_features = list(preprocessor.named_transformers_[\"win_rate_type\"].get_feature_names_out())\n",
    "\n",
    "# Xác định các cột phân loại và cột số\n",
    "categorical_cols = X_test.select_dtypes(include=['object', 'category']).columns\n",
    "numerical_cols = X_test.select_dtypes(include=['int32', 'int64', 'float64']).columns\n",
    "\n",
    "numerical_cols, categorical_cols\n",
    "\n",
    "# Gộp tất cả các tên cột lại\n",
    "columns = (\n",
    "    venue_features +\n",
    "    season_features +\n",
    "    match_type_features +\n",
    "    win_rate_type_features +\n",
    "    numerical_cols.tolist()\n",
    ")\n",
    "\n",
    "# In ra để kiểm tra số lượng cột từ mỗi transformer và tổng số\n",
    "print(f\"Number of 'venue' features: {len(venue_features)}\")\n",
    "print(f\"Number of 'season' features: {len(season_features)}\")\n",
    "print(f\"Number of 'match_type' features: {len(match_type_features)}\")\n",
    "print(f\"Number of 'win_rate_type' features: {len(win_rate_type_features)}\")\n",
    "print(f\"Number of numerical columns: {len(numerical_cols)}\")\n",
    "print(f\"Total number of columns expected: {len(columns)}\")\n",
    "print(f\"Actual number of features in transformed_X: {transformed_X.shape[1]}\")\n",
    "\n",
    "# Kiểm tra xem có khớp với số lượng cột trong transformed_X không\n",
    "if len(columns) == transformed_X.shape[1]:\n",
    "    transformed_X = pd.DataFrame(transformed_X, columns=columns)\n",
    "    print(transformed_X.head())\n",
    "else:\n",
    "    print(\"Mismatch in the number of expected and actual features.\")"
   ]
  },
  {
   "cell_type": "code",
   "execution_count": 18,
   "metadata": {},
   "outputs": [
    {
     "data": {
      "text/plain": [
       "array(['venue', 'season', 'win_percent_before_team2', 'win_percent_diff',\n",
       "       'lose_percent_before_team2', 'head2head_win_percent',\n",
       "       'head2head_draw_percent', 'head2head_lost_percent',\n",
       "       'is_opponent_big6', 'ELO_before_match_team2', 'ELO_before_diff',\n",
       "       'average_score_before_match_team2', 'Cluster', 'match_type',\n",
       "       'win_rate_type'], dtype=object)"
      ]
     },
     "execution_count": 18,
     "metadata": {},
     "output_type": "execute_result"
    }
   ],
   "source": [
    "preprocessor.feature_names_in_"
   ]
  },
  {
   "cell_type": "code",
   "execution_count": 19,
   "metadata": {},
   "outputs": [
    {
     "data": {
      "text/plain": [
       "Index(['venue', 'season', 'win_percent_before_team2', 'win_percent_diff',\n",
       "       'lose_percent_before_team2', 'head2head_win_percent',\n",
       "       'head2head_draw_percent', 'head2head_lost_percent', 'is_opponent_big6',\n",
       "       'ELO_before_match_team2', 'ELO_before_diff',\n",
       "       'average_score_before_match_team2', 'Cluster', 'match_type',\n",
       "       'win_rate_type'],\n",
       "      dtype='object')"
      ]
     },
     "execution_count": 19,
     "metadata": {},
     "output_type": "execute_result"
    }
   ],
   "source": [
    "X_test.columns"
   ]
  },
  {
   "cell_type": "code",
   "execution_count": 20,
   "metadata": {},
   "outputs": [
    {
     "data": {
      "text/plain": [
       "Index(['win_percent_before_team2', 'win_percent_diff',\n",
       "       'lose_percent_before_team2', 'head2head_win_percent',\n",
       "       'head2head_draw_percent', 'head2head_lost_percent', 'is_opponent_big6',\n",
       "       'ELO_before_match_team2', 'ELO_before_diff',\n",
       "       'average_score_before_match_team2', 'Cluster'],\n",
       "      dtype='object')"
      ]
     },
     "execution_count": 20,
     "metadata": {},
     "output_type": "execute_result"
    }
   ],
   "source": [
    "numerical_cols"
   ]
  },
  {
   "cell_type": "code",
   "execution_count": 21,
   "metadata": {},
   "outputs": [],
   "source": [
    "transformed_X = preprocessor.transform(X_test)\n",
    "\n",
    "# Hiển thị dữ liệu sau khi tiền xử lý\n",
    "columns = (\n",
    "    list(preprocessor.named_transformers_[\"venue\"].get_feature_names_out())\n",
    "    + list(preprocessor.named_transformers_[\"season\"].get_feature_names_out())\n",
    "    + list(preprocessor.named_transformers_[\"match_type\"].get_feature_names_out())\n",
    "    + list(preprocessor.named_transformers_[\"win_rate_type\"].get_feature_names_out())\n",
    "    + numerical_cols.tolist()\n",
    ")\n",
    "\n",
    "transformed_X = pd.DataFrame(transformed_X, columns=columns)\n",
    "\n",
    "transformed_X.head()\n",
    "\n",
    "X_test = transformed_X"
   ]
  },
  {
   "cell_type": "code",
   "execution_count": 22,
   "metadata": {},
   "outputs": [
    {
     "data": {
      "text/plain": [
       "Index(['win_percent_before_team2', 'win_percent_diff',\n",
       "       'lose_percent_before_team2', 'head2head_win_percent',\n",
       "       'head2head_draw_percent', 'head2head_lost_percent', 'is_opponent_big6',\n",
       "       'ELO_before_match_team2', 'ELO_before_diff',\n",
       "       'average_score_before_match_team2', 'Cluster'],\n",
       "      dtype='object')"
      ]
     },
     "execution_count": 22,
     "metadata": {},
     "output_type": "execute_result"
    }
   ],
   "source": [
    "numerical_cols"
   ]
  },
  {
   "cell_type": "markdown",
   "metadata": {},
   "source": [
    "##### Convert mùa giải mới (2023-2024) chưa có trong tập train thành binary"
   ]
  },
  {
   "cell_type": "code",
   "execution_count": 23,
   "metadata": {},
   "outputs": [],
   "source": [
    "def int_to_binary_array(number, num_bits):\n",
    "    binary_string = bin(number)[2:]  # Chuyển đổi thành chuỗi nhị phân, bỏ qua '0b' ở đầu\n",
    "    binary_array = [int(bit) for bit in binary_string]  # Chuyển đổi mỗi ký tự của chuỗi thành một số nguyên\n",
    "    \n",
    "    # Điền vào các số 0 phía trước nếu cần thiết để đủ số lượng bit\n",
    "    while len(binary_array) < num_bits:\n",
    "        binary_array.insert(0, 0)\n",
    "    return binary_array"
   ]
  },
  {
   "cell_type": "code",
   "execution_count": 24,
   "metadata": {},
   "outputs": [
    {
     "data": {
      "text/html": [
       "<div>\n",
       "<style scoped>\n",
       "    .dataframe tbody tr th:only-of-type {\n",
       "        vertical-align: middle;\n",
       "    }\n",
       "\n",
       "    .dataframe tbody tr th {\n",
       "        vertical-align: top;\n",
       "    }\n",
       "\n",
       "    .dataframe thead th {\n",
       "        text-align: right;\n",
       "    }\n",
       "</style>\n",
       "<table border=\"1\" class=\"dataframe\">\n",
       "  <thead>\n",
       "    <tr style=\"text-align: right;\">\n",
       "      <th></th>\n",
       "      <th>venue_Away</th>\n",
       "      <th>venue_Home</th>\n",
       "      <th>season_0</th>\n",
       "      <th>season_1</th>\n",
       "      <th>season_2</th>\n",
       "      <th>season_3</th>\n",
       "      <th>season_4</th>\n",
       "      <th>match_type_0</th>\n",
       "      <th>match_type_1</th>\n",
       "      <th>win_rate_type_0</th>\n",
       "      <th>...</th>\n",
       "      <th>win_percent_diff</th>\n",
       "      <th>lose_percent_before_team2</th>\n",
       "      <th>head2head_win_percent</th>\n",
       "      <th>head2head_draw_percent</th>\n",
       "      <th>head2head_lost_percent</th>\n",
       "      <th>is_opponent_big6</th>\n",
       "      <th>ELO_before_match_team2</th>\n",
       "      <th>ELO_before_diff</th>\n",
       "      <th>average_score_before_match_team2</th>\n",
       "      <th>Cluster</th>\n",
       "    </tr>\n",
       "  </thead>\n",
       "  <tbody>\n",
       "    <tr>\n",
       "      <th>0</th>\n",
       "      <td>0.0</td>\n",
       "      <td>1.0</td>\n",
       "      <td>1</td>\n",
       "      <td>1</td>\n",
       "      <td>0</td>\n",
       "      <td>0</td>\n",
       "      <td>0</td>\n",
       "      <td>0.0</td>\n",
       "      <td>1.0</td>\n",
       "      <td>0.0</td>\n",
       "      <td>...</td>\n",
       "      <td>-0.520879</td>\n",
       "      <td>-1.435440</td>\n",
       "      <td>-0.109561</td>\n",
       "      <td>-1.169633</td>\n",
       "      <td>1.487517</td>\n",
       "      <td>-0.595390</td>\n",
       "      <td>0.026422</td>\n",
       "      <td>-0.826088</td>\n",
       "      <td>-1.794548</td>\n",
       "      <td>-1.119467</td>\n",
       "    </tr>\n",
       "    <tr>\n",
       "      <th>1</th>\n",
       "      <td>1.0</td>\n",
       "      <td>0.0</td>\n",
       "      <td>1</td>\n",
       "      <td>1</td>\n",
       "      <td>0</td>\n",
       "      <td>0</td>\n",
       "      <td>0</td>\n",
       "      <td>1.0</td>\n",
       "      <td>0.0</td>\n",
       "      <td>1.0</td>\n",
       "      <td>...</td>\n",
       "      <td>-0.520879</td>\n",
       "      <td>-1.435440</td>\n",
       "      <td>-0.845269</td>\n",
       "      <td>1.463192</td>\n",
       "      <td>0.010802</td>\n",
       "      <td>-0.595390</td>\n",
       "      <td>0.155401</td>\n",
       "      <td>-0.826088</td>\n",
       "      <td>2.225725</td>\n",
       "      <td>1.485675</td>\n",
       "    </tr>\n",
       "    <tr>\n",
       "      <th>2</th>\n",
       "      <td>0.0</td>\n",
       "      <td>1.0</td>\n",
       "      <td>1</td>\n",
       "      <td>1</td>\n",
       "      <td>0</td>\n",
       "      <td>0</td>\n",
       "      <td>0</td>\n",
       "      <td>1.0</td>\n",
       "      <td>0.0</td>\n",
       "      <td>1.0</td>\n",
       "      <td>...</td>\n",
       "      <td>0.902806</td>\n",
       "      <td>0.540040</td>\n",
       "      <td>0.994002</td>\n",
       "      <td>-0.116503</td>\n",
       "      <td>-0.973674</td>\n",
       "      <td>-0.595390</td>\n",
       "      <td>-0.041368</td>\n",
       "      <td>-0.577540</td>\n",
       "      <td>0.215589</td>\n",
       "      <td>1.485675</td>\n",
       "    </tr>\n",
       "    <tr>\n",
       "      <th>3</th>\n",
       "      <td>0.0</td>\n",
       "      <td>1.0</td>\n",
       "      <td>1</td>\n",
       "      <td>1</td>\n",
       "      <td>0</td>\n",
       "      <td>0</td>\n",
       "      <td>0</td>\n",
       "      <td>1.0</td>\n",
       "      <td>0.0</td>\n",
       "      <td>1.0</td>\n",
       "      <td>...</td>\n",
       "      <td>-0.520879</td>\n",
       "      <td>-0.118454</td>\n",
       "      <td>-0.109561</td>\n",
       "      <td>0.410062</td>\n",
       "      <td>0.010802</td>\n",
       "      <td>1.679572</td>\n",
       "      <td>0.144560</td>\n",
       "      <td>-0.736988</td>\n",
       "      <td>0.885634</td>\n",
       "      <td>1.485675</td>\n",
       "    </tr>\n",
       "    <tr>\n",
       "      <th>4</th>\n",
       "      <td>1.0</td>\n",
       "      <td>0.0</td>\n",
       "      <td>1</td>\n",
       "      <td>1</td>\n",
       "      <td>0</td>\n",
       "      <td>0</td>\n",
       "      <td>0</td>\n",
       "      <td>0.0</td>\n",
       "      <td>1.0</td>\n",
       "      <td>0.0</td>\n",
       "      <td>...</td>\n",
       "      <td>1.614648</td>\n",
       "      <td>1.527780</td>\n",
       "      <td>-0.477415</td>\n",
       "      <td>-0.643068</td>\n",
       "      <td>1.487517</td>\n",
       "      <td>-0.595390</td>\n",
       "      <td>-0.419707</td>\n",
       "      <td>-0.197948</td>\n",
       "      <td>-1.459525</td>\n",
       "      <td>-1.119467</td>\n",
       "    </tr>\n",
       "  </tbody>\n",
       "</table>\n",
       "<p>5 rows × 22 columns</p>\n",
       "</div>"
      ],
      "text/plain": [
       "   venue_Away  venue_Home  season_0  season_1  season_2  season_3  season_4  \\\n",
       "0         0.0         1.0         1         1         0         0         0   \n",
       "1         1.0         0.0         1         1         0         0         0   \n",
       "2         0.0         1.0         1         1         0         0         0   \n",
       "3         0.0         1.0         1         1         0         0         0   \n",
       "4         1.0         0.0         1         1         0         0         0   \n",
       "\n",
       "   match_type_0  match_type_1  win_rate_type_0  ...  win_percent_diff  \\\n",
       "0           0.0           1.0              0.0  ...         -0.520879   \n",
       "1           1.0           0.0              1.0  ...         -0.520879   \n",
       "2           1.0           0.0              1.0  ...          0.902806   \n",
       "3           1.0           0.0              1.0  ...         -0.520879   \n",
       "4           0.0           1.0              0.0  ...          1.614648   \n",
       "\n",
       "   lose_percent_before_team2  head2head_win_percent  head2head_draw_percent  \\\n",
       "0                  -1.435440              -0.109561               -1.169633   \n",
       "1                  -1.435440              -0.845269                1.463192   \n",
       "2                   0.540040               0.994002               -0.116503   \n",
       "3                  -0.118454              -0.109561                0.410062   \n",
       "4                   1.527780              -0.477415               -0.643068   \n",
       "\n",
       "   head2head_lost_percent  is_opponent_big6  ELO_before_match_team2  \\\n",
       "0                1.487517         -0.595390                0.026422   \n",
       "1                0.010802         -0.595390                0.155401   \n",
       "2               -0.973674         -0.595390               -0.041368   \n",
       "3                0.010802          1.679572                0.144560   \n",
       "4                1.487517         -0.595390               -0.419707   \n",
       "\n",
       "   ELO_before_diff  average_score_before_match_team2   Cluster  \n",
       "0        -0.826088                         -1.794548 -1.119467  \n",
       "1        -0.826088                          2.225725  1.485675  \n",
       "2        -0.577540                          0.215589  1.485675  \n",
       "3        -0.736988                          0.885634  1.485675  \n",
       "4        -0.197948                         -1.459525 -1.119467  \n",
       "\n",
       "[5 rows x 22 columns]"
      ]
     },
     "execution_count": 24,
     "metadata": {},
     "output_type": "execute_result"
    }
   ],
   "source": [
    "X_test[[\"season_0\", \"season_1\", \"season_2\", \"season_3\", \"season_4\"]] = int_to_binary_array(24, 5)\n",
    "X_test.head()"
   ]
  },
  {
   "cell_type": "code",
   "execution_count": 25,
   "metadata": {},
   "outputs": [
    {
     "data": {
      "text/plain": [
       "Index(['venue_Away', 'venue_Home', 'season_0', 'season_1', 'season_2',\n",
       "       'season_3', 'season_4', 'match_type_0', 'match_type_1',\n",
       "       'win_rate_type_0', 'win_rate_type_1', 'win_percent_before_team2',\n",
       "       'win_percent_diff', 'lose_percent_before_team2',\n",
       "       'head2head_win_percent', 'head2head_draw_percent',\n",
       "       'head2head_lost_percent', 'is_opponent_big6', 'ELO_before_match_team2',\n",
       "       'ELO_before_diff', 'average_score_before_match_team2', 'Cluster'],\n",
       "      dtype='object')"
      ]
     },
     "execution_count": 25,
     "metadata": {},
     "output_type": "execute_result"
    }
   ],
   "source": [
    "X_test.columns"
   ]
  },
  {
   "cell_type": "markdown",
   "metadata": {},
   "source": [
    "Index(['venue_Away', 'venue_Home', 'season_0', 'season_1', 'season_2',\n",
    "       'season_3', 'season_4', 'win_percent_before_team2', 'win_percent_diff',\n",
    "       'lose_percent_before_team2', 'head2head_win_percent',\n",
    "       'head2head_draw_percent', 'head2head_lost_percent', 'is_opponent_big6',\n",
    "       'ELO_before_match_team2', 'ELO_before_diff',\n",
    "       'average_score_before_match_team2'],"
   ]
  },
  {
   "cell_type": "markdown",
   "metadata": {},
   "source": [
    "#### Testing"
   ]
  },
  {
   "cell_type": "code",
   "execution_count": 26,
   "metadata": {},
   "outputs": [],
   "source": [
    "y_pred = RF_model.predict(X_test)\n",
    "results = pd.DataFrame({\n",
    "    'Actual': y_test,\n",
    "    'Predicted': y_pred\n",
    "})\n",
    "\n",
    "# Thêm cột kết quả dự đoán vào sau cột thứ 1 của dataframe\n",
    "test_df.insert(1, \"Predicted\", label_encoder.inverse_transform(y_pred))\n",
    "test_df_with_opponent.insert(2, \"Predicted\", label_encoder.inverse_transform(y_pred))\n",
    "\n",
    "test_df_with_opponent.to_csv(\"test_results.csv\", index=False)"
   ]
  },
  {
   "cell_type": "markdown",
   "metadata": {},
   "source": [
    "### Confusion matrix"
   ]
  },
  {
   "cell_type": "code",
   "execution_count": 27,
   "metadata": {},
   "outputs": [
    {
     "data": {
      "text/plain": [
       "array([[ 1,  2,  2],\n",
       "       [ 0,  0,  5],\n",
       "       [ 1,  0, 27]], dtype=int64)"
      ]
     },
     "execution_count": 27,
     "metadata": {},
     "output_type": "execute_result"
    }
   ],
   "source": [
    "# Tính confusion matrix\n",
    "cm = confusion_matrix(y_test, y_pred, labels=RF_model.classes_)\n",
    "cm"
   ]
  },
  {
   "cell_type": "code",
   "execution_count": 28,
   "metadata": {},
   "outputs": [
    {
     "data": {
      "text/plain": [
       "0.7368421052631579"
      ]
     },
     "execution_count": 28,
     "metadata": {},
     "output_type": "execute_result"
    }
   ],
   "source": [
    "# Tính toán accuracy\n",
    "accuracy = accuracy_score(y_test, y_pred)\n",
    "accuracy"
   ]
  },
  {
   "cell_type": "code",
   "execution_count": 29,
   "metadata": {},
   "outputs": [
    {
     "data": {
      "image/png": "[encoded data removed]",
      "text/plain": [
       "<Figure size 1000x700 with 2 Axes>"
      ]
     },
     "metadata": {},
     "output_type": "display_data"
    }
   ],
   "source": [
    "# Định nghĩa lại nhãn theo thứ tự mong muốn\n",
    "original_labels = ['Draw', 'Lose', 'Win']\n",
    "desired_labels = ['Win', 'Lose', 'Draw']\n",
    "label_mapping = {label: i for i, label in enumerate(original_labels)}\n",
    "desired_indices = [label_mapping[label] for label in desired_labels]\n",
    "cm = cm[desired_indices][:, desired_indices]\n",
    "\n",
    "plt.figure(figsize=(10, 7))\n",
    "sns.heatmap(cm, annot=True, fmt='d', cmap='Blues', xticklabels=desired_labels, yticklabels=desired_labels)\n",
    "plt.xlabel('Predicted')\n",
    "plt.ylabel('Actual')\n",
    "plt.title('Confusion Matrix')\n",
    "plt.show()"
   ]
  },
  {
   "cell_type": "code",
   "execution_count": 30,
   "metadata": {},
   "outputs": [],
   "source": [
    "results_df = pd.DataFrame(test_df[\"Predicted\"] == test_df[\"result\"], columns=[\"Correct\"])"
   ]
  }
 ],
 "metadata": {
  "kernelspec": {
   "display_name": "base",
   "language": "python",
   "name": "python3"
  },
  "language_info": {
   "codemirror_mode": {
    "name": "ipython",
    "version": 3
   },
   "file_extension": ".py",
   "mimetype": "text/x-python",
   "name": "python",
   "nbconvert_exporter": "python",
   "pygments_lexer": "ipython3",
   "version": "3.10.6"
  }
 },
 "nbformat": 4,
 "nbformat_minor": 2
}
