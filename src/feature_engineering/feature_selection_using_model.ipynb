{
 "cells": [
  {
   "cell_type": "markdown",
   "metadata": {},
   "source": [
    "# Lựa chọn feature\n"
   ]
  },
  {
   "cell_type": "code",
   "execution_count": 1,
   "metadata": {},
   "outputs": [],
   "source": [
    "import pandas as pd\n",
    "from sklearn.pipeline import Pipeline\n",
    "from sklearn.linear_model import LogisticRegression\n",
    "from sklearn.ensemble import RandomForestClassifier\n",
    "from sklearn.feature_selection import SelectFromModel\n",
    "from sklearn.compose import ColumnTransformer\n",
    "from sklearn.preprocessing import OneHotEncoder, StandardScaler\n",
    "from sklearn.model_selection import cross_val_score\n",
    "from sklearn.svm import LinearSVC\n",
    "from sklearn.model_selection import KFold\n",
    "import warnings\n",
    "warnings.filterwarnings(\"ignore\")\n",
    "import numpy as np\n",
    "\n",
    "\n",
    "k_fold = 8\n",
    "seed = 42\n",
    "np.random.seed(seed)"
   ]
  },
  {
   "cell_type": "markdown",
   "metadata": {},
   "source": [
    "## 1. Load data\n"
   ]
  },
  {
   "cell_type": "code",
   "execution_count": 2,
   "metadata": {},
   "outputs": [],
   "source": [
    "matches_df = pd.read_csv(\"../training_data/arsenal.csv\")\n",
    "# Chọn các feature cần thiết\n",
    "matches_df = matches_df[\n",
    "    [\n",
    "        \"result\",\n",
    "        \"venue\",\n",
    "        \"win_before_team1\",\n",
    "        \"win_before_team2\",\n",
    "        \"draw_before_team1\",\n",
    "        \"draw_before_team2\",\n",
    "        \"opponent\",\n",
    "        \"history_team1_win_team2\",\n",
    "        \"history_team1_draw_team2\",\n",
    "        \"history_team1_lose_team2\",\n",
    "        \"is_opponent_big6\",\n",
    "    ]\n",
    "]"
   ]
  },
  {
   "cell_type": "code",
   "execution_count": 3,
   "metadata": {},
   "outputs": [
    {
     "data": {
      "text/plain": [
       "(380, 11)"
      ]
     },
     "execution_count": 3,
     "metadata": {},
     "output_type": "execute_result"
    }
   ],
   "source": [
    "matches_df.shape"
   ]
  },
  {
   "cell_type": "code",
   "execution_count": 4,
   "metadata": {},
   "outputs": [
    {
     "data": {
      "text/plain": [
       "result\n",
       "W    209\n",
       "L     95\n",
       "D     76\n",
       "Name: count, dtype: int64"
      ]
     },
     "execution_count": 4,
     "metadata": {},
     "output_type": "execute_result"
    }
   ],
   "source": [
    "matches_df[\"result\"].value_counts()"
   ]
  },
  {
   "cell_type": "markdown",
   "metadata": {},
   "source": [
    "## 2. Dùng mô hình để lựa chọn feature\n"
   ]
  },
  {
   "cell_type": "code",
   "execution_count": 5,
   "metadata": {},
   "outputs": [
    {
     "data": {
      "text/plain": [
       "(Index(['win_before_team1', 'win_before_team2', 'draw_before_team1',\n",
       "        'draw_before_team2', 'history_team1_win_team2',\n",
       "        'history_team1_draw_team2', 'history_team1_lose_team2',\n",
       "        'is_opponent_big6'],\n",
       "       dtype='object'),\n",
       " Index(['venue', 'opponent'], dtype='object'))"
      ]
     },
     "execution_count": 5,
     "metadata": {},
     "output_type": "execute_result"
    }
   ],
   "source": [
    "X = matches_df.drop(\"result\", axis=1)\n",
    "y = matches_df[\"result\"]\n",
    "\n",
    "# Xác định các cột số và phân loại\n",
    "numerical_cols = X.select_dtypes(include=[\"int64\", \"float64\"]).columns\n",
    "categorical_cols = X.select_dtypes(include=[\"object\", \"category\"]).columns\n",
    "\n",
    "numerical_cols, categorical_cols"
   ]
  },
  {
   "cell_type": "code",
   "execution_count": 6,
   "metadata": {},
   "outputs": [],
   "source": [
    "# Tạo ColumnTransformer\n",
    "preprocessor = ColumnTransformer(\n",
    "    transformers=[\n",
    "        (\"num\", StandardScaler(), numerical_cols),\n",
    "        (\"cat\", OneHotEncoder(handle_unknown=\"ignore\"), categorical_cols),\n",
    "    ]\n",
    ")"
   ]
  },
  {
   "cell_type": "markdown",
   "metadata": {},
   "source": [
    "### Định nghĩa Pipelines\n"
   ]
  },
  {
   "cell_type": "code",
   "execution_count": 7,
   "metadata": {},
   "outputs": [],
   "source": [
    "# Định nghĩa các mô hình cơ bản\n",
    "logit = LogisticRegression(random_state=seed)\n",
    "\n",
    "rf = RandomForestClassifier(\n",
    "    n_estimators=100,\n",
    "    random_state=seed,\n",
    ")\n",
    "\n",
    "svc = LinearSVC(\n",
    "    C=0.05,\n",
    "    penalty=\"l1\",\n",
    "    dual=False,\n",
    "    random_state=seed,\n",
    ")\n",
    "\n",
    "# Tạo các pipelines kết hợp preprocessor và mô hình\n",
    "pipe_rf_without_fs = Pipeline([(\"preprocessor\", preprocessor), (\"classifier\", logit)])\n",
    "\n",
    "pipe_svc_without_fs = Pipeline([(\"preprocessor\", preprocessor), (\"classifier\", logit)])\n",
    "\n",
    "pipe_rf = Pipeline(\n",
    "    [\n",
    "        (\"preprocessor\", preprocessor),\n",
    "        (\"feature_selection\", SelectFromModel(rf)),\n",
    "        (\"classifier\", logit),\n",
    "    ]\n",
    ")\n",
    "\n",
    "pipe_svc = Pipeline(\n",
    "    [\n",
    "        (\"preprocessor\", preprocessor),\n",
    "        (\"feature_selection\", SelectFromModel(svc)),\n",
    "        (\"classifier\", logit),\n",
    "    ]\n",
    ")"
   ]
  },
  {
   "cell_type": "markdown",
   "metadata": {},
   "source": [
    "### Huấn luyện và Đánh giá các Pipelines\n"
   ]
  },
  {
   "cell_type": "code",
   "execution_count": 8,
   "metadata": {},
   "outputs": [],
   "source": [
    "# Huấn luyện và đánh giá pipeline sử dụng RandomForest\n",
    "scores_rf_without_fs = cross_val_score(\n",
    "    pipe_rf_without_fs,\n",
    "    X,\n",
    "    y,\n",
    "    cv=KFold(\n",
    "        n_splits=k_fold,\n",
    "        shuffle=True,\n",
    "        random_state=seed,\n",
    "    ),\n",
    "    scoring=\"accuracy\",\n",
    "    error_score=\"raise\",\n",
    ")\n",
    "\n",
    "scores_rf = cross_val_score(\n",
    "    pipe_rf,\n",
    "    X,\n",
    "    y,\n",
    "    cv=KFold(\n",
    "        n_splits=k_fold,\n",
    "        shuffle=True,\n",
    "        random_state=seed,\n",
    "    ),\n",
    "    scoring=\"accuracy\",\n",
    "    error_score=\"raise\",\n",
    ")\n",
    "\n",
    "# Huấn luyện và đánh giá pipeline sử dụng SVC\n",
    "scores_svc_without_fs = cross_val_score(\n",
    "    pipe_svc_without_fs,\n",
    "    X,\n",
    "    y,\n",
    "    cv=KFold(\n",
    "        n_splits=k_fold,\n",
    "        shuffle=True,\n",
    "        random_state=seed,\n",
    "    ),\n",
    "    scoring=\"accuracy\",\n",
    "    error_score=\"raise\",\n",
    ")\n",
    "\n",
    "scores_svc = cross_val_score(\n",
    "    pipe_svc,\n",
    "    X,\n",
    "    y,\n",
    "    cv=KFold(\n",
    "        n_splits=k_fold,\n",
    "        shuffle=True,\n",
    "        random_state=seed,\n",
    "    ),\n",
    "    scoring=\"accuracy\",\n",
    "    error_score=\"raise\",\n",
    ")"
   ]
  },
  {
   "cell_type": "code",
   "execution_count": 9,
   "metadata": {},
   "outputs": [
    {
     "name": "stdout",
     "output_type": "stream",
     "text": [
      "Độ chính xác trung bình của RandomForest pipeline không sử dụng feature selection: 0.5686502659574468\n",
      "Độ chính xác trung bình của RandomForest pipeline có sử dụng feature selection: 0.5844414893617021\n",
      "Độ chính xác trung bình của SVC pipeline không sử dụng feature selection: 0.5686502659574468\n",
      "Độ chính xác trung bình của SVC pipeline có sử dụng feature selection: 0.5924202127659575\n"
     ]
    }
   ],
   "source": [
    "print(\n",
    "    \"Độ chính xác trung bình của RandomForest pipeline không sử dụng feature selection:\",\n",
    "    scores_rf_without_fs.mean(),\n",
    ")\n",
    "\n",
    "print(\n",
    "    \"Độ chính xác trung bình của RandomForest pipeline có sử dụng feature selection:\",\n",
    "    scores_rf.mean(),\n",
    ")\n",
    "\n",
    "print(\n",
    "    \"Độ chính xác trung bình của SVC pipeline không sử dụng feature selection:\",\n",
    "    scores_svc_without_fs.mean(),\n",
    ")\n",
    "\n",
    "print(\n",
    "    \"Độ chính xác trung bình của SVC pipeline có sử dụng feature selection:\",\n",
    "    scores_svc.mean(),\n",
    ")"
   ]
  },
  {
   "cell_type": "code",
   "execution_count": 10,
   "metadata": {},
   "outputs": [],
   "source": [
    "def clean_feature_names(feature_names):\n",
    "    cleaned_names = set()  # Sử dụng set để tránh trùng lặp\n",
    "    for name in feature_names:\n",
    "        # Phân tách tên dựa trên tiền tố '__'\n",
    "        parts = name.split(\"__\")\n",
    "        if len(parts) > 1:\n",
    "            prefix = parts[0]\n",
    "            base_name = parts[1]\n",
    "            if prefix == \"num\":\n",
    "                # Nếu tiền tố là 'num__', giữ nguyên base_name\n",
    "                cleaned_names.add(base_name)\n",
    "            elif \"date_time\" in base_name:\n",
    "                # Đối với 'date_time', chỉ giữ 'date_time'\n",
    "                cleaned_names.add(\"date_time\")\n",
    "            elif \"formation_team1\" in base_name:\n",
    "                # Đối với 'team', chỉ giữ 'team'\n",
    "                cleaned_names.add(\"formation_team1\")\n",
    "            elif \"formation_team2\" in base_name:\n",
    "                # Đối với 'team', chỉ giữ 'team'\n",
    "                cleaned_names.add(\"formation_team2\")\n",
    "            elif \"_\" in base_name:\n",
    "                # Chỉ lấy phần đầu tiên trước dấu '_' đầu tiên\n",
    "                feature_key = base_name.split(\"_\")[0]\n",
    "                cleaned_names.add(feature_key)\n",
    "            else:\n",
    "                cleaned_names.add(base_name)\n",
    "        else:\n",
    "            # Không có tiền tố, giữ nguyên tên\n",
    "            cleaned_names.add(name)\n",
    "    return list(cleaned_names)"
   ]
  },
  {
   "cell_type": "code",
   "execution_count": 11,
   "metadata": {},
   "outputs": [],
   "source": [
    "def find_best_list_features(estimator, n_splits=k_fold):\n",
    "    kf = KFold(\n",
    "        n_splits=n_splits,\n",
    "        shuffle=True,\n",
    "        random_state=seed,\n",
    "    )\n",
    "\n",
    "    best_accuracy = 0\n",
    "    best_features = None\n",
    "\n",
    "    results = []\n",
    "    accuracy_mean = 0\n",
    "    loop_idx = 1\n",
    "\n",
    "    for train_index, test_index in kf.split(X):\n",
    "        X_train, X_test = X.iloc[train_index], X.iloc[test_index]\n",
    "        y_train, y_test = y.iloc[train_index], y.iloc[test_index]\n",
    "\n",
    "        estimator.fit(X_train, y_train)\n",
    "        accuracy = estimator.score(X_test, y_test)\n",
    "        accuracy_mean += accuracy\n",
    "\n",
    "        print(f\"Accuracy at loop {loop_idx}: {accuracy}\")\n",
    "        loop_idx += 1\n",
    "        transformed_feature_names = estimator.named_steps[\n",
    "            \"preprocessor\"\n",
    "        ].get_feature_names_out()\n",
    "        best_features_in_this_loop = estimator.named_steps[\n",
    "            \"feature_selection\"\n",
    "        ].get_support()\n",
    "\n",
    "        if accuracy > best_accuracy:\n",
    "            best_accuracy = accuracy\n",
    "            best_features = best_features_in_this_loop\n",
    "\n",
    "        results.append(\n",
    "            {\n",
    "                \"feature_names\": transformed_feature_names,\n",
    "                \"best_features\": [\n",
    "                    feature\n",
    "                    for feature in transformed_feature_names[best_features_in_this_loop]\n",
    "                ],\n",
    "            }\n",
    "        )\n",
    "\n",
    "    accuracy_mean /= n_splits\n",
    "    print(f\"Accuracy mean: {accuracy_mean}\")\n",
    "    print(\n",
    "        f\"Best features with max accuracy: {transformed_feature_names[best_features]}\"\n",
    "    )\n",
    "\n",
    "    return results"
   ]
  },
  {
   "cell_type": "code",
   "execution_count": 12,
   "metadata": {},
   "outputs": [
    {
     "name": "stdout",
     "output_type": "stream",
     "text": [
      "Accuracy at loop 1: 0.4583333333333333\n",
      "Accuracy at loop 2: 0.6458333333333334\n",
      "Accuracy at loop 3: 0.5625\n",
      "Accuracy at loop 4: 0.5833333333333334\n",
      "Accuracy at loop 5: 0.46808510638297873\n",
      "Accuracy at loop 6: 0.6170212765957447\n",
      "Accuracy at loop 7: 0.6808510638297872\n",
      "Accuracy at loop 8: 0.6595744680851063\n",
      "Accuracy mean: 0.584441489361702\n",
      "Best features with max accuracy: ['num__win_before_team1' 'num__win_before_team2' 'num__draw_before_team1'\n",
      " 'num__draw_before_team2' 'num__history_team1_win_team2'\n",
      " 'num__history_team1_draw_team2' 'num__history_team1_lose_team2'\n",
      " 'num__is_opponent_big6' 'cat__venue_Away' 'cat__venue_Home']\n"
     ]
    }
   ],
   "source": [
    "rf_list_best_features = find_best_list_features(pipe_rf)"
   ]
  },
  {
   "cell_type": "code",
   "execution_count": 13,
   "metadata": {},
   "outputs": [
    {
     "name": "stdout",
     "output_type": "stream",
     "text": [
      "['num__win_before_team1', 'num__win_before_team2', 'num__draw_before_team1', 'num__draw_before_team2', 'num__history_team1_win_team2', 'num__history_team1_draw_team2', 'num__history_team1_lose_team2', 'num__is_opponent_big6', 'cat__venue_Away', 'cat__venue_Home']\n",
      "['num__win_before_team1', 'num__win_before_team2', 'num__draw_before_team1', 'num__draw_before_team2', 'num__history_team1_win_team2', 'num__history_team1_draw_team2', 'num__history_team1_lose_team2', 'num__is_opponent_big6', 'cat__venue_Away', 'cat__venue_Home']\n",
      "['num__win_before_team1', 'num__win_before_team2', 'num__draw_before_team1', 'num__draw_before_team2', 'num__history_team1_win_team2', 'num__history_team1_draw_team2', 'num__history_team1_lose_team2', 'num__is_opponent_big6', 'cat__venue_Away', 'cat__venue_Home', 'cat__opponent_Manchester City']\n",
      "['num__win_before_team1', 'num__win_before_team2', 'num__draw_before_team1', 'num__draw_before_team2', 'num__history_team1_win_team2', 'num__history_team1_draw_team2', 'num__history_team1_lose_team2', 'num__is_opponent_big6', 'cat__venue_Away', 'cat__venue_Home', 'cat__opponent_Manchester City']\n",
      "['num__win_before_team1', 'num__win_before_team2', 'num__draw_before_team1', 'num__draw_before_team2', 'num__history_team1_win_team2', 'num__history_team1_draw_team2', 'num__history_team1_lose_team2', 'num__is_opponent_big6', 'cat__venue_Away', 'cat__venue_Home']\n",
      "['num__win_before_team1', 'num__win_before_team2', 'num__draw_before_team1', 'num__draw_before_team2', 'num__history_team1_win_team2', 'num__history_team1_draw_team2', 'num__history_team1_lose_team2', 'num__is_opponent_big6', 'cat__venue_Away', 'cat__venue_Home']\n",
      "['num__win_before_team1', 'num__win_before_team2', 'num__draw_before_team1', 'num__draw_before_team2', 'num__history_team1_win_team2', 'num__history_team1_draw_team2', 'num__history_team1_lose_team2', 'num__is_opponent_big6', 'cat__venue_Away', 'cat__venue_Home']\n",
      "['num__win_before_team1', 'num__win_before_team2', 'num__draw_before_team1', 'num__draw_before_team2', 'num__history_team1_win_team2', 'num__history_team1_draw_team2', 'num__history_team1_lose_team2', 'num__is_opponent_big6', 'cat__venue_Away', 'cat__venue_Home']\n"
     ]
    },
    {
     "data": {
      "text/plain": [
       "[None, None, None, None, None, None, None, None]"
      ]
     },
     "execution_count": 13,
     "metadata": {},
     "output_type": "execute_result"
    }
   ],
   "source": [
    "[print(result[\"best_features\"]) for result in rf_list_best_features]"
   ]
  },
  {
   "cell_type": "code",
   "execution_count": 14,
   "metadata": {},
   "outputs": [
    {
     "name": "stdout",
     "output_type": "stream",
     "text": [
      "Accuracy at loop 1: 0.4583333333333333\n",
      "Accuracy at loop 2: 0.6458333333333334\n",
      "Accuracy at loop 3: 0.5625\n",
      "Accuracy at loop 4: 0.5833333333333334\n",
      "Accuracy at loop 5: 0.48936170212765956\n",
      "Accuracy at loop 6: 0.6170212765957447\n",
      "Accuracy at loop 7: 0.6808510638297872\n",
      "Accuracy at loop 8: 0.7021276595744681\n",
      "Accuracy mean: 0.5924202127659575\n",
      "Best features with max accuracy: ['num__win_before_team1' 'num__draw_before_team1' 'num__draw_before_team2'\n",
      " 'num__history_team1_draw_team2' 'num__history_team1_lose_team2'\n",
      " 'num__is_opponent_big6' 'cat__venue_Away' 'cat__venue_Home']\n"
     ]
    }
   ],
   "source": [
    "svc_list_best_features = find_best_list_features(pipe_svc)"
   ]
  },
  {
   "cell_type": "code",
   "execution_count": 15,
   "metadata": {},
   "outputs": [
    {
     "name": "stdout",
     "output_type": "stream",
     "text": [
      "['num__win_before_team1', 'num__win_before_team2', 'num__draw_before_team1', 'num__draw_before_team2', 'num__history_team1_win_team2', 'num__history_team1_draw_team2', 'num__history_team1_lose_team2', 'num__is_opponent_big6', 'cat__venue_Away', 'cat__venue_Home']\n",
      "['num__win_before_team1', 'num__win_before_team2', 'num__draw_before_team1', 'num__draw_before_team2', 'num__history_team1_win_team2', 'num__history_team1_draw_team2', 'num__history_team1_lose_team2', 'num__is_opponent_big6', 'cat__venue_Away', 'cat__venue_Home']\n",
      "['num__win_before_team1', 'num__draw_before_team1', 'num__draw_before_team2', 'num__history_team1_win_team2', 'num__history_team1_draw_team2', 'num__history_team1_lose_team2', 'num__is_opponent_big6', 'cat__venue_Away', 'cat__venue_Home', 'cat__opponent_Manchester City']\n",
      "['num__win_before_team1', 'num__draw_before_team1', 'num__draw_before_team2', 'num__history_team1_draw_team2', 'num__history_team1_lose_team2', 'num__is_opponent_big6', 'cat__venue_Away', 'cat__venue_Home', 'cat__opponent_Manchester City']\n",
      "['num__win_before_team1', 'num__draw_before_team1', 'num__draw_before_team2', 'num__history_team1_win_team2', 'num__history_team1_draw_team2', 'num__history_team1_lose_team2', 'num__is_opponent_big6', 'cat__venue_Away', 'cat__venue_Home']\n",
      "['num__win_before_team1', 'num__draw_before_team1', 'num__draw_before_team2', 'num__history_team1_draw_team2', 'num__history_team1_lose_team2', 'num__is_opponent_big6', 'cat__venue_Away', 'cat__venue_Home']\n",
      "['num__win_before_team1', 'num__win_before_team2', 'num__draw_before_team1', 'num__draw_before_team2', 'num__history_team1_win_team2', 'num__history_team1_draw_team2', 'num__history_team1_lose_team2', 'num__is_opponent_big6', 'cat__venue_Away', 'cat__venue_Home']\n",
      "['num__win_before_team1', 'num__draw_before_team1', 'num__draw_before_team2', 'num__history_team1_draw_team2', 'num__history_team1_lose_team2', 'num__is_opponent_big6', 'cat__venue_Away', 'cat__venue_Home']\n"
     ]
    }
   ],
   "source": [
    "[print(result[\"best_features\"]) for result in svc_list_best_features];"
   ]
  },
  {
   "cell_type": "code",
   "execution_count": 16,
   "metadata": {},
   "outputs": [],
   "source": [
    "def show_list_features_removed(list_features):\n",
    "    features_not_in_list = [\n",
    "        feature for feature in X.columns if feature not in list_features\n",
    "    ]\n",
    "    \n",
    "    # In ra các đặc trưng không có trong danh sách\n",
    "    print(\"Features bị loại bỏ:\", features_not_in_list)"
   ]
  },
  {
   "cell_type": "markdown",
   "metadata": {},
   "source": [
    "### Hiển thị các đặc trưng được chọn bởi Random forest và SVC sau khi làm sạch tiền tố num, cat trong đặc trưng"
   ]
  },
  {
   "cell_type": "code",
   "execution_count": 17,
   "metadata": {},
   "outputs": [
    {
     "name": "stdout",
     "output_type": "stream",
     "text": [
      "Các đặc trưng được lựa chọn bởi Random forest sau khi làm sạch:\n",
      "Loop 0\n",
      "['is_opponent_big6', 'draw_before_team2', 'venue', 'draw_before_team1', 'win_before_team2', 'history_team1_win_team2', 'history_team1_draw_team2', 'win_before_team1', 'history_team1_lose_team2']\n",
      "Features bị loại bỏ: ['opponent']\n",
      "=====================================\n",
      "Loop 1\n",
      "['is_opponent_big6', 'draw_before_team2', 'venue', 'draw_before_team1', 'win_before_team2', 'history_team1_win_team2', 'history_team1_draw_team2', 'win_before_team1', 'history_team1_lose_team2']\n",
      "Features bị loại bỏ: ['opponent']\n",
      "=====================================\n",
      "Loop 2\n",
      "['is_opponent_big6', 'draw_before_team2', 'venue', 'draw_before_team1', 'win_before_team2', 'opponent', 'history_team1_win_team2', 'history_team1_draw_team2', 'win_before_team1', 'history_team1_lose_team2']\n",
      "Features bị loại bỏ: []\n",
      "=====================================\n",
      "Loop 3\n",
      "['is_opponent_big6', 'draw_before_team2', 'venue', 'draw_before_team1', 'win_before_team2', 'opponent', 'history_team1_win_team2', 'history_team1_draw_team2', 'win_before_team1', 'history_team1_lose_team2']\n",
      "Features bị loại bỏ: []\n",
      "=====================================\n",
      "Loop 4\n",
      "['is_opponent_big6', 'draw_before_team2', 'venue', 'draw_before_team1', 'win_before_team2', 'history_team1_win_team2', 'history_team1_draw_team2', 'win_before_team1', 'history_team1_lose_team2']\n",
      "Features bị loại bỏ: ['opponent']\n",
      "=====================================\n",
      "Loop 5\n",
      "['is_opponent_big6', 'draw_before_team2', 'venue', 'draw_before_team1', 'win_before_team2', 'history_team1_win_team2', 'history_team1_draw_team2', 'win_before_team1', 'history_team1_lose_team2']\n",
      "Features bị loại bỏ: ['opponent']\n",
      "=====================================\n",
      "Loop 6\n",
      "['is_opponent_big6', 'draw_before_team2', 'venue', 'draw_before_team1', 'win_before_team2', 'history_team1_win_team2', 'history_team1_draw_team2', 'win_before_team1', 'history_team1_lose_team2']\n",
      "Features bị loại bỏ: ['opponent']\n",
      "=====================================\n",
      "Loop 7\n",
      "['is_opponent_big6', 'draw_before_team2', 'venue', 'draw_before_team1', 'win_before_team2', 'history_team1_win_team2', 'history_team1_draw_team2', 'win_before_team1', 'history_team1_lose_team2']\n",
      "Features bị loại bỏ: ['opponent']\n",
      "=====================================\n"
     ]
    }
   ],
   "source": [
    "print(\"Các đặc trưng được lựa chọn bởi Random forest sau khi làm sạch:\")\n",
    "\n",
    "idx = 0\n",
    "for best_features in rf_list_best_features:\n",
    "    print(f\"Loop {idx}\")\n",
    "    idx += 1\n",
    "    cleaned_features_rf = clean_feature_names(best_features[\"best_features\"])\n",
    "    print(cleaned_features_rf)\n",
    "    show_list_features_removed(cleaned_features_rf)\n",
    "    print(\"=====================================\")"
   ]
  },
  {
   "cell_type": "code",
   "execution_count": 18,
   "metadata": {},
   "outputs": [
    {
     "name": "stdout",
     "output_type": "stream",
     "text": [
      "Các đặc trưng được lựa chọn bởi SVC sau khi làm sạch:\n",
      "Loop 0\n",
      "['is_opponent_big6', 'draw_before_team2', 'venue', 'draw_before_team1', 'win_before_team2', 'history_team1_win_team2', 'history_team1_draw_team2', 'win_before_team1', 'history_team1_lose_team2']\n",
      "Features bị loại bỏ: ['opponent']\n",
      "=====================================\n",
      "Loop 1\n",
      "['is_opponent_big6', 'draw_before_team2', 'venue', 'draw_before_team1', 'win_before_team2', 'history_team1_win_team2', 'history_team1_draw_team2', 'win_before_team1', 'history_team1_lose_team2']\n",
      "Features bị loại bỏ: ['opponent']\n",
      "=====================================\n",
      "Loop 2\n",
      "['is_opponent_big6', 'draw_before_team2', 'venue', 'draw_before_team1', 'opponent', 'history_team1_win_team2', 'history_team1_draw_team2', 'win_before_team1', 'history_team1_lose_team2']\n",
      "Features bị loại bỏ: ['win_before_team2']\n",
      "=====================================\n",
      "Loop 3\n",
      "['is_opponent_big6', 'draw_before_team2', 'venue', 'draw_before_team1', 'opponent', 'history_team1_draw_team2', 'win_before_team1', 'history_team1_lose_team2']\n",
      "Features bị loại bỏ: ['win_before_team2', 'history_team1_win_team2']\n",
      "=====================================\n",
      "Loop 4\n",
      "['is_opponent_big6', 'draw_before_team2', 'venue', 'draw_before_team1', 'history_team1_win_team2', 'history_team1_draw_team2', 'win_before_team1', 'history_team1_lose_team2']\n",
      "Features bị loại bỏ: ['win_before_team2', 'opponent']\n",
      "=====================================\n",
      "Loop 5\n",
      "['is_opponent_big6', 'draw_before_team2', 'venue', 'draw_before_team1', 'history_team1_draw_team2', 'win_before_team1', 'history_team1_lose_team2']\n",
      "Features bị loại bỏ: ['win_before_team2', 'opponent', 'history_team1_win_team2']\n",
      "=====================================\n",
      "Loop 6\n",
      "['is_opponent_big6', 'draw_before_team2', 'venue', 'draw_before_team1', 'win_before_team2', 'history_team1_win_team2', 'history_team1_draw_team2', 'win_before_team1', 'history_team1_lose_team2']\n",
      "Features bị loại bỏ: ['opponent']\n",
      "=====================================\n",
      "Loop 7\n",
      "['is_opponent_big6', 'draw_before_team2', 'venue', 'draw_before_team1', 'history_team1_draw_team2', 'win_before_team1', 'history_team1_lose_team2']\n",
      "Features bị loại bỏ: ['win_before_team2', 'opponent', 'history_team1_win_team2']\n",
      "=====================================\n"
     ]
    }
   ],
   "source": [
    "print(\"Các đặc trưng được lựa chọn bởi SVC sau khi làm sạch:\")\n",
    "\n",
    "idx = 0\n",
    "for best_features in svc_list_best_features:\n",
    "    print(f\"Loop {idx}\")\n",
    "    idx += 1\n",
    "    cleaned_features_svc = clean_feature_names(best_features[\"best_features\"])\n",
    "    print(cleaned_features_svc)\n",
    "    show_list_features_removed(cleaned_features_svc)\n",
    "    print(\"=====================================\")"
   ]
  },
  {
   "cell_type": "markdown",
   "metadata": {},
   "source": [
    "### Thử nghiệm lại với các cột đã chọn\n"
   ]
  },
  {
   "cell_type": "markdown",
   "metadata": {},
   "source": [
    "### 1. Random Forest"
   ]
  },
  {
   "cell_type": "code",
   "execution_count": 19,
   "metadata": {},
   "outputs": [
    {
     "data": {
      "text/plain": [
       "['venue',\n",
       " 'win_before_team1',\n",
       " 'win_before_team2',\n",
       " 'draw_before_team1',\n",
       " 'draw_before_team2',\n",
       " 'history_team1_win_team2',\n",
       " 'history_team1_draw_team2',\n",
       " 'history_team1_lose_team2',\n",
       " 'is_opponent_big6']"
      ]
     },
     "execution_count": 19,
     "metadata": {},
     "output_type": "execute_result"
    }
   ],
   "source": [
    "cleaned_features_rf = X.columns.drop(\"opponent\").tolist()\n",
    "cleaned_features_rf"
   ]
  },
  {
   "cell_type": "code",
   "execution_count": 20,
   "metadata": {},
   "outputs": [
    {
     "name": "stdout",
     "output_type": "stream",
     "text": [
      "[0.47916667 0.5625     0.54166667 0.5625     0.55319149 0.57446809\n",
      " 0.55319149 0.59574468]\n"
     ]
    },
    {
     "data": {
      "text/plain": [
       "0.5528036347517731"
      ]
     },
     "execution_count": 20,
     "metadata": {},
     "output_type": "execute_result"
    }
   ],
   "source": [
    "X_new = X[cleaned_features_rf]\n",
    "numerical_cols_new = numerical_cols[numerical_cols.isin(X_new.columns)]\n",
    "categorical_cols_new = categorical_cols[categorical_cols.isin(X_new.columns)]\n",
    "\n",
    "preprocessor_new = ColumnTransformer(\n",
    "    transformers=[\n",
    "        (\"num\", StandardScaler(), numerical_cols_new),\n",
    "        (\"cat\", OneHotEncoder(handle_unknown=\"ignore\"), categorical_cols_new),\n",
    "    ]\n",
    ")\n",
    "\n",
    "pipe_rf_new = Pipeline(\n",
    "    [\n",
    "        (\"preprocessor\", preprocessor_new),\n",
    "        (\"feature_selection\", SelectFromModel(rf)),\n",
    "        (\"classifier\", logit),\n",
    "    ]\n",
    ")\n",
    "\n",
    "scores_rf = cross_val_score(\n",
    "    pipe_rf_new,\n",
    "    X_new,\n",
    "    y,\n",
    "    cv=KFold(n_splits=k_fold, shuffle=True, random_state=seed),\n",
    "    scoring=\"accuracy\",\n",
    "    error_score=\"raise\",\n",
    ")\n",
    "\n",
    "print(scores_rf)\n",
    "scores_rf.mean()"
   ]
  },
  {
   "cell_type": "markdown",
   "metadata": {},
   "source": [
    "### 2. SVC"
   ]
  },
  {
   "cell_type": "code",
   "execution_count": 21,
   "metadata": {},
   "outputs": [],
   "source": [
    "idx = 0\n",
    "def evaluate_svc(cleaned_features) -> int:\n",
    "    global idx\n",
    "    X_new = X[cleaned_features]\n",
    "    numerical_cols_new = numerical_cols[numerical_cols.isin(X_new.columns)]\n",
    "    categorical_cols_new = categorical_cols[categorical_cols.isin(X_new.columns)]\n",
    "\n",
    "    preprocessor = ColumnTransformer(\n",
    "        transformers=[\n",
    "            (\"num\", StandardScaler(), numerical_cols_new),\n",
    "            (\"cat\", OneHotEncoder(handle_unknown=\"ignore\"), categorical_cols_new),\n",
    "        ]\n",
    "    )\n",
    "\n",
    "    pipe_svc = Pipeline(\n",
    "        [\n",
    "            (\"preprocessor\", preprocessor),\n",
    "            (\"feature_selection\", SelectFromModel(svc)),\n",
    "            (\"classifier\", logit),\n",
    "        ]\n",
    "    )\n",
    "\n",
    "    scores_svc = cross_val_score(\n",
    "        pipe_svc,\n",
    "        X_new,\n",
    "        y,\n",
    "        cv=KFold(\n",
    "            n_splits=k_fold,\n",
    "            shuffle=True,\n",
    "            random_state=seed,\n",
    "        ),\n",
    "        scoring=\"accuracy\",\n",
    "        error_score=\"raise\",\n",
    "    )\n",
    "\n",
    "    print(\"Loop:\", idx)\n",
    "    idx +=1 \n",
    "    print(scores_svc)\n",
    "    print(\"Score mean:\", scores_svc.mean())\n",
    "    print(\"==========================================================================\")\n",
    "    return scores_svc.mean()"
   ]
  },
  {
   "cell_type": "code",
   "execution_count": 22,
   "metadata": {},
   "outputs": [
    {
     "name": "stdout",
     "output_type": "stream",
     "text": [
      "Loop: 0\n",
      "[0.45833333 0.64583333 0.5625     0.58333333 0.4893617  0.61702128\n",
      " 0.68085106 0.70212766]\n",
      "Score mean: 0.5924202127659575\n",
      "==========================================================================\n",
      "Loop: 1\n",
      "[0.45833333 0.64583333 0.5625     0.58333333 0.4893617  0.61702128\n",
      " 0.68085106 0.70212766]\n",
      "Score mean: 0.5924202127659575\n",
      "==========================================================================\n",
      "Loop: 2\n",
      "[0.41666667 0.64583333 0.5625     0.58333333 0.4893617  0.61702128\n",
      " 0.70212766 0.70212766]\n",
      "Score mean: 0.5898714539007093\n",
      "==========================================================================\n",
      "Loop: 3\n",
      "[0.41666667 0.64583333 0.5625     0.58333333 0.5106383  0.61702128\n",
      " 0.68085106 0.70212766]\n",
      "Score mean: 0.5898714539007093\n",
      "==========================================================================\n",
      "Loop: 4\n",
      "[0.41666667 0.64583333 0.5625     0.58333333 0.4893617  0.61702128\n",
      " 0.70212766 0.70212766]\n",
      "Score mean: 0.5898714539007093\n",
      "==========================================================================\n",
      "Loop: 5\n",
      "[0.41666667 0.64583333 0.5625     0.58333333 0.5106383  0.61702128\n",
      " 0.68085106 0.70212766]\n",
      "Score mean: 0.5898714539007093\n",
      "==========================================================================\n",
      "Loop: 6\n",
      "[0.45833333 0.64583333 0.5625     0.58333333 0.4893617  0.61702128\n",
      " 0.68085106 0.70212766]\n",
      "Score mean: 0.5924202127659575\n",
      "==========================================================================\n",
      "Loop: 7\n",
      "[0.41666667 0.64583333 0.5625     0.58333333 0.5106383  0.61702128\n",
      " 0.68085106 0.70212766]\n",
      "Score mean: 0.5898714539007093\n",
      "==========================================================================\n",
      "Accuracy mean: 0.5924202127659575\n"
     ]
    }
   ],
   "source": [
    "max_score = 0\n",
    "list_best_features = []\n",
    "unique_list = set()\n",
    "\n",
    "for best_features in svc_list_best_features:\n",
    "    cleaned_features_svc = clean_feature_names(best_features[\"best_features\"])\n",
    "    score = evaluate_svc(cleaned_features_svc)\n",
    "    if score == max_score:\n",
    "        temp = tuple(cleaned_features_svc)\n",
    "        if temp not in unique_list:\n",
    "            unique_list.add(temp)\n",
    "            list_best_features.append(cleaned_features_svc)\n",
    "    elif score > max_score:\n",
    "        max_score = score\n",
    "        list_best_features = [cleaned_features_svc]\n",
    "        unique_list.clear()\n",
    "        unique_list.add(tuple(cleaned_features_svc))\n",
    "\n",
    "print(\"Accuracy mean:\", max_score)"
   ]
  },
  {
   "cell_type": "code",
   "execution_count": 23,
   "metadata": {},
   "outputs": [
    {
     "name": "stdout",
     "output_type": "stream",
     "text": [
      "List best features of SVC:\n",
      "[['is_opponent_big6', 'draw_before_team2', 'venue', 'draw_before_team1', 'win_before_team2', 'history_team1_win_team2', 'history_team1_draw_team2', 'win_before_team1', 'history_team1_lose_team2']]\n",
      "Features bị loại bỏ: ['opponent']\n"
     ]
    }
   ],
   "source": [
    "print(\"List best features of SVC:\")\n",
    "print(list_best_features)\n",
    "\n",
    "for best_features in list_best_features:\n",
    "    show_list_features_removed(best_features)"
   ]
  },
  {
   "cell_type": "markdown",
   "metadata": {},
   "source": [
    "### Kết luận\n",
    "Vậy sau bước lựa chọn feature:\n",
    "- Random Forest: \n",
    "    + Có một số trường hợp loại bỏ cột Opponent nhưng có một số trường hợp loại bỏ gần hết cột Opponent và chỉ giữ lại cột Opponent_Manchester city\n",
    "    Với trường hợp giữ lại cột Opponent_Manchester city thì có thể xem xét việc `loại luôn cột Opponent này` vì Opponent này là category mà chỉ có 1 giá trị duy nhất, hơn nữa\n",
    "    nó có thể được thay thế bằng các cột khác là is_opponent_big6 rồi. Vì vậy sẽ loại bỏ cột Opponent\n",
    "- SVC: cũng loại bỏ cột Opponent\n"
   ]
  }
 ],
 "metadata": {
  "kernelspec": {
   "display_name": ".venv",
   "language": "python",
   "name": "python3"
  },
  "language_info": {
   "codemirror_mode": {
    "name": "ipython",
    "version": 3
   },
   "file_extension": ".py",
   "mimetype": "text/x-python",
   "name": "python",
   "nbconvert_exporter": "python",
   "pygments_lexer": "ipython3",
   "version": "3.11.5"
  }
 },
 "nbformat": 4,
 "nbformat_minor": 2
}
